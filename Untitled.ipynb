{
 "cells": [
  {
   "cell_type": "markdown",
   "id": "b544e5df-37a5-4da0-bc33-6024d91f951a",
   "metadata": {},
   "source": [
    "# Save Data Locally"
   ]
  }
 ],
 "metadata": {
  "kernelspec": {
   "display_name": "",
   "name": ""
  },
  "language_info": {
   "name": ""
  }
 },
 "nbformat": 4,
 "nbformat_minor": 5
}
