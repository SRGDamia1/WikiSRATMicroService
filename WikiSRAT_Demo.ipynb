{
 "cells": [
  {
   "cell_type": "markdown",
   "metadata": {},
   "source": [
    "API docs for the WikiSRATMicroService\n",
    "===\n",
    "\n",
    "**SRAT code is all in SQL, run from this notebook.**  \n",
    "This code is within the GitHub repository. The result of this will be a table of NHDplus catchments. \n",
    "\n",
    "**Note on `ploadrate_total`**  \n",
    "The microservice output says \"tploadrate_total\", however I [Mike] suspect this is a mistake. This is actually the local NHDplus catchment load. The stream concentrations take into account the watershed load, but this value is not returned. I went ahead and calculated this when I export the microservice results to PG for convenience / if we need the value later.\n",
    "\n",
    "**Instances where load reduction is greater than the load created by an NHDplus catchment:**\n",
    "- After weekly check in call, decided that it can be negative, so leave as raw value\n",
    "- Otherwise can set threshold to where can't reduce loads beyond a proportion of the current load"
   ]
  },
  {
   "cell_type": "code",
   "execution_count": 1,
   "metadata": {},
   "outputs": [],
   "source": [
    "import requests\n",
    "import pandas as pd\n",
    "from requests.auth import HTTPBasicAuth\n",
    "import json\n",
    "import os\n",
    "import psycopg2\n",
    "from StringParser import StringParser\n",
    "from DatabaseAdapter import DatabaseAdapter\n",
    "from DatabaseFormatter import DatabaseFormatter\n",
    "from DatabaseMakeTable import DatabaseMakeTable"
   ]
  },
  {
   "cell_type": "markdown",
   "metadata": {},
   "source": [
    "# Run WikiSRATMicroService API"
   ]
  },
  {
   "cell_type": "markdown",
   "metadata": {},
   "source": [
    "## Open Connection to WikiSRATMicroService Database\n",
    "\n",
    "To fetch information to assist in formating requests to the WikiSRATMicroService API."
   ]
  },
  {
   "cell_type": "code",
   "execution_count": 2,
   "metadata": {},
   "outputs": [],
   "source": [
    "# GET THE DATABASE CONFIG INFORMATION USING A CONFIG FILE. THE FILE IS IN THE GITIGNORE SO WILL REQUIRE BEING SENT\n",
    "\n",
    "config_file = json.load(open('db_config.json'))\n",
    "PG_CONFIG = config_file['PG_CONFIG']\n",
    "\n",
    "_host = PG_CONFIG['host'],\n",
    "_database = PG_CONFIG['database'],\n",
    "_user = PG_CONFIG['user'],\n",
    "_password = PG_CONFIG['password'],\n",
    "_port = PG_CONFIG['port']"
   ]
  },
  {
   "cell_type": "code",
   "execution_count": 3,
   "metadata": {},
   "outputs": [],
   "source": [
    "# Create connection to database\n",
    "\n",
    "_PG_Connection = psycopg2.connect(\n",
    "        host=PG_CONFIG['host'],\n",
    "        database=PG_CONFIG['database'],\n",
    "        user=PG_CONFIG['user'],\n",
    "        password=PG_CONFIG['password'],\n",
    "        port=PG_CONFIG['port'])"
   ]
  },
  {
   "cell_type": "markdown",
   "metadata": {},
   "source": [
    "## Fetch data for formating requests to the WikiSRATMicroService API\n"
   ]
  },
  {
   "cell_type": "code",
   "execution_count": 4,
   "metadata": {},
   "outputs": [
    {
     "name": "stdout",
     "output_type": "stream",
     "text": [
      "484\n",
      "CPU times: user 12.6 ms, sys: 5.73 ms, total: 18.4 ms\n",
      "Wall time: 603 ms\n"
     ]
    }
   ],
   "source": [
    "%%time\n",
    "\n",
    "# GET THE MODELED LOADS FROM THE DRWI DATABASE, DERIVED FROM MMW MODEL RUNS\n",
    "\n",
    "_PG_Connection.set_isolation_level(0)\n",
    "_cur = _PG_Connection.cursor()\n",
    "_cur.execute(\"select * from databmpapi.drb_loads_raw order by huc12;\")  \n",
    "# _cur.execute(\"select * from databmpapi.drb_loads_raw where huc12 in ('020402030902', '020402030901');\")  \n",
    "\n",
    "_dbdata = _cur.fetchall()\n",
    "print(len(_dbdata))"
   ]
  },
  {
   "cell_type": "code",
   "execution_count": 5,
   "metadata": {},
   "outputs": [
    {
     "data": {
      "text/plain": [
       "\u001b[0;31mType:\u001b[0m        list\n",
       "\u001b[0;31mString form:\u001b[0m [(1, '020401010101', Decimal('83.25'), Decimal('131587.70'), Decimal('144086.00'), Decimal('11916 <...> 00421087362510914, 0.0325741241610815, 0.124997522620959, 0.149069147756057, 0.0349152439841768)]\n",
       "\u001b[0;31mLength:\u001b[0m      484\n",
       "\u001b[0;31mDocstring:\u001b[0m  \n",
       "Built-in mutable sequence.\n",
       "\n",
       "If no argument is given, the constructor creates a new empty list.\n",
       "The argument must be an iterable if specified.\n"
      ]
     },
     "metadata": {},
     "output_type": "display_data"
    }
   ],
   "source": [
    "_dbdata?"
   ]
  },
  {
   "cell_type": "markdown",
   "metadata": {},
   "source": [
    "## Run WikiSRATMicroService API\n"
   ]
  },
  {
   "cell_type": "code",
   "execution_count": 6,
   "metadata": {},
   "outputs": [],
   "source": [
    "# CREATE A COUPLE HELPER FUNCTIONS TO RUN THE MICROSERVICE\n",
    "def respond(err, res=None):\n",
    "    return {\n",
    "        'statusCode': '400' if err else '200',\n",
    "        'body': err.args[0] if err else json.dumps(res),\n",
    "        'headers': {\n",
    "            'Content-Type': 'application/json',\n",
    "            'Access-Control-Allow-Origin': '*'\n",
    "        },\n",
    "    }\n",
    "\n",
    "def lambda_handler(event, context):\n",
    "    try:\n",
    "        data = StringParser.parse(event['body'])\n",
    "        db = DatabaseAdapter(_database[0], _user[0], _host[0], _port, _password[0], _flag)\n",
    "        input_array = DatabaseAdapter.python_to_array(data)\n",
    "        return respond(None, db.run_model(input_array))\n",
    "    except AttributeError as e:\n",
    "        return respond(e)"
   ]
  },
  {
   "cell_type": "code",
   "execution_count": 7,
   "metadata": {},
   "outputs": [
    {
     "name": "stdout",
     "output_type": "stream",
     "text": [
      "CPU times: user 341 ms, sys: 45.6 ms, total: 387 ms\n",
      "Wall time: 5.94 s\n"
     ]
    }
   ],
   "source": [
    "%%time\n",
    "\n",
    "# FOR ALL DRWI HUC12s, FEED THROUGH THE MICROSERVICE TO GET SUB-BASIN ATTENUATION\n",
    "# The database adapter routine flag can either be 'base' or 'restoration', depending on if you want these\n",
    "# projects to be removed from the attenuation routine. Restoration projects come from what was enetered in\n",
    "# through FieldDoc.\n",
    "\n",
    "_flag = 'base'\n",
    "\n",
    "\n",
    "# RUN THE HUC12s THROUGH THE MICROSERVICE\n",
    "_body = DatabaseFormatter.parse(_dbdata)\n",
    "# _body = '[{\"huc12\": \"020402010101\", \"tpload_hp\": 10, \"tpload_crop\": 10, \"tpload_wooded\": 10, \"tpload_open\": 10, \"tpload_barren\": 10, \"tpload_ldm\": 10, \"tpload_mdm\": 10, \"tpload_hdm\": 10, \"tpload_wetland\": 10, \"tpload_farman\": 10, \"tpload_tiledrain\": 10, \"tpload_streambank\": 10, \"tpload_subsurface\": 10, \"tpload_pointsource\": 10, \"tpload_septics\": 10, \"tnload_hp\": 10, \"tnload_crop\": 10, \"tnload_wooded\": 10, \"tnload_open\": 10, \"tnload_barren\": 10, \"tnload_ldm\": 10, \"tnload_mdm\": 10, \"tnload_hdm\": 10, \"tnload_wetland\": 10, \"tnload_farman\": 10, \"tnload_tiledrain\": 10, \"tnload_streambank\": 10, \"tnload_subsurface\": 10, \"tnload_pointsource\": 10, \"tnload_septics\": 10, \"tssload_hp\": 10, \"tssload_crop\": 10, \"tssload_wooded\": 10, \"tssload_open\": 10, \"tssload_barren\": 10, \"tssload_ldm\": 10, \"tssload_mdm\": 10, \"tssload_hdm\": 10, \"tssload_wetland\": 10, \"tssload_tiledrain\": 10, \"tssload_streambank\": 10}, {\"huc12\": \"020402010102\", \"tpload_hp\": 10, \"tpload_crop\": 10, \"tpload_wooded\": 10, \"tpload_open\": 10, \"tpload_barren\": 10, \"tpload_ldm\": 10, \"tpload_mdm\": 10, \"tpload_hdm\": 10, \"tpload_wetland\": 10, \"tpload_farman\": 10, \"tpload_tiledrain\": 10, \"tpload_streambank\": 10, \"tpload_subsurface\": 10, \"tpload_pointsource\": 10, \"tpload_septics\": 10, \"tnload_hp\": 10, \"tnload_crop\": 10, \"tnload_wooded\": 10, \"tnload_open\": 10, \"tnload_barren\": 10, \"tnload_ldm\": 10, \"tnload_mdm\": 10, \"tnload_hdm\": 10, \"tnload_wetland\": 10, \"tnload_farman\": 10, \"tnload_tiledrain\": 10, \"tnload_streambank\": 10, \"tnload_subsurface\": 10, \"tnload_pointsource\": 10, \"tnload_septics\": 10, \"tssload_hp\": 10, \"tssload_crop\": 10, \"tssload_wooded\": 10, \"tssload_open\": 10, \"tssload_barren\": 10, \"tssload_ldm\": 10, \"tssload_mdm\": 10, \"tssload_hdm\": 10, \"tssload_wetland\": 10, \"tssload_tiledrain\": 10, \"tssload_streambank\": 10}, {\"huc12\": \"020402010103\", \"tpload_hp\": 10, \"tpload_crop\": 10, \"tpload_wooded\": 10, \"tpload_open\": 10, \"tpload_barren\": 10, \"tpload_ldm\": 10, \"tpload_mdm\": 10, \"tpload_hdm\": 10, \"tpload_wetland\": 10, \"tpload_farman\": 10, \"tpload_tiledrain\": 10, \"tpload_streambank\": 10, \"tpload_subsurface\": 10, \"tpload_pointsource\": 10, \"tpload_septics\": 10, \"tnload_hp\": 10, \"tnload_crop\": 10, \"tnload_wooded\": 10, \"tnload_open\": 10, \"tnload_barren\": 10, \"tnload_ldm\": 10, \"tnload_mdm\": 10, \"tnload_hdm\": 10, \"tnload_wetland\": 10, \"tnload_farman\": 10, \"tnload_tiledrain\": 10, \"tnload_streambank\": 10, \"tnload_subsurface\": 10, \"tnload_pointsource\": 10, \"tnload_septics\": 10, \"tssload_hp\": 10, \"tssload_crop\": 10, \"tssload_wooded\": 10, \"tssload_open\": 10, \"tssload_barren\": 10, \"tssload_ldm\": 10, \"tssload_mdm\": 10, \"tssload_hdm\": 10, \"tssload_wetland\": 10, \"tssload_tiledrain\": 10, \"tssload_streambank\": 10}]'\n",
    "\n",
    "_r = dict(lambda_handler({\"body\": _body},None))"
   ]
  },
  {
   "cell_type": "code",
   "execution_count": 8,
   "metadata": {},
   "outputs": [
    {
     "data": {
      "text/plain": [
       "\u001b[0;31mType:\u001b[0m        dict\n",
       "\u001b[0;31mString form:\u001b[0m {'statusCode': '200', 'body': '{\"huc12s\": {\"020401010101\": {\"huc12\": \"020401010101\", \"tpload_hp\": <...> 15247}}}}}', 'headers': {'Content-Type': 'application/json', 'Access-Control-Allow-Origin': '*'}}\n",
       "\u001b[0;31mLength:\u001b[0m      3\n",
       "\u001b[0;31mDocstring:\u001b[0m  \n",
       "dict() -> new empty dictionary\n",
       "dict(mapping) -> new dictionary initialized from a mapping object's\n",
       "    (key, value) pairs\n",
       "dict(iterable) -> new dictionary initialized as if via:\n",
       "    d = {}\n",
       "    for k, v in iterable:\n",
       "        d[k] = v\n",
       "dict(**kwargs) -> new dictionary initialized with the name=value pairs\n",
       "    in the keyword argument list.  For example:  dict(one=1, two=2)\n"
      ]
     },
     "metadata": {},
     "output_type": "display_data"
    }
   ],
   "source": [
    "# Explore the API response\n",
    "_r?"
   ]
  },
  {
   "cell_type": "code",
   "execution_count": 11,
   "metadata": {},
   "outputs": [
    {
     "data": {
      "text/plain": [
       "\u001b[0;31mType:\u001b[0m        dict\n",
       "\u001b[0;31mString form:\u001b[0m {'020401010101': {'huc12': '020401010101', 'tpload_hp': 602.07665754054, 'tpload_crop': 360.72733 <...> 0436867554431356, 'tssloadrate_total': 25055.0654476434, 'tssloadrate_conc': 41.5994419315247}}}}\n",
       "\u001b[0;31mLength:\u001b[0m      484\n",
       "\u001b[0;31mDocstring:\u001b[0m  \n",
       "dict() -> new empty dictionary\n",
       "dict(mapping) -> new dictionary initialized from a mapping object's\n",
       "    (key, value) pairs\n",
       "dict(iterable) -> new dictionary initialized as if via:\n",
       "    d = {}\n",
       "    for k, v in iterable:\n",
       "        d[k] = v\n",
       "dict(**kwargs) -> new dictionary initialized with the name=value pairs\n",
       "    in the keyword argument list.  For example:  dict(one=1, two=2)\n"
      ]
     },
     "metadata": {},
     "output_type": "display_data"
    }
   ],
   "source": [
    "# Extract the NHD Loads from the response\n",
    "_nhdloads = dict(json.loads(_r['body']))['huc12s']\n",
    "_nhdloads?"
   ]
  },
  {
   "cell_type": "code",
   "execution_count": 10,
   "metadata": {},
   "outputs": [
    {
     "name": "stdout",
     "output_type": "stream",
     "text": [
      "{'4481881': {'comid': 4481881, 'tploadrate_total': 8.67678906666698, 'tploadate_conc': 0.00480867068316327, 'tnloadrate_total': 205.478173246534, 'tnloadrate_conc': 0.188308808608071, 'tssloadrate_total': 12430.9823731758, 'tssloadrate_conc': 10.6329585165398}, '4481681': {'comid': 4481681, 'tploadrate_total': 45.9269178229512, 'tploadate_conc': 0.0139356826495012, 'tnloadrate_total': 1098.12798966065, 'tnloadrate_conc': 0.333206840298741, 'tssloadrate_total': 128512.512354698, 'tssloadrate_conc': 38.9947698116636}, '4481279': {'comid': 4481279, 'tploadrate_total': 9.3369485692889, 'tploadate_conc': 0.0870941956538323, 'tnloadrate_total': 260.499630512306, 'tnloadrate_conc': 2.34191601922763, 'tssloadrate_total': 4135.72100063273, 'tssloadrate_conc': 49.6417992751781}, '4481935': {'comid': 4481935, 'tploadrate_total': 47.8207522003034, 'tploadate_conc': 0.107891339771179, 'tnloadrate_total': 1122.82652578667, 'tnloadrate_conc': 2.53327797292518, 'tssloadrate_total': 29233.9090668937, 'tssloadrate_conc': 65.9564199819501}, '4481321': {'comid': 4481321, 'tploadrate_total': 0.011336886602553, 'tploadate_conc': 0.0184093039668924, 'tnloadrate_total': 0.152468739557826, 'tnloadrate_conc': 0.707277007867956, 'tssloadrate_total': 37.1485912807269, 'tssloadrate_conc': 23.9729380874983}, '4481367': {'comid': 4481367, 'tploadrate_total': 0.593822905650522, 'tploadate_conc': 0.0116428883128484, 'tnloadrate_total': 18.586080290285, 'tnloadrate_conc': 0.318167885539587, 'tssloadrate_total': 1134.55943197039, 'tssloadrate_conc': 30.8823844150337}, '4481891': {'comid': 4481891, 'tploadrate_total': 0.611791847530104, 'tploadate_conc': 0.00515610712952136, 'tnloadrate_total': 17.16277447263, 'tnloadrate_conc': 0.136182129003612, 'tssloadrate_total': 1256.70269656121, 'tssloadrate_conc': 12.6935073157295}, '4481301': {'comid': 4481301, 'tploadrate_total': 0.434647087648859, 'tploadate_conc': 0.0221088397917474, 'tnloadrate_total': 20.755472615839, 'tnloadrate_conc': 1.0557517395269, 'tssloadrate_total': 313.434672019155, 'tssloadrate_conc': 15.9432264606561}, '4481277': {'comid': 4481277, 'tploadrate_total': 85.5398017934121, 'tploadate_conc': 0.0847863924846948, 'tnloadrate_total': 2401.05028676223, 'tnloadrate_conc': 2.37990254502308, 'tssloadrate_total': 55536.4380314502, 'tssloadrate_conc': 55.0472894887993}, '4481661': {'comid': 4481661, 'tploadrate_total': 29.1392565673688, 'tploadate_conc': 0.00901035171426772, 'tnloadrate_total': 931.166620363255, 'tnloadrate_conc': 0.287932491848626, 'tssloadrate_total': 52137.025587741, 'tssloadrate_conc': 16.1216514496595}, '4481261': {'comid': 4481261, 'tploadrate_total': 64.824264048653, 'tploadate_conc': 0.07741941110648, 'tnloadrate_total': 1878.68486321812, 'tnloadrate_conc': 2.24370732008375, 'tssloadrate_total': 36639.8128134818, 'tssloadrate_conc': 43.7588111905509}, '4481313': {'comid': 4481313, 'tploadrate_total': 42.5287017334952, 'tploadate_conc': 0.0226233732269571, 'tnloadrate_total': 1414.81439374309, 'tnloadrate_conc': 0.727773571999592, 'tssloadrate_total': 45984.542359817, 'tssloadrate_conc': 28.0188974126055}, '4481353': {'comid': 4481353, 'tploadrate_total': 0.0223138370582509, 'tploadate_conc': 0.00690505050701603, 'tnloadrate_total': 0.720246167386954, 'tnloadrate_conc': 0.334112455555181, 'tssloadrate_total': 37.2014335457468, 'tssloadrate_conc': 14.4931508058661}, '4481879': {'comid': 4481879, 'tploadrate_total': 0.14590313258491, 'tploadate_conc': 0.00535704839185738, 'tnloadrate_total': 3.78784101209752, 'tnloadrate_conc': 0.181131340563286, 'tssloadrate_total': 338.761123207406, 'tssloadrate_conc': 12.0197135233118}, '4481657': {'comid': 4481657, 'tploadrate_total': 65.3791768781041, 'tploadate_conc': 0.0609108692608819, 'tnloadrate_total': 1781.36753753759, 'tnloadrate_conc': 1.70429439141572, 'tssloadrate_total': 54472.1050981478, 'tssloadrate_conc': 40.1936819943162}, '4481871': {'comid': 4481871, 'tploadrate_total': 6.78298850349021, 'tploadate_conc': 0.015110915047457, 'tnloadrate_total': 180.040145777454, 'tnloadrate_conc': 0.643982269703096, 'tssloadrate_total': 11271.5319929909, 'tssloadrate_conc': 20.7727340093377}, '4481861': {'comid': 4481861, 'tploadrate_total': 1.31647223803213, 'tploadate_conc': 0.0201482786606357, 'tnloadrate_total': 42.7609666487103, 'tnloadrate_conc': 0.707672550124254, 'tssloadrate_total': 2484.58340762918, 'tssloadrate_conc': 25.6752531085887}, '4481677': {'comid': 4481677, 'tploadrate_total': 16.3208016835208, 'tploadate_conc': 0.00767390449780736, 'tnloadrate_total': 340.46731017987, 'tnloadrate_conc': 0.160084882691992, 'tssloadrate_total': 38549.6529983224, 'tssloadrate_conc': 18.1257245366468}, '4481303': {'comid': 4481303, 'tploadrate_total': 84.2146236304177, 'tploadate_conc': 0.05746395634536, 'tnloadrate_total': 2334.71175853441, 'tnloadrate_conc': 1.59309356009473, 'tssloadrate_total': 56142.8684135186, 'tssloadrate_conc': 38.3091582024532}, '4481675': {'comid': 4481675, 'tploadrate_total': 8.82906877445052, 'tploadate_conc': 0.0102173973964045, 'tnloadrate_total': 261.659996437199, 'tnloadrate_conc': 0.302804773033048, 'tssloadrate_total': 13714.990205278, 'tssloadrate_conc': 15.8716064847781}, '4481361': {'comid': 4481361, 'tploadrate_total': 0.273943129334132, 'tploadate_conc': 0.0047454497147794, 'tnloadrate_total': 7.38895751439034, 'tnloadrate_conc': 0.181109656010562, 'tssloadrate_total': 582.699729346836, 'tssloadrate_conc': 10.9634764203602}, '4481667': {'comid': 4481667, 'tploadrate_total': 8.30195975287933, 'tploadate_conc': 0.00748618752263939, 'tnloadrate_total': 123.406267614567, 'tnloadrate_conc': 0.111280045715863, 'tssloadrate_total': 17762.7088798006, 'tssloadrate_conc': 16.0172987514327}, '4481679': {'comid': 4481679, 'tploadrate_total': 10.0102659064699, 'tploadate_conc': 0.00711693083859281, 'tnloadrate_total': 213.27924484706, 'tnloadrate_conc': 0.151633697752502, 'tssloadrate_total': 23598.4742341606, 'tssloadrate_conc': 16.7776471264651}, '4481893': {'comid': 4481893, 'tploadrate_total': 0.0056769433848737, 'tploadate_conc': 0.00636325840429569, 'tnloadrate_total': 0.132057322733239, 'tnloadrate_conc': 0.151631250676309, 'tssloadrate_total': 12.4004778485823, 'tssloadrate_conc': 15.4099712828271}, '4481387': {'comid': 4481387, 'tploadrate_total': 143.134349819315, 'tploadate_conc': 0.0395690137092041, 'tnloadrate_total': 2296.46783951933, 'tnloadrate_conc': 0.634850876392667, 'tssloadrate_total': 537810.911268446, 'tssloadrate_conc': 148.676033026343}, '4481889': {'comid': 4481889, 'tploadrate_total': 1.504374998789, 'tploadate_conc': 0.00476324796086039, 'tnloadrate_total': 36.6035135275524, 'tnloadrate_conc': 0.131751738030796, 'tssloadrate_total': 3042.75578700035, 'tssloadrate_conc': 11.7246206264351}, '4481347': {'comid': 4481347, 'tploadrate_total': 76.2371884604797, 'tploadate_conc': 0.0499494677432151, 'tnloadrate_total': 1715.75071807596, 'tnloadrate_conc': 1.12413425624109, 'tssloadrate_total': 92549.4501859762, 'tssloadrate_conc': 60.6370181019085}, '4481877': {'comid': 4481877, 'tploadrate_total': 1.05287610591915, 'tploadate_conc': 0.00823090516543137, 'tnloadrate_total': 14.6404776351001, 'tnloadrate_conc': 0.2749120009938, 'tssloadrate_total': 3976.60029170211, 'tssloadrate_conc': 15.5602982373957}, '4481357': {'comid': 4481357, 'tploadrate_total': 3.4918782368628, 'tploadate_conc': 0.00674196103331975, 'tnloadrate_total': 87.2993370680764, 'tnloadrate_conc': 0.337571332814941, 'tssloadrate_total': 5058.50635523002, 'tssloadrate_conc': 11.9108661367683}, '4481307': {'comid': 4481307, 'tploadrate_total': 12.9272265931191, 'tploadate_conc': 0.0208233564332117, 'tnloadrate_total': 243.23589322586, 'tnloadrate_conc': 0.669290021327478, 'tssloadrate_total': 8173.44263606409, 'tssloadrate_conc': 31.8999369206655}, '4481263': {'comid': 4481263, 'tploadrate_total': 10.6654481419257, 'tploadate_conc': 0.105675199997936, 'tnloadrate_total': 249.640518874381, 'tnloadrate_conc': 2.48925060030911, 'tssloadrate_total': 5346.64099129651, 'tssloadrate_conc': 62.530106648825}, '4481887': {'comid': 4481887, 'tploadrate_total': 0.418401490716595, 'tploadate_conc': 0.00664259242988218, 'tnloadrate_total': 10.138511518689, 'tnloadrate_conc': 0.113992448442541, 'tssloadrate_total': 929.692363921041, 'tssloadrate_conc': 14.6373008009968}, '4481291': {'comid': 4481291, 'tploadrate_total': 0.0129171513943967, 'tploadate_conc': 0.0334320513836035, 'tnloadrate_total': 0.576191630228285, 'tnloadrate_conc': 0.735127422031308, 'tssloadrate_total': 12.4004778485823, 'tssloadrate_conc': 55.5508937895266}, '4481663': {'comid': 4481663, 'tploadrate_total': 5.84206812491924, 'tploadate_conc': 0.0107019275128177, 'tnloadrate_total': 169.839888618372, 'tnloadrate_conc': 0.379719513248503, 'tssloadrate_total': 6665.41380035399, 'tssloadrate_conc': 31.7983464752084}, '4481325': {'comid': 4481325, 'tploadrate_total': 12.8757573614845, 'tploadate_conc': 0.0121360000678346, 'tnloadrate_total': 232.811341448404, 'tnloadrate_conc': 0.425426157486233, 'tssloadrate_total': 9987.09486514195, 'tssloadrate_conc': 31.0047591389088}, '4481895': {'comid': 4481895, 'tploadrate_total': 1.3035912547033, 'tploadate_conc': 0.00569636077976725, 'tnloadrate_total': 26.4068752169098, 'tnloadrate_conc': 0.134406940976817, 'tssloadrate_total': 3439.82969690764, 'tssloadrate_conc': 13.6826700272494}, '4481311': {'comid': 4481311, 'tploadrate_total': 54.4832032109357, 'tploadate_conc': 0.0552128646701617, 'tnloadrate_total': 1261.01607664267, 'tnloadrate_conc': 1.56865115949875, 'tssloadrate_total': 42072.3602550809, 'tssloadrate_conc': 37.7065750360896}, '4481389': {'comid': 4481389, 'tploadrate_total': 2.1783420633458, 'tploadate_conc': 0.00636546245705464, 'tnloadrate_total': 42.7644225129214, 'tnloadrate_conc': 0.136532583882549, 'tssloadrate_total': 3416.86476566838, 'tssloadrate_conc': 14.804330457482}, '4481671': {'comid': 4481671, 'tploadrate_total': 3.97963679256898, 'tploadate_conc': 0.00674763156719399, 'tnloadrate_total': 57.5792551753354, 'tnloadrate_conc': 0.0976279042756077, 'tssloadrate_total': 9326.1574999655, 'tssloadrate_conc': 15.8128688690626}, '4481659': {'comid': 4481659, 'tploadrate_total': 53.8570216832823, 'tploadate_conc': 0.0278765165224483, 'tnloadrate_total': 1641.2166902896, 'tnloadrate_conc': 0.849497479694044, 'tssloadrate_total': 73374.8311369254, 'tssloadrate_conc': 37.9789789444535}, '4481355': {'comid': 4481355, 'tploadrate_total': 0.0676559425777716, 'tploadate_conc': 0.00432375959331477, 'tnloadrate_total': 1.71438605122075, 'tnloadrate_conc': 0.188280557943026, 'tssloadrate_total': 148.726470785457, 'tssloadrate_conc': 9.8088397592029}, '4481349': {'comid': 4481349, 'tploadrate_total': 9.87963310370508, 'tploadate_conc': 0.0131878683094343, 'tnloadrate_total': 319.570453964755, 'tnloadrate_conc': 0.608139880005328, 'tssloadrate_total': 13683.8719557924, 'tssloadrate_conc': 18.6165417442023}}\n"
     ]
    }
   ],
   "source": [
    "# Explore selection of data by HUC12\n",
    "print(dict(json.loads(_r['body']))['huc12s']['020402010101']['catchments'])"
   ]
  },
  {
   "cell_type": "markdown",
   "metadata": {},
   "source": [
    "# Load Results into Database\n",
    "\n",
    "Loading results into the database is a time consuming process (~20-30 minutes), so it only needs to be run once for every data update. \n",
    "\n",
    "### If you have done this for the latest data, skip this block.\n"
   ]
  },
  {
   "cell_type": "code",
   "execution_count": 9,
   "metadata": {},
   "outputs": [
    {
     "data": {
      "text/plain": [
       "19496"
      ]
     },
     "execution_count": 9,
     "metadata": {},
     "output_type": "execute_result"
    }
   ],
   "source": [
    "# GET THE TOTAL NUMBER OF ROWS TO PRINT THE % COMPLETED LATER ON\n",
    "\n",
    "t = 0\n",
    "for huc12s, huc12 in _nhdloads.items():\n",
    "    for comid in _nhdloads[huc12s]['catchments']:\n",
    "        t += 1\n",
    "        \n",
    "t"
   ]
  },
  {
   "cell_type": "markdown",
   "metadata": {},
   "source": [
    "## Save \"Base\" Model Results (i.e. no BMPs) to Database"
   ]
  },
  {
   "cell_type": "code",
   "execution_count": 5,
   "metadata": {},
   "outputs": [
    {
     "name": "stdout",
     "output_type": "stream",
     "text": [
      "Table Created\n"
     ]
    }
   ],
   "source": [
    "# LOAD THE RESULTS INTO A DATABASE FOR REVIEW, CONSULT MSC94@DREXEL.EDU FOR MORE INFORMATION (MAY REQUIRE PERMISSION)\n",
    "# CREATE THE TABLE TO CACHE THE API OUTPUT\n",
    "# This uses an imported function to create the table. This is necessary to get the COMID geometries\n",
    "\n",
    "# SET THE TABLE NAME AND CREATE TABLE\n",
    "tablename_base = 'base_run'\n",
    "new = DatabaseMakeTable(_database[0], _user[0], _host[0], _port, _password[0], tablename_base)\n",
    "new.make_table()\n"
   ]
  },
  {
   "cell_type": "code",
   "execution_count": 6,
   "metadata": {},
   "outputs": [
    {
     "name": "stdout",
     "output_type": "stream",
     "text": [
      "0%--->10%--->20%--->30%--->40%--->50%--->60%--->70%--->80%--->90%--->100%--->done\n"
     ]
    }
   ],
   "source": [
    "%%time\n",
    "\n",
    "# LOADING RESULTS INTO THE DB CAN TAKE ~10 MINUTES\n",
    "\n",
    "c = 0\n",
    "prog_update = 0.1\n",
    "print('0%', end='--->')\n",
    "for huc12s, huc12 in _nhdloads.items():\n",
    "    for comid in _nhdloads[huc12s]['catchments']:\n",
    "        update_arr = [int(_nhdloads[huc12s]['catchments'][comid]['comid']),\n",
    "                      _nhdloads[huc12s]['catchments'][comid]['tploadrate_total'],\n",
    "                      _nhdloads[huc12s]['catchments'][comid]['tploadate_conc'],\n",
    "                      _nhdloads[huc12s]['catchments'][comid]['tnloadrate_total'],\n",
    "                      _nhdloads[huc12s]['catchments'][comid]['tnloadrate_conc'],\n",
    "                      _nhdloads[huc12s]['catchments'][comid]['tssloadrate_total'],\n",
    "                      _nhdloads[huc12s]['catchments'][comid]['tssloadrate_conc']]\n",
    "        update_arr = [x if x != None else -9999 for x in update_arr]\n",
    "        _PG_Connection.set_isolation_level(0)\n",
    "        _cur = _PG_Connection.cursor()\n",
    "        _cur.execute(\"insert into wikiwtershedoutputs.{} values ({},{},{},{},{},{},{})\"\n",
    "                     \";\".format(tablename_base, update_arr[0],update_arr[1],update_arr[2],update_arr[3],update_arr[4],update_arr[5],update_arr[6]))\n",
    "        c += 1\n",
    "        if c == int(t * prog_update - 1):\n",
    "            print('{}%'.format(int(prog_update*100)), end='--->')\n",
    "            prog_update = round(prog_update+0.1,1)\n",
    "print('done')"
   ]
  },
  {
   "cell_type": "markdown",
   "metadata": {},
   "source": [
    "## Repeat for Restoration Results\n",
    "\n",
    "Reruns the WikiSRATMicroService API with restoration BMPs and saves response to the database."
   ]
  },
  {
   "cell_type": "code",
   "execution_count": 7,
   "metadata": {},
   "outputs": [
    {
     "name": "stdout",
     "output_type": "stream",
     "text": [
      "done\n"
     ]
    }
   ],
   "source": [
    "# NOW RUN THE ATTENUATION WITH THE BMPs ADDED IN\n",
    "_flag = 'restoration'\n",
    "\n",
    "_r = dict(lambda_handler({\"body\": _body},None))\n",
    "print('done')"
   ]
  },
  {
   "cell_type": "code",
   "execution_count": 8,
   "metadata": {},
   "outputs": [],
   "source": [
    "# GET THE TOTAL NUMBER OF ROWS TO PRINT THE % COMPLETED LATER ON\n",
    "_nhdloads = dict(json.loads(_r['body']))['huc12s']\n",
    "t = 0\n",
    "for huc12s, huc12 in _nhdloads.items():\n",
    "    for comid in _nhdloads[huc12s]['catchments']:\n",
    "        t += 1"
   ]
  },
  {
   "cell_type": "code",
   "execution_count": 9,
   "metadata": {},
   "outputs": [
    {
     "name": "stdout",
     "output_type": "stream",
     "text": [
      "Table Created\n"
     ]
    }
   ],
   "source": [
    "# LOAD THE RESULTS INTO A DATABASE FOR REVIEW, CONSULT MSC94@DREXEL.EDU FOR MORE INFORMATION (MAY REQUIRE PERMISSION)\n",
    "# CREATE THE TABLE TO CACHE THE API OUTPUT\n",
    "tablename_rest = 'restoration_run'\n",
    "new = DatabaseMakeTable(_database[0], _user[0], _host[0], _port, _password[0], tablename_rest)\n",
    "new.make_table()"
   ]
  },
  {
   "cell_type": "code",
   "execution_count": 10,
   "metadata": {},
   "outputs": [
    {
     "name": "stdout",
     "output_type": "stream",
     "text": [
      "0%--->10%--->20%--->30%--->40%--->50%--->60%--->70%--->80%--->90%--->100%--->done\n"
     ]
    }
   ],
   "source": [
    "%%time\n",
    "\n",
    "# LOADING RESULTS INTO THE DB CAN TAKE ~10 MINUTES\n",
    "\n",
    "c = 0\n",
    "prog_update = 0.1\n",
    "print('0%', end='--->')\n",
    "for huc12s, huc12 in _nhdloads.items():\n",
    "    for comid in _nhdloads[huc12s]['catchments']:\n",
    "        update_arr = [int(_nhdloads[huc12s]['catchments'][comid]['comid']),\n",
    "                      _nhdloads[huc12s]['catchments'][comid]['tploadrate_total'],\n",
    "                      _nhdloads[huc12s]['catchments'][comid]['tploadate_conc'],\n",
    "                      _nhdloads[huc12s]['catchments'][comid]['tnloadrate_total'],\n",
    "                      _nhdloads[huc12s]['catchments'][comid]['tnloadrate_conc'],\n",
    "                      _nhdloads[huc12s]['catchments'][comid]['tssloadrate_total'],\n",
    "                      _nhdloads[huc12s]['catchments'][comid]['tssloadrate_conc']]\n",
    "        update_arr = [x if x != None else -9999 for x in update_arr]\n",
    "        _PG_Connection.set_isolation_level(0)\n",
    "        _cur = _PG_Connection.cursor()\n",
    "        _cur.execute(\"insert into wikiwtershedoutputs.{} values ({},{},{},{},{},{},{})\"\n",
    "                     \";\".format(tablename_rest, update_arr[0],update_arr[1],update_arr[2],update_arr[3],update_arr[4],update_arr[5],update_arr[6]))\n",
    "        c += 1\n",
    "        if c == int(t * prog_update - 1):\n",
    "            print('{}%'.format(int(prog_update*100)), end='--->')\n",
    "            prog_update = round(prog_update+0.1,1)\n",
    "\n",
    "print('done')"
   ]
  },
  {
   "cell_type": "markdown",
   "metadata": {},
   "source": [
    "# ABOVE CODE ONLY NEEDS TO BE RUN ONCE\n",
    "\n",
    "Use labs to get outline to collapse code to be run once. Further edits to the data frames for API output can be done here."
   ]
  },
  {
   "cell_type": "markdown",
   "metadata": {},
   "source": [
    "# Read Results in Pandas and Save to Local Storage"
   ]
  },
  {
   "cell_type": "code",
   "execution_count": 16,
   "metadata": {},
   "outputs": [],
   "source": [
    "# PUT HERE ANY TABLE NAMES CREATED ABOVE, IN CASE THE KERNAL WAS RESTARTED AND YOU DON'T WANT TO RUN THE ABOVE AGAIN\n",
    "tablename_rest = 'restoration_run'\n",
    "tablename_base = 'base_run'"
   ]
  },
  {
   "cell_type": "markdown",
   "metadata": {},
   "source": [
    "## Read from Database into Pandas with `psycopg2`\n",
    "Custom function written by Mike, using the pyscopg2 library."
   ]
  },
  {
   "cell_type": "code",
   "execution_count": 23,
   "metadata": {},
   "outputs": [
    {
     "name": "stdout",
     "output_type": "stream",
     "text": [
      "done\n",
      "CPU times: user 625 ms, sys: 901 ms, total: 1.53 s\n",
      "Wall time: 30.4 s\n"
     ]
    }
   ],
   "source": [
    "%%time\n",
    "\n",
    "# LOAD THE DATABASE TABLES INTO PANDAS\n",
    "# geom = NHDplus streamline\n",
    "# catchment = NHDplus catchment\n",
    "\n",
    "def postgresql_to_dataframe(conn, select_query, column_names):\n",
    "    \"\"\"\n",
    "    Tranform a SELECT query into a pandas dataframe\n",
    "    \"\"\"\n",
    "    _cur = conn.cursor()\n",
    "    try:\n",
    "        _cur.execute(select_query)\n",
    "    except (Exception, psycopg2.DatabaseError) as error:\n",
    "        print(\"Error: %s\" % error)\n",
    "        _cur.close()\n",
    "        return 1\n",
    "    \n",
    "    # We get a list of tupples\n",
    "    tupples = _cur.fetchall()\n",
    "    _cur.close()\n",
    "    \n",
    "    # Turn it into a pandas dataframe\n",
    "    df = pd.DataFrame(tupples, columns=column_names)\n",
    "    return df\n",
    "\n",
    "colnames = ('comid','tploadrate_total','tploadate_conc','tnloadrate_total','tnloadate_conc','tssloadrate_total',\n",
    "            'tssloadate_conc','catchment_hectares','watershed_hectares','tploadrate_total_ws','tnloadrate_total_ws',\n",
    "            'tssloadrate_total_ws','maflowv','geom','geom_catchment', 'cluster', 'fa_name', 'sub_focusarea',\n",
    "            'nord','nordstop', 'huc12')\n",
    "\n",
    "cluster_names = ('Brandywine and Christina','Kirkwood - Cohansey Aquifer','Middle Schuylkill','New Jersey Highlands',\n",
    "                 'Poconos and Kittatinny','Schuylkill Highlands','Upper Lehigh','Upstream Suburban Philadelphia')\n",
    "\n",
    "\n",
    "base_model_select = 'SELECT * FROM wikiwtershedoutputs.{}'.format(tablename_base)\n",
    "rest_model_select = 'SELECT * FROM wikiwtershedoutputs.{}'.format(tablename_rest)\n",
    "\n",
    "base_df = postgresql_to_dataframe(_PG_Connection, base_model_select, colnames)\n",
    "rest_df = postgresql_to_dataframe(_PG_Connection, rest_model_select, colnames)\n",
    "\n",
    "print('done')"
   ]
  },
  {
   "cell_type": "code",
   "execution_count": 28,
   "metadata": {},
   "outputs": [
    {
     "name": "stdout",
     "output_type": "stream",
     "text": [
      "<class 'pandas.core.frame.DataFrame'>\n",
      "RangeIndex: 19496 entries, 0 to 19495\n",
      "Data columns (total 21 columns):\n",
      " #   Column                Non-Null Count  Dtype  \n",
      "---  ------                --------------  -----  \n",
      " 0   comid                 19496 non-null  int64  \n",
      " 1   tploadrate_total      19496 non-null  object \n",
      " 2   tploadate_conc        19496 non-null  object \n",
      " 3   tnloadrate_total      19496 non-null  object \n",
      " 4   tnloadate_conc        19496 non-null  object \n",
      " 5   tssloadrate_total     19496 non-null  object \n",
      " 6   tssloadate_conc       19496 non-null  object \n",
      " 7   catchment_hectares    19496 non-null  object \n",
      " 8   watershed_hectares    19496 non-null  object \n",
      " 9   tploadrate_total_ws   19496 non-null  object \n",
      " 10  tnloadrate_total_ws   19496 non-null  object \n",
      " 11  tssloadrate_total_ws  19496 non-null  object \n",
      " 12  maflowv               19496 non-null  object \n",
      " 13  geom                  19266 non-null  object \n",
      " 14  geom_catchment        19496 non-null  object \n",
      " 15  cluster               17358 non-null  object \n",
      " 16  fa_name               186 non-null    object \n",
      " 17  sub_focusarea         186 non-null    float64\n",
      " 18  nord                  18870 non-null  float64\n",
      " 19  nordstop              18844 non-null  float64\n",
      " 20  huc12                 19496 non-null  object \n",
      "dtypes: float64(3), int64(1), object(17)\n",
      "memory usage: 3.1+ MB\n"
     ]
    }
   ],
   "source": [
    "# Note that most columns are read as string objects, and ...\n",
    "# geometry datatypes are not compatbile with GeoPandas and common Python plotting functions.\n",
    "base_df.info()"
   ]
  },
  {
   "cell_type": "code",
   "execution_count": 29,
   "metadata": {},
   "outputs": [
    {
     "data": {
      "text/html": [
       "<div>\n",
       "<style scoped>\n",
       "    .dataframe tbody tr th:only-of-type {\n",
       "        vertical-align: middle;\n",
       "    }\n",
       "\n",
       "    .dataframe tbody tr th {\n",
       "        vertical-align: top;\n",
       "    }\n",
       "\n",
       "    .dataframe thead th {\n",
       "        text-align: right;\n",
       "    }\n",
       "</style>\n",
       "<table border=\"1\" class=\"dataframe\">\n",
       "  <thead>\n",
       "    <tr style=\"text-align: right;\">\n",
       "      <th></th>\n",
       "      <th>comid</th>\n",
       "      <th>tploadrate_total</th>\n",
       "      <th>tploadate_conc</th>\n",
       "      <th>tnloadrate_total</th>\n",
       "      <th>tnloadate_conc</th>\n",
       "      <th>tssloadrate_total</th>\n",
       "      <th>tssloadate_conc</th>\n",
       "      <th>catchment_hectares</th>\n",
       "      <th>watershed_hectares</th>\n",
       "      <th>tploadrate_total_ws</th>\n",
       "      <th>...</th>\n",
       "      <th>tssloadrate_total_ws</th>\n",
       "      <th>maflowv</th>\n",
       "      <th>geom</th>\n",
       "      <th>geom_catchment</th>\n",
       "      <th>cluster</th>\n",
       "      <th>fa_name</th>\n",
       "      <th>sub_focusarea</th>\n",
       "      <th>nord</th>\n",
       "      <th>nordstop</th>\n",
       "      <th>huc12</th>\n",
       "    </tr>\n",
       "  </thead>\n",
       "  <tbody>\n",
       "    <tr>\n",
       "      <th>0</th>\n",
       "      <td>4149942</td>\n",
       "      <td>19.8106</td>\n",
       "      <td>0.0199</td>\n",
       "      <td>461.7835</td>\n",
       "      <td>0.4635</td>\n",
       "      <td>23315.2162</td>\n",
       "      <td>23.4000</td>\n",
       "      <td>199.4606</td>\n",
       "      <td>199.6200</td>\n",
       "      <td>0.0993</td>\n",
       "      <td>...</td>\n",
       "      <td>116.7978</td>\n",
       "      <td>1.1150</td>\n",
       "      <td>01050000E06A7F00000100000001020000C00E0000009D...</td>\n",
       "      <td>01060000206A7F000001000000010300000001000000AC...</td>\n",
       "      <td>Poconos and Kittatinny</td>\n",
       "      <td>None</td>\n",
       "      <td>NaN</td>\n",
       "      <td>72392.0</td>\n",
       "      <td>72392.0</td>\n",
       "      <td>020401040504</td>\n",
       "    </tr>\n",
       "    <tr>\n",
       "      <th>1</th>\n",
       "      <td>4151440</td>\n",
       "      <td>0.0037</td>\n",
       "      <td>0.0120</td>\n",
       "      <td>0.0679</td>\n",
       "      <td>0.2181</td>\n",
       "      <td>6.6330</td>\n",
       "      <td>12.7636</td>\n",
       "      <td>0.0899</td>\n",
       "      <td>5049.9000</td>\n",
       "      <td>0.0758</td>\n",
       "      <td>...</td>\n",
       "      <td>80.6635</td>\n",
       "      <td>35.7140</td>\n",
       "      <td>01050000E06A7F00000100000001020000C00300000003...</td>\n",
       "      <td>01060000206A7F00000100000001030000000100000005...</td>\n",
       "      <td>Poconos and Kittatinny</td>\n",
       "      <td>None</td>\n",
       "      <td>NaN</td>\n",
       "      <td>72128.0</td>\n",
       "      <td>72165.0</td>\n",
       "      <td>020401040504</td>\n",
       "    </tr>\n",
       "    <tr>\n",
       "      <th>2</th>\n",
       "      <td>4150082</td>\n",
       "      <td>2.0144</td>\n",
       "      <td>0.0099</td>\n",
       "      <td>25.4212</td>\n",
       "      <td>0.1405</td>\n",
       "      <td>4910.5669</td>\n",
       "      <td>22.9938</td>\n",
       "      <td>45.1439</td>\n",
       "      <td>69.2100</td>\n",
       "      <td>0.0490</td>\n",
       "      <td>...</td>\n",
       "      <td>113.7074</td>\n",
       "      <td>0.3830</td>\n",
       "      <td>01050000E06A7F00000100000001020000C00B0000000C...</td>\n",
       "      <td>01060000206A7F0000010000000103000000010000005F...</td>\n",
       "      <td>Poconos and Kittatinny</td>\n",
       "      <td>None</td>\n",
       "      <td>NaN</td>\n",
       "      <td>72440.0</td>\n",
       "      <td>72441.0</td>\n",
       "      <td>020401040504</td>\n",
       "    </tr>\n",
       "    <tr>\n",
       "      <th>3</th>\n",
       "      <td>4151394</td>\n",
       "      <td>2.9297</td>\n",
       "      <td>-9999.0000</td>\n",
       "      <td>58.2131</td>\n",
       "      <td>-9999.0000</td>\n",
       "      <td>5942.7803</td>\n",
       "      <td>-9999.0000</td>\n",
       "      <td>11.8705</td>\n",
       "      <td>697436.0100</td>\n",
       "      <td>-54432.3165</td>\n",
       "      <td>...</td>\n",
       "      <td>-54432.3165</td>\n",
       "      <td>4248.7040</td>\n",
       "      <td>01050000E06A7F00000100000001020000C00400000075...</td>\n",
       "      <td>01060000206A7F00000100000001030000000100000030...</td>\n",
       "      <td>Poconos and Kittatinny</td>\n",
       "      <td>None</td>\n",
       "      <td>NaN</td>\n",
       "      <td>72338.0</td>\n",
       "      <td>74971.0</td>\n",
       "      <td>020401040504</td>\n",
       "    </tr>\n",
       "    <tr>\n",
       "      <th>4</th>\n",
       "      <td>4149944</td>\n",
       "      <td>0.2212</td>\n",
       "      <td>0.0199</td>\n",
       "      <td>1.7217</td>\n",
       "      <td>0.4623</td>\n",
       "      <td>714.6338</td>\n",
       "      <td>23.9081</td>\n",
       "      <td>1.3489</td>\n",
       "      <td>200.9700</td>\n",
       "      <td>0.0993</td>\n",
       "      <td>...</td>\n",
       "      <td>119.2765</td>\n",
       "      <td>1.1220</td>\n",
       "      <td>01050000E06A7F00000100000001020000C0020000006F...</td>\n",
       "      <td>01060000206A7F0000010000000103000000010000000F...</td>\n",
       "      <td>Poconos and Kittatinny</td>\n",
       "      <td>None</td>\n",
       "      <td>NaN</td>\n",
       "      <td>72391.0</td>\n",
       "      <td>72392.0</td>\n",
       "      <td>020401040504</td>\n",
       "    </tr>\n",
       "  </tbody>\n",
       "</table>\n",
       "<p>5 rows × 21 columns</p>\n",
       "</div>"
      ],
      "text/plain": [
       "     comid tploadrate_total tploadate_conc tnloadrate_total tnloadate_conc  \\\n",
       "0  4149942          19.8106         0.0199         461.7835         0.4635   \n",
       "1  4151440           0.0037         0.0120           0.0679         0.2181   \n",
       "2  4150082           2.0144         0.0099          25.4212         0.1405   \n",
       "3  4151394           2.9297     -9999.0000          58.2131     -9999.0000   \n",
       "4  4149944           0.2212         0.0199           1.7217         0.4623   \n",
       "\n",
       "  tssloadrate_total tssloadate_conc catchment_hectares watershed_hectares  \\\n",
       "0        23315.2162         23.4000           199.4606           199.6200   \n",
       "1            6.6330         12.7636             0.0899          5049.9000   \n",
       "2         4910.5669         22.9938            45.1439            69.2100   \n",
       "3         5942.7803      -9999.0000            11.8705        697436.0100   \n",
       "4          714.6338         23.9081             1.3489           200.9700   \n",
       "\n",
       "  tploadrate_total_ws  ... tssloadrate_total_ws    maflowv  \\\n",
       "0              0.0993  ...             116.7978     1.1150   \n",
       "1              0.0758  ...              80.6635    35.7140   \n",
       "2              0.0490  ...             113.7074     0.3830   \n",
       "3         -54432.3165  ...          -54432.3165  4248.7040   \n",
       "4              0.0993  ...             119.2765     1.1220   \n",
       "\n",
       "                                                geom  \\\n",
       "0  01050000E06A7F00000100000001020000C00E0000009D...   \n",
       "1  01050000E06A7F00000100000001020000C00300000003...   \n",
       "2  01050000E06A7F00000100000001020000C00B0000000C...   \n",
       "3  01050000E06A7F00000100000001020000C00400000075...   \n",
       "4  01050000E06A7F00000100000001020000C0020000006F...   \n",
       "\n",
       "                                      geom_catchment                 cluster  \\\n",
       "0  01060000206A7F000001000000010300000001000000AC...  Poconos and Kittatinny   \n",
       "1  01060000206A7F00000100000001030000000100000005...  Poconos and Kittatinny   \n",
       "2  01060000206A7F0000010000000103000000010000005F...  Poconos and Kittatinny   \n",
       "3  01060000206A7F00000100000001030000000100000030...  Poconos and Kittatinny   \n",
       "4  01060000206A7F0000010000000103000000010000000F...  Poconos and Kittatinny   \n",
       "\n",
       "  fa_name sub_focusarea     nord  nordstop         huc12  \n",
       "0    None           NaN  72392.0   72392.0  020401040504  \n",
       "1    None           NaN  72128.0   72165.0  020401040504  \n",
       "2    None           NaN  72440.0   72441.0  020401040504  \n",
       "3    None           NaN  72338.0   74971.0  020401040504  \n",
       "4    None           NaN  72391.0   72392.0  020401040504  \n",
       "\n",
       "[5 rows x 21 columns]"
      ]
     },
     "execution_count": 29,
     "metadata": {},
     "output_type": "execute_result"
    }
   ],
   "source": [
    "base_df.head()"
   ]
  },
  {
   "cell_type": "markdown",
   "metadata": {},
   "source": [
    "## Read from Database using SQLAlchemy and GeoPandas\n",
    "An alternate way to connect, using sqlalchemy, written by Sarah. Benefits include:\n",
    "- Doesn't require knowledge of column names\n",
    "- Correctly auto-parses datatypes\n",
    "- Auto-converts column named 'geom' from a string into a geometry datatype compatible with  GeoPandas and most plotting libraries."
   ]
  },
  {
   "cell_type": "code",
   "execution_count": 40,
   "metadata": {},
   "outputs": [
    {
     "name": "stdout",
     "output_type": "stream",
     "text": [
      "CPU times: user 340 µs, sys: 5 µs, total: 345 µs\n",
      "Wall time: 349 µs\n"
     ]
    }
   ],
   "source": [
    "%%time\n",
    "# Connect to database with sqlalchemy\n",
    "from sqlalchemy import create_engine  \n",
    "\n",
    "db_connection_url = \"postgresql://{}:{}@{}:{}/{}\".format(_user[0], _password[0], _host[0], _port, _database[0])\n",
    "con = create_engine(db_connection_url)  "
   ]
  },
  {
   "cell_type": "code",
   "execution_count": 41,
   "metadata": {},
   "outputs": [
    {
     "name": "stdout",
     "output_type": "stream",
     "text": [
      "CPU times: user 2.77 s, sys: 1.11 s, total: 3.89 s\n",
      "Wall time: 37.9 s\n"
     ]
    }
   ],
   "source": [
    "%%time\n",
    "# import data with geopandas compatible geometry\n",
    "import geopandas as gpd \n",
    "\n",
    "tablename_base = 'base_run'\n",
    "tablename_rest = 'restoration_run'\n",
    "\n",
    "base_model_select = 'SELECT * FROM wikiwtershedoutputs.{}'.format(tablename_base)\n",
    "rest_model_select = 'SELECT * FROM wikiwtershedoutputs.{}'.format(tablename_rest)\n",
    "\n",
    "base_df = gpd.read_postgis(base_model_select, con)\n",
    "rest_df = gpd.read_postgis(rest_model_select, con)"
   ]
  },
  {
   "cell_type": "code",
   "execution_count": 42,
   "metadata": {},
   "outputs": [
    {
     "name": "stdout",
     "output_type": "stream",
     "text": [
      "<class 'geopandas.geodataframe.GeoDataFrame'>\n",
      "RangeIndex: 19496 entries, 0 to 19495\n",
      "Data columns (total 21 columns):\n",
      " #   Column                Non-Null Count  Dtype   \n",
      "---  ------                --------------  -----   \n",
      " 0   comid                 19496 non-null  int64   \n",
      " 1   tploadrate_total      19496 non-null  float64 \n",
      " 2   tploadate_conc        19496 non-null  float64 \n",
      " 3   tnloadrate_total      19496 non-null  float64 \n",
      " 4   tnloadate_conc        19496 non-null  float64 \n",
      " 5   tssloadrate_total     19496 non-null  float64 \n",
      " 6   tssloadate_conc       19496 non-null  float64 \n",
      " 7   catchment_hectares    19496 non-null  float64 \n",
      " 8   watershed_hectares    19496 non-null  float64 \n",
      " 9   tploadrate_total_ws   19496 non-null  float64 \n",
      " 10  tnloadrate_total_ws   19496 non-null  float64 \n",
      " 11  tssloadrate_total_ws  19496 non-null  float64 \n",
      " 12  maflowv               19496 non-null  float64 \n",
      " 13  geom                  19266 non-null  geometry\n",
      " 14  geom_catchment        19496 non-null  object  \n",
      " 15  cluster               17358 non-null  object  \n",
      " 16  fa_name               186 non-null    object  \n",
      " 17  sub_focusarea         186 non-null    float64 \n",
      " 18  nord                  18870 non-null  float64 \n",
      " 19  nordstop              18844 non-null  float64 \n",
      " 20  huc12                 19496 non-null  object  \n",
      "dtypes: float64(15), geometry(1), int64(1), object(4)\n",
      "memory usage: 3.1+ MB\n"
     ]
    }
   ],
   "source": [
    "base_df.info()"
   ]
  },
  {
   "cell_type": "code",
   "execution_count": 43,
   "metadata": {},
   "outputs": [
    {
     "name": "stdout",
     "output_type": "stream",
     "text": [
      "<class 'geopandas.geodataframe.GeoDataFrame'>\n",
      "RangeIndex: 19496 entries, 0 to 19495\n",
      "Data columns (total 21 columns):\n",
      " #   Column                Non-Null Count  Dtype   \n",
      "---  ------                --------------  -----   \n",
      " 0   comid                 19496 non-null  int64   \n",
      " 1   tploadrate_total      19496 non-null  float64 \n",
      " 2   tploadate_conc        19496 non-null  float64 \n",
      " 3   tnloadrate_total      19496 non-null  float64 \n",
      " 4   tnloadate_conc        19496 non-null  float64 \n",
      " 5   tssloadrate_total     19496 non-null  float64 \n",
      " 6   tssloadate_conc       19496 non-null  float64 \n",
      " 7   catchment_hectares    19496 non-null  float64 \n",
      " 8   watershed_hectares    19496 non-null  float64 \n",
      " 9   tploadrate_total_ws   19496 non-null  float64 \n",
      " 10  tnloadrate_total_ws   19496 non-null  float64 \n",
      " 11  tssloadrate_total_ws  19496 non-null  float64 \n",
      " 12  maflowv               19496 non-null  float64 \n",
      " 13  geom                  19266 non-null  geometry\n",
      " 14  geom_catchment        19496 non-null  object  \n",
      " 15  cluster               17358 non-null  object  \n",
      " 16  fa_name               186 non-null    object  \n",
      " 17  sub_focusarea         186 non-null    float64 \n",
      " 18  nord                  18870 non-null  float64 \n",
      " 19  nordstop              18844 non-null  float64 \n",
      " 20  huc12                 19496 non-null  object  \n",
      "dtypes: float64(15), geometry(1), int64(1), object(4)\n",
      "memory usage: 3.1+ MB\n"
     ]
    }
   ],
   "source": [
    "rest_df.info()"
   ]
  },
  {
   "cell_type": "code",
   "execution_count": 44,
   "metadata": {},
   "outputs": [
    {
     "data": {
      "text/html": [
       "<div>\n",
       "<style scoped>\n",
       "    .dataframe tbody tr th:only-of-type {\n",
       "        vertical-align: middle;\n",
       "    }\n",
       "\n",
       "    .dataframe tbody tr th {\n",
       "        vertical-align: top;\n",
       "    }\n",
       "\n",
       "    .dataframe thead th {\n",
       "        text-align: right;\n",
       "    }\n",
       "</style>\n",
       "<table border=\"1\" class=\"dataframe\">\n",
       "  <thead>\n",
       "    <tr style=\"text-align: right;\">\n",
       "      <th></th>\n",
       "      <th>comid</th>\n",
       "      <th>tploadrate_total</th>\n",
       "      <th>tploadate_conc</th>\n",
       "      <th>tnloadrate_total</th>\n",
       "      <th>tnloadate_conc</th>\n",
       "      <th>tssloadrate_total</th>\n",
       "      <th>tssloadate_conc</th>\n",
       "      <th>catchment_hectares</th>\n",
       "      <th>watershed_hectares</th>\n",
       "      <th>tploadrate_total_ws</th>\n",
       "      <th>...</th>\n",
       "      <th>tssloadrate_total_ws</th>\n",
       "      <th>maflowv</th>\n",
       "      <th>geom</th>\n",
       "      <th>geom_catchment</th>\n",
       "      <th>cluster</th>\n",
       "      <th>fa_name</th>\n",
       "      <th>sub_focusarea</th>\n",
       "      <th>nord</th>\n",
       "      <th>nordstop</th>\n",
       "      <th>huc12</th>\n",
       "    </tr>\n",
       "  </thead>\n",
       "  <tbody>\n",
       "    <tr>\n",
       "      <th>0</th>\n",
       "      <td>4149942</td>\n",
       "      <td>19.8106</td>\n",
       "      <td>0.0199</td>\n",
       "      <td>461.7835</td>\n",
       "      <td>0.4635</td>\n",
       "      <td>23315.2162</td>\n",
       "      <td>23.4000</td>\n",
       "      <td>199.4606</td>\n",
       "      <td>199.62</td>\n",
       "      <td>0.0993</td>\n",
       "      <td>...</td>\n",
       "      <td>116.7978</td>\n",
       "      <td>1.115</td>\n",
       "      <td>MULTILINESTRING Z ((506490.373 4594278.694 0.0...</td>\n",
       "      <td>01060000206A7F000001000000010300000001000000AC...</td>\n",
       "      <td>Poconos and Kittatinny</td>\n",
       "      <td>None</td>\n",
       "      <td>NaN</td>\n",
       "      <td>72392.0</td>\n",
       "      <td>72392.0</td>\n",
       "      <td>020401040504</td>\n",
       "    </tr>\n",
       "    <tr>\n",
       "      <th>1</th>\n",
       "      <td>4151440</td>\n",
       "      <td>0.0037</td>\n",
       "      <td>0.0120</td>\n",
       "      <td>0.0679</td>\n",
       "      <td>0.2181</td>\n",
       "      <td>6.6330</td>\n",
       "      <td>12.7636</td>\n",
       "      <td>0.0899</td>\n",
       "      <td>5049.90</td>\n",
       "      <td>0.0758</td>\n",
       "      <td>...</td>\n",
       "      <td>80.6635</td>\n",
       "      <td>35.714</td>\n",
       "      <td>MULTILINESTRING Z ((514920.168 4587490.302 0.0...</td>\n",
       "      <td>01060000206A7F00000100000001030000000100000005...</td>\n",
       "      <td>Poconos and Kittatinny</td>\n",
       "      <td>None</td>\n",
       "      <td>NaN</td>\n",
       "      <td>72128.0</td>\n",
       "      <td>72165.0</td>\n",
       "      <td>020401040504</td>\n",
       "    </tr>\n",
       "    <tr>\n",
       "      <th>2</th>\n",
       "      <td>4150082</td>\n",
       "      <td>2.0144</td>\n",
       "      <td>0.0099</td>\n",
       "      <td>25.4212</td>\n",
       "      <td>0.1405</td>\n",
       "      <td>4910.5669</td>\n",
       "      <td>22.9938</td>\n",
       "      <td>45.1439</td>\n",
       "      <td>69.21</td>\n",
       "      <td>0.0490</td>\n",
       "      <td>...</td>\n",
       "      <td>113.7074</td>\n",
       "      <td>0.383</td>\n",
       "      <td>MULTILINESTRING Z ((502865.583 4590886.516 0.0...</td>\n",
       "      <td>01060000206A7F0000010000000103000000010000005F...</td>\n",
       "      <td>Poconos and Kittatinny</td>\n",
       "      <td>None</td>\n",
       "      <td>NaN</td>\n",
       "      <td>72440.0</td>\n",
       "      <td>72441.0</td>\n",
       "      <td>020401040504</td>\n",
       "    </tr>\n",
       "    <tr>\n",
       "      <th>3</th>\n",
       "      <td>4151394</td>\n",
       "      <td>2.9297</td>\n",
       "      <td>-9999.0000</td>\n",
       "      <td>58.2131</td>\n",
       "      <td>-9999.0000</td>\n",
       "      <td>5942.7803</td>\n",
       "      <td>-9999.0000</td>\n",
       "      <td>11.8705</td>\n",
       "      <td>697436.01</td>\n",
       "      <td>-54432.3165</td>\n",
       "      <td>...</td>\n",
       "      <td>-54432.3165</td>\n",
       "      <td>4248.704</td>\n",
       "      <td>MULTILINESTRING Z ((507356.841 4591522.967 0.0...</td>\n",
       "      <td>01060000206A7F00000100000001030000000100000030...</td>\n",
       "      <td>Poconos and Kittatinny</td>\n",
       "      <td>None</td>\n",
       "      <td>NaN</td>\n",
       "      <td>72338.0</td>\n",
       "      <td>74971.0</td>\n",
       "      <td>020401040504</td>\n",
       "    </tr>\n",
       "    <tr>\n",
       "      <th>4</th>\n",
       "      <td>4149944</td>\n",
       "      <td>0.2212</td>\n",
       "      <td>0.0199</td>\n",
       "      <td>1.7217</td>\n",
       "      <td>0.4623</td>\n",
       "      <td>714.6338</td>\n",
       "      <td>23.9081</td>\n",
       "      <td>1.3489</td>\n",
       "      <td>200.97</td>\n",
       "      <td>0.0993</td>\n",
       "      <td>...</td>\n",
       "      <td>119.2765</td>\n",
       "      <td>1.122</td>\n",
       "      <td>MULTILINESTRING Z ((506039.307 4593540.381 0.0...</td>\n",
       "      <td>01060000206A7F0000010000000103000000010000000F...</td>\n",
       "      <td>Poconos and Kittatinny</td>\n",
       "      <td>None</td>\n",
       "      <td>NaN</td>\n",
       "      <td>72391.0</td>\n",
       "      <td>72392.0</td>\n",
       "      <td>020401040504</td>\n",
       "    </tr>\n",
       "  </tbody>\n",
       "</table>\n",
       "<p>5 rows × 21 columns</p>\n",
       "</div>"
      ],
      "text/plain": [
       "     comid  tploadrate_total  tploadate_conc  tnloadrate_total  \\\n",
       "0  4149942           19.8106          0.0199          461.7835   \n",
       "1  4151440            0.0037          0.0120            0.0679   \n",
       "2  4150082            2.0144          0.0099           25.4212   \n",
       "3  4151394            2.9297      -9999.0000           58.2131   \n",
       "4  4149944            0.2212          0.0199            1.7217   \n",
       "\n",
       "   tnloadate_conc  tssloadrate_total  tssloadate_conc  catchment_hectares  \\\n",
       "0          0.4635         23315.2162          23.4000            199.4606   \n",
       "1          0.2181             6.6330          12.7636              0.0899   \n",
       "2          0.1405          4910.5669          22.9938             45.1439   \n",
       "3      -9999.0000          5942.7803       -9999.0000             11.8705   \n",
       "4          0.4623           714.6338          23.9081              1.3489   \n",
       "\n",
       "   watershed_hectares  tploadrate_total_ws  ...  tssloadrate_total_ws  \\\n",
       "0              199.62               0.0993  ...              116.7978   \n",
       "1             5049.90               0.0758  ...               80.6635   \n",
       "2               69.21               0.0490  ...              113.7074   \n",
       "3           697436.01          -54432.3165  ...           -54432.3165   \n",
       "4              200.97               0.0993  ...              119.2765   \n",
       "\n",
       "    maflowv                                               geom  \\\n",
       "0     1.115  MULTILINESTRING Z ((506490.373 4594278.694 0.0...   \n",
       "1    35.714  MULTILINESTRING Z ((514920.168 4587490.302 0.0...   \n",
       "2     0.383  MULTILINESTRING Z ((502865.583 4590886.516 0.0...   \n",
       "3  4248.704  MULTILINESTRING Z ((507356.841 4591522.967 0.0...   \n",
       "4     1.122  MULTILINESTRING Z ((506039.307 4593540.381 0.0...   \n",
       "\n",
       "                                      geom_catchment                 cluster  \\\n",
       "0  01060000206A7F000001000000010300000001000000AC...  Poconos and Kittatinny   \n",
       "1  01060000206A7F00000100000001030000000100000005...  Poconos and Kittatinny   \n",
       "2  01060000206A7F0000010000000103000000010000005F...  Poconos and Kittatinny   \n",
       "3  01060000206A7F00000100000001030000000100000030...  Poconos and Kittatinny   \n",
       "4  01060000206A7F0000010000000103000000010000000F...  Poconos and Kittatinny   \n",
       "\n",
       "  fa_name sub_focusarea     nord  nordstop         huc12  \n",
       "0    None           NaN  72392.0   72392.0  020401040504  \n",
       "1    None           NaN  72128.0   72165.0  020401040504  \n",
       "2    None           NaN  72440.0   72441.0  020401040504  \n",
       "3    None           NaN  72338.0   74971.0  020401040504  \n",
       "4    None           NaN  72391.0   72392.0  020401040504  \n",
       "\n",
       "[5 rows x 21 columns]"
      ]
     },
     "execution_count": 44,
     "metadata": {},
     "output_type": "execute_result"
    }
   ],
   "source": [
    "base_df.head()"
   ]
  },
  {
   "cell_type": "code",
   "execution_count": 45,
   "metadata": {},
   "outputs": [],
   "source": [
    "# Set index to comid\n",
    "# https://pandas.pydata.org/pandas-docs/stable/reference/api/pandas.DataFrame.set_index.html\n",
    "base_df.set_index('comid', inplace=True)\n",
    "rest_df.set_index('comid', inplace=True)"
   ]
  },
  {
   "cell_type": "code",
   "execution_count": 46,
   "metadata": {},
   "outputs": [
    {
     "data": {
      "text/plain": [
       "Int64Index([  4149942,   4151440,   4150082,   4151394,   4149944,   4150436,\n",
       "              4150464,   4151392,   4150226,   4150518,\n",
       "            ...\n",
       "            932040262,   4150192,   2619260,   4188139,   4151472,   4150260,\n",
       "              4151474,   4150526,   4151464,   4150466],\n",
       "           dtype='int64', name='comid', length=19496)"
      ]
     },
     "execution_count": 46,
     "metadata": {},
     "output_type": "execute_result"
    }
   ],
   "source": [
    "base_df.index"
   ]
  },
  {
   "cell_type": "code",
   "execution_count": 47,
   "metadata": {},
   "outputs": [
    {
     "data": {
      "text/plain": [
       "Int64Index([ 2612952,  2612782,  2612920,  2613460,  2612780,  2612792,\n",
       "             2612956,  2612794,  2612948,  2612950,\n",
       "            ...\n",
       "             9437009, 26814149,  9437007,  9437021,  9436995,  9437027,\n",
       "             9437011,  9436999,  8409259,  8409235],\n",
       "           dtype='int64', name='comid', length=19496)"
      ]
     },
     "execution_count": 47,
     "metadata": {},
     "output_type": "execute_result"
    }
   ],
   "source": [
    "rest_df.index"
   ]
  },
  {
   "cell_type": "code",
   "execution_count": 39,
   "metadata": {},
   "outputs": [
    {
     "name": "stdout",
     "output_type": "stream",
     "text": [
      "<class 'geopandas.geodataframe.GeoDataFrame'>\n",
      "Int64Index: 19496 entries, 4149942 to 4150466\n",
      "Data columns (total 20 columns):\n",
      " #   Column                Non-Null Count  Dtype   \n",
      "---  ------                --------------  -----   \n",
      " 0   tploadrate_total      19496 non-null  float64 \n",
      " 1   tploadate_conc        19496 non-null  float64 \n",
      " 2   tnloadrate_total      19496 non-null  float64 \n",
      " 3   tnloadate_conc        19496 non-null  float64 \n",
      " 4   tssloadrate_total     19496 non-null  float64 \n",
      " 5   tssloadate_conc       19496 non-null  float64 \n",
      " 6   catchment_hectares    19496 non-null  float64 \n",
      " 7   watershed_hectares    19496 non-null  float64 \n",
      " 8   tploadrate_total_ws   19496 non-null  float64 \n",
      " 9   tnloadrate_total_ws   19496 non-null  float64 \n",
      " 10  tssloadrate_total_ws  19496 non-null  float64 \n",
      " 11  maflowv               19496 non-null  float64 \n",
      " 12  geom                  19266 non-null  geometry\n",
      " 13  geom_catchment        19496 non-null  object  \n",
      " 14  cluster               17358 non-null  object  \n",
      " 15  fa_name               186 non-null    object  \n",
      " 16  sub_focusarea         186 non-null    float64 \n",
      " 17  nord                  18870 non-null  float64 \n",
      " 18  nordstop              18844 non-null  float64 \n",
      " 19  huc12                 19496 non-null  object  \n",
      "dtypes: float64(15), geometry(1), object(4)\n",
      "memory usage: 3.1+ MB\n"
     ]
    }
   ],
   "source": [
    "base_df.info()"
   ]
  },
  {
   "cell_type": "markdown",
   "metadata": {},
   "source": [
    "### Read again To Set Catchment Geometry\n",
    "This reruns the `gpd.read_postgis()` function with the optional argument `geom_col=\"geom_catchment\"`, as a workaround for converting both the flowlines and the catchment boundaries to geometry datatypes."
   ]
  },
  {
   "cell_type": "code",
   "execution_count": 52,
   "metadata": {},
   "outputs": [
    {
     "name": "stdout",
     "output_type": "stream",
     "text": [
      "CPU times: user 3.92 s, sys: 693 ms, total: 4.61 s\n",
      "Wall time: 25.5 s\n"
     ]
    }
   ],
   "source": [
    "%%time\n",
    "# get catchment geometry\n",
    "base_catch = 'SELECT comid, geom_catchment FROM wikiwtershedoutputs.{}'.format(tablename_base)\n",
    "rest_catch = 'SELECT comid, geom_catchment FROM wikiwtershedoutputs.{}'.format(tablename_rest)\n",
    "\n",
    "base_df_catch = gpd.read_postgis(base_catch, con, geom_col=\"geom_catchment\")\n",
    "rest_df_catch = gpd.read_postgis(rest_catch, con, geom_col=\"geom_catchment\")"
   ]
  },
  {
   "cell_type": "code",
   "execution_count": 53,
   "metadata": {},
   "outputs": [
    {
     "name": "stdout",
     "output_type": "stream",
     "text": [
      "<class 'geopandas.geodataframe.GeoDataFrame'>\n",
      "RangeIndex: 19496 entries, 0 to 19495\n",
      "Data columns (total 2 columns):\n",
      " #   Column          Non-Null Count  Dtype   \n",
      "---  ------          --------------  -----   \n",
      " 0   comid           19496 non-null  int64   \n",
      " 1   geom_catchment  19496 non-null  geometry\n",
      "dtypes: geometry(1), int64(1)\n",
      "memory usage: 304.8 KB\n"
     ]
    }
   ],
   "source": [
    "base_df_catch.info()"
   ]
  },
  {
   "cell_type": "code",
   "execution_count": 54,
   "metadata": {},
   "outputs": [],
   "source": [
    "# Set index to comid\n",
    "# https://pandas.pydata.org/pandas-docs/stable/reference/api/pandas.DataFrame.set_index.html\n",
    "base_df_catch.set_index('comid', inplace=True)\n",
    "rest_df_catch.set_index('comid', inplace=True)"
   ]
  },
  {
   "cell_type": "markdown",
   "metadata": {},
   "source": [
    "### Replace `geom_catchment` Object with Geometry DType"
   ]
  },
  {
   "cell_type": "code",
   "execution_count": 55,
   "metadata": {},
   "outputs": [],
   "source": [
    "# merge\n",
    "base_df['geom_catchment'] = base_df_catch['geom_catchment']\n",
    "rest_df['geom_catchment'] = rest_df_catch['geom_catchment']"
   ]
  },
  {
   "cell_type": "code",
   "execution_count": 56,
   "metadata": {},
   "outputs": [
    {
     "data": {
      "text/html": [
       "<div>\n",
       "<style scoped>\n",
       "    .dataframe tbody tr th:only-of-type {\n",
       "        vertical-align: middle;\n",
       "    }\n",
       "\n",
       "    .dataframe tbody tr th {\n",
       "        vertical-align: top;\n",
       "    }\n",
       "\n",
       "    .dataframe thead th {\n",
       "        text-align: right;\n",
       "    }\n",
       "</style>\n",
       "<table border=\"1\" class=\"dataframe\">\n",
       "  <thead>\n",
       "    <tr style=\"text-align: right;\">\n",
       "      <th></th>\n",
       "      <th>tploadrate_total</th>\n",
       "      <th>tploadate_conc</th>\n",
       "      <th>tnloadrate_total</th>\n",
       "      <th>tnloadate_conc</th>\n",
       "      <th>tssloadrate_total</th>\n",
       "      <th>tssloadate_conc</th>\n",
       "      <th>catchment_hectares</th>\n",
       "      <th>watershed_hectares</th>\n",
       "      <th>tploadrate_total_ws</th>\n",
       "      <th>tnloadrate_total_ws</th>\n",
       "      <th>tssloadrate_total_ws</th>\n",
       "      <th>maflowv</th>\n",
       "      <th>geom</th>\n",
       "      <th>geom_catchment</th>\n",
       "      <th>cluster</th>\n",
       "      <th>fa_name</th>\n",
       "      <th>sub_focusarea</th>\n",
       "      <th>nord</th>\n",
       "      <th>nordstop</th>\n",
       "      <th>huc12</th>\n",
       "    </tr>\n",
       "    <tr>\n",
       "      <th>comid</th>\n",
       "      <th></th>\n",
       "      <th></th>\n",
       "      <th></th>\n",
       "      <th></th>\n",
       "      <th></th>\n",
       "      <th></th>\n",
       "      <th></th>\n",
       "      <th></th>\n",
       "      <th></th>\n",
       "      <th></th>\n",
       "      <th></th>\n",
       "      <th></th>\n",
       "      <th></th>\n",
       "      <th></th>\n",
       "      <th></th>\n",
       "      <th></th>\n",
       "      <th></th>\n",
       "      <th></th>\n",
       "      <th></th>\n",
       "      <th></th>\n",
       "    </tr>\n",
       "  </thead>\n",
       "  <tbody>\n",
       "    <tr>\n",
       "      <th>4149942</th>\n",
       "      <td>19.8106</td>\n",
       "      <td>0.0199</td>\n",
       "      <td>461.7835</td>\n",
       "      <td>0.4635</td>\n",
       "      <td>23315.2162</td>\n",
       "      <td>23.4000</td>\n",
       "      <td>199.4606</td>\n",
       "      <td>199.62</td>\n",
       "      <td>0.0993</td>\n",
       "      <td>2.3135</td>\n",
       "      <td>116.7978</td>\n",
       "      <td>1.115</td>\n",
       "      <td>MULTILINESTRING Z ((506490.373 4594278.694 0.0...</td>\n",
       "      <td>MULTIPOLYGON (((506092.122 4593422.061, 506098...</td>\n",
       "      <td>Poconos and Kittatinny</td>\n",
       "      <td>None</td>\n",
       "      <td>NaN</td>\n",
       "      <td>72392.0</td>\n",
       "      <td>72392.0</td>\n",
       "      <td>020401040504</td>\n",
       "    </tr>\n",
       "    <tr>\n",
       "      <th>4151440</th>\n",
       "      <td>0.0037</td>\n",
       "      <td>0.0120</td>\n",
       "      <td>0.0679</td>\n",
       "      <td>0.2181</td>\n",
       "      <td>6.6330</td>\n",
       "      <td>12.7636</td>\n",
       "      <td>0.0899</td>\n",
       "      <td>5049.90</td>\n",
       "      <td>0.0758</td>\n",
       "      <td>1.3784</td>\n",
       "      <td>80.6635</td>\n",
       "      <td>35.714</td>\n",
       "      <td>MULTILINESTRING Z ((514920.168 4587490.302 0.0...</td>\n",
       "      <td>MULTIPOLYGON (((514955.572 4587467.785, 514926...</td>\n",
       "      <td>Poconos and Kittatinny</td>\n",
       "      <td>None</td>\n",
       "      <td>NaN</td>\n",
       "      <td>72128.0</td>\n",
       "      <td>72165.0</td>\n",
       "      <td>020401040504</td>\n",
       "    </tr>\n",
       "    <tr>\n",
       "      <th>4150082</th>\n",
       "      <td>2.0144</td>\n",
       "      <td>0.0099</td>\n",
       "      <td>25.4212</td>\n",
       "      <td>0.1405</td>\n",
       "      <td>4910.5669</td>\n",
       "      <td>22.9938</td>\n",
       "      <td>45.1439</td>\n",
       "      <td>69.21</td>\n",
       "      <td>0.0490</td>\n",
       "      <td>0.6948</td>\n",
       "      <td>113.7074</td>\n",
       "      <td>0.383</td>\n",
       "      <td>MULTILINESTRING Z ((502865.583 4590886.516 0.0...</td>\n",
       "      <td>MULTIPOLYGON (((502581.690 4590660.525, 502522...</td>\n",
       "      <td>Poconos and Kittatinny</td>\n",
       "      <td>None</td>\n",
       "      <td>NaN</td>\n",
       "      <td>72440.0</td>\n",
       "      <td>72441.0</td>\n",
       "      <td>020401040504</td>\n",
       "    </tr>\n",
       "    <tr>\n",
       "      <th>4151394</th>\n",
       "      <td>2.9297</td>\n",
       "      <td>-9999.0000</td>\n",
       "      <td>58.2131</td>\n",
       "      <td>-9999.0000</td>\n",
       "      <td>5942.7803</td>\n",
       "      <td>-9999.0000</td>\n",
       "      <td>11.8705</td>\n",
       "      <td>697436.01</td>\n",
       "      <td>-54432.3165</td>\n",
       "      <td>-54432.3165</td>\n",
       "      <td>-54432.3165</td>\n",
       "      <td>4248.704</td>\n",
       "      <td>MULTILINESTRING Z ((507356.841 4591522.967 0.0...</td>\n",
       "      <td>MULTIPOLYGON (((507205.238 4591376.554, 507218...</td>\n",
       "      <td>Poconos and Kittatinny</td>\n",
       "      <td>None</td>\n",
       "      <td>NaN</td>\n",
       "      <td>72338.0</td>\n",
       "      <td>74971.0</td>\n",
       "      <td>020401040504</td>\n",
       "    </tr>\n",
       "    <tr>\n",
       "      <th>4149944</th>\n",
       "      <td>0.2212</td>\n",
       "      <td>0.0199</td>\n",
       "      <td>1.7217</td>\n",
       "      <td>0.4623</td>\n",
       "      <td>714.6338</td>\n",
       "      <td>23.9081</td>\n",
       "      <td>1.3489</td>\n",
       "      <td>200.97</td>\n",
       "      <td>0.0993</td>\n",
       "      <td>2.3064</td>\n",
       "      <td>119.2765</td>\n",
       "      <td>1.122</td>\n",
       "      <td>MULTILINESTRING Z ((506039.307 4593540.381 0.0...</td>\n",
       "      <td>MULTIPOLYGON (((506092.122 4593422.061, 505974...</td>\n",
       "      <td>Poconos and Kittatinny</td>\n",
       "      <td>None</td>\n",
       "      <td>NaN</td>\n",
       "      <td>72391.0</td>\n",
       "      <td>72392.0</td>\n",
       "      <td>020401040504</td>\n",
       "    </tr>\n",
       "    <tr>\n",
       "      <th>...</th>\n",
       "      <td>...</td>\n",
       "      <td>...</td>\n",
       "      <td>...</td>\n",
       "      <td>...</td>\n",
       "      <td>...</td>\n",
       "      <td>...</td>\n",
       "      <td>...</td>\n",
       "      <td>...</td>\n",
       "      <td>...</td>\n",
       "      <td>...</td>\n",
       "      <td>...</td>\n",
       "      <td>...</td>\n",
       "      <td>...</td>\n",
       "      <td>...</td>\n",
       "      <td>...</td>\n",
       "      <td>...</td>\n",
       "      <td>...</td>\n",
       "      <td>...</td>\n",
       "      <td>...</td>\n",
       "      <td>...</td>\n",
       "    </tr>\n",
       "    <tr>\n",
       "      <th>4150260</th>\n",
       "      <td>1.2717</td>\n",
       "      <td>0.0147</td>\n",
       "      <td>17.4586</td>\n",
       "      <td>0.3105</td>\n",
       "      <td>3213.5741</td>\n",
       "      <td>24.8598</td>\n",
       "      <td>10.1619</td>\n",
       "      <td>488.88</td>\n",
       "      <td>0.0878</td>\n",
       "      <td>1.8542</td>\n",
       "      <td>148.4542</td>\n",
       "      <td>3.267</td>\n",
       "      <td>MULTILINESTRING Z ((511901.572 4588245.373 0.0...</td>\n",
       "      <td>MULTIPOLYGON (((512065.727 4588106.375, 512006...</td>\n",
       "      <td>Poconos and Kittatinny</td>\n",
       "      <td>None</td>\n",
       "      <td>NaN</td>\n",
       "      <td>72178.0</td>\n",
       "      <td>72180.0</td>\n",
       "      <td>020401040504</td>\n",
       "    </tr>\n",
       "    <tr>\n",
       "      <th>4151474</th>\n",
       "      <td>0.0276</td>\n",
       "      <td>0.0154</td>\n",
       "      <td>0.6812</td>\n",
       "      <td>0.2186</td>\n",
       "      <td>42.7999</td>\n",
       "      <td>33.5127</td>\n",
       "      <td>0.6295</td>\n",
       "      <td>2902.50</td>\n",
       "      <td>0.1018</td>\n",
       "      <td>1.4445</td>\n",
       "      <td>221.4500</td>\n",
       "      <td>21.463</td>\n",
       "      <td>MULTILINESTRING Z ((509331.221 4587357.849 0.0...</td>\n",
       "      <td>MULTIPOLYGON (((509438.231 4587314.755, 509379...</td>\n",
       "      <td>Poconos and Kittatinny</td>\n",
       "      <td>None</td>\n",
       "      <td>NaN</td>\n",
       "      <td>72182.0</td>\n",
       "      <td>72195.0</td>\n",
       "      <td>020401040504</td>\n",
       "    </tr>\n",
       "    <tr>\n",
       "      <th>4150526</th>\n",
       "      <td>18.9184</td>\n",
       "      <td>0.0145</td>\n",
       "      <td>479.5846</td>\n",
       "      <td>0.3683</td>\n",
       "      <td>23384.0050</td>\n",
       "      <td>17.9602</td>\n",
       "      <td>213.8491</td>\n",
       "      <td>214.02</td>\n",
       "      <td>0.0882</td>\n",
       "      <td>2.2406</td>\n",
       "      <td>109.2608</td>\n",
       "      <td>1.457</td>\n",
       "      <td>MULTILINESTRING Z ((506372.886 4582303.869 0.0...</td>\n",
       "      <td>MULTIPOLYGON (((505993.004 4581580.731, 505934...</td>\n",
       "      <td>Poconos and Kittatinny</td>\n",
       "      <td>None</td>\n",
       "      <td>NaN</td>\n",
       "      <td>72191.0</td>\n",
       "      <td>72191.0</td>\n",
       "      <td>020401040504</td>\n",
       "    </tr>\n",
       "    <tr>\n",
       "      <th>4151464</th>\n",
       "      <td>44.8557</td>\n",
       "      <td>-9999.0000</td>\n",
       "      <td>787.3101</td>\n",
       "      <td>-9999.0000</td>\n",
       "      <td>94131.3778</td>\n",
       "      <td>-9999.0000</td>\n",
       "      <td>522.5731</td>\n",
       "      <td>723788.37</td>\n",
       "      <td>-54568.0665</td>\n",
       "      <td>-54568.0665</td>\n",
       "      <td>-54568.0665</td>\n",
       "      <td>4420.236</td>\n",
       "      <td>MULTILINESTRING Z ((509333.957 4587421.163 0.0...</td>\n",
       "      <td>MULTIPOLYGON (((510491.956 4586502.424, 510462...</td>\n",
       "      <td>Poconos and Kittatinny</td>\n",
       "      <td>None</td>\n",
       "      <td>NaN</td>\n",
       "      <td>72181.0</td>\n",
       "      <td>74971.0</td>\n",
       "      <td>020401040504</td>\n",
       "    </tr>\n",
       "    <tr>\n",
       "      <th>4150466</th>\n",
       "      <td>0.7414</td>\n",
       "      <td>-9999.0000</td>\n",
       "      <td>7.8082</td>\n",
       "      <td>-9999.0000</td>\n",
       "      <td>2075.1706</td>\n",
       "      <td>-9999.0000</td>\n",
       "      <td>10.5216</td>\n",
       "      <td>571.86</td>\n",
       "      <td>-1093.7373</td>\n",
       "      <td>-1093.7373</td>\n",
       "      <td>-1093.7373</td>\n",
       "      <td>0.070</td>\n",
       "      <td>MULTILINESTRING Z ((506192.828 4583886.028 0.0...</td>\n",
       "      <td>MULTIPOLYGON (((506168.948 4583981.459, 506109...</td>\n",
       "      <td>Poconos and Kittatinny</td>\n",
       "      <td>None</td>\n",
       "      <td>NaN</td>\n",
       "      <td>72188.0</td>\n",
       "      <td>72188.0</td>\n",
       "      <td>020401040504</td>\n",
       "    </tr>\n",
       "  </tbody>\n",
       "</table>\n",
       "<p>19496 rows × 20 columns</p>\n",
       "</div>"
      ],
      "text/plain": [
       "         tploadrate_total  tploadate_conc  tnloadrate_total  tnloadate_conc  \\\n",
       "comid                                                                         \n",
       "4149942           19.8106          0.0199          461.7835          0.4635   \n",
       "4151440            0.0037          0.0120            0.0679          0.2181   \n",
       "4150082            2.0144          0.0099           25.4212          0.1405   \n",
       "4151394            2.9297      -9999.0000           58.2131      -9999.0000   \n",
       "4149944            0.2212          0.0199            1.7217          0.4623   \n",
       "...                   ...             ...               ...             ...   \n",
       "4150260            1.2717          0.0147           17.4586          0.3105   \n",
       "4151474            0.0276          0.0154            0.6812          0.2186   \n",
       "4150526           18.9184          0.0145          479.5846          0.3683   \n",
       "4151464           44.8557      -9999.0000          787.3101      -9999.0000   \n",
       "4150466            0.7414      -9999.0000            7.8082      -9999.0000   \n",
       "\n",
       "         tssloadrate_total  tssloadate_conc  catchment_hectares  \\\n",
       "comid                                                             \n",
       "4149942         23315.2162          23.4000            199.4606   \n",
       "4151440             6.6330          12.7636              0.0899   \n",
       "4150082          4910.5669          22.9938             45.1439   \n",
       "4151394          5942.7803       -9999.0000             11.8705   \n",
       "4149944           714.6338          23.9081              1.3489   \n",
       "...                    ...              ...                 ...   \n",
       "4150260          3213.5741          24.8598             10.1619   \n",
       "4151474            42.7999          33.5127              0.6295   \n",
       "4150526         23384.0050          17.9602            213.8491   \n",
       "4151464         94131.3778       -9999.0000            522.5731   \n",
       "4150466          2075.1706       -9999.0000             10.5216   \n",
       "\n",
       "         watershed_hectares  tploadrate_total_ws  tnloadrate_total_ws  \\\n",
       "comid                                                                   \n",
       "4149942              199.62               0.0993               2.3135   \n",
       "4151440             5049.90               0.0758               1.3784   \n",
       "4150082               69.21               0.0490               0.6948   \n",
       "4151394           697436.01          -54432.3165          -54432.3165   \n",
       "4149944              200.97               0.0993               2.3064   \n",
       "...                     ...                  ...                  ...   \n",
       "4150260              488.88               0.0878               1.8542   \n",
       "4151474             2902.50               0.1018               1.4445   \n",
       "4150526              214.02               0.0882               2.2406   \n",
       "4151464           723788.37          -54568.0665          -54568.0665   \n",
       "4150466              571.86           -1093.7373           -1093.7373   \n",
       "\n",
       "         tssloadrate_total_ws   maflowv  \\\n",
       "comid                                     \n",
       "4149942              116.7978     1.115   \n",
       "4151440               80.6635    35.714   \n",
       "4150082              113.7074     0.383   \n",
       "4151394           -54432.3165  4248.704   \n",
       "4149944              119.2765     1.122   \n",
       "...                       ...       ...   \n",
       "4150260              148.4542     3.267   \n",
       "4151474              221.4500    21.463   \n",
       "4150526              109.2608     1.457   \n",
       "4151464           -54568.0665  4420.236   \n",
       "4150466            -1093.7373     0.070   \n",
       "\n",
       "                                                      geom  \\\n",
       "comid                                                        \n",
       "4149942  MULTILINESTRING Z ((506490.373 4594278.694 0.0...   \n",
       "4151440  MULTILINESTRING Z ((514920.168 4587490.302 0.0...   \n",
       "4150082  MULTILINESTRING Z ((502865.583 4590886.516 0.0...   \n",
       "4151394  MULTILINESTRING Z ((507356.841 4591522.967 0.0...   \n",
       "4149944  MULTILINESTRING Z ((506039.307 4593540.381 0.0...   \n",
       "...                                                    ...   \n",
       "4150260  MULTILINESTRING Z ((511901.572 4588245.373 0.0...   \n",
       "4151474  MULTILINESTRING Z ((509331.221 4587357.849 0.0...   \n",
       "4150526  MULTILINESTRING Z ((506372.886 4582303.869 0.0...   \n",
       "4151464  MULTILINESTRING Z ((509333.957 4587421.163 0.0...   \n",
       "4150466  MULTILINESTRING Z ((506192.828 4583886.028 0.0...   \n",
       "\n",
       "                                            geom_catchment  \\\n",
       "comid                                                        \n",
       "4149942  MULTIPOLYGON (((506092.122 4593422.061, 506098...   \n",
       "4151440  MULTIPOLYGON (((514955.572 4587467.785, 514926...   \n",
       "4150082  MULTIPOLYGON (((502581.690 4590660.525, 502522...   \n",
       "4151394  MULTIPOLYGON (((507205.238 4591376.554, 507218...   \n",
       "4149944  MULTIPOLYGON (((506092.122 4593422.061, 505974...   \n",
       "...                                                    ...   \n",
       "4150260  MULTIPOLYGON (((512065.727 4588106.375, 512006...   \n",
       "4151474  MULTIPOLYGON (((509438.231 4587314.755, 509379...   \n",
       "4150526  MULTIPOLYGON (((505993.004 4581580.731, 505934...   \n",
       "4151464  MULTIPOLYGON (((510491.956 4586502.424, 510462...   \n",
       "4150466  MULTIPOLYGON (((506168.948 4583981.459, 506109...   \n",
       "\n",
       "                        cluster fa_name  sub_focusarea     nord  nordstop  \\\n",
       "comid                                                                       \n",
       "4149942  Poconos and Kittatinny    None            NaN  72392.0   72392.0   \n",
       "4151440  Poconos and Kittatinny    None            NaN  72128.0   72165.0   \n",
       "4150082  Poconos and Kittatinny    None            NaN  72440.0   72441.0   \n",
       "4151394  Poconos and Kittatinny    None            NaN  72338.0   74971.0   \n",
       "4149944  Poconos and Kittatinny    None            NaN  72391.0   72392.0   \n",
       "...                         ...     ...            ...      ...       ...   \n",
       "4150260  Poconos and Kittatinny    None            NaN  72178.0   72180.0   \n",
       "4151474  Poconos and Kittatinny    None            NaN  72182.0   72195.0   \n",
       "4150526  Poconos and Kittatinny    None            NaN  72191.0   72191.0   \n",
       "4151464  Poconos and Kittatinny    None            NaN  72181.0   74971.0   \n",
       "4150466  Poconos and Kittatinny    None            NaN  72188.0   72188.0   \n",
       "\n",
       "                huc12  \n",
       "comid                  \n",
       "4149942  020401040504  \n",
       "4151440  020401040504  \n",
       "4150082  020401040504  \n",
       "4151394  020401040504  \n",
       "4149944  020401040504  \n",
       "...               ...  \n",
       "4150260  020401040504  \n",
       "4151474  020401040504  \n",
       "4150526  020401040504  \n",
       "4151464  020401040504  \n",
       "4150466  020401040504  \n",
       "\n",
       "[19496 rows x 20 columns]"
      ]
     },
     "execution_count": 56,
     "metadata": {},
     "output_type": "execute_result"
    }
   ],
   "source": [
    "base_df"
   ]
  },
  {
   "cell_type": "code",
   "execution_count": 63,
   "metadata": {},
   "outputs": [
    {
     "data": {
      "text/plain": [
       "{}"
      ]
     },
     "execution_count": 63,
     "metadata": {},
     "output_type": "execute_result"
    }
   ],
   "source": [
    "base_df.attrs"
   ]
  },
  {
   "cell_type": "markdown",
   "metadata": {
    "tags": []
   },
   "source": [
    "## Save to Parquet File\n",
    "The code below converts the data into a locally saved parquet file to avoid having to access the database every time we run the visualization script.  \n",
    "\n",
    "Apache Parquet has become the high-performance binary cloud format of choice for storing dataframes.\n",
    "- https://pandas.pydata.org/pandas-docs/stable/reference/api/pandas.read_parquet.html\n",
    "- https://anaconda.org/TomAugspurger/pandas-performance/notebook"
   ]
  },
  {
   "cell_type": "code",
   "execution_count": 57,
   "metadata": {},
   "outputs": [
    {
     "data": {
      "text/plain": [
       "PosixPath('/Users/aaufdenkampe/Documents/Python/WikiSRATMicroService')"
      ]
     },
     "execution_count": 57,
     "metadata": {},
     "output_type": "execute_result"
    }
   ],
   "source": [
    "# Find current working directory\n",
    "from pathlib import Path\n",
    "Path.cwd()"
   ]
  },
  {
   "cell_type": "code",
   "execution_count": 58,
   "metadata": {},
   "outputs": [],
   "source": [
    "# username = \"Sarah\"\n",
    "username = \"Anthony\""
   ]
  },
  {
   "cell_type": "code",
   "execution_count": 60,
   "metadata": {},
   "outputs": [],
   "source": [
    "# Set alternate project & data folders\n",
    "if username == \"Anthony\":\n",
    "    project_folder = Path('/Users/aaufdenkampe/Documents/Python/WikiSRATMicroService')\n",
    "elif username == \"Sarah\":\n",
    "    project_folder = Path('C:/Users/sjordan/Documents/Python/WikiSRATMicroService')\n",
    "data_folder    = Path('data/')"
   ]
  },
  {
   "cell_type": "code",
   "execution_count": null,
   "metadata": {},
   "outputs": [],
   "source": []
  },
  {
   "cell_type": "code",
   "execution_count": 64,
   "metadata": {},
   "outputs": [
    {
     "name": "stderr",
     "output_type": "stream",
     "text": [
      "<timed exec>:3: UserWarning: this is an initial implementation of Parquet/Feather file support and associated metadata.  This is tracking version 0.1.0 of the metadata specification at https://github.com/geopandas/geo-arrow-spec\n",
      "\n",
      "This metadata specification does not yet make stability promises.  We do not yet recommend using this in a production setting unless you are able to rewrite your Parquet/Feather files.\n",
      "\n",
      "To further ignore this warning, you can do: \n",
      "import warnings; warnings.filterwarnings('ignore', message='.*initial implementation of Parquet.*')\n",
      "<timed exec>:4: UserWarning: this is an initial implementation of Parquet/Feather file support and associated metadata.  This is tracking version 0.1.0 of the metadata specification at https://github.com/geopandas/geo-arrow-spec\n",
      "\n",
      "This metadata specification does not yet make stability promises.  We do not yet recommend using this in a production setting unless you are able to rewrite your Parquet/Feather files.\n",
      "\n",
      "To further ignore this warning, you can do: \n",
      "import warnings; warnings.filterwarnings('ignore', message='.*initial implementation of Parquet.*')\n"
     ]
    },
    {
     "name": "stdout",
     "output_type": "stream",
     "text": [
      "CPU times: user 3.36 s, sys: 54.9 ms, total: 3.41 s\n",
      "Wall time: 3.43 s\n"
     ]
    }
   ],
   "source": [
    "%%time\n",
    "\n",
    "# requires pyarrow\n",
    "import pyarrow\n",
    "base_df.to_parquet(project_folder / data_folder /'base_df.parquet')\n",
    "rest_df.to_parquet(project_folder / data_folder /'rest_df.parquet')"
   ]
  },
  {
   "cell_type": "code",
   "execution_count": null,
   "metadata": {},
   "outputs": [],
   "source": []
  }
 ],
 "metadata": {
  "kernelspec": {
   "display_name": "Python [conda env:WikiSRAT]",
   "language": "python",
   "name": "conda-env-WikiSRAT-py"
  },
  "language_info": {
   "codemirror_mode": {
    "name": "ipython",
    "version": 3
   },
   "file_extension": ".py",
   "mimetype": "text/x-python",
   "name": "python",
   "nbconvert_exporter": "python",
   "pygments_lexer": "ipython3",
   "version": "3.8.10"
  }
 },
 "nbformat": 4,
 "nbformat_minor": 4
}
