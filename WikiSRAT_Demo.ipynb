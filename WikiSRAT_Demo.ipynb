{
 "cells": [
  {
   "cell_type": "markdown",
   "metadata": {},
   "source": [
    "API docs for the WikiSRATMicroService\n",
    "===\n",
    "\n",
    "**SRAT code is all in SQL, run from this notebook.**  \n",
    "This code is within the GitHub repository. The result of this will be a table of NHDplus catchments. \n",
    "\n",
    "**Instances where load reduction is greater than the load created by an NHDplus catchment:**\n",
    "- After weekly check in call, decided that it can be negative, so leave as raw value\n",
    "- Otherwise can set threshold to where can't reduce loads beyond a proportion of the current load"
   ]
  },
  {
   "cell_type": "code",
   "execution_count": 12,
   "metadata": {},
   "outputs": [],
   "source": [
    "import requests\n",
    "import pandas as pd\n",
    "import geopandas as gpd \n",
    "from requests.auth import HTTPBasicAuth\n",
    "import json\n",
    "import os\n",
    "import psycopg2\n",
    "from sqlalchemy import create_engine \n",
    "from pathlib import Path\n",
    "import pyarrow\n",
    "from StringParser import StringParser\n",
    "from DatabaseAdapter import DatabaseAdapter\n",
    "from DatabaseFormatter import DatabaseFormatter\n",
    "from DatabaseMakeTable import DatabaseMakeTable"
   ]
  },
  {
   "cell_type": "markdown",
   "metadata": {},
   "source": [
    "# Run WikiSRATMicroService API"
   ]
  },
  {
   "cell_type": "markdown",
   "metadata": {},
   "source": [
    "## Open Connection to WikiSRATMicroService Database\n",
    "\n",
    "To fetch information to assist in formating requests to the WikiSRATMicroService API."
   ]
  },
  {
   "cell_type": "code",
   "execution_count": 3,
   "metadata": {},
   "outputs": [],
   "source": [
    "# GET THE DATABASE CONFIG INFORMATION USING A CONFIG FILE. THE FILE IS IN THE GITIGNORE SO WILL REQUIRE BEING SENT\n",
    "\n",
    "config_file = json.load(open('db_config.json'))\n",
    "PG_CONFIG = config_file['PG_CONFIG']\n",
    "\n",
    "_host = PG_CONFIG['host'],\n",
    "_database = PG_CONFIG['database'],\n",
    "_user = PG_CONFIG['user'],\n",
    "_password = PG_CONFIG['password'],\n",
    "_port = PG_CONFIG['port']"
   ]
  },
  {
   "cell_type": "code",
   "execution_count": 4,
   "metadata": {},
   "outputs": [],
   "source": [
    "# Create connection to database\n",
    "\n",
    "_PG_Connection = psycopg2.connect(\n",
    "        host=PG_CONFIG['host'],\n",
    "        database=PG_CONFIG['database'],\n",
    "        user=PG_CONFIG['user'],\n",
    "        password=PG_CONFIG['password'],\n",
    "        port=PG_CONFIG['port'])"
   ]
  },
  {
   "cell_type": "markdown",
   "metadata": {},
   "source": [
    "## Fetch data for formating requests to the WikiSRATMicroService API\n"
   ]
  },
  {
   "cell_type": "code",
   "execution_count": 4,
   "metadata": {},
   "outputs": [
    {
     "name": "stdout",
     "output_type": "stream",
     "text": [
      "484\n",
      "CPU times: user 17.8 ms, sys: 11.7 ms, total: 29.5 ms\n",
      "Wall time: 535 ms\n"
     ]
    }
   ],
   "source": [
    "%%time\n",
    "\n",
    "# GET THE MODELED LOADS FROM THE DRWI DATABASE, DERIVED FROM MMW MODEL RUNS\n",
    "\n",
    "_PG_Connection.set_isolation_level(0)\n",
    "_cur = _PG_Connection.cursor()\n",
    "_cur.execute(\"select * from databmpapi.drb_loads_raw order by huc12;\")  \n",
    "# _cur.execute(\"select * from databmpapi.drb_loads_raw where huc12 in ('020402030902', '020402030901');\")  \n",
    "\n",
    "_dbdata = _cur.fetchall()\n",
    "print(len(_dbdata))"
   ]
  },
  {
   "cell_type": "code",
   "execution_count": 5,
   "metadata": {},
   "outputs": [
    {
     "data": {
      "text/plain": [
       "\u001b[0;31mType:\u001b[0m        list\n",
       "\u001b[0;31mString form:\u001b[0m [(1, '020401010101', Decimal('83.25'), Decimal('131587.70'), Decimal('144086.00'), Decimal('11916 <...> 00421087362510914, 0.0325741241610815, 0.124997522620959, 0.149069147756057, 0.0349152439841768)]\n",
       "\u001b[0;31mLength:\u001b[0m      484\n",
       "\u001b[0;31mDocstring:\u001b[0m  \n",
       "Built-in mutable sequence.\n",
       "\n",
       "If no argument is given, the constructor creates a new empty list.\n",
       "The argument must be an iterable if specified.\n"
      ]
     },
     "metadata": {},
     "output_type": "display_data"
    }
   ],
   "source": [
    "_dbdata?"
   ]
  },
  {
   "cell_type": "markdown",
   "metadata": {},
   "source": [
    "## Run WikiSRATMicroService API\n"
   ]
  },
  {
   "cell_type": "code",
   "execution_count": 6,
   "metadata": {},
   "outputs": [],
   "source": [
    "# CREATE A COUPLE HELPER FUNCTIONS TO RUN THE MICROSERVICE\n",
    "def respond(err, res=None):\n",
    "    return {\n",
    "        'statusCode': '400' if err else '200',\n",
    "        'body': err.args[0] if err else json.dumps(res),\n",
    "        'headers': {\n",
    "            'Content-Type': 'application/json',\n",
    "            'Access-Control-Allow-Origin': '*'\n",
    "        },\n",
    "    }\n",
    "\n",
    "def lambda_handler(event, context):\n",
    "    try:\n",
    "        data = StringParser.parse(event['body'])\n",
    "        db = DatabaseAdapter(_database[0], _user[0], _host[0], _port, _password[0], _flag)\n",
    "        input_array = DatabaseAdapter.python_to_array(data)\n",
    "        return respond(None, db.run_model(input_array))\n",
    "    except AttributeError as e:\n",
    "        return respond(e)"
   ]
  },
  {
   "cell_type": "code",
   "execution_count": 7,
   "metadata": {},
   "outputs": [
    {
     "name": "stdout",
     "output_type": "stream",
     "text": [
      "CPU times: user 388 ms, sys: 50.3 ms, total: 438 ms\n",
      "Wall time: 6.08 s\n"
     ]
    }
   ],
   "source": [
    "%%time\n",
    "\n",
    "# FOR ALL DRWI HUC12s, FEED THROUGH THE MICROSERVICE TO GET SUB-BASIN ATTENUATION\n",
    "# The database adapter routine flag can either be 'base' or 'restoration', depending on if you want these\n",
    "# projects to be removed from the attenuation routine. Restoration projects come from what was enetered in\n",
    "# through FieldDoc.\n",
    "\n",
    "_flag = 'base'\n",
    "\n",
    "\n",
    "# RUN THE HUC12s THROUGH THE MICROSERVICE\n",
    "_body = DatabaseFormatter.parse(_dbdata)\n",
    "# _body = '[{\"huc12\": \"020402010101\", \"tpload_hp\": 10, \"tpload_crop\": 10, \"tpload_wooded\": 10, \"tpload_open\": 10, \"tpload_barren\": 10, \"tpload_ldm\": 10, \"tpload_mdm\": 10, \"tpload_hdm\": 10, \"tpload_wetland\": 10, \"tpload_farman\": 10, \"tpload_tiledrain\": 10, \"tpload_streambank\": 10, \"tpload_subsurface\": 10, \"tpload_pointsource\": 10, \"tpload_septics\": 10, \"tnload_hp\": 10, \"tnload_crop\": 10, \"tnload_wooded\": 10, \"tnload_open\": 10, \"tnload_barren\": 10, \"tnload_ldm\": 10, \"tnload_mdm\": 10, \"tnload_hdm\": 10, \"tnload_wetland\": 10, \"tnload_farman\": 10, \"tnload_tiledrain\": 10, \"tnload_streambank\": 10, \"tnload_subsurface\": 10, \"tnload_pointsource\": 10, \"tnload_septics\": 10, \"tssload_hp\": 10, \"tssload_crop\": 10, \"tssload_wooded\": 10, \"tssload_open\": 10, \"tssload_barren\": 10, \"tssload_ldm\": 10, \"tssload_mdm\": 10, \"tssload_hdm\": 10, \"tssload_wetland\": 10, \"tssload_tiledrain\": 10, \"tssload_streambank\": 10}, {\"huc12\": \"020402010102\", \"tpload_hp\": 10, \"tpload_crop\": 10, \"tpload_wooded\": 10, \"tpload_open\": 10, \"tpload_barren\": 10, \"tpload_ldm\": 10, \"tpload_mdm\": 10, \"tpload_hdm\": 10, \"tpload_wetland\": 10, \"tpload_farman\": 10, \"tpload_tiledrain\": 10, \"tpload_streambank\": 10, \"tpload_subsurface\": 10, \"tpload_pointsource\": 10, \"tpload_septics\": 10, \"tnload_hp\": 10, \"tnload_crop\": 10, \"tnload_wooded\": 10, \"tnload_open\": 10, \"tnload_barren\": 10, \"tnload_ldm\": 10, \"tnload_mdm\": 10, \"tnload_hdm\": 10, \"tnload_wetland\": 10, \"tnload_farman\": 10, \"tnload_tiledrain\": 10, \"tnload_streambank\": 10, \"tnload_subsurface\": 10, \"tnload_pointsource\": 10, \"tnload_septics\": 10, \"tssload_hp\": 10, \"tssload_crop\": 10, \"tssload_wooded\": 10, \"tssload_open\": 10, \"tssload_barren\": 10, \"tssload_ldm\": 10, \"tssload_mdm\": 10, \"tssload_hdm\": 10, \"tssload_wetland\": 10, \"tssload_tiledrain\": 10, \"tssload_streambank\": 10}, {\"huc12\": \"020402010103\", \"tpload_hp\": 10, \"tpload_crop\": 10, \"tpload_wooded\": 10, \"tpload_open\": 10, \"tpload_barren\": 10, \"tpload_ldm\": 10, \"tpload_mdm\": 10, \"tpload_hdm\": 10, \"tpload_wetland\": 10, \"tpload_farman\": 10, \"tpload_tiledrain\": 10, \"tpload_streambank\": 10, \"tpload_subsurface\": 10, \"tpload_pointsource\": 10, \"tpload_septics\": 10, \"tnload_hp\": 10, \"tnload_crop\": 10, \"tnload_wooded\": 10, \"tnload_open\": 10, \"tnload_barren\": 10, \"tnload_ldm\": 10, \"tnload_mdm\": 10, \"tnload_hdm\": 10, \"tnload_wetland\": 10, \"tnload_farman\": 10, \"tnload_tiledrain\": 10, \"tnload_streambank\": 10, \"tnload_subsurface\": 10, \"tnload_pointsource\": 10, \"tnload_septics\": 10, \"tssload_hp\": 10, \"tssload_crop\": 10, \"tssload_wooded\": 10, \"tssload_open\": 10, \"tssload_barren\": 10, \"tssload_ldm\": 10, \"tssload_mdm\": 10, \"tssload_hdm\": 10, \"tssload_wetland\": 10, \"tssload_tiledrain\": 10, \"tssload_streambank\": 10}]'\n",
    "\n",
    "_r = dict(lambda_handler({\"body\": _body},None))"
   ]
  },
  {
   "cell_type": "code",
   "execution_count": 8,
   "metadata": {},
   "outputs": [
    {
     "data": {
      "text/plain": [
       "\u001b[0;31mType:\u001b[0m        dict\n",
       "\u001b[0;31mString form:\u001b[0m {'statusCode': '200', 'body': '{\"huc12s\": {\"020401010101\": {\"huc12\": \"020401010101\", \"tpload_hp\": <...> 15247}}}}}', 'headers': {'Content-Type': 'application/json', 'Access-Control-Allow-Origin': '*'}}\n",
       "\u001b[0;31mLength:\u001b[0m      3\n",
       "\u001b[0;31mDocstring:\u001b[0m  \n",
       "dict() -> new empty dictionary\n",
       "dict(mapping) -> new dictionary initialized from a mapping object's\n",
       "    (key, value) pairs\n",
       "dict(iterable) -> new dictionary initialized as if via:\n",
       "    d = {}\n",
       "    for k, v in iterable:\n",
       "        d[k] = v\n",
       "dict(**kwargs) -> new dictionary initialized with the name=value pairs\n",
       "    in the keyword argument list.  For example:  dict(one=1, two=2)\n"
      ]
     },
     "metadata": {},
     "output_type": "display_data"
    }
   ],
   "source": [
    "# Explore the API response\n",
    "_r?"
   ]
  },
  {
   "cell_type": "code",
   "execution_count": 9,
   "metadata": {},
   "outputs": [
    {
     "data": {
      "text/plain": [
       "\u001b[0;31mType:\u001b[0m        dict\n",
       "\u001b[0;31mString form:\u001b[0m {'020401010101': {'huc12': '020401010101', 'tpload_hp': 602.07665754054, 'tpload_crop': 360.72733 <...> 0436867554431356, 'tssloadrate_total': 25055.0654476434, 'tssloadrate_conc': 41.5994419315247}}}}\n",
       "\u001b[0;31mLength:\u001b[0m      484\n",
       "\u001b[0;31mDocstring:\u001b[0m  \n",
       "dict() -> new empty dictionary\n",
       "dict(mapping) -> new dictionary initialized from a mapping object's\n",
       "    (key, value) pairs\n",
       "dict(iterable) -> new dictionary initialized as if via:\n",
       "    d = {}\n",
       "    for k, v in iterable:\n",
       "        d[k] = v\n",
       "dict(**kwargs) -> new dictionary initialized with the name=value pairs\n",
       "    in the keyword argument list.  For example:  dict(one=1, two=2)\n"
      ]
     },
     "metadata": {},
     "output_type": "display_data"
    }
   ],
   "source": [
    "# Extract the NHD Loads from the response\n",
    "_nhdloads = dict(json.loads(_r['body']))['huc12s']\n",
    "_nhdloads?"
   ]
  },
  {
   "cell_type": "code",
   "execution_count": 11,
   "metadata": {},
   "outputs": [
    {
     "name": "stdout",
     "output_type": "stream",
     "text": [
      "{'4481881': {'comid': 4481881, 'tploadrate_total': 8.67678906666698, 'tploadate_conc': 0.00480867068316327, 'tnloadrate_total': 205.478173246534, 'tnloadrate_conc': 0.188308808608071, 'tssloadrate_total': 12430.9823731758, 'tssloadrate_conc': 10.6329585165398}, '4481681': {'comid': 4481681, 'tploadrate_total': 45.9269178229512, 'tploadate_conc': 0.0139356826495012, 'tnloadrate_total': 1098.12798966065, 'tnloadrate_conc': 0.333206840298741, 'tssloadrate_total': 128512.512354698, 'tssloadrate_conc': 38.9947698116636}, '4481279': {'comid': 4481279, 'tploadrate_total': 9.3369485692889, 'tploadate_conc': 0.0870941956538323, 'tnloadrate_total': 260.499630512306, 'tnloadrate_conc': 2.34191601922763, 'tssloadrate_total': 4135.72100063273, 'tssloadrate_conc': 49.6417992751781}, '4481935': {'comid': 4481935, 'tploadrate_total': 47.8207522003034, 'tploadate_conc': 0.107891339771179, 'tnloadrate_total': 1122.82652578667, 'tnloadrate_conc': 2.53327797292518, 'tssloadrate_total': 29233.9090668937, 'tssloadrate_conc': 65.9564199819501}, '4481321': {'comid': 4481321, 'tploadrate_total': 0.011336886602553, 'tploadate_conc': 0.0184093039668924, 'tnloadrate_total': 0.152468739557826, 'tnloadrate_conc': 0.707277007867956, 'tssloadrate_total': 37.1485912807269, 'tssloadrate_conc': 23.9729380874983}, '4481367': {'comid': 4481367, 'tploadrate_total': 0.593822905650522, 'tploadate_conc': 0.0116428883128484, 'tnloadrate_total': 18.586080290285, 'tnloadrate_conc': 0.318167885539587, 'tssloadrate_total': 1134.55943197039, 'tssloadrate_conc': 30.8823844150337}, '4481891': {'comid': 4481891, 'tploadrate_total': 0.611791847530104, 'tploadate_conc': 0.00515610712952136, 'tnloadrate_total': 17.16277447263, 'tnloadrate_conc': 0.136182129003612, 'tssloadrate_total': 1256.70269656121, 'tssloadrate_conc': 12.6935073157295}, '4481301': {'comid': 4481301, 'tploadrate_total': 0.434647087648859, 'tploadate_conc': 0.0221088397917474, 'tnloadrate_total': 20.755472615839, 'tnloadrate_conc': 1.0557517395269, 'tssloadrate_total': 313.434672019155, 'tssloadrate_conc': 15.9432264606561}, '4481277': {'comid': 4481277, 'tploadrate_total': 85.5398017934121, 'tploadate_conc': 0.0847863924846948, 'tnloadrate_total': 2401.05028676223, 'tnloadrate_conc': 2.37990254502308, 'tssloadrate_total': 55536.4380314502, 'tssloadrate_conc': 55.0472894887993}, '4481661': {'comid': 4481661, 'tploadrate_total': 29.1392565673688, 'tploadate_conc': 0.00901035171426772, 'tnloadrate_total': 931.166620363255, 'tnloadrate_conc': 0.287932491848626, 'tssloadrate_total': 52137.025587741, 'tssloadrate_conc': 16.1216514496595}, '4481261': {'comid': 4481261, 'tploadrate_total': 64.824264048653, 'tploadate_conc': 0.07741941110648, 'tnloadrate_total': 1878.68486321812, 'tnloadrate_conc': 2.24370732008375, 'tssloadrate_total': 36639.8128134818, 'tssloadrate_conc': 43.7588111905509}, '4481313': {'comid': 4481313, 'tploadrate_total': 42.5287017334952, 'tploadate_conc': 0.0226233732269571, 'tnloadrate_total': 1414.81439374309, 'tnloadrate_conc': 0.727773571999592, 'tssloadrate_total': 45984.542359817, 'tssloadrate_conc': 28.0188974126055}, '4481353': {'comid': 4481353, 'tploadrate_total': 0.0223138370582509, 'tploadate_conc': 0.00690505050701603, 'tnloadrate_total': 0.720246167386954, 'tnloadrate_conc': 0.334112455555181, 'tssloadrate_total': 37.2014335457468, 'tssloadrate_conc': 14.4931508058661}, '4481879': {'comid': 4481879, 'tploadrate_total': 0.14590313258491, 'tploadate_conc': 0.00535704839185738, 'tnloadrate_total': 3.78784101209752, 'tnloadrate_conc': 0.181131340563286, 'tssloadrate_total': 338.761123207406, 'tssloadrate_conc': 12.0197135233118}, '4481657': {'comid': 4481657, 'tploadrate_total': 65.3791768781041, 'tploadate_conc': 0.0609108692608819, 'tnloadrate_total': 1781.36753753759, 'tnloadrate_conc': 1.70429439141572, 'tssloadrate_total': 54472.1050981478, 'tssloadrate_conc': 40.1936819943162}, '4481871': {'comid': 4481871, 'tploadrate_total': 6.78298850349021, 'tploadate_conc': 0.015110915047457, 'tnloadrate_total': 180.040145777454, 'tnloadrate_conc': 0.643982269703096, 'tssloadrate_total': 11271.5319929909, 'tssloadrate_conc': 20.7727340093377}, '4481861': {'comid': 4481861, 'tploadrate_total': 1.31647223803213, 'tploadate_conc': 0.0201482786606357, 'tnloadrate_total': 42.7609666487103, 'tnloadrate_conc': 0.707672550124254, 'tssloadrate_total': 2484.58340762918, 'tssloadrate_conc': 25.6752531085887}, '4481677': {'comid': 4481677, 'tploadrate_total': 16.3208016835208, 'tploadate_conc': 0.00767390449780736, 'tnloadrate_total': 340.46731017987, 'tnloadrate_conc': 0.160084882691992, 'tssloadrate_total': 38549.6529983224, 'tssloadrate_conc': 18.1257245366468}, '4481303': {'comid': 4481303, 'tploadrate_total': 84.2146236304177, 'tploadate_conc': 0.05746395634536, 'tnloadrate_total': 2334.71175853441, 'tnloadrate_conc': 1.59309356009473, 'tssloadrate_total': 56142.8684135186, 'tssloadrate_conc': 38.3091582024532}, '4481675': {'comid': 4481675, 'tploadrate_total': 8.82906877445052, 'tploadate_conc': 0.0102173973964045, 'tnloadrate_total': 261.659996437199, 'tnloadrate_conc': 0.302804773033048, 'tssloadrate_total': 13714.990205278, 'tssloadrate_conc': 15.8716064847781}, '4481361': {'comid': 4481361, 'tploadrate_total': 0.273943129334132, 'tploadate_conc': 0.0047454497147794, 'tnloadrate_total': 7.38895751439034, 'tnloadrate_conc': 0.181109656010562, 'tssloadrate_total': 582.699729346836, 'tssloadrate_conc': 10.9634764203602}, '4481667': {'comid': 4481667, 'tploadrate_total': 8.30195975287933, 'tploadate_conc': 0.00748618752263939, 'tnloadrate_total': 123.406267614567, 'tnloadrate_conc': 0.111280045715863, 'tssloadrate_total': 17762.7088798006, 'tssloadrate_conc': 16.0172987514327}, '4481679': {'comid': 4481679, 'tploadrate_total': 10.0102659064699, 'tploadate_conc': 0.00711693083859281, 'tnloadrate_total': 213.27924484706, 'tnloadrate_conc': 0.151633697752502, 'tssloadrate_total': 23598.4742341606, 'tssloadrate_conc': 16.7776471264651}, '4481893': {'comid': 4481893, 'tploadrate_total': 0.0056769433848737, 'tploadate_conc': 0.00636325840429569, 'tnloadrate_total': 0.132057322733239, 'tnloadrate_conc': 0.151631250676309, 'tssloadrate_total': 12.4004778485823, 'tssloadrate_conc': 15.4099712828271}, '4481387': {'comid': 4481387, 'tploadrate_total': 143.134349819315, 'tploadate_conc': 0.0395690137092041, 'tnloadrate_total': 2296.46783951933, 'tnloadrate_conc': 0.634850876392667, 'tssloadrate_total': 537810.911268446, 'tssloadrate_conc': 148.676033026343}, '4481889': {'comid': 4481889, 'tploadrate_total': 1.504374998789, 'tploadate_conc': 0.00476324796086039, 'tnloadrate_total': 36.6035135275524, 'tnloadrate_conc': 0.131751738030796, 'tssloadrate_total': 3042.75578700035, 'tssloadrate_conc': 11.7246206264351}, '4481347': {'comid': 4481347, 'tploadrate_total': 76.2371884604797, 'tploadate_conc': 0.0499494677432151, 'tnloadrate_total': 1715.75071807596, 'tnloadrate_conc': 1.12413425624109, 'tssloadrate_total': 92549.4501859762, 'tssloadrate_conc': 60.6370181019085}, '4481877': {'comid': 4481877, 'tploadrate_total': 1.05287610591915, 'tploadate_conc': 0.00823090516543137, 'tnloadrate_total': 14.6404776351001, 'tnloadrate_conc': 0.2749120009938, 'tssloadrate_total': 3976.60029170211, 'tssloadrate_conc': 15.5602982373957}, '4481357': {'comid': 4481357, 'tploadrate_total': 3.4918782368628, 'tploadate_conc': 0.00674196103331975, 'tnloadrate_total': 87.2993370680764, 'tnloadrate_conc': 0.337571332814941, 'tssloadrate_total': 5058.50635523002, 'tssloadrate_conc': 11.9108661367683}, '4481307': {'comid': 4481307, 'tploadrate_total': 12.9272265931191, 'tploadate_conc': 0.0208233564332117, 'tnloadrate_total': 243.23589322586, 'tnloadrate_conc': 0.669290021327478, 'tssloadrate_total': 8173.44263606409, 'tssloadrate_conc': 31.8999369206655}, '4481263': {'comid': 4481263, 'tploadrate_total': 10.6654481419257, 'tploadate_conc': 0.105675199997936, 'tnloadrate_total': 249.640518874381, 'tnloadrate_conc': 2.48925060030911, 'tssloadrate_total': 5346.64099129651, 'tssloadrate_conc': 62.530106648825}, '4481887': {'comid': 4481887, 'tploadrate_total': 0.418401490716595, 'tploadate_conc': 0.00664259242988218, 'tnloadrate_total': 10.138511518689, 'tnloadrate_conc': 0.113992448442541, 'tssloadrate_total': 929.692363921041, 'tssloadrate_conc': 14.6373008009968}, '4481291': {'comid': 4481291, 'tploadrate_total': 0.0129171513943967, 'tploadate_conc': 0.0334320513836035, 'tnloadrate_total': 0.576191630228285, 'tnloadrate_conc': 0.735127422031308, 'tssloadrate_total': 12.4004778485823, 'tssloadrate_conc': 55.5508937895266}, '4481663': {'comid': 4481663, 'tploadrate_total': 5.84206812491924, 'tploadate_conc': 0.0107019275128177, 'tnloadrate_total': 169.839888618372, 'tnloadrate_conc': 0.379719513248503, 'tssloadrate_total': 6665.41380035399, 'tssloadrate_conc': 31.7983464752084}, '4481325': {'comid': 4481325, 'tploadrate_total': 12.8757573614845, 'tploadate_conc': 0.0121360000678346, 'tnloadrate_total': 232.811341448404, 'tnloadrate_conc': 0.425426157486233, 'tssloadrate_total': 9987.09486514195, 'tssloadrate_conc': 31.0047591389088}, '4481895': {'comid': 4481895, 'tploadrate_total': 1.3035912547033, 'tploadate_conc': 0.00569636077976725, 'tnloadrate_total': 26.4068752169098, 'tnloadrate_conc': 0.134406940976817, 'tssloadrate_total': 3439.82969690764, 'tssloadrate_conc': 13.6826700272494}, '4481311': {'comid': 4481311, 'tploadrate_total': 54.4832032109357, 'tploadate_conc': 0.0552128646701617, 'tnloadrate_total': 1261.01607664267, 'tnloadrate_conc': 1.56865115949875, 'tssloadrate_total': 42072.3602550809, 'tssloadrate_conc': 37.7065750360896}, '4481389': {'comid': 4481389, 'tploadrate_total': 2.1783420633458, 'tploadate_conc': 0.00636546245705464, 'tnloadrate_total': 42.7644225129214, 'tnloadrate_conc': 0.136532583882549, 'tssloadrate_total': 3416.86476566838, 'tssloadrate_conc': 14.804330457482}, '4481671': {'comid': 4481671, 'tploadrate_total': 3.97963679256898, 'tploadate_conc': 0.00674763156719399, 'tnloadrate_total': 57.5792551753354, 'tnloadrate_conc': 0.0976279042756077, 'tssloadrate_total': 9326.1574999655, 'tssloadrate_conc': 15.8128688690626}, '4481659': {'comid': 4481659, 'tploadrate_total': 53.8570216832823, 'tploadate_conc': 0.0278765165224483, 'tnloadrate_total': 1641.2166902896, 'tnloadrate_conc': 0.849497479694044, 'tssloadrate_total': 73374.8311369254, 'tssloadrate_conc': 37.9789789444535}, '4481355': {'comid': 4481355, 'tploadrate_total': 0.0676559425777716, 'tploadate_conc': 0.00432375959331477, 'tnloadrate_total': 1.71438605122075, 'tnloadrate_conc': 0.188280557943026, 'tssloadrate_total': 148.726470785457, 'tssloadrate_conc': 9.8088397592029}, '4481349': {'comid': 4481349, 'tploadrate_total': 9.87963310370508, 'tploadate_conc': 0.0131878683094343, 'tnloadrate_total': 319.570453964755, 'tnloadrate_conc': 0.608139880005328, 'tssloadrate_total': 13683.8719557924, 'tssloadrate_conc': 18.6165417442023}}\n"
     ]
    }
   ],
   "source": [
    "# Explore selection of data for a HUC12\n",
    "print(dict(json.loads(_r['body']))['huc12s']['020402010101']['catchments'])"
   ]
  },
  {
   "cell_type": "markdown",
   "metadata": {
    "jp-MarkdownHeadingCollapsed": true,
    "tags": []
   },
   "source": [
    "# Load Results into Database (SKIP if DONE)\n",
    "\n",
    "### If you have done this for the latest data, skip this block.\n",
    "\n",
    "Loading results into the database is a time consuming process (~20-30 minutes), so it only needs to be run once for every data update. "
   ]
  },
  {
   "cell_type": "code",
   "execution_count": 9,
   "metadata": {},
   "outputs": [
    {
     "data": {
      "text/plain": [
       "19496"
      ]
     },
     "execution_count": 9,
     "metadata": {},
     "output_type": "execute_result"
    }
   ],
   "source": [
    "# GET THE TOTAL NUMBER OF ROWS TO PRINT THE % COMPLETED LATER ON\n",
    "\n",
    "t = 0\n",
    "for huc12s, huc12 in _nhdloads.items():\n",
    "    for comid in _nhdloads[huc12s]['catchments']:\n",
    "        t += 1\n",
    "        \n",
    "t"
   ]
  },
  {
   "cell_type": "markdown",
   "metadata": {},
   "source": [
    "## Save \"Base\" Model Results (i.e. no BMPs) to Database"
   ]
  },
  {
   "cell_type": "code",
   "execution_count": 5,
   "metadata": {},
   "outputs": [
    {
     "name": "stdout",
     "output_type": "stream",
     "text": [
      "Table Created\n"
     ]
    }
   ],
   "source": [
    "# LOAD THE RESULTS INTO A DATABASE FOR REVIEW, CONSULT MSC94@DREXEL.EDU FOR MORE INFORMATION (MAY REQUIRE PERMISSION)\n",
    "# CREATE THE TABLE TO CACHE THE API OUTPUT\n",
    "# This uses an imported function to create the table. This is necessary to get the COMID geometries\n",
    "\n",
    "# SET THE TABLE NAME AND CREATE TABLE\n",
    "tablename_base = 'base_run'\n",
    "new = DatabaseMakeTable(_database[0], _user[0], _host[0], _port, _password[0], tablename_base)\n",
    "new.make_table()\n"
   ]
  },
  {
   "cell_type": "code",
   "execution_count": null,
   "metadata": {},
   "outputs": [
    {
     "name": "stdout",
     "output_type": "stream",
     "text": [
      "0%--->"
     ]
    }
   ],
   "source": [
    "%%time\n",
    "\n",
    "# LOADING RESULTS INTO THE DB CAN TAKE ~10 MINUTES\n",
    "\n",
    "c = 0\n",
    "prog_update = 0.1\n",
    "print('0%', end='--->')\n",
    "for huc12s, huc12 in _nhdloads.items():\n",
    "    for comid in _nhdloads[huc12s]['catchments']:\n",
    "        update_arr = [int(_nhdloads[huc12s]['catchments'][comid]['comid']),\n",
    "                      _nhdloads[huc12s]['catchments'][comid]['tploadrate_total'],\n",
    "                      _nhdloads[huc12s]['catchments'][comid]['tploadate_conc'],\n",
    "                      _nhdloads[huc12s]['catchments'][comid]['tnloadrate_total'],\n",
    "                      _nhdloads[huc12s]['catchments'][comid]['tnloadrate_conc'],\n",
    "                      _nhdloads[huc12s]['catchments'][comid]['tssloadrate_total'],\n",
    "                      _nhdloads[huc12s]['catchments'][comid]['tssloadrate_conc']]\n",
    "        update_arr = [x if x != None else -9999 for x in update_arr]\n",
    "        _PG_Connection.set_isolation_level(0)\n",
    "        _cur = _PG_Connection.cursor()\n",
    "        _cur.execute(\"insert into wikiwtershedoutputs.{} values ({},{},{},{},{},{},{})\"\n",
    "                     \";\".format(tablename_base, update_arr[0],update_arr[1],update_arr[2],update_arr[3],update_arr[4],update_arr[5],update_arr[6]))\n",
    "        c += 1\n",
    "        if c == int(t * prog_update - 1):\n",
    "            print('{}%'.format(int(prog_update*100)), end='--->')\n",
    "            prog_update = round(prog_update+0.1,1)\n",
    "print('done')"
   ]
  },
  {
   "cell_type": "markdown",
   "metadata": {},
   "source": [
    "## Repeat for Restoration Results\n",
    "\n",
    "Reruns the WikiSRATMicroService API with restoration BMPs and saves response to the database."
   ]
  },
  {
   "cell_type": "code",
   "execution_count": 7,
   "metadata": {},
   "outputs": [
    {
     "name": "stdout",
     "output_type": "stream",
     "text": [
      "done\n"
     ]
    }
   ],
   "source": [
    "# NOW RUN THE ATTENUATION WITH THE BMPs ADDED IN\n",
    "_flag = 'restoration'\n",
    "\n",
    "_r = dict(lambda_handler({\"body\": _body},None))\n",
    "print('done')"
   ]
  },
  {
   "cell_type": "code",
   "execution_count": 8,
   "metadata": {},
   "outputs": [],
   "source": [
    "# GET THE TOTAL NUMBER OF ROWS TO PRINT THE % COMPLETED LATER ON\n",
    "_nhdloads = dict(json.loads(_r['body']))['huc12s']\n",
    "t = 0\n",
    "for huc12s, huc12 in _nhdloads.items():\n",
    "    for comid in _nhdloads[huc12s]['catchments']:\n",
    "        t += 1"
   ]
  },
  {
   "cell_type": "code",
   "execution_count": 9,
   "metadata": {},
   "outputs": [
    {
     "name": "stdout",
     "output_type": "stream",
     "text": [
      "Table Created\n"
     ]
    }
   ],
   "source": [
    "# LOAD THE RESULTS INTO A DATABASE FOR REVIEW, CONSULT MSC94@DREXEL.EDU FOR MORE INFORMATION (MAY REQUIRE PERMISSION)\n",
    "# CREATE THE TABLE TO CACHE THE API OUTPUT\n",
    "tablename_rest = 'restoration_run'\n",
    "new = DatabaseMakeTable(_database[0], _user[0], _host[0], _port, _password[0], tablename_rest)\n",
    "new.make_table()"
   ]
  },
  {
   "cell_type": "code",
   "execution_count": 10,
   "metadata": {},
   "outputs": [
    {
     "name": "stdout",
     "output_type": "stream",
     "text": [
      "0%--->10%--->20%--->30%--->40%--->50%--->60%--->70%--->80%--->90%--->100%--->done\n"
     ]
    }
   ],
   "source": [
    "%%time\n",
    "\n",
    "# LOADING RESULTS INTO THE DB CAN TAKE ~10 MINUTES\n",
    "\n",
    "c = 0\n",
    "prog_update = 0.1\n",
    "print('0%', end='--->')\n",
    "for huc12s, huc12 in _nhdloads.items():\n",
    "    for comid in _nhdloads[huc12s]['catchments']:\n",
    "        update_arr = [int(_nhdloads[huc12s]['catchments'][comid]['comid']),\n",
    "                      _nhdloads[huc12s]['catchments'][comid]['tploadrate_total'],\n",
    "                      _nhdloads[huc12s]['catchments'][comid]['tploadate_conc'],\n",
    "                      _nhdloads[huc12s]['catchments'][comid]['tnloadrate_total'],\n",
    "                      _nhdloads[huc12s]['catchments'][comid]['tnloadrate_conc'],\n",
    "                      _nhdloads[huc12s]['catchments'][comid]['tssloadrate_total'],\n",
    "                      _nhdloads[huc12s]['catchments'][comid]['tssloadrate_conc']]\n",
    "        update_arr = [x if x != None else -9999 for x in update_arr]\n",
    "        _PG_Connection.set_isolation_level(0)\n",
    "        _cur = _PG_Connection.cursor()\n",
    "        _cur.execute(\"insert into wikiwtershedoutputs.{} values ({},{},{},{},{},{},{})\"\n",
    "                     \";\".format(tablename_rest, update_arr[0],update_arr[1],update_arr[2],update_arr[3],update_arr[4],update_arr[5],update_arr[6]))\n",
    "        c += 1\n",
    "        if c == int(t * prog_update - 1):\n",
    "            print('{}%'.format(int(prog_update*100)), end='--->')\n",
    "            prog_update = round(prog_update+0.1,1)\n",
    "\n",
    "print('done')"
   ]
  },
  {
   "cell_type": "markdown",
   "metadata": {},
   "source": [
    "# ABOVE CODE (Load Results) ONLY NEEDS TO BE RUN ONCE\n",
    "\n",
    "Use labs to get outline to collapse code to be run once. Further edits to the data frames for API output can be done here."
   ]
  },
  {
   "cell_type": "markdown",
   "metadata": {},
   "source": [
    "# Read Results in Pandas and Save to Local Storage"
   ]
  },
  {
   "cell_type": "code",
   "execution_count": 12,
   "metadata": {},
   "outputs": [],
   "source": [
    "# PUT HERE ANY TABLE NAMES CREATED ABOVE, IN CASE THE KERNEL WAS RESTARTED AND YOU DON'T WANT TO RUN THE ABOVE AGAIN\n",
    "tablename_rest = 'restoration_run'\n",
    "tablename_base = 'base_run'"
   ]
  },
  {
   "cell_type": "markdown",
   "metadata": {
    "tags": []
   },
   "source": [
    "## Read from Database into Pandas with `psycopg2`\n",
    "Custom function written by Mike, using the pyscopg2 library."
   ]
  },
  {
   "cell_type": "code",
   "execution_count": 13,
   "metadata": {},
   "outputs": [
    {
     "name": "stdout",
     "output_type": "stream",
     "text": [
      "done\n",
      "CPU times: user 757 ms, sys: 1.32 s, total: 2.08 s\n",
      "Wall time: 30.2 s\n"
     ]
    }
   ],
   "source": [
    "%%time\n",
    "\n",
    "# LOAD THE DATABASE TABLES INTO PANDAS\n",
    "# geom = NHDplus streamline\n",
    "# catchment = NHDplus catchment\n",
    "\n",
    "def postgresql_to_dataframe(conn, select_query, column_names):\n",
    "    \"\"\"\n",
    "    Tranform a SELECT query into a pandas dataframe\n",
    "    \"\"\"\n",
    "    _cur = conn.cursor()\n",
    "    try:\n",
    "        _cur.execute(select_query)\n",
    "    except (Exception, psycopg2.DatabaseError) as error:\n",
    "        print(\"Error: %s\" % error)\n",
    "        _cur.close()\n",
    "        return 1\n",
    "    \n",
    "    # We get a list of tupples\n",
    "    tupples = _cur.fetchall()\n",
    "    _cur.close()\n",
    "    \n",
    "    # Turn it into a pandas dataframe\n",
    "    df = pd.DataFrame(tupples, columns=column_names)\n",
    "    return df\n",
    "\n",
    "colnames = ('comid','tploadrate_total','tploadate_conc','tnloadrate_total','tnloadate_conc','tssloadrate_total',\n",
    "            'tssloadate_conc','catchment_hectares','watershed_hectares','tploadrate_total_ws','tnloadrate_total_ws',\n",
    "            'tssloadrate_total_ws','maflowv','geom','geom_catchment', 'cluster', 'fa_name', 'sub_focusarea',\n",
    "            'nord','nordstop', 'huc12')\n",
    "\n",
    "cluster_names = ('Brandywine and Christina','Kirkwood - Cohansey Aquifer','Middle Schuylkill','New Jersey Highlands',\n",
    "                 'Poconos and Kittatinny','Schuylkill Highlands','Upper Lehigh','Upstream Suburban Philadelphia')\n",
    "\n",
    "\n",
    "base_model_select = 'SELECT * FROM wikiwtershedoutputs.{}'.format(tablename_base)\n",
    "rest_model_select = 'SELECT * FROM wikiwtershedoutputs.{}'.format(tablename_rest)\n",
    "\n",
    "base_df = postgresql_to_dataframe(_PG_Connection, base_model_select, colnames)\n",
    "rest_df = postgresql_to_dataframe(_PG_Connection, rest_model_select, colnames)\n",
    "\n",
    "print('done')"
   ]
  },
  {
   "cell_type": "code",
   "execution_count": 14,
   "metadata": {},
   "outputs": [
    {
     "name": "stdout",
     "output_type": "stream",
     "text": [
      "<class 'pandas.core.frame.DataFrame'>\n",
      "RangeIndex: 19496 entries, 0 to 19495\n",
      "Data columns (total 21 columns):\n",
      " #   Column                Non-Null Count  Dtype  \n",
      "---  ------                --------------  -----  \n",
      " 0   comid                 19496 non-null  int64  \n",
      " 1   tploadrate_total      19496 non-null  object \n",
      " 2   tploadate_conc        19496 non-null  object \n",
      " 3   tnloadrate_total      19496 non-null  object \n",
      " 4   tnloadate_conc        19496 non-null  object \n",
      " 5   tssloadrate_total     19496 non-null  object \n",
      " 6   tssloadate_conc       19496 non-null  object \n",
      " 7   catchment_hectares    19496 non-null  object \n",
      " 8   watershed_hectares    19496 non-null  object \n",
      " 9   tploadrate_total_ws   19496 non-null  object \n",
      " 10  tnloadrate_total_ws   19496 non-null  object \n",
      " 11  tssloadrate_total_ws  19496 non-null  object \n",
      " 12  maflowv               19496 non-null  object \n",
      " 13  geom                  19266 non-null  object \n",
      " 14  geom_catchment        19496 non-null  object \n",
      " 15  cluster               17358 non-null  object \n",
      " 16  fa_name               186 non-null    object \n",
      " 17  sub_focusarea         186 non-null    float64\n",
      " 18  nord                  18870 non-null  float64\n",
      " 19  nordstop              18844 non-null  float64\n",
      " 20  huc12                 19496 non-null  object \n",
      "dtypes: float64(3), int64(1), object(17)\n",
      "memory usage: 3.1+ MB\n"
     ]
    }
   ],
   "source": [
    "# Note that most columns are read as string objects, and ...\n",
    "# geometry datatypes are not compatbile with GeoPandas and common Python plotting functions.\n",
    "base_df.info()"
   ]
  },
  {
   "cell_type": "code",
   "execution_count": 15,
   "metadata": {},
   "outputs": [
    {
     "data": {
      "text/html": [
       "<div>\n",
       "<style scoped>\n",
       "    .dataframe tbody tr th:only-of-type {\n",
       "        vertical-align: middle;\n",
       "    }\n",
       "\n",
       "    .dataframe tbody tr th {\n",
       "        vertical-align: top;\n",
       "    }\n",
       "\n",
       "    .dataframe thead th {\n",
       "        text-align: right;\n",
       "    }\n",
       "</style>\n",
       "<table border=\"1\" class=\"dataframe\">\n",
       "  <thead>\n",
       "    <tr style=\"text-align: right;\">\n",
       "      <th></th>\n",
       "      <th>comid</th>\n",
       "      <th>tploadrate_total</th>\n",
       "      <th>tploadate_conc</th>\n",
       "      <th>tnloadrate_total</th>\n",
       "      <th>tnloadate_conc</th>\n",
       "      <th>tssloadrate_total</th>\n",
       "      <th>tssloadate_conc</th>\n",
       "      <th>catchment_hectares</th>\n",
       "      <th>watershed_hectares</th>\n",
       "      <th>tploadrate_total_ws</th>\n",
       "      <th>...</th>\n",
       "      <th>tssloadrate_total_ws</th>\n",
       "      <th>maflowv</th>\n",
       "      <th>geom</th>\n",
       "      <th>geom_catchment</th>\n",
       "      <th>cluster</th>\n",
       "      <th>fa_name</th>\n",
       "      <th>sub_focusarea</th>\n",
       "      <th>nord</th>\n",
       "      <th>nordstop</th>\n",
       "      <th>huc12</th>\n",
       "    </tr>\n",
       "  </thead>\n",
       "  <tbody>\n",
       "    <tr>\n",
       "      <th>0</th>\n",
       "      <td>9480578</td>\n",
       "      <td>137.9295</td>\n",
       "      <td>0.1814</td>\n",
       "      <td>529.1511</td>\n",
       "      <td>0.6958</td>\n",
       "      <td>137638.1583</td>\n",
       "      <td>180.9927</td>\n",
       "      <td>194.6102</td>\n",
       "      <td>194.7600</td>\n",
       "      <td>0.7083</td>\n",
       "      <td>...</td>\n",
       "      <td>706.7063</td>\n",
       "      <td>0.8510</td>\n",
       "      <td>01050000E06A7F00000100000001020000C01100000032...</td>\n",
       "      <td>01060000206A7F000001000000010300000001000000B5...</td>\n",
       "      <td>Kirkwood - Cohansey Aquifer</td>\n",
       "      <td>None</td>\n",
       "      <td>NaN</td>\n",
       "      <td>64056.0</td>\n",
       "      <td>64056.0</td>\n",
       "      <td>020402060102</td>\n",
       "    </tr>\n",
       "    <tr>\n",
       "      <th>1</th>\n",
       "      <td>9480748</td>\n",
       "      <td>1.1351</td>\n",
       "      <td>0.1795</td>\n",
       "      <td>35.3758</td>\n",
       "      <td>4.4193</td>\n",
       "      <td>1567.6093</td>\n",
       "      <td>120.4098</td>\n",
       "      <td>2.8777</td>\n",
       "      <td>840.5100</td>\n",
       "      <td>0.7815</td>\n",
       "      <td>...</td>\n",
       "      <td>524.2289</td>\n",
       "      <td>4.0950</td>\n",
       "      <td>01050000E06A7F00000100000001020000C0030000007A...</td>\n",
       "      <td>01060000206A7F0000010000000103000000010000000B...</td>\n",
       "      <td>Kirkwood - Cohansey Aquifer</td>\n",
       "      <td>None</td>\n",
       "      <td>NaN</td>\n",
       "      <td>64097.0</td>\n",
       "      <td>64099.0</td>\n",
       "      <td>020402060102</td>\n",
       "    </tr>\n",
       "    <tr>\n",
       "      <th>2</th>\n",
       "      <td>9481982</td>\n",
       "      <td>145.5457</td>\n",
       "      <td>0.1069</td>\n",
       "      <td>571.2896</td>\n",
       "      <td>3.5045</td>\n",
       "      <td>117610.9142</td>\n",
       "      <td>103.1548</td>\n",
       "      <td>199.2860</td>\n",
       "      <td>8919.5400</td>\n",
       "      <td>0.4986</td>\n",
       "      <td>...</td>\n",
       "      <td>481.0876</td>\n",
       "      <td>46.5510</td>\n",
       "      <td>01050000E06A7F00000100000001020000C00800000063...</td>\n",
       "      <td>01060000206A7F000001000000010300000001000000A2...</td>\n",
       "      <td>Kirkwood - Cohansey Aquifer</td>\n",
       "      <td>None</td>\n",
       "      <td>NaN</td>\n",
       "      <td>64065.0</td>\n",
       "      <td>64131.0</td>\n",
       "      <td>020402060102</td>\n",
       "    </tr>\n",
       "    <tr>\n",
       "      <th>3</th>\n",
       "      <td>9481946</td>\n",
       "      <td>0.0206</td>\n",
       "      <td>0.1778</td>\n",
       "      <td>0.1682</td>\n",
       "      <td>0.6944</td>\n",
       "      <td>58.0100</td>\n",
       "      <td>178.2330</td>\n",
       "      <td>0.4497</td>\n",
       "      <td>195.2100</td>\n",
       "      <td>0.6943</td>\n",
       "      <td>...</td>\n",
       "      <td>695.9583</td>\n",
       "      <td>0.8530</td>\n",
       "      <td>01050000E06A7F00000100000001020000C0030000007F...</td>\n",
       "      <td>01060000206A7F0000010000000103000000010000000A...</td>\n",
       "      <td>Kirkwood - Cohansey Aquifer</td>\n",
       "      <td>None</td>\n",
       "      <td>NaN</td>\n",
       "      <td>64055.0</td>\n",
       "      <td>64056.0</td>\n",
       "      <td>020402060102</td>\n",
       "    </tr>\n",
       "    <tr>\n",
       "      <th>4</th>\n",
       "      <td>9481678</td>\n",
       "      <td>667.3488</td>\n",
       "      <td>0.1746</td>\n",
       "      <td>10213.9240</td>\n",
       "      <td>2.6718</td>\n",
       "      <td>597386.4548</td>\n",
       "      <td>156.2667</td>\n",
       "      <td>888.6900</td>\n",
       "      <td>889.3800</td>\n",
       "      <td>0.7505</td>\n",
       "      <td>...</td>\n",
       "      <td>671.6886</td>\n",
       "      <td>4.2780</td>\n",
       "      <td>01050000E06A7F00000100000001020000C0340000009D...</td>\n",
       "      <td>01060000206A7F000001000000010300000001000000A7...</td>\n",
       "      <td>Kirkwood - Cohansey Aquifer</td>\n",
       "      <td>None</td>\n",
       "      <td>NaN</td>\n",
       "      <td>64130.0</td>\n",
       "      <td>64130.0</td>\n",
       "      <td>020402060102</td>\n",
       "    </tr>\n",
       "  </tbody>\n",
       "</table>\n",
       "<p>5 rows × 21 columns</p>\n",
       "</div>"
      ],
      "text/plain": [
       "     comid tploadrate_total tploadate_conc tnloadrate_total tnloadate_conc  \\\n",
       "0  9480578         137.9295         0.1814         529.1511         0.6958   \n",
       "1  9480748           1.1351         0.1795          35.3758         4.4193   \n",
       "2  9481982         145.5457         0.1069         571.2896         3.5045   \n",
       "3  9481946           0.0206         0.1778           0.1682         0.6944   \n",
       "4  9481678         667.3488         0.1746       10213.9240         2.6718   \n",
       "\n",
       "  tssloadrate_total tssloadate_conc catchment_hectares watershed_hectares  \\\n",
       "0       137638.1583        180.9927           194.6102           194.7600   \n",
       "1         1567.6093        120.4098             2.8777           840.5100   \n",
       "2       117610.9142        103.1548           199.2860          8919.5400   \n",
       "3           58.0100        178.2330             0.4497           195.2100   \n",
       "4       597386.4548        156.2667           888.6900           889.3800   \n",
       "\n",
       "  tploadrate_total_ws  ... tssloadrate_total_ws  maflowv  \\\n",
       "0              0.7083  ...             706.7063   0.8510   \n",
       "1              0.7815  ...             524.2289   4.0950   \n",
       "2              0.4986  ...             481.0876  46.5510   \n",
       "3              0.6943  ...             695.9583   0.8530   \n",
       "4              0.7505  ...             671.6886   4.2780   \n",
       "\n",
       "                                                geom  \\\n",
       "0  01050000E06A7F00000100000001020000C01100000032...   \n",
       "1  01050000E06A7F00000100000001020000C0030000007A...   \n",
       "2  01050000E06A7F00000100000001020000C00800000063...   \n",
       "3  01050000E06A7F00000100000001020000C0030000007F...   \n",
       "4  01050000E06A7F00000100000001020000C0340000009D...   \n",
       "\n",
       "                                      geom_catchment  \\\n",
       "0  01060000206A7F000001000000010300000001000000B5...   \n",
       "1  01060000206A7F0000010000000103000000010000000B...   \n",
       "2  01060000206A7F000001000000010300000001000000A2...   \n",
       "3  01060000206A7F0000010000000103000000010000000A...   \n",
       "4  01060000206A7F000001000000010300000001000000A7...   \n",
       "\n",
       "                       cluster fa_name sub_focusarea     nord  nordstop  \\\n",
       "0  Kirkwood - Cohansey Aquifer    None           NaN  64056.0   64056.0   \n",
       "1  Kirkwood - Cohansey Aquifer    None           NaN  64097.0   64099.0   \n",
       "2  Kirkwood - Cohansey Aquifer    None           NaN  64065.0   64131.0   \n",
       "3  Kirkwood - Cohansey Aquifer    None           NaN  64055.0   64056.0   \n",
       "4  Kirkwood - Cohansey Aquifer    None           NaN  64130.0   64130.0   \n",
       "\n",
       "          huc12  \n",
       "0  020402060102  \n",
       "1  020402060102  \n",
       "2  020402060102  \n",
       "3  020402060102  \n",
       "4  020402060102  \n",
       "\n",
       "[5 rows x 21 columns]"
      ]
     },
     "execution_count": 15,
     "metadata": {},
     "output_type": "execute_result"
    }
   ],
   "source": [
    "base_df.head()"
   ]
  },
  {
   "cell_type": "markdown",
   "metadata": {
    "tags": []
   },
   "source": [
    "## Read from Database using SQLAlchemy and GeoPandas\n",
    "An alternate way to connect, using sqlalchemy, written by Sarah.  \n",
    "Benefits include:\n",
    "- Doesn't require knowledge of column names\n",
    "- Correctly auto-parses datatypes\n",
    "- Auto-converts column named 'geom' from a string into a geometry datatype compatible with  GeoPandas and most plotting libraries."
   ]
  },
  {
   "cell_type": "code",
   "execution_count": 16,
   "metadata": {},
   "outputs": [
    {
     "name": "stdout",
     "output_type": "stream",
     "text": [
      "CPU times: user 15.9 ms, sys: 3.25 ms, total: 19.2 ms\n",
      "Wall time: 17.8 ms\n"
     ]
    }
   ],
   "source": [
    "%%time\n",
    "# Connect to database with sqlalchemy\n",
    "from sqlalchemy import create_engine  \n",
    "\n",
    "db_connection_url = \"postgresql://{}:{}@{}:{}/{}\".format(_user[0], _password[0], _host[0], _port, _database[0])\n",
    "con = create_engine(db_connection_url)  "
   ]
  },
  {
   "cell_type": "code",
   "execution_count": 17,
   "metadata": {},
   "outputs": [
    {
     "name": "stdout",
     "output_type": "stream",
     "text": [
      "CPU times: user 2.52 s, sys: 1.39 s, total: 3.91 s\n",
      "Wall time: 42 s\n"
     ]
    }
   ],
   "source": [
    "%%time\n",
    "# import data with geopandas compatible geometry\n",
    "import geopandas as gpd \n",
    "\n",
    "base_model_select = 'SELECT * FROM wikiwtershedoutputs.{}'.format(tablename_base)\n",
    "rest_model_select = 'SELECT * FROM wikiwtershedoutputs.{}'.format(tablename_rest)\n",
    "\n",
    "base_df = gpd.read_postgis(base_model_select, con)\n",
    "rest_df = gpd.read_postgis(rest_model_select, con)"
   ]
  },
  {
   "cell_type": "code",
   "execution_count": 18,
   "metadata": {},
   "outputs": [
    {
     "name": "stdout",
     "output_type": "stream",
     "text": [
      "<class 'geopandas.geodataframe.GeoDataFrame'>\n",
      "RangeIndex: 19496 entries, 0 to 19495\n",
      "Data columns (total 21 columns):\n",
      " #   Column                Non-Null Count  Dtype   \n",
      "---  ------                --------------  -----   \n",
      " 0   comid                 19496 non-null  int64   \n",
      " 1   tploadrate_total      19496 non-null  float64 \n",
      " 2   tploadate_conc        19496 non-null  float64 \n",
      " 3   tnloadrate_total      19496 non-null  float64 \n",
      " 4   tnloadate_conc        19496 non-null  float64 \n",
      " 5   tssloadrate_total     19496 non-null  float64 \n",
      " 6   tssloadate_conc       19496 non-null  float64 \n",
      " 7   catchment_hectares    19496 non-null  float64 \n",
      " 8   watershed_hectares    19496 non-null  float64 \n",
      " 9   tploadrate_total_ws   19496 non-null  float64 \n",
      " 10  tnloadrate_total_ws   19496 non-null  float64 \n",
      " 11  tssloadrate_total_ws  19496 non-null  float64 \n",
      " 12  maflowv               19496 non-null  float64 \n",
      " 13  geom                  19266 non-null  geometry\n",
      " 14  geom_catchment        19496 non-null  object  \n",
      " 15  cluster               17358 non-null  object  \n",
      " 16  fa_name               186 non-null    object  \n",
      " 17  sub_focusarea         186 non-null    float64 \n",
      " 18  nord                  18870 non-null  float64 \n",
      " 19  nordstop              18844 non-null  float64 \n",
      " 20  huc12                 19496 non-null  object  \n",
      "dtypes: float64(15), geometry(1), int64(1), object(4)\n",
      "memory usage: 3.1+ MB\n"
     ]
    }
   ],
   "source": [
    "base_df.info()"
   ]
  },
  {
   "cell_type": "code",
   "execution_count": 19,
   "metadata": {},
   "outputs": [
    {
     "name": "stdout",
     "output_type": "stream",
     "text": [
      "<class 'geopandas.geodataframe.GeoDataFrame'>\n",
      "RangeIndex: 19496 entries, 0 to 19495\n",
      "Data columns (total 21 columns):\n",
      " #   Column                Non-Null Count  Dtype   \n",
      "---  ------                --------------  -----   \n",
      " 0   comid                 19496 non-null  int64   \n",
      " 1   tploadrate_total      19496 non-null  float64 \n",
      " 2   tploadate_conc        19496 non-null  float64 \n",
      " 3   tnloadrate_total      19496 non-null  float64 \n",
      " 4   tnloadate_conc        19496 non-null  float64 \n",
      " 5   tssloadrate_total     19496 non-null  float64 \n",
      " 6   tssloadate_conc       19496 non-null  float64 \n",
      " 7   catchment_hectares    19496 non-null  float64 \n",
      " 8   watershed_hectares    19496 non-null  float64 \n",
      " 9   tploadrate_total_ws   19496 non-null  float64 \n",
      " 10  tnloadrate_total_ws   19496 non-null  float64 \n",
      " 11  tssloadrate_total_ws  19496 non-null  float64 \n",
      " 12  maflowv               19496 non-null  float64 \n",
      " 13  geom                  19266 non-null  geometry\n",
      " 14  geom_catchment        19496 non-null  object  \n",
      " 15  cluster               17358 non-null  object  \n",
      " 16  fa_name               186 non-null    object  \n",
      " 17  sub_focusarea         186 non-null    float64 \n",
      " 18  nord                  18870 non-null  float64 \n",
      " 19  nordstop              18844 non-null  float64 \n",
      " 20  huc12                 19496 non-null  object  \n",
      "dtypes: float64(15), geometry(1), int64(1), object(4)\n",
      "memory usage: 3.1+ MB\n"
     ]
    }
   ],
   "source": [
    "rest_df.info()"
   ]
  },
  {
   "cell_type": "code",
   "execution_count": 20,
   "metadata": {},
   "outputs": [
    {
     "data": {
      "text/html": [
       "<div>\n",
       "<style scoped>\n",
       "    .dataframe tbody tr th:only-of-type {\n",
       "        vertical-align: middle;\n",
       "    }\n",
       "\n",
       "    .dataframe tbody tr th {\n",
       "        vertical-align: top;\n",
       "    }\n",
       "\n",
       "    .dataframe thead th {\n",
       "        text-align: right;\n",
       "    }\n",
       "</style>\n",
       "<table border=\"1\" class=\"dataframe\">\n",
       "  <thead>\n",
       "    <tr style=\"text-align: right;\">\n",
       "      <th></th>\n",
       "      <th>comid</th>\n",
       "      <th>tploadrate_total</th>\n",
       "      <th>tploadate_conc</th>\n",
       "      <th>tnloadrate_total</th>\n",
       "      <th>tnloadate_conc</th>\n",
       "      <th>tssloadrate_total</th>\n",
       "      <th>tssloadate_conc</th>\n",
       "      <th>catchment_hectares</th>\n",
       "      <th>watershed_hectares</th>\n",
       "      <th>tploadrate_total_ws</th>\n",
       "      <th>...</th>\n",
       "      <th>tssloadrate_total_ws</th>\n",
       "      <th>maflowv</th>\n",
       "      <th>geom</th>\n",
       "      <th>geom_catchment</th>\n",
       "      <th>cluster</th>\n",
       "      <th>fa_name</th>\n",
       "      <th>sub_focusarea</th>\n",
       "      <th>nord</th>\n",
       "      <th>nordstop</th>\n",
       "      <th>huc12</th>\n",
       "    </tr>\n",
       "  </thead>\n",
       "  <tbody>\n",
       "    <tr>\n",
       "      <th>0</th>\n",
       "      <td>9480578</td>\n",
       "      <td>137.9295</td>\n",
       "      <td>0.1814</td>\n",
       "      <td>529.1511</td>\n",
       "      <td>0.6958</td>\n",
       "      <td>137638.1583</td>\n",
       "      <td>180.9927</td>\n",
       "      <td>194.6102</td>\n",
       "      <td>194.76</td>\n",
       "      <td>0.7083</td>\n",
       "      <td>...</td>\n",
       "      <td>706.7063</td>\n",
       "      <td>0.851</td>\n",
       "      <td>MULTILINESTRING Z ((464640.526 4392120.603 0.0...</td>\n",
       "      <td>01060000206A7F000001000000010300000001000000B5...</td>\n",
       "      <td>Kirkwood - Cohansey Aquifer</td>\n",
       "      <td>None</td>\n",
       "      <td>NaN</td>\n",
       "      <td>64056.0</td>\n",
       "      <td>64056.0</td>\n",
       "      <td>020402060102</td>\n",
       "    </tr>\n",
       "    <tr>\n",
       "      <th>1</th>\n",
       "      <td>9480748</td>\n",
       "      <td>1.1351</td>\n",
       "      <td>0.1795</td>\n",
       "      <td>35.3758</td>\n",
       "      <td>4.4193</td>\n",
       "      <td>1567.6093</td>\n",
       "      <td>120.4098</td>\n",
       "      <td>2.8777</td>\n",
       "      <td>840.51</td>\n",
       "      <td>0.7815</td>\n",
       "      <td>...</td>\n",
       "      <td>524.2289</td>\n",
       "      <td>4.095</td>\n",
       "      <td>MULTILINESTRING Z ((475214.244 4387090.507 0.0...</td>\n",
       "      <td>01060000206A7F0000010000000103000000010000000B...</td>\n",
       "      <td>Kirkwood - Cohansey Aquifer</td>\n",
       "      <td>None</td>\n",
       "      <td>NaN</td>\n",
       "      <td>64097.0</td>\n",
       "      <td>64099.0</td>\n",
       "      <td>020402060102</td>\n",
       "    </tr>\n",
       "    <tr>\n",
       "      <th>2</th>\n",
       "      <td>9481982</td>\n",
       "      <td>145.5457</td>\n",
       "      <td>0.1069</td>\n",
       "      <td>571.2896</td>\n",
       "      <td>3.5045</td>\n",
       "      <td>117610.9142</td>\n",
       "      <td>103.1548</td>\n",
       "      <td>199.2860</td>\n",
       "      <td>8919.54</td>\n",
       "      <td>0.4986</td>\n",
       "      <td>...</td>\n",
       "      <td>481.0876</td>\n",
       "      <td>46.551</td>\n",
       "      <td>MULTILINESTRING Z ((466629.746 4389974.935 0.0...</td>\n",
       "      <td>01060000206A7F000001000000010300000001000000A2...</td>\n",
       "      <td>Kirkwood - Cohansey Aquifer</td>\n",
       "      <td>None</td>\n",
       "      <td>NaN</td>\n",
       "      <td>64065.0</td>\n",
       "      <td>64131.0</td>\n",
       "      <td>020402060102</td>\n",
       "    </tr>\n",
       "    <tr>\n",
       "      <th>3</th>\n",
       "      <td>9481946</td>\n",
       "      <td>0.0206</td>\n",
       "      <td>0.1778</td>\n",
       "      <td>0.1682</td>\n",
       "      <td>0.6944</td>\n",
       "      <td>58.0100</td>\n",
       "      <td>178.2330</td>\n",
       "      <td>0.4497</td>\n",
       "      <td>195.21</td>\n",
       "      <td>0.6943</td>\n",
       "      <td>...</td>\n",
       "      <td>695.9583</td>\n",
       "      <td>0.853</td>\n",
       "      <td>MULTILINESTRING Z ((464126.108 4390585.993 0.0...</td>\n",
       "      <td>01060000206A7F0000010000000103000000010000000A...</td>\n",
       "      <td>Kirkwood - Cohansey Aquifer</td>\n",
       "      <td>None</td>\n",
       "      <td>NaN</td>\n",
       "      <td>64055.0</td>\n",
       "      <td>64056.0</td>\n",
       "      <td>020402060102</td>\n",
       "    </tr>\n",
       "    <tr>\n",
       "      <th>4</th>\n",
       "      <td>9481678</td>\n",
       "      <td>667.3488</td>\n",
       "      <td>0.1746</td>\n",
       "      <td>10213.9240</td>\n",
       "      <td>2.6718</td>\n",
       "      <td>597386.4548</td>\n",
       "      <td>156.2667</td>\n",
       "      <td>888.6900</td>\n",
       "      <td>889.38</td>\n",
       "      <td>0.7505</td>\n",
       "      <td>...</td>\n",
       "      <td>671.6886</td>\n",
       "      <td>4.278</td>\n",
       "      <td>MULTILINESTRING Z ((469829.385 4385294.187 0.0...</td>\n",
       "      <td>01060000206A7F000001000000010300000001000000A7...</td>\n",
       "      <td>Kirkwood - Cohansey Aquifer</td>\n",
       "      <td>None</td>\n",
       "      <td>NaN</td>\n",
       "      <td>64130.0</td>\n",
       "      <td>64130.0</td>\n",
       "      <td>020402060102</td>\n",
       "    </tr>\n",
       "  </tbody>\n",
       "</table>\n",
       "<p>5 rows × 21 columns</p>\n",
       "</div>"
      ],
      "text/plain": [
       "     comid  tploadrate_total  tploadate_conc  tnloadrate_total  \\\n",
       "0  9480578          137.9295          0.1814          529.1511   \n",
       "1  9480748            1.1351          0.1795           35.3758   \n",
       "2  9481982          145.5457          0.1069          571.2896   \n",
       "3  9481946            0.0206          0.1778            0.1682   \n",
       "4  9481678          667.3488          0.1746        10213.9240   \n",
       "\n",
       "   tnloadate_conc  tssloadrate_total  tssloadate_conc  catchment_hectares  \\\n",
       "0          0.6958        137638.1583         180.9927            194.6102   \n",
       "1          4.4193          1567.6093         120.4098              2.8777   \n",
       "2          3.5045        117610.9142         103.1548            199.2860   \n",
       "3          0.6944            58.0100         178.2330              0.4497   \n",
       "4          2.6718        597386.4548         156.2667            888.6900   \n",
       "\n",
       "   watershed_hectares  tploadrate_total_ws  ...  tssloadrate_total_ws  \\\n",
       "0              194.76               0.7083  ...              706.7063   \n",
       "1              840.51               0.7815  ...              524.2289   \n",
       "2             8919.54               0.4986  ...              481.0876   \n",
       "3              195.21               0.6943  ...              695.9583   \n",
       "4              889.38               0.7505  ...              671.6886   \n",
       "\n",
       "   maflowv                                               geom  \\\n",
       "0    0.851  MULTILINESTRING Z ((464640.526 4392120.603 0.0...   \n",
       "1    4.095  MULTILINESTRING Z ((475214.244 4387090.507 0.0...   \n",
       "2   46.551  MULTILINESTRING Z ((466629.746 4389974.935 0.0...   \n",
       "3    0.853  MULTILINESTRING Z ((464126.108 4390585.993 0.0...   \n",
       "4    4.278  MULTILINESTRING Z ((469829.385 4385294.187 0.0...   \n",
       "\n",
       "                                      geom_catchment  \\\n",
       "0  01060000206A7F000001000000010300000001000000B5...   \n",
       "1  01060000206A7F0000010000000103000000010000000B...   \n",
       "2  01060000206A7F000001000000010300000001000000A2...   \n",
       "3  01060000206A7F0000010000000103000000010000000A...   \n",
       "4  01060000206A7F000001000000010300000001000000A7...   \n",
       "\n",
       "                       cluster fa_name sub_focusarea     nord  nordstop  \\\n",
       "0  Kirkwood - Cohansey Aquifer    None           NaN  64056.0   64056.0   \n",
       "1  Kirkwood - Cohansey Aquifer    None           NaN  64097.0   64099.0   \n",
       "2  Kirkwood - Cohansey Aquifer    None           NaN  64065.0   64131.0   \n",
       "3  Kirkwood - Cohansey Aquifer    None           NaN  64055.0   64056.0   \n",
       "4  Kirkwood - Cohansey Aquifer    None           NaN  64130.0   64130.0   \n",
       "\n",
       "          huc12  \n",
       "0  020402060102  \n",
       "1  020402060102  \n",
       "2  020402060102  \n",
       "3  020402060102  \n",
       "4  020402060102  \n",
       "\n",
       "[5 rows x 21 columns]"
      ]
     },
     "execution_count": 20,
     "metadata": {},
     "output_type": "execute_result"
    }
   ],
   "source": [
    "base_df.head()"
   ]
  },
  {
   "cell_type": "code",
   "execution_count": 21,
   "metadata": {},
   "outputs": [],
   "source": [
    "# Set index to comid\n",
    "# https://pandas.pydata.org/pandas-docs/stable/reference/api/pandas.DataFrame.set_index.html\n",
    "base_df.set_index('comid', inplace=True)\n",
    "rest_df.set_index('comid', inplace=True)"
   ]
  },
  {
   "cell_type": "code",
   "execution_count": 22,
   "metadata": {},
   "outputs": [
    {
     "data": {
      "text/plain": [
       "Int64Index([9480578, 9480748, 9481982, 9481946, 9481678, 9481682, 9480760,\n",
       "            9481674, 9480622, 9480786,\n",
       "            ...\n",
       "            9481992, 9480740, 9482036, 9480612, 9480660, 9480638, 9482008,\n",
       "            9481702, 9480700, 9481960],\n",
       "           dtype='int64', name='comid', length=19496)"
      ]
     },
     "execution_count": 22,
     "metadata": {},
     "output_type": "execute_result"
    }
   ],
   "source": [
    "base_df.index"
   ]
  },
  {
   "cell_type": "code",
   "execution_count": 23,
   "metadata": {},
   "outputs": [
    {
     "data": {
      "text/plain": [
       "Int64Index([ 2612952,  2612782,  2612920,  2613460,  2612780,  2612792,\n",
       "             2612956,  2612794,  2612948,  2612950,\n",
       "            ...\n",
       "             9437009, 26814149,  9437007,  9437021,  9436995,  9437027,\n",
       "             9437011,  9436999,  8409259,  8409235],\n",
       "           dtype='int64', name='comid', length=19496)"
      ]
     },
     "execution_count": 23,
     "metadata": {},
     "output_type": "execute_result"
    }
   ],
   "source": [
    "rest_df.index"
   ]
  },
  {
   "cell_type": "code",
   "execution_count": 24,
   "metadata": {},
   "outputs": [
    {
     "name": "stdout",
     "output_type": "stream",
     "text": [
      "<class 'geopandas.geodataframe.GeoDataFrame'>\n",
      "Int64Index: 19496 entries, 9480578 to 9481960\n",
      "Data columns (total 20 columns):\n",
      " #   Column                Non-Null Count  Dtype   \n",
      "---  ------                --------------  -----   \n",
      " 0   tploadrate_total      19496 non-null  float64 \n",
      " 1   tploadate_conc        19496 non-null  float64 \n",
      " 2   tnloadrate_total      19496 non-null  float64 \n",
      " 3   tnloadate_conc        19496 non-null  float64 \n",
      " 4   tssloadrate_total     19496 non-null  float64 \n",
      " 5   tssloadate_conc       19496 non-null  float64 \n",
      " 6   catchment_hectares    19496 non-null  float64 \n",
      " 7   watershed_hectares    19496 non-null  float64 \n",
      " 8   tploadrate_total_ws   19496 non-null  float64 \n",
      " 9   tnloadrate_total_ws   19496 non-null  float64 \n",
      " 10  tssloadrate_total_ws  19496 non-null  float64 \n",
      " 11  maflowv               19496 non-null  float64 \n",
      " 12  geom                  19266 non-null  geometry\n",
      " 13  geom_catchment        19496 non-null  object  \n",
      " 14  cluster               17358 non-null  object  \n",
      " 15  fa_name               186 non-null    object  \n",
      " 16  sub_focusarea         186 non-null    float64 \n",
      " 17  nord                  18870 non-null  float64 \n",
      " 18  nordstop              18844 non-null  float64 \n",
      " 19  huc12                 19496 non-null  object  \n",
      "dtypes: float64(15), geometry(1), object(4)\n",
      "memory usage: 3.1+ MB\n"
     ]
    }
   ],
   "source": [
    "base_df.info()"
   ]
  },
  {
   "cell_type": "markdown",
   "metadata": {},
   "source": [
    "### Read again To Set Catchment Geometry\n",
    "This reruns the `gpd.read_postgis()` function with the optional argument `geom_col=\"geom_catchment\"`, as a workaround for converting both the flowlines and the catchment boundaries to geometry datatypes."
   ]
  },
  {
   "cell_type": "code",
   "execution_count": 25,
   "metadata": {},
   "outputs": [
    {
     "name": "stdout",
     "output_type": "stream",
     "text": [
      "CPU times: user 4.01 s, sys: 907 ms, total: 4.92 s\n",
      "Wall time: 27.5 s\n"
     ]
    }
   ],
   "source": [
    "%%time\n",
    "# get catchment geometry\n",
    "base_catch = 'SELECT comid, geom_catchment FROM wikiwtershedoutputs.{}'.format(tablename_base)\n",
    "rest_catch = 'SELECT comid, geom_catchment FROM wikiwtershedoutputs.{}'.format(tablename_rest)\n",
    "\n",
    "base_df_catch = gpd.read_postgis(base_catch, con, geom_col=\"geom_catchment\")\n",
    "rest_df_catch = gpd.read_postgis(rest_catch, con, geom_col=\"geom_catchment\")"
   ]
  },
  {
   "cell_type": "code",
   "execution_count": 40,
   "metadata": {},
   "outputs": [
    {
     "name": "stdout",
     "output_type": "stream",
     "text": [
      "<class 'geopandas.geodataframe.GeoDataFrame'>\n",
      "Int64Index: 19496 entries, 9480578 to 9481960\n",
      "Data columns (total 1 columns):\n",
      " #   Column          Non-Null Count  Dtype   \n",
      "---  ------          --------------  -----   \n",
      " 0   geom_catchment  19496 non-null  geometry\n",
      "dtypes: geometry(1)\n",
      "memory usage: 304.6 KB\n"
     ]
    }
   ],
   "source": [
    "base_df_catch.info()"
   ]
  },
  {
   "cell_type": "code",
   "execution_count": 27,
   "metadata": {},
   "outputs": [],
   "source": [
    "# Set index to comid\n",
    "# https://pandas.pydata.org/pandas-docs/stable/reference/api/pandas.DataFrame.set_index.html\n",
    "base_df_catch.set_index('comid', inplace=True)\n",
    "rest_df_catch.set_index('comid', inplace=True)"
   ]
  },
  {
   "cell_type": "markdown",
   "metadata": {},
   "source": [
    "### Replace `geom_catchment` Object with Geometry DType"
   ]
  },
  {
   "cell_type": "code",
   "execution_count": 28,
   "metadata": {},
   "outputs": [],
   "source": [
    "# merge\n",
    "base_df['geom_catchment'] = base_df_catch['geom_catchment']\n",
    "rest_df['geom_catchment'] = rest_df_catch['geom_catchment']"
   ]
  },
  {
   "cell_type": "code",
   "execution_count": 32,
   "metadata": {},
   "outputs": [
    {
     "data": {
      "text/html": [
       "<div>\n",
       "<style scoped>\n",
       "    .dataframe tbody tr th:only-of-type {\n",
       "        vertical-align: middle;\n",
       "    }\n",
       "\n",
       "    .dataframe tbody tr th {\n",
       "        vertical-align: top;\n",
       "    }\n",
       "\n",
       "    .dataframe thead th {\n",
       "        text-align: right;\n",
       "    }\n",
       "</style>\n",
       "<table border=\"1\" class=\"dataframe\">\n",
       "  <thead>\n",
       "    <tr style=\"text-align: right;\">\n",
       "      <th></th>\n",
       "      <th>tploadrate_total</th>\n",
       "      <th>tploadate_conc</th>\n",
       "      <th>tnloadrate_total</th>\n",
       "      <th>tnloadate_conc</th>\n",
       "      <th>tssloadrate_total</th>\n",
       "      <th>tssloadate_conc</th>\n",
       "      <th>catchment_hectares</th>\n",
       "      <th>watershed_hectares</th>\n",
       "      <th>tploadrate_total_ws</th>\n",
       "      <th>tnloadrate_total_ws</th>\n",
       "      <th>tssloadrate_total_ws</th>\n",
       "      <th>maflowv</th>\n",
       "      <th>geom</th>\n",
       "      <th>geom_catchment</th>\n",
       "      <th>cluster</th>\n",
       "      <th>fa_name</th>\n",
       "      <th>sub_focusarea</th>\n",
       "      <th>nord</th>\n",
       "      <th>nordstop</th>\n",
       "      <th>huc12</th>\n",
       "    </tr>\n",
       "    <tr>\n",
       "      <th>comid</th>\n",
       "      <th></th>\n",
       "      <th></th>\n",
       "      <th></th>\n",
       "      <th></th>\n",
       "      <th></th>\n",
       "      <th></th>\n",
       "      <th></th>\n",
       "      <th></th>\n",
       "      <th></th>\n",
       "      <th></th>\n",
       "      <th></th>\n",
       "      <th></th>\n",
       "      <th></th>\n",
       "      <th></th>\n",
       "      <th></th>\n",
       "      <th></th>\n",
       "      <th></th>\n",
       "      <th></th>\n",
       "      <th></th>\n",
       "      <th></th>\n",
       "    </tr>\n",
       "  </thead>\n",
       "  <tbody>\n",
       "    <tr>\n",
       "      <th>9480578</th>\n",
       "      <td>137.9295</td>\n",
       "      <td>0.1814</td>\n",
       "      <td>529.1511</td>\n",
       "      <td>0.6958</td>\n",
       "      <td>137638.1583</td>\n",
       "      <td>180.9927</td>\n",
       "      <td>194.6102</td>\n",
       "      <td>194.76</td>\n",
       "      <td>0.7083</td>\n",
       "      <td>2.7168</td>\n",
       "      <td>706.7063</td>\n",
       "      <td>0.851</td>\n",
       "      <td>MULTILINESTRING Z ((464640.526 4392120.603 0.0...</td>\n",
       "      <td>MULTIPOLYGON (((464174.332 4390560.985, 464180...</td>\n",
       "      <td>Kirkwood - Cohansey Aquifer</td>\n",
       "      <td>None</td>\n",
       "      <td>NaN</td>\n",
       "      <td>64056.0</td>\n",
       "      <td>64056.0</td>\n",
       "      <td>020402060102</td>\n",
       "    </tr>\n",
       "    <tr>\n",
       "      <th>9480748</th>\n",
       "      <td>1.1351</td>\n",
       "      <td>0.1795</td>\n",
       "      <td>35.3758</td>\n",
       "      <td>4.4193</td>\n",
       "      <td>1567.6093</td>\n",
       "      <td>120.4098</td>\n",
       "      <td>2.8777</td>\n",
       "      <td>840.51</td>\n",
       "      <td>0.7815</td>\n",
       "      <td>19.2403</td>\n",
       "      <td>524.2289</td>\n",
       "      <td>4.095</td>\n",
       "      <td>MULTILINESTRING Z ((475214.244 4387090.507 0.0...</td>\n",
       "      <td>MULTIPOLYGON (((475252.372 4387049.060, 475163...</td>\n",
       "      <td>Kirkwood - Cohansey Aquifer</td>\n",
       "      <td>None</td>\n",
       "      <td>NaN</td>\n",
       "      <td>64097.0</td>\n",
       "      <td>64099.0</td>\n",
       "      <td>020402060102</td>\n",
       "    </tr>\n",
       "    <tr>\n",
       "      <th>9481982</th>\n",
       "      <td>145.5457</td>\n",
       "      <td>0.1069</td>\n",
       "      <td>571.2896</td>\n",
       "      <td>3.5045</td>\n",
       "      <td>117610.9142</td>\n",
       "      <td>103.1548</td>\n",
       "      <td>199.2860</td>\n",
       "      <td>8919.54</td>\n",
       "      <td>0.4986</td>\n",
       "      <td>16.3441</td>\n",
       "      <td>481.0876</td>\n",
       "      <td>46.551</td>\n",
       "      <td>MULTILINESTRING Z ((466629.746 4389974.935 0.0...</td>\n",
       "      <td>MULTIPOLYGON (((465685.660 4389709.497, 465712...</td>\n",
       "      <td>Kirkwood - Cohansey Aquifer</td>\n",
       "      <td>None</td>\n",
       "      <td>NaN</td>\n",
       "      <td>64065.0</td>\n",
       "      <td>64131.0</td>\n",
       "      <td>020402060102</td>\n",
       "    </tr>\n",
       "  </tbody>\n",
       "</table>\n",
       "</div>"
      ],
      "text/plain": [
       "         tploadrate_total  tploadate_conc  tnloadrate_total  tnloadate_conc  \\\n",
       "comid                                                                         \n",
       "9480578          137.9295          0.1814          529.1511          0.6958   \n",
       "9480748            1.1351          0.1795           35.3758          4.4193   \n",
       "9481982          145.5457          0.1069          571.2896          3.5045   \n",
       "\n",
       "         tssloadrate_total  tssloadate_conc  catchment_hectares  \\\n",
       "comid                                                             \n",
       "9480578        137638.1583         180.9927            194.6102   \n",
       "9480748          1567.6093         120.4098              2.8777   \n",
       "9481982        117610.9142         103.1548            199.2860   \n",
       "\n",
       "         watershed_hectares  tploadrate_total_ws  tnloadrate_total_ws  \\\n",
       "comid                                                                   \n",
       "9480578              194.76               0.7083               2.7168   \n",
       "9480748              840.51               0.7815              19.2403   \n",
       "9481982             8919.54               0.4986              16.3441   \n",
       "\n",
       "         tssloadrate_total_ws  maflowv  \\\n",
       "comid                                    \n",
       "9480578              706.7063    0.851   \n",
       "9480748              524.2289    4.095   \n",
       "9481982              481.0876   46.551   \n",
       "\n",
       "                                                      geom  \\\n",
       "comid                                                        \n",
       "9480578  MULTILINESTRING Z ((464640.526 4392120.603 0.0...   \n",
       "9480748  MULTILINESTRING Z ((475214.244 4387090.507 0.0...   \n",
       "9481982  MULTILINESTRING Z ((466629.746 4389974.935 0.0...   \n",
       "\n",
       "                                            geom_catchment  \\\n",
       "comid                                                        \n",
       "9480578  MULTIPOLYGON (((464174.332 4390560.985, 464180...   \n",
       "9480748  MULTIPOLYGON (((475252.372 4387049.060, 475163...   \n",
       "9481982  MULTIPOLYGON (((465685.660 4389709.497, 465712...   \n",
       "\n",
       "                             cluster fa_name  sub_focusarea     nord  \\\n",
       "comid                                                                  \n",
       "9480578  Kirkwood - Cohansey Aquifer    None            NaN  64056.0   \n",
       "9480748  Kirkwood - Cohansey Aquifer    None            NaN  64097.0   \n",
       "9481982  Kirkwood - Cohansey Aquifer    None            NaN  64065.0   \n",
       "\n",
       "         nordstop         huc12  \n",
       "comid                            \n",
       "9480578   64056.0  020402060102  \n",
       "9480748   64099.0  020402060102  \n",
       "9481982   64131.0  020402060102  "
      ]
     },
     "execution_count": 32,
     "metadata": {},
     "output_type": "execute_result"
    }
   ],
   "source": [
    "base_df.head(3)"
   ]
  },
  {
   "cell_type": "code",
   "execution_count": 43,
   "metadata": {},
   "outputs": [
    {
     "data": {
      "text/html": [
       "<div>\n",
       "<style scoped>\n",
       "    .dataframe tbody tr th:only-of-type {\n",
       "        vertical-align: middle;\n",
       "    }\n",
       "\n",
       "    .dataframe tbody tr th {\n",
       "        vertical-align: top;\n",
       "    }\n",
       "\n",
       "    .dataframe thead th {\n",
       "        text-align: right;\n",
       "    }\n",
       "</style>\n",
       "<table border=\"1\" class=\"dataframe\">\n",
       "  <thead>\n",
       "    <tr style=\"text-align: right;\">\n",
       "      <th></th>\n",
       "      <th>tp_load</th>\n",
       "      <th>tp_conc</th>\n",
       "      <th>tn_load</th>\n",
       "      <th>tn_conc</th>\n",
       "      <th>tss_load</th>\n",
       "      <th>tss_conc</th>\n",
       "      <th>catchment_hectares</th>\n",
       "      <th>watershed_hectares</th>\n",
       "      <th>tp_loadrate_ws</th>\n",
       "      <th>tn_loadrate_ws</th>\n",
       "      <th>tss_loadrate_ws</th>\n",
       "      <th>maflowv</th>\n",
       "      <th>geom</th>\n",
       "      <th>geom_catchment</th>\n",
       "      <th>cluster</th>\n",
       "      <th>fa_name</th>\n",
       "      <th>sub_focusarea</th>\n",
       "      <th>nord</th>\n",
       "      <th>nordstop</th>\n",
       "      <th>huc12</th>\n",
       "    </tr>\n",
       "    <tr>\n",
       "      <th>comid</th>\n",
       "      <th></th>\n",
       "      <th></th>\n",
       "      <th></th>\n",
       "      <th></th>\n",
       "      <th></th>\n",
       "      <th></th>\n",
       "      <th></th>\n",
       "      <th></th>\n",
       "      <th></th>\n",
       "      <th></th>\n",
       "      <th></th>\n",
       "      <th></th>\n",
       "      <th></th>\n",
       "      <th></th>\n",
       "      <th></th>\n",
       "      <th></th>\n",
       "      <th></th>\n",
       "      <th></th>\n",
       "      <th></th>\n",
       "      <th></th>\n",
       "    </tr>\n",
       "  </thead>\n",
       "  <tbody>\n",
       "    <tr>\n",
       "      <th>2612952</th>\n",
       "      <td>0.6351</td>\n",
       "      <td>0.0200</td>\n",
       "      <td>11.5479</td>\n",
       "      <td>0.2536</td>\n",
       "      <td>1173.0077</td>\n",
       "      <td>8.8315</td>\n",
       "      <td>6.3851</td>\n",
       "      <td>981.00</td>\n",
       "      <td>0.1216</td>\n",
       "      <td>1.5422</td>\n",
       "      <td>53.7069</td>\n",
       "      <td>6.676</td>\n",
       "      <td>MULTILINESTRING Z ((531509.616 4697096.509 0.0...</td>\n",
       "      <td>MULTIPOLYGON (((531066.887 4697023.252, 531073...</td>\n",
       "      <td>drb</td>\n",
       "      <td>None</td>\n",
       "      <td>NaN</td>\n",
       "      <td>74295.0</td>\n",
       "      <td>74299.0</td>\n",
       "      <td>020401010101</td>\n",
       "    </tr>\n",
       "    <tr>\n",
       "      <th>2612782</th>\n",
       "      <td>51.2284</td>\n",
       "      <td>0.0188</td>\n",
       "      <td>758.0229</td>\n",
       "      <td>0.2414</td>\n",
       "      <td>22417.1069</td>\n",
       "      <td>7.4794</td>\n",
       "      <td>524.1138</td>\n",
       "      <td>906.39</td>\n",
       "      <td>0.1147</td>\n",
       "      <td>1.4734</td>\n",
       "      <td>45.6521</td>\n",
       "      <td>6.191</td>\n",
       "      <td>MULTILINESTRING Z ((531592.400 4699047.630 0.0...</td>\n",
       "      <td>MULTIPOLYGON (((531741.244 4696996.221, 531747...</td>\n",
       "      <td>drb</td>\n",
       "      <td>None</td>\n",
       "      <td>NaN</td>\n",
       "      <td>74297.0</td>\n",
       "      <td>74299.0</td>\n",
       "      <td>020401010101</td>\n",
       "    </tr>\n",
       "    <tr>\n",
       "      <th>2612920</th>\n",
       "      <td>797.8818</td>\n",
       "      <td>0.0373</td>\n",
       "      <td>8339.1431</td>\n",
       "      <td>0.4056</td>\n",
       "      <td>366215.4767</td>\n",
       "      <td>17.1041</td>\n",
       "      <td>3191.3462</td>\n",
       "      <td>4174.83</td>\n",
       "      <td>0.2170</td>\n",
       "      <td>2.3596</td>\n",
       "      <td>99.5046</td>\n",
       "      <td>27.179</td>\n",
       "      <td>MULTILINESTRING Z ((531474.494 4696977.042 0.0...</td>\n",
       "      <td>MULTIPOLYGON (((526550.250 4691030.315, 526556...</td>\n",
       "      <td>drb</td>\n",
       "      <td>None</td>\n",
       "      <td>NaN</td>\n",
       "      <td>74294.0</td>\n",
       "      <td>74299.0</td>\n",
       "      <td>020401010101</td>\n",
       "    </tr>\n",
       "  </tbody>\n",
       "</table>\n",
       "</div>"
      ],
      "text/plain": [
       "          tp_load  tp_conc    tn_load  tn_conc     tss_load  tss_conc  \\\n",
       "comid                                                                   \n",
       "2612952    0.6351   0.0200    11.5479   0.2536    1173.0077    8.8315   \n",
       "2612782   51.2284   0.0188   758.0229   0.2414   22417.1069    7.4794   \n",
       "2612920  797.8818   0.0373  8339.1431   0.4056  366215.4767   17.1041   \n",
       "\n",
       "         catchment_hectares  watershed_hectares  tp_loadrate_ws  \\\n",
       "comid                                                             \n",
       "2612952              6.3851              981.00          0.1216   \n",
       "2612782            524.1138              906.39          0.1147   \n",
       "2612920           3191.3462             4174.83          0.2170   \n",
       "\n",
       "         tn_loadrate_ws  tss_loadrate_ws  maflowv  \\\n",
       "comid                                               \n",
       "2612952          1.5422          53.7069    6.676   \n",
       "2612782          1.4734          45.6521    6.191   \n",
       "2612920          2.3596          99.5046   27.179   \n",
       "\n",
       "                                                      geom  \\\n",
       "comid                                                        \n",
       "2612952  MULTILINESTRING Z ((531509.616 4697096.509 0.0...   \n",
       "2612782  MULTILINESTRING Z ((531592.400 4699047.630 0.0...   \n",
       "2612920  MULTILINESTRING Z ((531474.494 4696977.042 0.0...   \n",
       "\n",
       "                                            geom_catchment cluster fa_name  \\\n",
       "comid                                                                        \n",
       "2612952  MULTIPOLYGON (((531066.887 4697023.252, 531073...     drb    None   \n",
       "2612782  MULTIPOLYGON (((531741.244 4696996.221, 531747...     drb    None   \n",
       "2612920  MULTIPOLYGON (((526550.250 4691030.315, 526556...     drb    None   \n",
       "\n",
       "         sub_focusarea     nord  nordstop         huc12  \n",
       "comid                                                    \n",
       "2612952            NaN  74295.0   74299.0  020401010101  \n",
       "2612782            NaN  74297.0   74299.0  020401010101  \n",
       "2612920            NaN  74294.0   74299.0  020401010101  "
      ]
     },
     "execution_count": 43,
     "metadata": {},
     "output_type": "execute_result"
    }
   ],
   "source": [
    "rest_df.head(3)"
   ]
  },
  {
   "cell_type": "markdown",
   "metadata": {},
   "source": [
    "### Sort Indices\n",
    "\n",
    "Docs: https://pandas.pydata.org/docs/reference/api/pandas.DataFrame.sort_index.html"
   ]
  },
  {
   "cell_type": "code",
   "execution_count": 44,
   "metadata": {},
   "outputs": [],
   "source": [
    "base_df.sort_index(inplace=True)\n",
    "rest_df.sort_index(inplace=True)"
   ]
  },
  {
   "cell_type": "code",
   "execution_count": 45,
   "metadata": {},
   "outputs": [
    {
     "data": {
      "text/plain": [
       "Int64Index([  1748535,   1748537,   1748539,   1748541,   1748543,   1748545,\n",
       "              1748547,   1748549,   1748551,   1748553,\n",
       "            ...\n",
       "            932040361, 932040362, 932040363, 932040364, 932040365, 932040366,\n",
       "            932040367, 932040368, 932040369, 932040370],\n",
       "           dtype='int64', name='comid', length=19496)"
      ]
     },
     "execution_count": 45,
     "metadata": {},
     "output_type": "execute_result"
    }
   ],
   "source": [
    "base_df.index"
   ]
  },
  {
   "cell_type": "code",
   "execution_count": 46,
   "metadata": {},
   "outputs": [
    {
     "data": {
      "text/plain": [
       "Int64Index([  1748535,   1748537,   1748539,   1748541,   1748543,   1748545,\n",
       "              1748547,   1748549,   1748551,   1748553,\n",
       "            ...\n",
       "            932040361, 932040362, 932040363, 932040364, 932040365, 932040366,\n",
       "            932040367, 932040368, 932040369, 932040370],\n",
       "           dtype='int64', name='comid', length=19496)"
      ]
     },
     "execution_count": 46,
     "metadata": {},
     "output_type": "execute_result"
    }
   ],
   "source": [
    "rest_df.index"
   ]
  },
  {
   "cell_type": "markdown",
   "metadata": {},
   "source": [
    "### Correct Names\n",
    "\n",
    "**Note on `ploadrate_total`, etc.**  \n",
    "The microservice output says \"tploadrate_total\", however Mike suspected this is a mistake, and it actually is the local NHDplus catchment annual load (kg/ha). We confirmed this by comparing to Model My Watershed subbasin modeling output for specific COMDIDs.\n",
    "- The stream concentrations take into account the upstream watershed load, but this value is not returned. Mike calculated this when exporting the microservice results to PG for convenience, and saved as `tploadrate_total_ws` etc.\n",
    "\n",
    "This code block assigns more accurate, shorter names to selected columns.\n",
    "\n",
    "Docs for `DataFrame.rename()`:\n",
    "- https://pandas.pydata.org/docs/reference/api/pandas.DataFrame.rename.html"
   ]
  },
  {
   "cell_type": "code",
   "execution_count": 47,
   "metadata": {},
   "outputs": [
    {
     "data": {
      "text/html": [
       "<div>\n",
       "<style scoped>\n",
       "    .dataframe tbody tr th:only-of-type {\n",
       "        vertical-align: middle;\n",
       "    }\n",
       "\n",
       "    .dataframe tbody tr th {\n",
       "        vertical-align: top;\n",
       "    }\n",
       "\n",
       "    .dataframe thead th {\n",
       "        text-align: right;\n",
       "    }\n",
       "</style>\n",
       "<table border=\"1\" class=\"dataframe\">\n",
       "  <thead>\n",
       "    <tr style=\"text-align: right;\">\n",
       "      <th></th>\n",
       "      <th>tp_load</th>\n",
       "      <th>tp_conc</th>\n",
       "      <th>tn_load</th>\n",
       "      <th>tn_conc</th>\n",
       "      <th>tss_load</th>\n",
       "      <th>tss_conc</th>\n",
       "      <th>catchment_hectares</th>\n",
       "      <th>watershed_hectares</th>\n",
       "      <th>tp_loadrate_ws</th>\n",
       "      <th>tn_loadrate_ws</th>\n",
       "      <th>tss_loadrate_ws</th>\n",
       "      <th>maflowv</th>\n",
       "      <th>geom</th>\n",
       "      <th>geom_catchment</th>\n",
       "      <th>cluster</th>\n",
       "      <th>fa_name</th>\n",
       "      <th>sub_focusarea</th>\n",
       "      <th>nord</th>\n",
       "      <th>nordstop</th>\n",
       "      <th>huc12</th>\n",
       "    </tr>\n",
       "    <tr>\n",
       "      <th>comid</th>\n",
       "      <th></th>\n",
       "      <th></th>\n",
       "      <th></th>\n",
       "      <th></th>\n",
       "      <th></th>\n",
       "      <th></th>\n",
       "      <th></th>\n",
       "      <th></th>\n",
       "      <th></th>\n",
       "      <th></th>\n",
       "      <th></th>\n",
       "      <th></th>\n",
       "      <th></th>\n",
       "      <th></th>\n",
       "      <th></th>\n",
       "      <th></th>\n",
       "      <th></th>\n",
       "      <th></th>\n",
       "      <th></th>\n",
       "      <th></th>\n",
       "    </tr>\n",
       "  </thead>\n",
       "  <tbody>\n",
       "    <tr>\n",
       "      <th>1748535</th>\n",
       "      <td>881.4618</td>\n",
       "      <td>0.0226</td>\n",
       "      <td>10322.4299</td>\n",
       "      <td>0.2643</td>\n",
       "      <td>390433.1419</td>\n",
       "      <td>9.9983</td>\n",
       "      <td>6496.7052</td>\n",
       "      <td>6501.69</td>\n",
       "      <td>0.1357</td>\n",
       "      <td>1.5874</td>\n",
       "      <td>60.0509</td>\n",
       "      <td>43.699</td>\n",
       "      <td>MULTILINESTRING Z ((539681.467 4689416.166 0.0...</td>\n",
       "      <td>MULTIPOLYGON (((535287.346 4678015.900, 535140...</td>\n",
       "      <td>drb</td>\n",
       "      <td>None</td>\n",
       "      <td>NaN</td>\n",
       "      <td>74914.0</td>\n",
       "      <td>74914.0</td>\n",
       "      <td>020401020302</td>\n",
       "    </tr>\n",
       "    <tr>\n",
       "      <th>1748537</th>\n",
       "      <td>296.6355</td>\n",
       "      <td>0.0297</td>\n",
       "      <td>3165.6081</td>\n",
       "      <td>0.3166</td>\n",
       "      <td>88090.7401</td>\n",
       "      <td>8.8103</td>\n",
       "      <td>1663.1712</td>\n",
       "      <td>1664.46</td>\n",
       "      <td>0.1784</td>\n",
       "      <td>1.9019</td>\n",
       "      <td>52.9245</td>\n",
       "      <td>11.189</td>\n",
       "      <td>MULTILINESTRING Z ((532825.185 4684387.302 0.0...</td>\n",
       "      <td>MULTIPOLYGON (((532639.560 4678753.867, 532610...</td>\n",
       "      <td>drb</td>\n",
       "      <td>None</td>\n",
       "      <td>NaN</td>\n",
       "      <td>74913.0</td>\n",
       "      <td>74913.0</td>\n",
       "      <td>020401020302</td>\n",
       "    </tr>\n",
       "    <tr>\n",
       "      <th>1748539</th>\n",
       "      <td>350.9217</td>\n",
       "      <td>0.0350</td>\n",
       "      <td>2816.4257</td>\n",
       "      <td>0.2808</td>\n",
       "      <td>117212.5160</td>\n",
       "      <td>11.6874</td>\n",
       "      <td>1639.4128</td>\n",
       "      <td>1640.70</td>\n",
       "      <td>0.2139</td>\n",
       "      <td>1.7164</td>\n",
       "      <td>71.4407</td>\n",
       "      <td>11.223</td>\n",
       "      <td>MULTILINESTRING Z ((524096.535 4677200.269 0.0...</td>\n",
       "      <td>MULTIPOLYGON (((525043.074 4672557.985, 525013...</td>\n",
       "      <td>drb</td>\n",
       "      <td>None</td>\n",
       "      <td>NaN</td>\n",
       "      <td>74921.0</td>\n",
       "      <td>74921.0</td>\n",
       "      <td>020401020305</td>\n",
       "    </tr>\n",
       "  </tbody>\n",
       "</table>\n",
       "</div>"
      ],
      "text/plain": [
       "          tp_load  tp_conc     tn_load  tn_conc     tss_load  tss_conc  \\\n",
       "comid                                                                    \n",
       "1748535  881.4618   0.0226  10322.4299   0.2643  390433.1419    9.9983   \n",
       "1748537  296.6355   0.0297   3165.6081   0.3166   88090.7401    8.8103   \n",
       "1748539  350.9217   0.0350   2816.4257   0.2808  117212.5160   11.6874   \n",
       "\n",
       "         catchment_hectares  watershed_hectares  tp_loadrate_ws  \\\n",
       "comid                                                             \n",
       "1748535           6496.7052             6501.69          0.1357   \n",
       "1748537           1663.1712             1664.46          0.1784   \n",
       "1748539           1639.4128             1640.70          0.2139   \n",
       "\n",
       "         tn_loadrate_ws  tss_loadrate_ws  maflowv  \\\n",
       "comid                                               \n",
       "1748535          1.5874          60.0509   43.699   \n",
       "1748537          1.9019          52.9245   11.189   \n",
       "1748539          1.7164          71.4407   11.223   \n",
       "\n",
       "                                                      geom  \\\n",
       "comid                                                        \n",
       "1748535  MULTILINESTRING Z ((539681.467 4689416.166 0.0...   \n",
       "1748537  MULTILINESTRING Z ((532825.185 4684387.302 0.0...   \n",
       "1748539  MULTILINESTRING Z ((524096.535 4677200.269 0.0...   \n",
       "\n",
       "                                            geom_catchment cluster fa_name  \\\n",
       "comid                                                                        \n",
       "1748535  MULTIPOLYGON (((535287.346 4678015.900, 535140...     drb    None   \n",
       "1748537  MULTIPOLYGON (((532639.560 4678753.867, 532610...     drb    None   \n",
       "1748539  MULTIPOLYGON (((525043.074 4672557.985, 525013...     drb    None   \n",
       "\n",
       "         sub_focusarea     nord  nordstop         huc12  \n",
       "comid                                                    \n",
       "1748535            NaN  74914.0   74914.0  020401020302  \n",
       "1748537            NaN  74913.0   74913.0  020401020302  \n",
       "1748539            NaN  74921.0   74921.0  020401020305  "
      ]
     },
     "execution_count": 47,
     "metadata": {},
     "output_type": "execute_result"
    }
   ],
   "source": [
    "base_df.rename(columns={'tploadrate_total':'tp_load',\n",
    "                        'tploadate_conc':'tp_conc',\n",
    "                        'tnloadrate_total':'tn_load',\n",
    "                        'tnloadate_conc':'tn_conc',\n",
    "                        'tssloadrate_total':'tss_load',\n",
    "                        'tssloadate_conc':'tss_conc',\n",
    "                        'tploadrate_total_ws':'tp_loadrate_ws',\n",
    "                        'tnloadrate_total_ws':'tn_loadrate_ws',\n",
    "                        'tssloadrate_total_ws':'tss_loadrate_ws',\n",
    "                       },\n",
    "               inplace=True,\n",
    "              )\n",
    "base_df.head(3)"
   ]
  },
  {
   "cell_type": "code",
   "execution_count": 48,
   "metadata": {},
   "outputs": [
    {
     "data": {
      "text/html": [
       "<div>\n",
       "<style scoped>\n",
       "    .dataframe tbody tr th:only-of-type {\n",
       "        vertical-align: middle;\n",
       "    }\n",
       "\n",
       "    .dataframe tbody tr th {\n",
       "        vertical-align: top;\n",
       "    }\n",
       "\n",
       "    .dataframe thead th {\n",
       "        text-align: right;\n",
       "    }\n",
       "</style>\n",
       "<table border=\"1\" class=\"dataframe\">\n",
       "  <thead>\n",
       "    <tr style=\"text-align: right;\">\n",
       "      <th></th>\n",
       "      <th>tp_load</th>\n",
       "      <th>tp_conc</th>\n",
       "      <th>tn_load</th>\n",
       "      <th>tn_conc</th>\n",
       "      <th>tss_load</th>\n",
       "      <th>tss_conc</th>\n",
       "      <th>catchment_hectares</th>\n",
       "      <th>watershed_hectares</th>\n",
       "      <th>tp_loadrate_ws</th>\n",
       "      <th>tn_loadrate_ws</th>\n",
       "      <th>tss_loadrate_ws</th>\n",
       "      <th>maflowv</th>\n",
       "      <th>geom</th>\n",
       "      <th>geom_catchment</th>\n",
       "      <th>cluster</th>\n",
       "      <th>fa_name</th>\n",
       "      <th>sub_focusarea</th>\n",
       "      <th>nord</th>\n",
       "      <th>nordstop</th>\n",
       "      <th>huc12</th>\n",
       "    </tr>\n",
       "    <tr>\n",
       "      <th>comid</th>\n",
       "      <th></th>\n",
       "      <th></th>\n",
       "      <th></th>\n",
       "      <th></th>\n",
       "      <th></th>\n",
       "      <th></th>\n",
       "      <th></th>\n",
       "      <th></th>\n",
       "      <th></th>\n",
       "      <th></th>\n",
       "      <th></th>\n",
       "      <th></th>\n",
       "      <th></th>\n",
       "      <th></th>\n",
       "      <th></th>\n",
       "      <th></th>\n",
       "      <th></th>\n",
       "      <th></th>\n",
       "      <th></th>\n",
       "      <th></th>\n",
       "    </tr>\n",
       "  </thead>\n",
       "  <tbody>\n",
       "    <tr>\n",
       "      <th>1748535</th>\n",
       "      <td>881.4618</td>\n",
       "      <td>0.0226</td>\n",
       "      <td>10322.4299</td>\n",
       "      <td>0.2643</td>\n",
       "      <td>390433.1419</td>\n",
       "      <td>9.9983</td>\n",
       "      <td>6496.7052</td>\n",
       "      <td>6501.69</td>\n",
       "      <td>0.1357</td>\n",
       "      <td>1.5874</td>\n",
       "      <td>60.0509</td>\n",
       "      <td>43.699</td>\n",
       "      <td>MULTILINESTRING Z ((539681.467 4689416.166 0.0...</td>\n",
       "      <td>MULTIPOLYGON (((535287.346 4678015.900, 535140...</td>\n",
       "      <td>drb</td>\n",
       "      <td>None</td>\n",
       "      <td>NaN</td>\n",
       "      <td>74914.0</td>\n",
       "      <td>74914.0</td>\n",
       "      <td>020401020302</td>\n",
       "    </tr>\n",
       "    <tr>\n",
       "      <th>1748537</th>\n",
       "      <td>296.6355</td>\n",
       "      <td>0.0297</td>\n",
       "      <td>3165.6081</td>\n",
       "      <td>0.3166</td>\n",
       "      <td>88090.7401</td>\n",
       "      <td>8.8103</td>\n",
       "      <td>1663.1712</td>\n",
       "      <td>1664.46</td>\n",
       "      <td>0.1784</td>\n",
       "      <td>1.9019</td>\n",
       "      <td>52.9245</td>\n",
       "      <td>11.189</td>\n",
       "      <td>MULTILINESTRING Z ((532825.185 4684387.302 0.0...</td>\n",
       "      <td>MULTIPOLYGON (((532639.560 4678753.867, 532610...</td>\n",
       "      <td>drb</td>\n",
       "      <td>None</td>\n",
       "      <td>NaN</td>\n",
       "      <td>74913.0</td>\n",
       "      <td>74913.0</td>\n",
       "      <td>020401020302</td>\n",
       "    </tr>\n",
       "    <tr>\n",
       "      <th>1748539</th>\n",
       "      <td>350.9217</td>\n",
       "      <td>0.0350</td>\n",
       "      <td>2816.4257</td>\n",
       "      <td>0.2808</td>\n",
       "      <td>117212.5160</td>\n",
       "      <td>11.6874</td>\n",
       "      <td>1639.4128</td>\n",
       "      <td>1640.70</td>\n",
       "      <td>0.2139</td>\n",
       "      <td>1.7164</td>\n",
       "      <td>71.4407</td>\n",
       "      <td>11.223</td>\n",
       "      <td>MULTILINESTRING Z ((524096.535 4677200.269 0.0...</td>\n",
       "      <td>MULTIPOLYGON (((525043.074 4672557.985, 525013...</td>\n",
       "      <td>drb</td>\n",
       "      <td>None</td>\n",
       "      <td>NaN</td>\n",
       "      <td>74921.0</td>\n",
       "      <td>74921.0</td>\n",
       "      <td>020401020305</td>\n",
       "    </tr>\n",
       "  </tbody>\n",
       "</table>\n",
       "</div>"
      ],
      "text/plain": [
       "          tp_load  tp_conc     tn_load  tn_conc     tss_load  tss_conc  \\\n",
       "comid                                                                    \n",
       "1748535  881.4618   0.0226  10322.4299   0.2643  390433.1419    9.9983   \n",
       "1748537  296.6355   0.0297   3165.6081   0.3166   88090.7401    8.8103   \n",
       "1748539  350.9217   0.0350   2816.4257   0.2808  117212.5160   11.6874   \n",
       "\n",
       "         catchment_hectares  watershed_hectares  tp_loadrate_ws  \\\n",
       "comid                                                             \n",
       "1748535           6496.7052             6501.69          0.1357   \n",
       "1748537           1663.1712             1664.46          0.1784   \n",
       "1748539           1639.4128             1640.70          0.2139   \n",
       "\n",
       "         tn_loadrate_ws  tss_loadrate_ws  maflowv  \\\n",
       "comid                                               \n",
       "1748535          1.5874          60.0509   43.699   \n",
       "1748537          1.9019          52.9245   11.189   \n",
       "1748539          1.7164          71.4407   11.223   \n",
       "\n",
       "                                                      geom  \\\n",
       "comid                                                        \n",
       "1748535  MULTILINESTRING Z ((539681.467 4689416.166 0.0...   \n",
       "1748537  MULTILINESTRING Z ((532825.185 4684387.302 0.0...   \n",
       "1748539  MULTILINESTRING Z ((524096.535 4677200.269 0.0...   \n",
       "\n",
       "                                            geom_catchment cluster fa_name  \\\n",
       "comid                                                                        \n",
       "1748535  MULTIPOLYGON (((535287.346 4678015.900, 535140...     drb    None   \n",
       "1748537  MULTIPOLYGON (((532639.560 4678753.867, 532610...     drb    None   \n",
       "1748539  MULTIPOLYGON (((525043.074 4672557.985, 525013...     drb    None   \n",
       "\n",
       "         sub_focusarea     nord  nordstop         huc12  \n",
       "comid                                                    \n",
       "1748535            NaN  74914.0   74914.0  020401020302  \n",
       "1748537            NaN  74913.0   74913.0  020401020302  \n",
       "1748539            NaN  74921.0   74921.0  020401020305  "
      ]
     },
     "execution_count": 48,
     "metadata": {},
     "output_type": "execute_result"
    }
   ],
   "source": [
    "rest_df.rename(columns={'tploadrate_total':'tp_load',\n",
    "                        'tploadate_conc':'tp_conc',\n",
    "                        'tnloadrate_total':'tn_load',\n",
    "                        'tnloadate_conc':'tn_conc',\n",
    "                        'tssloadrate_total':'tss_load',\n",
    "                        'tssloadate_conc':'tss_conc',\n",
    "                        'tploadrate_total_ws':'tp_loadrate_ws',\n",
    "                        'tnloadrate_total_ws':'tn_loadrate_ws',\n",
    "                        'tssloadrate_total_ws':'tss_loadrate_ws',\n",
    "                       },\n",
    "               inplace=True,\n",
    "              )\n",
    "rest_df.head(3)"
   ]
  },
  {
   "cell_type": "markdown",
   "metadata": {},
   "source": [
    "### Add Units\n",
    "\n",
    "Loads are in kg/y.  \n",
    "Concentrations are in mg/L.\n",
    "\n",
    "Options for the future:\n",
    "- https://stackoverflow.com/questions/14688306/adding-meta-information-metadata-to-pandas-dataframe\n",
    "- https://pandas.pydata.org/docs/reference/api/pandas.Series.attrs.html\n",
    "- https://stackoverflow.com/questions/39419178/how-can-i-manage-units-in-pandas-data\n",
    "- https://github.com/hgrecco/pint"
   ]
  },
  {
   "cell_type": "code",
   "execution_count": 88,
   "metadata": {},
   "outputs": [
    {
     "data": {
      "text/plain": [
       "{}"
      ]
     },
     "execution_count": 88,
     "metadata": {},
     "output_type": "execute_result"
    }
   ],
   "source": [
    "base_df.attrs"
   ]
  },
  {
   "cell_type": "code",
   "execution_count": 89,
   "metadata": {},
   "outputs": [
    {
     "data": {
      "text/plain": [
       "{}"
      ]
     },
     "execution_count": 89,
     "metadata": {},
     "output_type": "execute_result"
    }
   ],
   "source": [
    "base_df.tp_load.attrs"
   ]
  },
  {
   "cell_type": "markdown",
   "metadata": {
    "tags": []
   },
   "source": [
    "## Get the Protection Projects \"Avoided Loads\"\n",
    "\n",
    "Returns the results for the protection projects uploaded into FieldDoc. Protection projects were exploaded from multi-polygon to polygon then intersected with NHDplus COMID.\n",
    "\n",
    "The avoided load is taken as the Developed load - the Forested load. Assumes 100% developement to Medium Intensity (NLCD class 23). Only the average forested loading rate is provided in this table (averagess NLCD codes 41,42,43) in order to make the table simpler, however each land cover class' loading rate is explicitly used in the \"avoided\" load calculation.\n",
    "\n",
    "Primary Key\n",
    "- practice_i = FieldDoc (FD) primary key ID\n",
    "- rn = Row number for number of polygons in the multipolygon submitted to FD as a project\n",
    "- comid = NHDplus COMID intesecting with the protection polygon"
   ]
  },
  {
   "cell_type": "code",
   "execution_count": 5,
   "metadata": {},
   "outputs": [
    {
     "name": "stdout",
     "output_type": "stream",
     "text": [
      "Wall time: 1.02 s\n"
     ]
    }
   ],
   "source": [
    "%%time\n",
    "\n",
    "db_connection_url = \"postgresql://{}:{}@{}:{}/{}\".format(_user[0], _password[0], _host[0], _port, _database[0])\n",
    "con = create_engine(db_connection_url)  \n",
    "\n",
    "tablename_prot = 'protection_lbsavoided_fd'\n",
    "\n",
    "prot_select = 'SELECT * FROM datapolassess.{}'.format(tablename_prot)\n",
    "\n",
    "prot_df = gpd.read_postgis(prot_select, con)"
   ]
  },
  {
   "cell_type": "code",
   "execution_count": 6,
   "metadata": {},
   "outputs": [
    {
     "data": {
      "text/html": [
       "<div>\n",
       "<style scoped>\n",
       "    .dataframe tbody tr th:only-of-type {\n",
       "        vertical-align: middle;\n",
       "    }\n",
       "\n",
       "    .dataframe tbody tr th {\n",
       "        vertical-align: top;\n",
       "    }\n",
       "\n",
       "    .dataframe thead th {\n",
       "        text-align: right;\n",
       "    }\n",
       "</style>\n",
       "<table border=\"1\" class=\"dataframe\">\n",
       "  <thead>\n",
       "    <tr style=\"text-align: right;\">\n",
       "      <th></th>\n",
       "      <th>practice_i</th>\n",
       "      <th>practice_n</th>\n",
       "      <th>rn</th>\n",
       "      <th>comid</th>\n",
       "      <th>practice_t</th>\n",
       "      <th>practice_d</th>\n",
       "      <th>project_na</th>\n",
       "      <th>project_st</th>\n",
       "      <th>creator_na</th>\n",
       "      <th>program_id</th>\n",
       "      <th>...</th>\n",
       "      <th>parcel_devtssload_lbyr</th>\n",
       "      <th>parcel_foretssload_lbyr</th>\n",
       "      <th>parcel_tssload_lbyr_avoided</th>\n",
       "      <th>parcel_devtnload_lbyr</th>\n",
       "      <th>parcel_foretnload_lbyr</th>\n",
       "      <th>parcel_tnload_lbyr_avoided</th>\n",
       "      <th>parcel_devtpload_lbyr</th>\n",
       "      <th>parcel_foretpload_lbyr</th>\n",
       "      <th>parcel_tpload_lbyr_avoided</th>\n",
       "      <th>geom</th>\n",
       "    </tr>\n",
       "  </thead>\n",
       "  <tbody>\n",
       "    <tr>\n",
       "      <th>0</th>\n",
       "      <td>5289.0</td>\n",
       "      <td>Bear Creek</td>\n",
       "      <td>1</td>\n",
       "      <td>4185445</td>\n",
       "      <td>Fee acquisition</td>\n",
       "      <td>Acquisition</td>\n",
       "      <td>Bear Creek - Crystal Lake</td>\n",
       "      <td>complete</td>\n",
       "      <td>Dawn Gorham</td>\n",
       "      <td>5.0</td>\n",
       "      <td>...</td>\n",
       "      <td>175779.645</td>\n",
       "      <td>9187.118</td>\n",
       "      <td>166592.527</td>\n",
       "      <td>205.600</td>\n",
       "      <td>17.768</td>\n",
       "      <td>187.832</td>\n",
       "      <td>76.994</td>\n",
       "      <td>4.230</td>\n",
       "      <td>72.764</td>\n",
       "      <td>POLYGON ((-75.79484 41.17775, -75.79468 41.177...</td>\n",
       "    </tr>\n",
       "    <tr>\n",
       "      <th>1</th>\n",
       "      <td>5289.0</td>\n",
       "      <td>Bear Creek</td>\n",
       "      <td>1</td>\n",
       "      <td>4185461</td>\n",
       "      <td>Fee acquisition</td>\n",
       "      <td>Acquisition</td>\n",
       "      <td>Bear Creek - Crystal Lake</td>\n",
       "      <td>complete</td>\n",
       "      <td>Dawn Gorham</td>\n",
       "      <td>5.0</td>\n",
       "      <td>...</td>\n",
       "      <td>159240.637</td>\n",
       "      <td>8322.707</td>\n",
       "      <td>150917.930</td>\n",
       "      <td>186.255</td>\n",
       "      <td>16.096</td>\n",
       "      <td>170.159</td>\n",
       "      <td>69.750</td>\n",
       "      <td>3.832</td>\n",
       "      <td>65.918</td>\n",
       "      <td>POLYGON ((-75.78786 41.18276, -75.78756 41.182...</td>\n",
       "    </tr>\n",
       "    <tr>\n",
       "      <th>2</th>\n",
       "      <td>5289.0</td>\n",
       "      <td>Bear Creek</td>\n",
       "      <td>1</td>\n",
       "      <td>4185483</td>\n",
       "      <td>Fee acquisition</td>\n",
       "      <td>Acquisition</td>\n",
       "      <td>Bear Creek - Crystal Lake</td>\n",
       "      <td>complete</td>\n",
       "      <td>Dawn Gorham</td>\n",
       "      <td>5.0</td>\n",
       "      <td>...</td>\n",
       "      <td>235688.406</td>\n",
       "      <td>12318.247</td>\n",
       "      <td>223370.159</td>\n",
       "      <td>275.672</td>\n",
       "      <td>23.823</td>\n",
       "      <td>251.849</td>\n",
       "      <td>103.235</td>\n",
       "      <td>5.672</td>\n",
       "      <td>97.563</td>\n",
       "      <td>POLYGON ((-75.81161 41.17841, -75.81176 41.181...</td>\n",
       "    </tr>\n",
       "    <tr>\n",
       "      <th>3</th>\n",
       "      <td>5289.0</td>\n",
       "      <td>Bear Creek</td>\n",
       "      <td>1</td>\n",
       "      <td>4185485</td>\n",
       "      <td>Fee acquisition</td>\n",
       "      <td>Acquisition</td>\n",
       "      <td>Bear Creek - Crystal Lake</td>\n",
       "      <td>complete</td>\n",
       "      <td>Dawn Gorham</td>\n",
       "      <td>5.0</td>\n",
       "      <td>...</td>\n",
       "      <td>48109.916</td>\n",
       "      <td>2514.463</td>\n",
       "      <td>45595.453</td>\n",
       "      <td>56.272</td>\n",
       "      <td>4.863</td>\n",
       "      <td>51.409</td>\n",
       "      <td>21.073</td>\n",
       "      <td>1.158</td>\n",
       "      <td>19.915</td>\n",
       "      <td>POLYGON ((-75.80381 41.17354, -75.80405 41.173...</td>\n",
       "    </tr>\n",
       "    <tr>\n",
       "      <th>4</th>\n",
       "      <td>5289.0</td>\n",
       "      <td>Bear Creek</td>\n",
       "      <td>1</td>\n",
       "      <td>4185505</td>\n",
       "      <td>Fee acquisition</td>\n",
       "      <td>Acquisition</td>\n",
       "      <td>Bear Creek - Crystal Lake</td>\n",
       "      <td>complete</td>\n",
       "      <td>Dawn Gorham</td>\n",
       "      <td>5.0</td>\n",
       "      <td>...</td>\n",
       "      <td>40026.507</td>\n",
       "      <td>2083.105</td>\n",
       "      <td>37943.402</td>\n",
       "      <td>34.930</td>\n",
       "      <td>3.776</td>\n",
       "      <td>31.154</td>\n",
       "      <td>16.804</td>\n",
       "      <td>0.944</td>\n",
       "      <td>15.860</td>\n",
       "      <td>POLYGON ((-75.79805 41.17363, -75.80381 41.173...</td>\n",
       "    </tr>\n",
       "  </tbody>\n",
       "</table>\n",
       "<p>5 rows × 33 columns</p>\n",
       "</div>"
      ],
      "text/plain": [
       "   practice_i  practice_n  rn    comid       practice_t   practice_d  \\\n",
       "0      5289.0  Bear Creek   1  4185445  Fee acquisition  Acquisition   \n",
       "1      5289.0  Bear Creek   1  4185461  Fee acquisition  Acquisition   \n",
       "2      5289.0  Bear Creek   1  4185483  Fee acquisition  Acquisition   \n",
       "3      5289.0  Bear Creek   1  4185485  Fee acquisition  Acquisition   \n",
       "4      5289.0  Bear Creek   1  4185505  Fee acquisition  Acquisition   \n",
       "\n",
       "                  project_na project_st   creator_na  program_id  ...  \\\n",
       "0  Bear Creek - Crystal Lake   complete  Dawn Gorham         5.0  ...   \n",
       "1  Bear Creek - Crystal Lake   complete  Dawn Gorham         5.0  ...   \n",
       "2  Bear Creek - Crystal Lake   complete  Dawn Gorham         5.0  ...   \n",
       "3  Bear Creek - Crystal Lake   complete  Dawn Gorham         5.0  ...   \n",
       "4  Bear Creek - Crystal Lake   complete  Dawn Gorham         5.0  ...   \n",
       "\n",
       "  parcel_devtssload_lbyr parcel_foretssload_lbyr parcel_tssload_lbyr_avoided  \\\n",
       "0             175779.645                9187.118                  166592.527   \n",
       "1             159240.637                8322.707                  150917.930   \n",
       "2             235688.406               12318.247                  223370.159   \n",
       "3              48109.916                2514.463                   45595.453   \n",
       "4              40026.507                2083.105                   37943.402   \n",
       "\n",
       "  parcel_devtnload_lbyr parcel_foretnload_lbyr parcel_tnload_lbyr_avoided  \\\n",
       "0               205.600                 17.768                    187.832   \n",
       "1               186.255                 16.096                    170.159   \n",
       "2               275.672                 23.823                    251.849   \n",
       "3                56.272                  4.863                     51.409   \n",
       "4                34.930                  3.776                     31.154   \n",
       "\n",
       "   parcel_devtpload_lbyr  parcel_foretpload_lbyr  parcel_tpload_lbyr_avoided  \\\n",
       "0                 76.994                   4.230                      72.764   \n",
       "1                 69.750                   3.832                      65.918   \n",
       "2                103.235                   5.672                      97.563   \n",
       "3                 21.073                   1.158                      19.915   \n",
       "4                 16.804                   0.944                      15.860   \n",
       "\n",
       "                                                geom  \n",
       "0  POLYGON ((-75.79484 41.17775, -75.79468 41.177...  \n",
       "1  POLYGON ((-75.78786 41.18276, -75.78756 41.182...  \n",
       "2  POLYGON ((-75.81161 41.17841, -75.81176 41.181...  \n",
       "3  POLYGON ((-75.80381 41.17354, -75.80405 41.173...  \n",
       "4  POLYGON ((-75.79805 41.17363, -75.80381 41.173...  \n",
       "\n",
       "[5 rows x 33 columns]"
      ]
     },
     "execution_count": 6,
     "metadata": {},
     "output_type": "execute_result"
    }
   ],
   "source": [
    "prot_df.head()"
   ]
  },
  {
   "cell_type": "code",
   "execution_count": 7,
   "metadata": {},
   "outputs": [],
   "source": [
    "prot_df.practice_i = prot_df.practice_i.astype('int64')"
   ]
  },
  {
   "cell_type": "code",
   "execution_count": 8,
   "metadata": {},
   "outputs": [
    {
     "name": "stdout",
     "output_type": "stream",
     "text": [
      "<class 'geopandas.geodataframe.GeoDataFrame'>\n",
      "RangeIndex: 269 entries, 0 to 268\n",
      "Data columns (total 33 columns):\n",
      "practice_i                      269 non-null int64\n",
      "practice_n                      269 non-null object\n",
      "rn                              269 non-null int64\n",
      "comid                           269 non-null int64\n",
      "practice_t                      269 non-null object\n",
      "practice_d                      44 non-null object\n",
      "project_na                      269 non-null object\n",
      "project_st                      269 non-null object\n",
      "creator_na                      269 non-null object\n",
      "program_id                      269 non-null float64\n",
      "program_na                      269 non-null object\n",
      "created                         269 non-null object\n",
      "modified                        269 non-null object\n",
      "practice_url                    269 non-null object\n",
      "project_url                     269 non-null object\n",
      "huc12                           269 non-null object\n",
      "area_acres                      269 non-null float64\n",
      "huc12_tssdevloadrate_lbacre     264 non-null float64\n",
      "huc12_tssforeloadrate_lbacre    264 non-null float64\n",
      "huc12_tndevloadrate_lbacre      264 non-null float64\n",
      "huc12_tnforeloadrate_lbacre     264 non-null float64\n",
      "huc12_tpdevloadrate_lbacre      264 non-null float64\n",
      "huc12_tpforeloadrate_lbacre     264 non-null float64\n",
      "parcel_devtssload_lbyr          264 non-null float64\n",
      "parcel_foretssload_lbyr         264 non-null float64\n",
      "parcel_tssload_lbyr_avoided     264 non-null float64\n",
      "parcel_devtnload_lbyr           264 non-null float64\n",
      "parcel_foretnload_lbyr          264 non-null float64\n",
      "parcel_tnload_lbyr_avoided      264 non-null float64\n",
      "parcel_devtpload_lbyr           264 non-null float64\n",
      "parcel_foretpload_lbyr          264 non-null float64\n",
      "parcel_tpload_lbyr_avoided      264 non-null float64\n",
      "geom                            269 non-null geometry\n",
      "dtypes: float64(17), geometry(1), int64(3), object(12)\n",
      "memory usage: 69.5+ KB\n"
     ]
    }
   ],
   "source": [
    "prot_df.info()"
   ]
  },
  {
   "cell_type": "markdown",
   "metadata": {
    "tags": []
   },
   "source": [
    "## Save to Parquet Files\n",
    "The code below converts the data into a locally saved parquet file to avoid having to access the database every time we run the visualization script.  \n",
    "\n",
    "Apache Parquet has become the high-performance binary cloud format of choice for storing dataframes.\n",
    "- https://pandas.pydata.org/docs/user_guide/io.html#io-parquet\n",
    "- https://anaconda.org/TomAugspurger/pandas-performance/notebook\n",
    "- https://geopandas.readthedocs.io/en/latest/docs/reference/api/geopandas.GeoDataFrame.to_parquet.html\n",
    "\n",
    "NOTE: The current version of GeoPandas only supports the `pyarrow` engine. In future implementations, look for integration with `fastparquet` engine/library, which is implemented in Pandas and more tightly integrated with numba and dask. See https://fastparquet.readthedocs.io"
   ]
  },
  {
   "cell_type": "code",
   "execution_count": 80,
   "metadata": {},
   "outputs": [
    {
     "data": {
      "text/plain": [
       "PosixPath('/Users/aaufdenkampe/Documents/Python/WikiSRATMicroService')"
      ]
     },
     "execution_count": 80,
     "metadata": {},
     "output_type": "execute_result"
    }
   ],
   "source": [
    "# Find current working directory\n",
    "from pathlib import Path\n",
    "Path.cwd()"
   ]
  },
  {
   "cell_type": "code",
   "execution_count": 82,
   "metadata": {},
   "outputs": [],
   "source": [
    "# Set relative path - will work for anybody in this directory / cloning the github\n",
    "data_folder    = Path('data/')"
   ]
  },
  {
   "cell_type": "code",
   "execution_count": 83,
   "metadata": {},
   "outputs": [
    {
     "name": "stderr",
     "output_type": "stream",
     "text": [
      "<timed exec>:3: UserWarning: this is an initial implementation of Parquet/Feather file support and associated metadata.  This is tracking version 0.1.0 of the metadata specification at https://github.com/geopandas/geo-arrow-spec\n",
      "\n",
      "This metadata specification does not yet make stability promises.  We do not yet recommend using this in a production setting unless you are able to rewrite your Parquet/Feather files.\n",
      "\n",
      "To further ignore this warning, you can do: \n",
      "import warnings; warnings.filterwarnings('ignore', message='.*initial implementation of Parquet.*')\n",
      "<timed exec>:4: UserWarning: this is an initial implementation of Parquet/Feather file support and associated metadata.  This is tracking version 0.1.0 of the metadata specification at https://github.com/geopandas/geo-arrow-spec\n",
      "\n",
      "This metadata specification does not yet make stability promises.  We do not yet recommend using this in a production setting unless you are able to rewrite your Parquet/Feather files.\n",
      "\n",
      "To further ignore this warning, you can do: \n",
      "import warnings; warnings.filterwarnings('ignore', message='.*initial implementation of Parquet.*')\n"
     ]
    },
    {
     "name": "stdout",
     "output_type": "stream",
     "text": [
      "CPU times: user 3.38 s, sys: 108 ms, total: 3.48 s\n",
      "Wall time: 4.08 s\n"
     ]
    },
    {
     "name": "stderr",
     "output_type": "stream",
     "text": [
      "<timed exec>:5: UserWarning: this is an initial implementation of Parquet/Feather file support and associated metadata.  This is tracking version 0.1.0 of the metadata specification at https://github.com/geopandas/geo-arrow-spec\n",
      "\n",
      "This metadata specification does not yet make stability promises.  We do not yet recommend using this in a production setting unless you are able to rewrite your Parquet/Feather files.\n",
      "\n",
      "To further ignore this warning, you can do: \n",
      "import warnings; warnings.filterwarnings('ignore', message='.*initial implementation of Parquet.*')\n"
     ]
    }
   ],
   "source": [
    "%%time\n",
    "\n",
    "# requires pyarrow\n",
    "import pyarrow\n",
    "\n",
    "base_df.to_parquet(project_folder / data_folder /'base_df.parquet')\n",
    "rest_df.to_parquet(project_folder / data_folder /'rest_df.parquet')\n",
    "prot_df.to_parquet(project_folder / data_folder /'prot_df.parquet')"
   ]
  },
  {
   "cell_type": "code",
   "execution_count": 13,
   "metadata": {},
   "outputs": [
    {
     "name": "stdout",
     "output_type": "stream",
     "text": [
      "Wall time: 135 ms\n"
     ]
    },
    {
     "name": "stderr",
     "output_type": "stream",
     "text": [
      "C:\\Users\\mcamp\\Anaconda3\\envs\\WikiSRAT\\lib\\site-packages\\ipykernel_launcher.py:4: UserWarning: this is an initial implementation of Parquet/Feather file support and associated metadata.  This is tracking version 0.1.0 of the metadata specification at https://github.com/geopandas/geo-arrow-spec\n",
      "\n",
      "This metadata specification does not yet make stability promises.  We do not yet recommend using this in a production setting unless you are able to rewrite your Parquet/Feather files.\n",
      "\n",
      "To further ignore this warning, you can do: \n",
      "import warnings; warnings.filterwarnings('ignore', message='.*initial implementation of Parquet.*')\n",
      "  after removing the cwd from sys.path.\n"
     ]
    }
   ],
   "source": [
    "%%time\n",
    "\n",
    "project_folder = Path.cwd()\n",
    "data_folder    = Path('data/')\n",
    "\n",
    "prot_df.to_parquet(project_folder / data_folder /'prot_df.parquet')"
   ]
  },
  {
   "cell_type": "code",
   "execution_count": 98,
   "metadata": {},
   "outputs": [
    {
     "name": "stderr",
     "output_type": "stream",
     "text": [
      "<timed eval>:3: UserWarning: this is an initial implementation of Parquet/Feather file support and associated metadata.  This is tracking version 0.1.0 of the metadata specification at https://github.com/geopandas/geo-arrow-spec\n",
      "\n",
      "This metadata specification does not yet make stability promises.  We do not yet recommend using this in a production setting unless you are able to rewrite your Parquet/Feather files.\n",
      "\n",
      "To further ignore this warning, you can do: \n",
      "import warnings; warnings.filterwarnings('ignore', message='.*initial implementation of Parquet.*')\n"
     ]
    },
    {
     "name": "stdout",
     "output_type": "stream",
     "text": [
      "CPU times: user 3.43 s, sys: 34.5 ms, total: 3.47 s\n",
      "Wall time: 3.48 s\n"
     ]
    }
   ],
   "source": [
    "%%time\n",
    "# Alternate write, using an alternate compression engine, for bettter but slower compression\n",
    "\n",
    "base_df.to_parquet(project_folder / data_folder /'base_df2.parquet',\n",
    "                    compression='gzip', # default is compression with `snappy`\n",
    "                   )"
   ]
  },
  {
   "cell_type": "code",
   "execution_count": null,
   "metadata": {},
   "outputs": [],
   "source": []
  }
 ],
 "metadata": {
  "kernelspec": {
   "display_name": "WikiSRAT",
   "language": "python",
   "name": "wikisrat"
  },
  "language_info": {
   "codemirror_mode": {
    "name": "ipython",
    "version": 3
   },
   "file_extension": ".py",
   "mimetype": "text/x-python",
   "name": "python",
   "nbconvert_exporter": "python",
   "pygments_lexer": "ipython3",
   "version": "3.6.13"
  }
 },
 "nbformat": 4,
 "nbformat_minor": 4
}
