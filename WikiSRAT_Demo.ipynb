{
 "cells": [
  {
   "cell_type": "markdown",
   "metadata": {},
   "source": [
    "API docs for the WikiSRATMicroService\n",
    "===\n",
    "\n",
    "**SRAT code is all in SQL, run from this notebook.**  \n",
    "This code is within the GitHub repository. The result of this will be a table of NHDplus catchments. \n",
    "\n",
    "**Instances where load reduction is greater than the load created by an NHDplus catchment:**\n",
    "- After weekly check in call, decided that it can be negative, so leave as raw value\n",
    "- Otherwise can set threshold to where can't reduce loads beyond a proportion of the current load"
   ]
  },
  {
   "cell_type": "code",
   "execution_count": 1,
   "metadata": {},
   "outputs": [],
   "source": [
    "import requests\n",
    "import numpy as np\n",
    "import pandas as pd\n",
    "import geopandas as gpd \n",
    "from requests.auth import HTTPBasicAuth\n",
    "import json\n",
    "import os\n",
    "import psycopg2\n",
    "from sqlalchemy import create_engine \n",
    "from pathlib import Path\n",
    "import pyarrow\n",
    "from StringParser import StringParser\n",
    "from DatabaseAdapter import DatabaseAdapter\n",
    "from DatabaseFormatter import DatabaseFormatter\n",
    "from DatabaseMakeTable import DatabaseMakeTable"
   ]
  },
  {
   "cell_type": "markdown",
   "metadata": {},
   "source": [
    "# Run WikiSRATMicroService API"
   ]
  },
  {
   "cell_type": "markdown",
   "metadata": {},
   "source": [
    "## Open Connection to WikiSRATMicroService Database\n",
    "\n",
    "To fetch information to assist in formating requests to the WikiSRATMicroService API."
   ]
  },
  {
   "cell_type": "code",
   "execution_count": 2,
   "metadata": {},
   "outputs": [],
   "source": [
    "# GET THE DATABASE CONFIG INFORMATION USING A CONFIG FILE. \n",
    "# THE FILE IS IN THE GITIGNORE SO WILL REQUIRE BEING SENT VIA EMAIL.\n",
    "\n",
    "config_file = json.load(open('db_config.json'))\n",
    "PG_CONFIG = config_file['PG_CONFIG']\n",
    "\n",
    "_host = PG_CONFIG['host'],\n",
    "_database = PG_CONFIG['database'],\n",
    "_user = PG_CONFIG['user'],\n",
    "_password = PG_CONFIG['password'],\n",
    "_port = PG_CONFIG['port']"
   ]
  },
  {
   "cell_type": "markdown",
   "metadata": {},
   "source": [
    "### Create Connection to database with `psycopg2`, to read and write"
   ]
  },
  {
   "cell_type": "code",
   "execution_count": 3,
   "metadata": {},
   "outputs": [],
   "source": [
    "# Create connection to database using `psycopg2`\n",
    "\n",
    "_PG_Connection = psycopg2.connect(\n",
    "        host=PG_CONFIG['host'],\n",
    "        database=PG_CONFIG['database'],\n",
    "        user=PG_CONFIG['user'],\n",
    "        password=PG_CONFIG['password'],\n",
    "        port=PG_CONFIG['port'])"
   ]
  },
  {
   "cell_type": "markdown",
   "metadata": {},
   "source": [
    "### Create Connection using SQLAlchemy, to read with GeoPandas\n",
    "An alternate way to connect, using sqlalchemy, written by Sarah.  \n",
    "Benefits include:\n",
    "- Doesn't require knowledge of column names\n",
    "- Correctly auto-parses datatypes\n",
    "- Auto-converts column named 'geom' from a string into a geometry datatype compatible with  GeoPandas and most plotting libraries."
   ]
  },
  {
   "cell_type": "code",
   "execution_count": 4,
   "metadata": {},
   "outputs": [
    {
     "name": "stdout",
     "output_type": "stream",
     "text": [
      "CPU times: user 16.1 ms, sys: 3.93 ms, total: 20 ms\n",
      "Wall time: 24.2 ms\n"
     ]
    }
   ],
   "source": [
    "%%time\n",
    "# Connect to database with sqlalchemy\n",
    "\n",
    "db_connection_url = \"postgresql://{}:{}@{}:{}/{}\".format(_user[0], _password[0], _host[0], _port, _database[0])\n",
    "con = create_engine(db_connection_url)  "
   ]
  },
  {
   "cell_type": "markdown",
   "metadata": {},
   "source": [
    "## Fetch data for formating requests to the WikiSRATMicroService API\n"
   ]
  },
  {
   "cell_type": "code",
   "execution_count": 5,
   "metadata": {},
   "outputs": [
    {
     "name": "stdout",
     "output_type": "stream",
     "text": [
      "484\n",
      "CPU times: user 17.2 ms, sys: 8.61 ms, total: 25.8 ms\n",
      "Wall time: 612 ms\n"
     ]
    }
   ],
   "source": [
    "%%time\n",
    "\n",
    "# GET THE MODELED LOADS FROM THE DRWI DATABASE, DERIVED FROM MMW MODEL RUNS\n",
    "\n",
    "_PG_Connection.set_isolation_level(0)\n",
    "_cur = _PG_Connection.cursor()\n",
    "_cur.execute(\"select * from databmpapi.drb_loads_raw order by huc12;\")  \n",
    "# _cur.execute(\"select * from databmpapi.drb_loads_raw where huc12 in ('020402030902', '020402030901');\")  \n",
    "\n",
    "_dbdata = _cur.fetchall()\n",
    "print(len(_dbdata))"
   ]
  },
  {
   "cell_type": "code",
   "execution_count": 6,
   "metadata": {},
   "outputs": [
    {
     "data": {
      "text/plain": [
       "\u001b[0;31mType:\u001b[0m        list\n",
       "\u001b[0;31mString form:\u001b[0m [(1, '020401010101', Decimal('83.25'), Decimal('131587.70'), Decimal('144086.00'), Decimal('11916 <...> 00421087362510914, 0.0325741241610815, 0.124997522620959, 0.149069147756057, 0.0349152439841768)]\n",
       "\u001b[0;31mLength:\u001b[0m      484\n",
       "\u001b[0;31mDocstring:\u001b[0m  \n",
       "Built-in mutable sequence.\n",
       "\n",
       "If no argument is given, the constructor creates a new empty list.\n",
       "The argument must be an iterable if specified.\n"
      ]
     },
     "metadata": {},
     "output_type": "display_data"
    }
   ],
   "source": [
    "_dbdata?"
   ]
  },
  {
   "cell_type": "markdown",
   "metadata": {},
   "source": [
    "## Run WikiSRATMicroService API\n"
   ]
  },
  {
   "cell_type": "code",
   "execution_count": 7,
   "metadata": {},
   "outputs": [],
   "source": [
    "# CREATE A COUPLE HELPER FUNCTIONS TO RUN THE MICROSERVICE\n",
    "def respond(err, res=None):\n",
    "    return {\n",
    "        'statusCode': '400' if err else '200',\n",
    "        'body': err.args[0] if err else json.dumps(res),\n",
    "        'headers': {\n",
    "            'Content-Type': 'application/json',\n",
    "            'Access-Control-Allow-Origin': '*'\n",
    "        },\n",
    "    }\n",
    "\n",
    "def lambda_handler(event, context):\n",
    "    try:\n",
    "        data = StringParser.parse(event['body'])\n",
    "        db = DatabaseAdapter(_database[0], _user[0], _host[0], _port, _password[0], _flag)\n",
    "        input_array = DatabaseAdapter.python_to_array(data)\n",
    "        return respond(None, db.run_model(input_array))\n",
    "    except AttributeError as e:\n",
    "        return respond(e)"
   ]
  },
  {
   "cell_type": "code",
   "execution_count": 11,
   "metadata": {},
   "outputs": [],
   "source": [
    "# Prepare the input payload body for the MicroService request\n",
    "_body = DatabaseFormatter.parse(_dbdata)\n",
    "# _body = '[{\"huc12\": \"020402010101\", \"tpload_hp\": 10, \"tpload_crop\": 10, \"tpload_wooded\": 10, \"tpload_open\": 10, \"tpload_barren\": 10, \"tpload_ldm\": 10, \"tpload_mdm\": 10, \"tpload_hdm\": 10, \"tpload_wetland\": 10, \"tpload_farman\": 10, \"tpload_tiledrain\": 10, \"tpload_streambank\": 10, \"tpload_subsurface\": 10, \"tpload_pointsource\": 10, \"tpload_septics\": 10, \"tnload_hp\": 10, \"tnload_crop\": 10, \"tnload_wooded\": 10, \"tnload_open\": 10, \"tnload_barren\": 10, \"tnload_ldm\": 10, \"tnload_mdm\": 10, \"tnload_hdm\": 10, \"tnload_wetland\": 10, \"tnload_farman\": 10, \"tnload_tiledrain\": 10, \"tnload_streambank\": 10, \"tnload_subsurface\": 10, \"tnload_pointsource\": 10, \"tnload_septics\": 10, \"tssload_hp\": 10, \"tssload_crop\": 10, \"tssload_wooded\": 10, \"tssload_open\": 10, \"tssload_barren\": 10, \"tssload_ldm\": 10, \"tssload_mdm\": 10, \"tssload_hdm\": 10, \"tssload_wetland\": 10, \"tssload_tiledrain\": 10, \"tssload_streambank\": 10}, {\"huc12\": \"020402010102\", \"tpload_hp\": 10, \"tpload_crop\": 10, \"tpload_wooded\": 10, \"tpload_open\": 10, \"tpload_barren\": 10, \"tpload_ldm\": 10, \"tpload_mdm\": 10, \"tpload_hdm\": 10, \"tpload_wetland\": 10, \"tpload_farman\": 10, \"tpload_tiledrain\": 10, \"tpload_streambank\": 10, \"tpload_subsurface\": 10, \"tpload_pointsource\": 10, \"tpload_septics\": 10, \"tnload_hp\": 10, \"tnload_crop\": 10, \"tnload_wooded\": 10, \"tnload_open\": 10, \"tnload_barren\": 10, \"tnload_ldm\": 10, \"tnload_mdm\": 10, \"tnload_hdm\": 10, \"tnload_wetland\": 10, \"tnload_farman\": 10, \"tnload_tiledrain\": 10, \"tnload_streambank\": 10, \"tnload_subsurface\": 10, \"tnload_pointsource\": 10, \"tnload_septics\": 10, \"tssload_hp\": 10, \"tssload_crop\": 10, \"tssload_wooded\": 10, \"tssload_open\": 10, \"tssload_barren\": 10, \"tssload_ldm\": 10, \"tssload_mdm\": 10, \"tssload_hdm\": 10, \"tssload_wetland\": 10, \"tssload_tiledrain\": 10, \"tssload_streambank\": 10}, {\"huc12\": \"020402010103\", \"tpload_hp\": 10, \"tpload_crop\": 10, \"tpload_wooded\": 10, \"tpload_open\": 10, \"tpload_barren\": 10, \"tpload_ldm\": 10, \"tpload_mdm\": 10, \"tpload_hdm\": 10, \"tpload_wetland\": 10, \"tpload_farman\": 10, \"tpload_tiledrain\": 10, \"tpload_streambank\": 10, \"tpload_subsurface\": 10, \"tpload_pointsource\": 10, \"tpload_septics\": 10, \"tnload_hp\": 10, \"tnload_crop\": 10, \"tnload_wooded\": 10, \"tnload_open\": 10, \"tnload_barren\": 10, \"tnload_ldm\": 10, \"tnload_mdm\": 10, \"tnload_hdm\": 10, \"tnload_wetland\": 10, \"tnload_farman\": 10, \"tnload_tiledrain\": 10, \"tnload_streambank\": 10, \"tnload_subsurface\": 10, \"tnload_pointsource\": 10, \"tnload_septics\": 10, \"tssload_hp\": 10, \"tssload_crop\": 10, \"tssload_wooded\": 10, \"tssload_open\": 10, \"tssload_barren\": 10, \"tssload_ldm\": 10, \"tssload_mdm\": 10, \"tssload_hdm\": 10, \"tssload_wetland\": 10, \"tssload_tiledrain\": 10, \"tssload_streambank\": 10}]'"
   ]
  },
  {
   "cell_type": "code",
   "execution_count": 9,
   "metadata": {},
   "outputs": [
    {
     "data": {
      "text/plain": [
       "\u001b[0;31mType:\u001b[0m        str\n",
       "\u001b[0;31mString form:\u001b[0m [{\"huc12\": \"020401010101\", \"tpload_hp\": 607.6, \"tpload_crop\": 362.6, \"tpload_wooded\": 36.6, \"tplo <...> hdm\": 2799.2, \"tssload_wetland\": 65.3, \"tssload_tiledrain\": 0.0, \"tssload_streambank\": 780437.0}]\n",
       "\u001b[0;31mLength:\u001b[0m      483251\n",
       "\u001b[0;31mDocstring:\u001b[0m  \n",
       "str(object='') -> str\n",
       "str(bytes_or_buffer[, encoding[, errors]]) -> str\n",
       "\n",
       "Create a new string object from the given object. If encoding or\n",
       "errors is specified, then the object must expose a data buffer\n",
       "that will be decoded using the given encoding and error handler.\n",
       "Otherwise, returns the result of object.__str__() (if defined)\n",
       "or repr(object).\n",
       "encoding defaults to sys.getdefaultencoding().\n",
       "errors defaults to 'strict'.\n"
      ]
     },
     "metadata": {},
     "output_type": "display_data"
    }
   ],
   "source": [
    "_body?"
   ]
  },
  {
   "cell_type": "markdown",
   "metadata": {},
   "source": [
    "### for Base Model"
   ]
  },
  {
   "cell_type": "code",
   "execution_count": 10,
   "metadata": {},
   "outputs": [
    {
     "name": "stdout",
     "output_type": "stream",
     "text": [
      "CPU times: user 355 ms, sys: 38.4 ms, total: 393 ms\n",
      "Wall time: 6.95 s\n"
     ]
    }
   ],
   "source": [
    "%%time\n",
    "\n",
    "# FOR ALL DRWI HUC12s, FEED THROUGH THE MICROSERVICE TO GET SUB-BASIN ATTENUATION\n",
    "# The database adapter routine flag can either be 'base' or 'restoration', depending on if you want these\n",
    "# projects to be removed from the attenuation routine. Restoration projects come from what was enetered in\n",
    "# through FieldDoc.\n",
    "\n",
    "_flag = 'base'\n",
    "\n",
    "# RUN THE HUC12s THROUGH THE MICROSERVICE\n",
    "_r = dict(lambda_handler({\"body\": _body},None))"
   ]
  },
  {
   "cell_type": "code",
   "execution_count": 9,
   "metadata": {},
   "outputs": [
    {
     "data": {
      "text/plain": [
       "\u001b[0;31mType:\u001b[0m        dict\n",
       "\u001b[0;31mString form:\u001b[0m {'statusCode': '200', 'body': '{\"huc12s\": {\"020401010101\": {\"huc12\": \"020401010101\", \"tpload_hp\": <...> 15247}}}}}', 'headers': {'Content-Type': 'application/json', 'Access-Control-Allow-Origin': '*'}}\n",
       "\u001b[0;31mLength:\u001b[0m      3\n",
       "\u001b[0;31mDocstring:\u001b[0m  \n",
       "dict() -> new empty dictionary\n",
       "dict(mapping) -> new dictionary initialized from a mapping object's\n",
       "    (key, value) pairs\n",
       "dict(iterable) -> new dictionary initialized as if via:\n",
       "    d = {}\n",
       "    for k, v in iterable:\n",
       "        d[k] = v\n",
       "dict(**kwargs) -> new dictionary initialized with the name=value pairs\n",
       "    in the keyword argument list.  For example:  dict(one=1, two=2)\n"
      ]
     },
     "metadata": {},
     "output_type": "display_data"
    }
   ],
   "source": [
    "# Explore the API response\n",
    "_r?"
   ]
  },
  {
   "cell_type": "code",
   "execution_count": 10,
   "metadata": {},
   "outputs": [
    {
     "data": {
      "text/plain": [
       "\u001b[0;31mType:\u001b[0m        dict\n",
       "\u001b[0;31mString form:\u001b[0m {'020401010101': {'huc12': '020401010101', 'tpload_hp': 602.07665754054, 'tpload_crop': 360.72733 <...> 0436867554431356, 'tssloadrate_total': 25055.0654476434, 'tssloadrate_conc': 41.5994419315247}}}}\n",
       "\u001b[0;31mLength:\u001b[0m      484\n",
       "\u001b[0;31mDocstring:\u001b[0m  \n",
       "dict() -> new empty dictionary\n",
       "dict(mapping) -> new dictionary initialized from a mapping object's\n",
       "    (key, value) pairs\n",
       "dict(iterable) -> new dictionary initialized as if via:\n",
       "    d = {}\n",
       "    for k, v in iterable:\n",
       "        d[k] = v\n",
       "dict(**kwargs) -> new dictionary initialized with the name=value pairs\n",
       "    in the keyword argument list.  For example:  dict(one=1, two=2)\n"
      ]
     },
     "metadata": {},
     "output_type": "display_data"
    }
   ],
   "source": [
    "# Extract the NHD Loads from the response\n",
    "_nhdloads = dict(json.loads(_r['body']))['huc12s']\n",
    "_nhdloads?"
   ]
  },
  {
   "cell_type": "code",
   "execution_count": 11,
   "metadata": {},
   "outputs": [
    {
     "name": "stdout",
     "output_type": "stream",
     "text": [
      "{'4481881': {'comid': 4481881, 'tploadrate_total': 8.67678906666698, 'tploadate_conc': 0.00480867068316327, 'tnloadrate_total': 205.478173246534, 'tnloadrate_conc': 0.188308808608071, 'tssloadrate_total': 12430.9823731758, 'tssloadrate_conc': 10.6329585165398}, '4481681': {'comid': 4481681, 'tploadrate_total': 45.9269178229512, 'tploadate_conc': 0.0139356826495012, 'tnloadrate_total': 1098.12798966065, 'tnloadrate_conc': 0.333206840298741, 'tssloadrate_total': 128512.512354698, 'tssloadrate_conc': 38.9947698116636}, '4481279': {'comid': 4481279, 'tploadrate_total': 9.3369485692889, 'tploadate_conc': 0.0870941956538323, 'tnloadrate_total': 260.499630512306, 'tnloadrate_conc': 2.34191601922763, 'tssloadrate_total': 4135.72100063273, 'tssloadrate_conc': 49.6417992751781}, '4481935': {'comid': 4481935, 'tploadrate_total': 47.8207522003034, 'tploadate_conc': 0.107891339771179, 'tnloadrate_total': 1122.82652578667, 'tnloadrate_conc': 2.53327797292518, 'tssloadrate_total': 29233.9090668937, 'tssloadrate_conc': 65.9564199819501}, '4481321': {'comid': 4481321, 'tploadrate_total': 0.011336886602553, 'tploadate_conc': 0.0184093039668924, 'tnloadrate_total': 0.152468739557826, 'tnloadrate_conc': 0.707277007867956, 'tssloadrate_total': 37.1485912807269, 'tssloadrate_conc': 23.9729380874983}, '4481367': {'comid': 4481367, 'tploadrate_total': 0.593822905650522, 'tploadate_conc': 0.0116428883128484, 'tnloadrate_total': 18.586080290285, 'tnloadrate_conc': 0.318167885539587, 'tssloadrate_total': 1134.55943197039, 'tssloadrate_conc': 30.8823844150337}, '4481891': {'comid': 4481891, 'tploadrate_total': 0.611791847530104, 'tploadate_conc': 0.00515610712952136, 'tnloadrate_total': 17.16277447263, 'tnloadrate_conc': 0.136182129003612, 'tssloadrate_total': 1256.70269656121, 'tssloadrate_conc': 12.6935073157295}, '4481301': {'comid': 4481301, 'tploadrate_total': 0.434647087648859, 'tploadate_conc': 0.0221088397917474, 'tnloadrate_total': 20.755472615839, 'tnloadrate_conc': 1.0557517395269, 'tssloadrate_total': 313.434672019155, 'tssloadrate_conc': 15.9432264606561}, '4481277': {'comid': 4481277, 'tploadrate_total': 85.5398017934121, 'tploadate_conc': 0.0847863924846948, 'tnloadrate_total': 2401.05028676223, 'tnloadrate_conc': 2.37990254502308, 'tssloadrate_total': 55536.4380314502, 'tssloadrate_conc': 55.0472894887993}, '4481661': {'comid': 4481661, 'tploadrate_total': 29.1392565673688, 'tploadate_conc': 0.00901035171426772, 'tnloadrate_total': 931.166620363255, 'tnloadrate_conc': 0.287932491848626, 'tssloadrate_total': 52137.025587741, 'tssloadrate_conc': 16.1216514496595}, '4481261': {'comid': 4481261, 'tploadrate_total': 64.824264048653, 'tploadate_conc': 0.07741941110648, 'tnloadrate_total': 1878.68486321812, 'tnloadrate_conc': 2.24370732008375, 'tssloadrate_total': 36639.8128134818, 'tssloadrate_conc': 43.7588111905509}, '4481313': {'comid': 4481313, 'tploadrate_total': 42.5287017334952, 'tploadate_conc': 0.0226233732269571, 'tnloadrate_total': 1414.81439374309, 'tnloadrate_conc': 0.727773571999592, 'tssloadrate_total': 45984.542359817, 'tssloadrate_conc': 28.0188974126055}, '4481353': {'comid': 4481353, 'tploadrate_total': 0.0223138370582509, 'tploadate_conc': 0.00690505050701603, 'tnloadrate_total': 0.720246167386954, 'tnloadrate_conc': 0.334112455555181, 'tssloadrate_total': 37.2014335457468, 'tssloadrate_conc': 14.4931508058661}, '4481879': {'comid': 4481879, 'tploadrate_total': 0.14590313258491, 'tploadate_conc': 0.00535704839185738, 'tnloadrate_total': 3.78784101209752, 'tnloadrate_conc': 0.181131340563286, 'tssloadrate_total': 338.761123207406, 'tssloadrate_conc': 12.0197135233118}, '4481657': {'comid': 4481657, 'tploadrate_total': 65.3791768781041, 'tploadate_conc': 0.0609108692608819, 'tnloadrate_total': 1781.36753753759, 'tnloadrate_conc': 1.70429439141572, 'tssloadrate_total': 54472.1050981478, 'tssloadrate_conc': 40.1936819943162}, '4481871': {'comid': 4481871, 'tploadrate_total': 6.78298850349021, 'tploadate_conc': 0.015110915047457, 'tnloadrate_total': 180.040145777454, 'tnloadrate_conc': 0.643982269703096, 'tssloadrate_total': 11271.5319929909, 'tssloadrate_conc': 20.7727340093377}, '4481861': {'comid': 4481861, 'tploadrate_total': 1.31647223803213, 'tploadate_conc': 0.0201482786606357, 'tnloadrate_total': 42.7609666487103, 'tnloadrate_conc': 0.707672550124254, 'tssloadrate_total': 2484.58340762918, 'tssloadrate_conc': 25.6752531085887}, '4481677': {'comid': 4481677, 'tploadrate_total': 16.3208016835208, 'tploadate_conc': 0.00767390449780736, 'tnloadrate_total': 340.46731017987, 'tnloadrate_conc': 0.160084882691992, 'tssloadrate_total': 38549.6529983224, 'tssloadrate_conc': 18.1257245366468}, '4481303': {'comid': 4481303, 'tploadrate_total': 84.2146236304177, 'tploadate_conc': 0.05746395634536, 'tnloadrate_total': 2334.71175853441, 'tnloadrate_conc': 1.59309356009473, 'tssloadrate_total': 56142.8684135186, 'tssloadrate_conc': 38.3091582024532}, '4481675': {'comid': 4481675, 'tploadrate_total': 8.82906877445052, 'tploadate_conc': 0.0102173973964045, 'tnloadrate_total': 261.659996437199, 'tnloadrate_conc': 0.302804773033048, 'tssloadrate_total': 13714.990205278, 'tssloadrate_conc': 15.8716064847781}, '4481361': {'comid': 4481361, 'tploadrate_total': 0.273943129334132, 'tploadate_conc': 0.0047454497147794, 'tnloadrate_total': 7.38895751439034, 'tnloadrate_conc': 0.181109656010562, 'tssloadrate_total': 582.699729346836, 'tssloadrate_conc': 10.9634764203602}, '4481667': {'comid': 4481667, 'tploadrate_total': 8.30195975287933, 'tploadate_conc': 0.00748618752263939, 'tnloadrate_total': 123.406267614567, 'tnloadrate_conc': 0.111280045715863, 'tssloadrate_total': 17762.7088798006, 'tssloadrate_conc': 16.0172987514327}, '4481679': {'comid': 4481679, 'tploadrate_total': 10.0102659064699, 'tploadate_conc': 0.00711693083859281, 'tnloadrate_total': 213.27924484706, 'tnloadrate_conc': 0.151633697752502, 'tssloadrate_total': 23598.4742341606, 'tssloadrate_conc': 16.7776471264651}, '4481893': {'comid': 4481893, 'tploadrate_total': 0.0056769433848737, 'tploadate_conc': 0.00636325840429569, 'tnloadrate_total': 0.132057322733239, 'tnloadrate_conc': 0.151631250676309, 'tssloadrate_total': 12.4004778485823, 'tssloadrate_conc': 15.4099712828271}, '4481387': {'comid': 4481387, 'tploadrate_total': 143.134349819315, 'tploadate_conc': 0.0395690137092041, 'tnloadrate_total': 2296.46783951933, 'tnloadrate_conc': 0.634850876392667, 'tssloadrate_total': 537810.911268446, 'tssloadrate_conc': 148.676033026343}, '4481889': {'comid': 4481889, 'tploadrate_total': 1.504374998789, 'tploadate_conc': 0.00476324796086039, 'tnloadrate_total': 36.6035135275524, 'tnloadrate_conc': 0.131751738030796, 'tssloadrate_total': 3042.75578700035, 'tssloadrate_conc': 11.7246206264351}, '4481347': {'comid': 4481347, 'tploadrate_total': 76.2371884604797, 'tploadate_conc': 0.0499494677432151, 'tnloadrate_total': 1715.75071807596, 'tnloadrate_conc': 1.12413425624109, 'tssloadrate_total': 92549.4501859762, 'tssloadrate_conc': 60.6370181019085}, '4481877': {'comid': 4481877, 'tploadrate_total': 1.05287610591915, 'tploadate_conc': 0.00823090516543137, 'tnloadrate_total': 14.6404776351001, 'tnloadrate_conc': 0.2749120009938, 'tssloadrate_total': 3976.60029170211, 'tssloadrate_conc': 15.5602982373957}, '4481357': {'comid': 4481357, 'tploadrate_total': 3.4918782368628, 'tploadate_conc': 0.00674196103331975, 'tnloadrate_total': 87.2993370680764, 'tnloadrate_conc': 0.337571332814941, 'tssloadrate_total': 5058.50635523002, 'tssloadrate_conc': 11.9108661367683}, '4481307': {'comid': 4481307, 'tploadrate_total': 12.9272265931191, 'tploadate_conc': 0.0208233564332117, 'tnloadrate_total': 243.23589322586, 'tnloadrate_conc': 0.669290021327478, 'tssloadrate_total': 8173.44263606409, 'tssloadrate_conc': 31.8999369206655}, '4481263': {'comid': 4481263, 'tploadrate_total': 10.6654481419257, 'tploadate_conc': 0.105675199997936, 'tnloadrate_total': 249.640518874381, 'tnloadrate_conc': 2.48925060030911, 'tssloadrate_total': 5346.64099129651, 'tssloadrate_conc': 62.530106648825}, '4481887': {'comid': 4481887, 'tploadrate_total': 0.418401490716595, 'tploadate_conc': 0.00664259242988218, 'tnloadrate_total': 10.138511518689, 'tnloadrate_conc': 0.113992448442541, 'tssloadrate_total': 929.692363921041, 'tssloadrate_conc': 14.6373008009968}, '4481291': {'comid': 4481291, 'tploadrate_total': 0.0129171513943967, 'tploadate_conc': 0.0334320513836035, 'tnloadrate_total': 0.576191630228285, 'tnloadrate_conc': 0.735127422031308, 'tssloadrate_total': 12.4004778485823, 'tssloadrate_conc': 55.5508937895266}, '4481663': {'comid': 4481663, 'tploadrate_total': 5.84206812491924, 'tploadate_conc': 0.0107019275128177, 'tnloadrate_total': 169.839888618372, 'tnloadrate_conc': 0.379719513248503, 'tssloadrate_total': 6665.41380035399, 'tssloadrate_conc': 31.7983464752084}, '4481325': {'comid': 4481325, 'tploadrate_total': 12.8757573614845, 'tploadate_conc': 0.0121360000678346, 'tnloadrate_total': 232.811341448404, 'tnloadrate_conc': 0.425426157486233, 'tssloadrate_total': 9987.09486514195, 'tssloadrate_conc': 31.0047591389088}, '4481895': {'comid': 4481895, 'tploadrate_total': 1.3035912547033, 'tploadate_conc': 0.00569636077976725, 'tnloadrate_total': 26.4068752169098, 'tnloadrate_conc': 0.134406940976817, 'tssloadrate_total': 3439.82969690764, 'tssloadrate_conc': 13.6826700272494}, '4481311': {'comid': 4481311, 'tploadrate_total': 54.4832032109357, 'tploadate_conc': 0.0552128646701617, 'tnloadrate_total': 1261.01607664267, 'tnloadrate_conc': 1.56865115949875, 'tssloadrate_total': 42072.3602550809, 'tssloadrate_conc': 37.7065750360896}, '4481389': {'comid': 4481389, 'tploadrate_total': 2.1783420633458, 'tploadate_conc': 0.00636546245705464, 'tnloadrate_total': 42.7644225129214, 'tnloadrate_conc': 0.136532583882549, 'tssloadrate_total': 3416.86476566838, 'tssloadrate_conc': 14.804330457482}, '4481671': {'comid': 4481671, 'tploadrate_total': 3.97963679256898, 'tploadate_conc': 0.00674763156719399, 'tnloadrate_total': 57.5792551753354, 'tnloadrate_conc': 0.0976279042756077, 'tssloadrate_total': 9326.1574999655, 'tssloadrate_conc': 15.8128688690626}, '4481659': {'comid': 4481659, 'tploadrate_total': 53.8570216832823, 'tploadate_conc': 0.0278765165224483, 'tnloadrate_total': 1641.2166902896, 'tnloadrate_conc': 0.849497479694044, 'tssloadrate_total': 73374.8311369254, 'tssloadrate_conc': 37.9789789444535}, '4481355': {'comid': 4481355, 'tploadrate_total': 0.0676559425777716, 'tploadate_conc': 0.00432375959331477, 'tnloadrate_total': 1.71438605122075, 'tnloadrate_conc': 0.188280557943026, 'tssloadrate_total': 148.726470785457, 'tssloadrate_conc': 9.8088397592029}, '4481349': {'comid': 4481349, 'tploadrate_total': 9.87963310370508, 'tploadate_conc': 0.0131878683094343, 'tnloadrate_total': 319.570453964755, 'tnloadrate_conc': 0.608139880005328, 'tssloadrate_total': 13683.8719557924, 'tssloadrate_conc': 18.6165417442023}}\n"
     ]
    }
   ],
   "source": [
    "# Explore selection of data for a HUC12\n",
    "print(dict(json.loads(_r['body']))['huc12s']['020402010101']['catchments'])"
   ]
  },
  {
   "cell_type": "markdown",
   "metadata": {
    "tags": []
   },
   "source": [
    "# Load Results into Database (SKIP if DONE)\n",
    "\n",
    "### If you have done this for the latest data, skip this block.\n",
    "\n",
    "Loading results into the database is a time consuming process (~20-30 minutes), so it only needs to be run once for every data update. "
   ]
  },
  {
   "cell_type": "code",
   "execution_count": 134,
   "metadata": {},
   "outputs": [
    {
     "data": {
      "text/plain": [
       "19496"
      ]
     },
     "execution_count": 134,
     "metadata": {},
     "output_type": "execute_result"
    }
   ],
   "source": [
    "# GET THE TOTAL NUMBER OF ROWS TO PRINT THE % COMPLETED LATER ON\n",
    "\n",
    "t = 0\n",
    "for huc12s, huc12 in _nhdloads.items():\n",
    "    for comid in _nhdloads[huc12s]['catchments']:\n",
    "        t += 1\n",
    "        \n",
    "t"
   ]
  },
  {
   "cell_type": "markdown",
   "metadata": {},
   "source": [
    "## Save \"Base\" Model Results (i.e. no BMPs) to Database"
   ]
  },
  {
   "cell_type": "code",
   "execution_count": 135,
   "metadata": {},
   "outputs": [
    {
     "name": "stdout",
     "output_type": "stream",
     "text": [
      "Table Created\n"
     ]
    }
   ],
   "source": [
    "# LOAD THE RESULTS INTO A DATABASE FOR REVIEW, CONSULT MSC94@DREXEL.EDU FOR MORE INFORMATION (MAY REQUIRE PERMISSION)\n",
    "# CREATE THE TABLE TO CACHE THE API OUTPUT\n",
    "# This uses an imported function to create the table. This is necessary to get the COMID geometries\n",
    "\n",
    "# SET THE TABLE NAME AND CREATE TABLE\n",
    "tablename_base = 'base_run'\n",
    "new = DatabaseMakeTable(_database[0], _user[0], _host[0], _port, _password[0], tablename_base)\n",
    "new.make_table()\n"
   ]
  },
  {
   "cell_type": "code",
   "execution_count": 136,
   "metadata": {},
   "outputs": [
    {
     "name": "stdout",
     "output_type": "stream",
     "text": [
      "0%--->10%--->20%--->30%--->40%--->50%--->60%--->70%--->80%--->90%--->100%--->done\n",
      "Wall time: 7min 46s\n"
     ]
    }
   ],
   "source": [
    "%%time\n",
    "\n",
    "# LOADING RESULTS INTO THE DB CAN TAKE 10-15 MINUTES with a fast internet connection \n",
    "# (~ 10 min for Mike; ~14 min for Anthony at work),\n",
    "# and it times-out after only 20% complete with a slower connection (i.e. Anthony's home)\n",
    "\n",
    "c = 0\n",
    "prog_update = 0.1\n",
    "print('0%', end='--->')\n",
    "for huc12s, huc12 in _nhdloads.items():\n",
    "    for comid in _nhdloads[huc12s]['catchments']:\n",
    "        update_arr = [int(_nhdloads[huc12s]['catchments'][comid]['comid']),\n",
    "                      _nhdloads[huc12s]['catchments'][comid]['tploadrate_total'],\n",
    "                      _nhdloads[huc12s]['catchments'][comid]['tploadate_conc'],\n",
    "                      _nhdloads[huc12s]['catchments'][comid]['tnloadrate_total'],\n",
    "                      _nhdloads[huc12s]['catchments'][comid]['tnloadrate_conc'],\n",
    "                      _nhdloads[huc12s]['catchments'][comid]['tssloadrate_total'],\n",
    "                      _nhdloads[huc12s]['catchments'][comid]['tssloadrate_conc']]\n",
    "        update_arr = [x if x != None else -9999 for x in update_arr]\n",
    "        _PG_Connection.set_isolation_level(0)\n",
    "        _cur = _PG_Connection.cursor()\n",
    "        _cur.execute(\"insert into wikiwtershedoutputs.{} values ({},{},{},{},{},{},{})\"\n",
    "                     \";\".format(tablename_base, update_arr[0],update_arr[1],update_arr[2],update_arr[3],update_arr[4],update_arr[5],update_arr[6]))\n",
    "        c += 1\n",
    "        if c == int(t * prog_update - 1):\n",
    "            print('{}%'.format(int(prog_update*100)), end='--->')\n",
    "            prog_update = round(prog_update+0.1,1)\n",
    "print('done')"
   ]
  },
  {
   "cell_type": "markdown",
   "metadata": {},
   "source": [
    "## Repeat for Restoration Results\n",
    "\n",
    "Reruns the WikiSRATMicroService API with restoration BMPs and saves response to the database."
   ]
  },
  {
   "cell_type": "code",
   "execution_count": 12,
   "metadata": {},
   "outputs": [
    {
     "name": "stdout",
     "output_type": "stream",
     "text": [
      "done\n"
     ]
    }
   ],
   "source": [
    "# FOR ALL DRWI HUC12s, FEED THROUGH THE MICROSERVICE TO GET SUB-BASIN ATTENUATION\n",
    "\n",
    "# NOW RUN THE ATTENUATION WITH THE BMPs ADDED IN\n",
    "\n",
    "_flag = 'restoration'\n",
    "\n",
    "_r = dict(lambda_handler({\"body\": _body},None))\n",
    "print('done')"
   ]
  },
  {
   "cell_type": "code",
   "execution_count": 138,
   "metadata": {},
   "outputs": [],
   "source": [
    "# GET THE TOTAL NUMBER OF ROWS TO PRINT THE % COMPLETED LATER ON\n",
    "_nhdloads = dict(json.loads(_r['body']))['huc12s']\n",
    "t = 0\n",
    "for huc12s, huc12 in _nhdloads.items():\n",
    "    for comid in _nhdloads[huc12s]['catchments']:\n",
    "        t += 1"
   ]
  },
  {
   "cell_type": "code",
   "execution_count": 139,
   "metadata": {},
   "outputs": [
    {
     "name": "stdout",
     "output_type": "stream",
     "text": [
      "Table Created\n"
     ]
    }
   ],
   "source": [
    "# LOAD THE RESULTS INTO A DATABASE FOR REVIEW, CONSULT MSC94@DREXEL.EDU FOR MORE INFORMATION (MAY REQUIRE PERMISSION)\n",
    "# CREATE THE TABLE TO CACHE THE API OUTPUT\n",
    "tablename_rest = 'restoration_run'\n",
    "new = DatabaseMakeTable(_database[0], _user[0], _host[0], _port, _password[0], tablename_rest)\n",
    "new.make_table()"
   ]
  },
  {
   "cell_type": "code",
   "execution_count": 140,
   "metadata": {},
   "outputs": [
    {
     "name": "stdout",
     "output_type": "stream",
     "text": [
      "0%--->10%--->20%--->30%--->40%--->50%--->60%--->70%--->80%--->90%--->100%--->done\n",
      "Wall time: 8min 7s\n"
     ]
    }
   ],
   "source": [
    "%%time\n",
    "\n",
    "# LOADING RESULTS INTO THE DB CAN TAKE 10-15 MINUTES with a fast internet connection \n",
    "# (~ 10 min for Mike; ~14 min for Anthony at work),\n",
    "# and it times-out after only 20% complete with a slower connection (i.e. Anthony's home)\n",
    "\n",
    "c = 0\n",
    "prog_update = 0.1\n",
    "print('0%', end='--->')\n",
    "for huc12s, huc12 in _nhdloads.items():\n",
    "    for comid in _nhdloads[huc12s]['catchments']:\n",
    "        update_arr = [int(_nhdloads[huc12s]['catchments'][comid]['comid']),\n",
    "                      _nhdloads[huc12s]['catchments'][comid]['tploadrate_total'],\n",
    "                      _nhdloads[huc12s]['catchments'][comid]['tploadate_conc'],\n",
    "                      _nhdloads[huc12s]['catchments'][comid]['tnloadrate_total'],\n",
    "                      _nhdloads[huc12s]['catchments'][comid]['tnloadrate_conc'],\n",
    "                      _nhdloads[huc12s]['catchments'][comid]['tssloadrate_total'],\n",
    "                      _nhdloads[huc12s]['catchments'][comid]['tssloadrate_conc']]\n",
    "        update_arr = [x if x != None else -9999 for x in update_arr]\n",
    "        _PG_Connection.set_isolation_level(0)\n",
    "        _cur = _PG_Connection.cursor()\n",
    "        _cur.execute(\"insert into wikiwtershedoutputs.{} values ({},{},{},{},{},{},{})\"\n",
    "                     \";\".format(tablename_rest, update_arr[0],update_arr[1],update_arr[2],update_arr[3],update_arr[4],update_arr[5],update_arr[6]))\n",
    "        c += 1\n",
    "        if c == int(t * prog_update - 1):\n",
    "            print('{}%'.format(int(prog_update*100)), end='--->')\n",
    "            prog_update = round(prog_update+0.1,1)\n",
    "\n",
    "print('done')"
   ]
  },
  {
   "cell_type": "markdown",
   "metadata": {},
   "source": [
    "# ABOVE CODE (Load Results) ONLY NEEDS TO BE RUN ONCE\n",
    "\n",
    "Use labs to get outline to collapse code to be run once. Further edits to the data frames for API output can be done here."
   ]
  },
  {
   "cell_type": "markdown",
   "metadata": {},
   "source": [
    "# Read Results in Pandas and Save to Local Storage"
   ]
  },
  {
   "cell_type": "code",
   "execution_count": 15,
   "metadata": {},
   "outputs": [],
   "source": [
    "# PUT HERE ANY TABLE NAMES CREATED ABOVE, IN CASE THE KERNEL WAS RESTARTED AND YOU DON'T WANT TO RUN THE ABOVE AGAIN\n",
    "tablename_rest = 'restoration_run'\n",
    "tablename_base = 'base_run'"
   ]
  },
  {
   "cell_type": "markdown",
   "metadata": {
    "tags": []
   },
   "source": [
    "## Read from Database into Pandas with `psycopg2`\n",
    "Using a custom function written by Mike, using the [pyscopg2](https://www.psycopg.org) library."
   ]
  },
  {
   "cell_type": "code",
   "execution_count": 13,
   "metadata": {},
   "outputs": [],
   "source": [
    "# Re-connect to database using `psycopg2`(necessary if timed out)\n",
    "\n",
    "_PG_Connection = psycopg2.connect(\n",
    "        host=PG_CONFIG['host'],\n",
    "        database=PG_CONFIG['database'],\n",
    "        user=PG_CONFIG['user'],\n",
    "        password=PG_CONFIG['password'],\n",
    "        port=PG_CONFIG['port'])"
   ]
  },
  {
   "cell_type": "code",
   "execution_count": 14,
   "metadata": {},
   "outputs": [
    {
     "name": "stdout",
     "output_type": "stream",
     "text": [
      "done\n",
      "CPU times: user 859 ms, sys: 1.79 s, total: 2.64 s\n",
      "Wall time: 3min 18s\n"
     ]
    }
   ],
   "source": [
    "%%time\n",
    "\n",
    "# LOAD THE DATABASE TABLES INTO PANDAS\n",
    "# geom = NHDplus streamline\n",
    "# catchment = NHDplus catchment\n",
    "\n",
    "def postgresql_to_dataframe(conn, select_query, column_names):\n",
    "    \"\"\"\n",
    "    Tranform a SELECT query into a pandas dataframe\n",
    "    \"\"\"\n",
    "    _cur = conn.cursor()\n",
    "    try:\n",
    "        _cur.execute(select_query)\n",
    "    except (Exception, psycopg2.DatabaseError) as error:\n",
    "        print(\"Error: %s\" % error)\n",
    "        _cur.close()\n",
    "        return 1\n",
    "    \n",
    "    # We get a list of tupples\n",
    "    tupples = _cur.fetchall()\n",
    "    _cur.close()\n",
    "    \n",
    "    # Turn it into a pandas dataframe\n",
    "    df = pd.DataFrame(tupples, columns=column_names)\n",
    "    return df\n",
    "\n",
    "colnames = ('comid','tploadrate_total','tploadate_conc','tnloadrate_total','tnloadate_conc','tssloadrate_total',\n",
    "            'tssloadate_conc','catchment_hectares','watershed_hectares','tploadrate_total_ws','tnloadrate_total_ws',\n",
    "            'tssloadrate_total_ws','maflowv','geom','geom_catchment', 'cluster', 'fa_name', 'sub_focusarea',\n",
    "            'nord','nordstop', 'huc12')\n",
    "\n",
    "cluster_names = ('Brandywine and Christina','Kirkwood - Cohansey Aquifer','Middle Schuylkill','New Jersey Highlands',\n",
    "                 'Poconos and Kittatinny','Schuylkill Highlands','Upper Lehigh','Upstream Suburban Philadelphia')\n",
    "\n",
    "\n",
    "base_model_select = 'SELECT * FROM wikiwtershedoutputs.{}'.format(tablename_base)\n",
    "rest_model_select = 'SELECT * FROM wikiwtershedoutputs.{}'.format(tablename_rest)\n",
    "\n",
    "base_df = postgresql_to_dataframe(_PG_Connection, base_model_select, colnames)\n",
    "rest_df = postgresql_to_dataframe(_PG_Connection, rest_model_select, colnames)\n",
    "\n",
    "print('done')"
   ]
  },
  {
   "cell_type": "code",
   "execution_count": 15,
   "metadata": {},
   "outputs": [
    {
     "name": "stdout",
     "output_type": "stream",
     "text": [
      "<class 'pandas.core.frame.DataFrame'>\n",
      "RangeIndex: 19496 entries, 0 to 19495\n",
      "Data columns (total 21 columns):\n",
      " #   Column                Non-Null Count  Dtype  \n",
      "---  ------                --------------  -----  \n",
      " 0   comid                 19496 non-null  int64  \n",
      " 1   tploadrate_total      19496 non-null  object \n",
      " 2   tploadate_conc        19496 non-null  object \n",
      " 3   tnloadrate_total      19496 non-null  object \n",
      " 4   tnloadate_conc        19496 non-null  object \n",
      " 5   tssloadrate_total     19496 non-null  object \n",
      " 6   tssloadate_conc       19496 non-null  object \n",
      " 7   catchment_hectares    19496 non-null  object \n",
      " 8   watershed_hectares    19496 non-null  object \n",
      " 9   tploadrate_total_ws   19496 non-null  object \n",
      " 10  tnloadrate_total_ws   19496 non-null  object \n",
      " 11  tssloadrate_total_ws  19496 non-null  object \n",
      " 12  maflowv               19496 non-null  object \n",
      " 13  geom                  19266 non-null  object \n",
      " 14  geom_catchment        19496 non-null  object \n",
      " 15  cluster               17358 non-null  object \n",
      " 16  fa_name               186 non-null    object \n",
      " 17  sub_focusarea         186 non-null    float64\n",
      " 18  nord                  18870 non-null  float64\n",
      " 19  nordstop              18844 non-null  float64\n",
      " 20  huc12                 19496 non-null  object \n",
      "dtypes: float64(3), int64(1), object(17)\n",
      "memory usage: 3.1+ MB\n"
     ]
    }
   ],
   "source": [
    "# Note that most columns are read as string objects, and ...\n",
    "# geometry datatypes are not compatbile with GeoPandas and common Python plotting functions.\n",
    "base_df.info()"
   ]
  },
  {
   "cell_type": "code",
   "execution_count": 16,
   "metadata": {},
   "outputs": [
    {
     "data": {
      "text/html": [
       "<div>\n",
       "<style scoped>\n",
       "    .dataframe tbody tr th:only-of-type {\n",
       "        vertical-align: middle;\n",
       "    }\n",
       "\n",
       "    .dataframe tbody tr th {\n",
       "        vertical-align: top;\n",
       "    }\n",
       "\n",
       "    .dataframe thead th {\n",
       "        text-align: right;\n",
       "    }\n",
       "</style>\n",
       "<table border=\"1\" class=\"dataframe\">\n",
       "  <thead>\n",
       "    <tr style=\"text-align: right;\">\n",
       "      <th></th>\n",
       "      <th>comid</th>\n",
       "      <th>tploadrate_total</th>\n",
       "      <th>tploadate_conc</th>\n",
       "      <th>tnloadrate_total</th>\n",
       "      <th>tnloadate_conc</th>\n",
       "      <th>tssloadrate_total</th>\n",
       "      <th>tssloadate_conc</th>\n",
       "      <th>catchment_hectares</th>\n",
       "      <th>watershed_hectares</th>\n",
       "      <th>tploadrate_total_ws</th>\n",
       "      <th>...</th>\n",
       "      <th>tssloadrate_total_ws</th>\n",
       "      <th>maflowv</th>\n",
       "      <th>geom</th>\n",
       "      <th>geom_catchment</th>\n",
       "      <th>cluster</th>\n",
       "      <th>fa_name</th>\n",
       "      <th>sub_focusarea</th>\n",
       "      <th>nord</th>\n",
       "      <th>nordstop</th>\n",
       "      <th>huc12</th>\n",
       "    </tr>\n",
       "  </thead>\n",
       "  <tbody>\n",
       "    <tr>\n",
       "      <th>0</th>\n",
       "      <td>2612952</td>\n",
       "      <td>0.6351</td>\n",
       "      <td>0.0200</td>\n",
       "      <td>11.5479</td>\n",
       "      <td>0.2536</td>\n",
       "      <td>1173.0077</td>\n",
       "      <td>8.8315</td>\n",
       "      <td>6.3851</td>\n",
       "      <td>981.0000</td>\n",
       "      <td>0.1216</td>\n",
       "      <td>...</td>\n",
       "      <td>53.7069</td>\n",
       "      <td>6.6760</td>\n",
       "      <td>01050000E06A7F00000100000001020000C007000000B3...</td>\n",
       "      <td>01060000206A7F0000010000000103000000010000001B...</td>\n",
       "      <td>drb</td>\n",
       "      <td>None</td>\n",
       "      <td>NaN</td>\n",
       "      <td>74295.0</td>\n",
       "      <td>74299.0</td>\n",
       "      <td>020401010101</td>\n",
       "    </tr>\n",
       "    <tr>\n",
       "      <th>1</th>\n",
       "      <td>2612782</td>\n",
       "      <td>51.2284</td>\n",
       "      <td>0.0188</td>\n",
       "      <td>758.0229</td>\n",
       "      <td>0.2414</td>\n",
       "      <td>22417.1069</td>\n",
       "      <td>7.4794</td>\n",
       "      <td>524.1138</td>\n",
       "      <td>906.3900</td>\n",
       "      <td>0.1147</td>\n",
       "      <td>...</td>\n",
       "      <td>45.6521</td>\n",
       "      <td>6.1910</td>\n",
       "      <td>01050000E06A7F00000100000001020000C015000000D8...</td>\n",
       "      <td>01060000206A7F000001000000010300000001000000DF...</td>\n",
       "      <td>drb</td>\n",
       "      <td>None</td>\n",
       "      <td>NaN</td>\n",
       "      <td>74297.0</td>\n",
       "      <td>74299.0</td>\n",
       "      <td>020401010101</td>\n",
       "    </tr>\n",
       "    <tr>\n",
       "      <th>2</th>\n",
       "      <td>2612920</td>\n",
       "      <td>797.8818</td>\n",
       "      <td>0.0373</td>\n",
       "      <td>8339.1431</td>\n",
       "      <td>0.4056</td>\n",
       "      <td>366215.4767</td>\n",
       "      <td>17.1041</td>\n",
       "      <td>3191.3462</td>\n",
       "      <td>4174.8300</td>\n",
       "      <td>0.2170</td>\n",
       "      <td>...</td>\n",
       "      <td>99.5046</td>\n",
       "      <td>27.1790</td>\n",
       "      <td>01050000E06A7F00000100000001020000C063000000E1...</td>\n",
       "      <td>01060000206A7F000001000000010300000001000000C1...</td>\n",
       "      <td>drb</td>\n",
       "      <td>None</td>\n",
       "      <td>NaN</td>\n",
       "      <td>74294.0</td>\n",
       "      <td>74299.0</td>\n",
       "      <td>020401010101</td>\n",
       "    </tr>\n",
       "  </tbody>\n",
       "</table>\n",
       "<p>3 rows × 21 columns</p>\n",
       "</div>"
      ],
      "text/plain": [
       "     comid tploadrate_total tploadate_conc tnloadrate_total tnloadate_conc  \\\n",
       "0  2612952           0.6351         0.0200          11.5479         0.2536   \n",
       "1  2612782          51.2284         0.0188         758.0229         0.2414   \n",
       "2  2612920         797.8818         0.0373        8339.1431         0.4056   \n",
       "\n",
       "  tssloadrate_total tssloadate_conc catchment_hectares watershed_hectares  \\\n",
       "0         1173.0077          8.8315             6.3851           981.0000   \n",
       "1        22417.1069          7.4794           524.1138           906.3900   \n",
       "2       366215.4767         17.1041          3191.3462          4174.8300   \n",
       "\n",
       "  tploadrate_total_ws  ... tssloadrate_total_ws  maflowv  \\\n",
       "0              0.1216  ...              53.7069   6.6760   \n",
       "1              0.1147  ...              45.6521   6.1910   \n",
       "2              0.2170  ...              99.5046  27.1790   \n",
       "\n",
       "                                                geom  \\\n",
       "0  01050000E06A7F00000100000001020000C007000000B3...   \n",
       "1  01050000E06A7F00000100000001020000C015000000D8...   \n",
       "2  01050000E06A7F00000100000001020000C063000000E1...   \n",
       "\n",
       "                                      geom_catchment cluster fa_name  \\\n",
       "0  01060000206A7F0000010000000103000000010000001B...     drb    None   \n",
       "1  01060000206A7F000001000000010300000001000000DF...     drb    None   \n",
       "2  01060000206A7F000001000000010300000001000000C1...     drb    None   \n",
       "\n",
       "  sub_focusarea     nord  nordstop         huc12  \n",
       "0           NaN  74295.0   74299.0  020401010101  \n",
       "1           NaN  74297.0   74299.0  020401010101  \n",
       "2           NaN  74294.0   74299.0  020401010101  \n",
       "\n",
       "[3 rows x 21 columns]"
      ]
     },
     "execution_count": 16,
     "metadata": {},
     "output_type": "execute_result"
    }
   ],
   "source": [
    "base_df.head(3)"
   ]
  },
  {
   "cell_type": "markdown",
   "metadata": {
    "tags": []
   },
   "source": [
    "## Read from Database using SQLAlchemy and GeoPandas\n",
    "An alternate way to connect, using sqlalchemy, written by Sarah.  \n",
    "Benefits include:\n",
    "- Doesn't require knowledge of column names\n",
    "- Correctly auto-parses datatypes\n",
    "- Auto-converts column named 'geom' from a string into a geometry datatype compatible with  GeoPandas and most plotting libraries."
   ]
  },
  {
   "cell_type": "code",
   "execution_count": 52,
   "metadata": {},
   "outputs": [
    {
     "name": "stdout",
     "output_type": "stream",
     "text": [
      "CPU times: user 327 µs, sys: 0 ns, total: 327 µs\n",
      "Wall time: 331 µs\n"
     ]
    }
   ],
   "source": [
    "%%time\n",
    "# Connect to database with sqlalchemy\n",
    "from sqlalchemy import create_engine  \n",
    "\n",
    "db_connection_url = \"postgresql://{}:{}@{}:{}/{}\".format(_user[0], _password[0], _host[0], _port, _database[0])\n",
    "con = create_engine(db_connection_url)  "
   ]
  },
  {
   "cell_type": "code",
   "execution_count": 53,
   "metadata": {},
   "outputs": [
    {
     "name": "stdout",
     "output_type": "stream",
     "text": [
      "CPU times: user 2.47 s, sys: 1.03 s, total: 3.5 s\n",
      "Wall time: 42.3 s\n"
     ]
    }
   ],
   "source": [
    "%%time\n",
    "# import data with geopandas compatible geometry\n",
    "import geopandas as gpd \n",
    "\n",
    "base_model_select = 'SELECT * FROM wikiwtershedoutputs.{}'.format(tablename_base)\n",
    "rest_model_select = 'SELECT * FROM wikiwtershedoutputs.{}'.format(tablename_rest)\n",
    "\n",
    "base_df = gpd.read_postgis(base_model_select, con)\n",
    "rest_df = gpd.read_postgis(rest_model_select, con)"
   ]
  },
  {
   "cell_type": "code",
   "execution_count": 54,
   "metadata": {},
   "outputs": [
    {
     "name": "stdout",
     "output_type": "stream",
     "text": [
      "<class 'geopandas.geodataframe.GeoDataFrame'>\n",
      "RangeIndex: 19496 entries, 0 to 19495\n",
      "Data columns (total 21 columns):\n",
      " #   Column                Non-Null Count  Dtype   \n",
      "---  ------                --------------  -----   \n",
      " 0   comid                 19496 non-null  int64   \n",
      " 1   tploadrate_total      19496 non-null  float64 \n",
      " 2   tploadate_conc        19496 non-null  float64 \n",
      " 3   tnloadrate_total      19496 non-null  float64 \n",
      " 4   tnloadate_conc        19496 non-null  float64 \n",
      " 5   tssloadrate_total     19496 non-null  float64 \n",
      " 6   tssloadate_conc       19496 non-null  float64 \n",
      " 7   catchment_hectares    19496 non-null  float64 \n",
      " 8   watershed_hectares    19496 non-null  float64 \n",
      " 9   tploadrate_total_ws   19496 non-null  float64 \n",
      " 10  tnloadrate_total_ws   19496 non-null  float64 \n",
      " 11  tssloadrate_total_ws  19496 non-null  float64 \n",
      " 12  maflowv               19496 non-null  float64 \n",
      " 13  geom                  19266 non-null  geometry\n",
      " 14  geom_catchment        19496 non-null  object  \n",
      " 15  cluster               17358 non-null  object  \n",
      " 16  fa_name               186 non-null    object  \n",
      " 17  sub_focusarea         186 non-null    float64 \n",
      " 18  nord                  18870 non-null  float64 \n",
      " 19  nordstop              18844 non-null  float64 \n",
      " 20  huc12                 19496 non-null  object  \n",
      "dtypes: float64(15), geometry(1), int64(1), object(4)\n",
      "memory usage: 3.1+ MB\n"
     ]
    }
   ],
   "source": [
    "base_df.info()"
   ]
  },
  {
   "cell_type": "code",
   "execution_count": 55,
   "metadata": {},
   "outputs": [
    {
     "name": "stdout",
     "output_type": "stream",
     "text": [
      "<class 'geopandas.geodataframe.GeoDataFrame'>\n",
      "RangeIndex: 19496 entries, 0 to 19495\n",
      "Data columns (total 21 columns):\n",
      " #   Column                Non-Null Count  Dtype   \n",
      "---  ------                --------------  -----   \n",
      " 0   comid                 19496 non-null  int64   \n",
      " 1   tploadrate_total      19496 non-null  float64 \n",
      " 2   tploadate_conc        19496 non-null  float64 \n",
      " 3   tnloadrate_total      19496 non-null  float64 \n",
      " 4   tnloadate_conc        19496 non-null  float64 \n",
      " 5   tssloadrate_total     19496 non-null  float64 \n",
      " 6   tssloadate_conc       19496 non-null  float64 \n",
      " 7   catchment_hectares    19496 non-null  float64 \n",
      " 8   watershed_hectares    19496 non-null  float64 \n",
      " 9   tploadrate_total_ws   19496 non-null  float64 \n",
      " 10  tnloadrate_total_ws   19496 non-null  float64 \n",
      " 11  tssloadrate_total_ws  19496 non-null  float64 \n",
      " 12  maflowv               19496 non-null  float64 \n",
      " 13  geom                  19266 non-null  geometry\n",
      " 14  geom_catchment        19496 non-null  object  \n",
      " 15  cluster               17358 non-null  object  \n",
      " 16  fa_name               186 non-null    object  \n",
      " 17  sub_focusarea         186 non-null    float64 \n",
      " 18  nord                  18870 non-null  float64 \n",
      " 19  nordstop              18844 non-null  float64 \n",
      " 20  huc12                 19496 non-null  object  \n",
      "dtypes: float64(15), geometry(1), int64(1), object(4)\n",
      "memory usage: 3.1+ MB\n"
     ]
    }
   ],
   "source": [
    "rest_df.info()"
   ]
  },
  {
   "cell_type": "code",
   "execution_count": 56,
   "metadata": {},
   "outputs": [
    {
     "data": {
      "text/html": [
       "<div>\n",
       "<style scoped>\n",
       "    .dataframe tbody tr th:only-of-type {\n",
       "        vertical-align: middle;\n",
       "    }\n",
       "\n",
       "    .dataframe tbody tr th {\n",
       "        vertical-align: top;\n",
       "    }\n",
       "\n",
       "    .dataframe thead th {\n",
       "        text-align: right;\n",
       "    }\n",
       "</style>\n",
       "<table border=\"1\" class=\"dataframe\">\n",
       "  <thead>\n",
       "    <tr style=\"text-align: right;\">\n",
       "      <th></th>\n",
       "      <th>comid</th>\n",
       "      <th>tploadrate_total</th>\n",
       "      <th>tploadate_conc</th>\n",
       "      <th>tnloadrate_total</th>\n",
       "      <th>tnloadate_conc</th>\n",
       "      <th>tssloadrate_total</th>\n",
       "      <th>tssloadate_conc</th>\n",
       "      <th>catchment_hectares</th>\n",
       "      <th>watershed_hectares</th>\n",
       "      <th>tploadrate_total_ws</th>\n",
       "      <th>...</th>\n",
       "      <th>tssloadrate_total_ws</th>\n",
       "      <th>maflowv</th>\n",
       "      <th>geom</th>\n",
       "      <th>geom_catchment</th>\n",
       "      <th>cluster</th>\n",
       "      <th>fa_name</th>\n",
       "      <th>sub_focusarea</th>\n",
       "      <th>nord</th>\n",
       "      <th>nordstop</th>\n",
       "      <th>huc12</th>\n",
       "    </tr>\n",
       "  </thead>\n",
       "  <tbody>\n",
       "    <tr>\n",
       "      <th>0</th>\n",
       "      <td>2612952</td>\n",
       "      <td>0.6351</td>\n",
       "      <td>0.0200</td>\n",
       "      <td>11.5479</td>\n",
       "      <td>0.2536</td>\n",
       "      <td>1173.0077</td>\n",
       "      <td>8.8315</td>\n",
       "      <td>6.3851</td>\n",
       "      <td>981.00</td>\n",
       "      <td>0.1216</td>\n",
       "      <td>...</td>\n",
       "      <td>53.7069</td>\n",
       "      <td>6.676</td>\n",
       "      <td>MULTILINESTRING Z ((531509.616 4697096.509 0.0...</td>\n",
       "      <td>01060000206A7F0000010000000103000000010000001B...</td>\n",
       "      <td>drb</td>\n",
       "      <td>None</td>\n",
       "      <td>NaN</td>\n",
       "      <td>74295.0</td>\n",
       "      <td>74299.0</td>\n",
       "      <td>020401010101</td>\n",
       "    </tr>\n",
       "    <tr>\n",
       "      <th>1</th>\n",
       "      <td>2612782</td>\n",
       "      <td>51.2284</td>\n",
       "      <td>0.0188</td>\n",
       "      <td>758.0229</td>\n",
       "      <td>0.2414</td>\n",
       "      <td>22417.1069</td>\n",
       "      <td>7.4794</td>\n",
       "      <td>524.1138</td>\n",
       "      <td>906.39</td>\n",
       "      <td>0.1147</td>\n",
       "      <td>...</td>\n",
       "      <td>45.6521</td>\n",
       "      <td>6.191</td>\n",
       "      <td>MULTILINESTRING Z ((531592.400 4699047.630 0.0...</td>\n",
       "      <td>01060000206A7F000001000000010300000001000000DF...</td>\n",
       "      <td>drb</td>\n",
       "      <td>None</td>\n",
       "      <td>NaN</td>\n",
       "      <td>74297.0</td>\n",
       "      <td>74299.0</td>\n",
       "      <td>020401010101</td>\n",
       "    </tr>\n",
       "    <tr>\n",
       "      <th>2</th>\n",
       "      <td>2612920</td>\n",
       "      <td>797.8818</td>\n",
       "      <td>0.0373</td>\n",
       "      <td>8339.1431</td>\n",
       "      <td>0.4056</td>\n",
       "      <td>366215.4767</td>\n",
       "      <td>17.1041</td>\n",
       "      <td>3191.3462</td>\n",
       "      <td>4174.83</td>\n",
       "      <td>0.2170</td>\n",
       "      <td>...</td>\n",
       "      <td>99.5046</td>\n",
       "      <td>27.179</td>\n",
       "      <td>MULTILINESTRING Z ((531474.494 4696977.042 0.0...</td>\n",
       "      <td>01060000206A7F000001000000010300000001000000C1...</td>\n",
       "      <td>drb</td>\n",
       "      <td>None</td>\n",
       "      <td>NaN</td>\n",
       "      <td>74294.0</td>\n",
       "      <td>74299.0</td>\n",
       "      <td>020401010101</td>\n",
       "    </tr>\n",
       "  </tbody>\n",
       "</table>\n",
       "<p>3 rows × 21 columns</p>\n",
       "</div>"
      ],
      "text/plain": [
       "     comid  tploadrate_total  tploadate_conc  tnloadrate_total  \\\n",
       "0  2612952            0.6351          0.0200           11.5479   \n",
       "1  2612782           51.2284          0.0188          758.0229   \n",
       "2  2612920          797.8818          0.0373         8339.1431   \n",
       "\n",
       "   tnloadate_conc  tssloadrate_total  tssloadate_conc  catchment_hectares  \\\n",
       "0          0.2536          1173.0077           8.8315              6.3851   \n",
       "1          0.2414         22417.1069           7.4794            524.1138   \n",
       "2          0.4056        366215.4767          17.1041           3191.3462   \n",
       "\n",
       "   watershed_hectares  tploadrate_total_ws  ...  tssloadrate_total_ws  \\\n",
       "0              981.00               0.1216  ...               53.7069   \n",
       "1              906.39               0.1147  ...               45.6521   \n",
       "2             4174.83               0.2170  ...               99.5046   \n",
       "\n",
       "   maflowv                                               geom  \\\n",
       "0    6.676  MULTILINESTRING Z ((531509.616 4697096.509 0.0...   \n",
       "1    6.191  MULTILINESTRING Z ((531592.400 4699047.630 0.0...   \n",
       "2   27.179  MULTILINESTRING Z ((531474.494 4696977.042 0.0...   \n",
       "\n",
       "                                      geom_catchment cluster fa_name  \\\n",
       "0  01060000206A7F0000010000000103000000010000001B...     drb    None   \n",
       "1  01060000206A7F000001000000010300000001000000DF...     drb    None   \n",
       "2  01060000206A7F000001000000010300000001000000C1...     drb    None   \n",
       "\n",
       "  sub_focusarea     nord  nordstop         huc12  \n",
       "0           NaN  74295.0   74299.0  020401010101  \n",
       "1           NaN  74297.0   74299.0  020401010101  \n",
       "2           NaN  74294.0   74299.0  020401010101  \n",
       "\n",
       "[3 rows x 21 columns]"
      ]
     },
     "execution_count": 56,
     "metadata": {},
     "output_type": "execute_result"
    }
   ],
   "source": [
    "base_df.head(3)"
   ]
  },
  {
   "cell_type": "markdown",
   "metadata": {},
   "source": [
    "### Set Index to COMID\n",
    "For easier search and error-free merging.  \n",
    "Doc: https://pandas.pydata.org/pandas-docs/stable/reference/api/pandas.DataFrame.set_index.html"
   ]
  },
  {
   "cell_type": "code",
   "execution_count": 57,
   "metadata": {},
   "outputs": [],
   "source": [
    "# Set index to COMID\n",
    "base_df.set_index('comid', inplace=True)\n",
    "rest_df.set_index('comid', inplace=True)"
   ]
  },
  {
   "cell_type": "markdown",
   "metadata": {
    "tags": []
   },
   "source": [
    "### Sort Index\n",
    "For performance.  \n",
    "Docs: https://pandas.pydata.org/docs/reference/api/pandas.DataFrame.sort_index.html"
   ]
  },
  {
   "cell_type": "code",
   "execution_count": 58,
   "metadata": {},
   "outputs": [],
   "source": [
    "# Sort Index\n",
    "base_df.sort_index(inplace=True)\n",
    "rest_df.sort_index(inplace=True)"
   ]
  },
  {
   "cell_type": "code",
   "execution_count": 59,
   "metadata": {},
   "outputs": [
    {
     "data": {
      "text/plain": [
       "Int64Index([  1748535,   1748537,   1748539,   1748541,   1748543,   1748545,\n",
       "              1748547,   1748549,   1748551,   1748553,\n",
       "            ...\n",
       "            932040361, 932040362, 932040363, 932040364, 932040365, 932040366,\n",
       "            932040367, 932040368, 932040369, 932040370],\n",
       "           dtype='int64', name='comid', length=19496)"
      ]
     },
     "execution_count": 59,
     "metadata": {},
     "output_type": "execute_result"
    }
   ],
   "source": [
    "base_df.index"
   ]
  },
  {
   "cell_type": "code",
   "execution_count": 60,
   "metadata": {},
   "outputs": [
    {
     "data": {
      "text/plain": [
       "Int64Index([  1748535,   1748537,   1748539,   1748541,   1748543,   1748545,\n",
       "              1748547,   1748549,   1748551,   1748553,\n",
       "            ...\n",
       "            932040361, 932040362, 932040363, 932040364, 932040365, 932040366,\n",
       "            932040367, 932040368, 932040369, 932040370],\n",
       "           dtype='int64', name='comid', length=19496)"
      ]
     },
     "execution_count": 60,
     "metadata": {},
     "output_type": "execute_result"
    }
   ],
   "source": [
    "rest_df.index"
   ]
  },
  {
   "cell_type": "markdown",
   "metadata": {},
   "source": [
    "### Confirm Differences between Base & Restoration"
   ]
  },
  {
   "cell_type": "code",
   "execution_count": 61,
   "metadata": {},
   "outputs": [
    {
     "data": {
      "text/plain": [
       "comid\n",
       "1748535      True\n",
       "1748537      True\n",
       "1748539      True\n",
       "1748541      True\n",
       "1748543      True\n",
       "             ... \n",
       "932040366    True\n",
       "932040367    True\n",
       "932040368    True\n",
       "932040369    True\n",
       "932040370    True\n",
       "Name: tploadrate_total, Length: 19496, dtype: bool"
      ]
     },
     "execution_count": 61,
     "metadata": {},
     "output_type": "execute_result"
    }
   ],
   "source": [
    "diff_df = base_df.tploadrate_total == rest_df.tploadrate_total\n",
    "diff_df"
   ]
  },
  {
   "cell_type": "code",
   "execution_count": 62,
   "metadata": {},
   "outputs": [
    {
     "data": {
      "text/plain": [
       "True     19267\n",
       "False      229\n",
       "Name: tploadrate_total, dtype: int64"
      ]
     },
     "execution_count": 62,
     "metadata": {},
     "output_type": "execute_result"
    }
   ],
   "source": [
    "diff_df.value_counts()"
   ]
  },
  {
   "cell_type": "code",
   "execution_count": 63,
   "metadata": {},
   "outputs": [
    {
     "data": {
      "text/plain": [
       "True     18666\n",
       "False      830\n",
       "Name: tploadate_conc, dtype: int64"
      ]
     },
     "execution_count": 63,
     "metadata": {},
     "output_type": "execute_result"
    }
   ],
   "source": [
    "diff_df = base_df.tploadate_conc == rest_df.tploadate_conc\n",
    "diff_df.value_counts()"
   ]
  },
  {
   "cell_type": "markdown",
   "metadata": {},
   "source": [
    "### Convert Nord, NordStop, Sub_FocusArea from Float to Nullable Integers\n",
    "For improved performance, memory use, and compression.\n",
    "Floats are generally problematic for any index or field used as an index.\n",
    "\n",
    "Nord & NordStop contain null values, which by default Pandas interprets as a `numpy.nan` that is a `float64` dtype. This forces the entire series to `float64`.\n",
    "\n",
    "Pandas can represent integer data with missing values (since v1.0) using `arrays.IntegerArray` and `dtype=pd.Int64Dtype()`. \n",
    "\n",
    "Docs:\n",
    "- https://pandas.pydata.org/pandas-docs/stable/user_guide/integer_na.html\n",
    "- https://pandas.pydata.org/pandas-docs/stable/reference/api/pandas.Series.astype.html"
   ]
  },
  {
   "cell_type": "code",
   "execution_count": 64,
   "metadata": {},
   "outputs": [],
   "source": [
    "base_df.sub_focusarea = base_df.sub_focusarea.astype(pd.Int64Dtype())\n",
    "base_df.nord          = base_df.nord.astype(pd.Int64Dtype())\n",
    "base_df.nordstop      = base_df.nordstop.astype(pd.Int64Dtype())\n",
    "\n",
    "rest_df.sub_focusarea = rest_df.sub_focusarea.astype(pd.Int64Dtype())\n",
    "rest_df.nord          = rest_df.nord.astype(pd.Int64Dtype())\n",
    "rest_df.nordstop      = rest_df.nordstop.astype(pd.Int64Dtype()) "
   ]
  },
  {
   "cell_type": "code",
   "execution_count": 65,
   "metadata": {},
   "outputs": [
    {
     "data": {
      "text/html": [
       "<div>\n",
       "<style scoped>\n",
       "    .dataframe tbody tr th:only-of-type {\n",
       "        vertical-align: middle;\n",
       "    }\n",
       "\n",
       "    .dataframe tbody tr th {\n",
       "        vertical-align: top;\n",
       "    }\n",
       "\n",
       "    .dataframe thead th {\n",
       "        text-align: right;\n",
       "    }\n",
       "</style>\n",
       "<table border=\"1\" class=\"dataframe\">\n",
       "  <thead>\n",
       "    <tr style=\"text-align: right;\">\n",
       "      <th></th>\n",
       "      <th>tploadrate_total</th>\n",
       "      <th>tploadate_conc</th>\n",
       "      <th>tnloadrate_total</th>\n",
       "      <th>tnloadate_conc</th>\n",
       "      <th>tssloadrate_total</th>\n",
       "      <th>tssloadate_conc</th>\n",
       "      <th>catchment_hectares</th>\n",
       "      <th>watershed_hectares</th>\n",
       "      <th>tploadrate_total_ws</th>\n",
       "      <th>tnloadrate_total_ws</th>\n",
       "      <th>tssloadrate_total_ws</th>\n",
       "      <th>maflowv</th>\n",
       "      <th>geom</th>\n",
       "      <th>geom_catchment</th>\n",
       "      <th>cluster</th>\n",
       "      <th>fa_name</th>\n",
       "      <th>sub_focusarea</th>\n",
       "      <th>nord</th>\n",
       "      <th>nordstop</th>\n",
       "      <th>huc12</th>\n",
       "    </tr>\n",
       "    <tr>\n",
       "      <th>comid</th>\n",
       "      <th></th>\n",
       "      <th></th>\n",
       "      <th></th>\n",
       "      <th></th>\n",
       "      <th></th>\n",
       "      <th></th>\n",
       "      <th></th>\n",
       "      <th></th>\n",
       "      <th></th>\n",
       "      <th></th>\n",
       "      <th></th>\n",
       "      <th></th>\n",
       "      <th></th>\n",
       "      <th></th>\n",
       "      <th></th>\n",
       "      <th></th>\n",
       "      <th></th>\n",
       "      <th></th>\n",
       "      <th></th>\n",
       "      <th></th>\n",
       "    </tr>\n",
       "  </thead>\n",
       "  <tbody>\n",
       "    <tr>\n",
       "      <th>2583353</th>\n",
       "      <td>177.7780</td>\n",
       "      <td>0.0281</td>\n",
       "      <td>2200.1500</td>\n",
       "      <td>0.3300</td>\n",
       "      <td>104612.1133</td>\n",
       "      <td>25.3955</td>\n",
       "      <td>486.6020</td>\n",
       "      <td>1723.41</td>\n",
       "      <td>0.1870</td>\n",
       "      <td>2.1958</td>\n",
       "      <td>168.9836</td>\n",
       "      <td>12.833</td>\n",
       "      <td>MULTILINESTRING Z ((510062.992 4547299.159 0.0...</td>\n",
       "      <td>01060000206A7F0000010000000103000000010000002D...</td>\n",
       "      <td>New Jersey Highlands</td>\n",
       "      <td>Paulins Kill</td>\n",
       "      <td>3</td>\n",
       "      <td>70054</td>\n",
       "      <td>70057</td>\n",
       "      <td>020401050102</td>\n",
       "    </tr>\n",
       "    <tr>\n",
       "      <th>2583369</th>\n",
       "      <td>3.8052</td>\n",
       "      <td>0.0802</td>\n",
       "      <td>38.6503</td>\n",
       "      <td>1.1833</td>\n",
       "      <td>10032.3886</td>\n",
       "      <td>82.1927</td>\n",
       "      <td>7.0144</td>\n",
       "      <td>1087.56</td>\n",
       "      <td>0.5157</td>\n",
       "      <td>7.6090</td>\n",
       "      <td>528.5280</td>\n",
       "      <td>7.826</td>\n",
       "      <td>MULTILINESTRING Z ((514598.774 4544239.887 0.0...</td>\n",
       "      <td>01060000206A7F00000100000001030000000100000018...</td>\n",
       "      <td>New Jersey Highlands</td>\n",
       "      <td>Paulins Kill</td>\n",
       "      <td>8</td>\n",
       "      <td>70152</td>\n",
       "      <td>70157</td>\n",
       "      <td>020401050102</td>\n",
       "    </tr>\n",
       "    <tr>\n",
       "      <th>2583379</th>\n",
       "      <td>47.4438</td>\n",
       "      <td>0.0609</td>\n",
       "      <td>1163.0701</td>\n",
       "      <td>1.0621</td>\n",
       "      <td>40602.0194</td>\n",
       "      <td>68.6833</td>\n",
       "      <td>114.2091</td>\n",
       "      <td>18845.46</td>\n",
       "      <td>0.3768</td>\n",
       "      <td>6.5716</td>\n",
       "      <td>424.9715</td>\n",
       "      <td>130.487</td>\n",
       "      <td>MULTILINESTRING Z ((514435.695 4544602.881 0.0...</td>\n",
       "      <td>01060000206A7F000001000000010300000001000000BA...</td>\n",
       "      <td>New Jersey Highlands</td>\n",
       "      <td>Paulins Kill</td>\n",
       "      <td>1</td>\n",
       "      <td>70059</td>\n",
       "      <td>70157</td>\n",
       "      <td>020401050102</td>\n",
       "    </tr>\n",
       "  </tbody>\n",
       "</table>\n",
       "</div>"
      ],
      "text/plain": [
       "         tploadrate_total  tploadate_conc  tnloadrate_total  tnloadate_conc  \\\n",
       "comid                                                                         \n",
       "2583353          177.7780          0.0281         2200.1500          0.3300   \n",
       "2583369            3.8052          0.0802           38.6503          1.1833   \n",
       "2583379           47.4438          0.0609         1163.0701          1.0621   \n",
       "\n",
       "         tssloadrate_total  tssloadate_conc  catchment_hectares  \\\n",
       "comid                                                             \n",
       "2583353        104612.1133          25.3955            486.6020   \n",
       "2583369         10032.3886          82.1927              7.0144   \n",
       "2583379         40602.0194          68.6833            114.2091   \n",
       "\n",
       "         watershed_hectares  tploadrate_total_ws  tnloadrate_total_ws  \\\n",
       "comid                                                                   \n",
       "2583353             1723.41               0.1870               2.1958   \n",
       "2583369             1087.56               0.5157               7.6090   \n",
       "2583379            18845.46               0.3768               6.5716   \n",
       "\n",
       "         tssloadrate_total_ws  maflowv  \\\n",
       "comid                                    \n",
       "2583353              168.9836   12.833   \n",
       "2583369              528.5280    7.826   \n",
       "2583379              424.9715  130.487   \n",
       "\n",
       "                                                      geom  \\\n",
       "comid                                                        \n",
       "2583353  MULTILINESTRING Z ((510062.992 4547299.159 0.0...   \n",
       "2583369  MULTILINESTRING Z ((514598.774 4544239.887 0.0...   \n",
       "2583379  MULTILINESTRING Z ((514435.695 4544602.881 0.0...   \n",
       "\n",
       "                                            geom_catchment  \\\n",
       "comid                                                        \n",
       "2583353  01060000206A7F0000010000000103000000010000002D...   \n",
       "2583369  01060000206A7F00000100000001030000000100000018...   \n",
       "2583379  01060000206A7F000001000000010300000001000000BA...   \n",
       "\n",
       "                      cluster       fa_name  sub_focusarea   nord  nordstop  \\\n",
       "comid                                                                         \n",
       "2583353  New Jersey Highlands  Paulins Kill              3  70054     70057   \n",
       "2583369  New Jersey Highlands  Paulins Kill              8  70152     70157   \n",
       "2583379  New Jersey Highlands  Paulins Kill              1  70059     70157   \n",
       "\n",
       "                huc12  \n",
       "comid                  \n",
       "2583353  020401050102  \n",
       "2583369  020401050102  \n",
       "2583379  020401050102  "
      ]
     },
     "execution_count": 65,
     "metadata": {},
     "output_type": "execute_result"
    }
   ],
   "source": [
    "base_df[base_df.sub_focusarea.notna()].head(3)"
   ]
  },
  {
   "cell_type": "markdown",
   "metadata": {},
   "source": [
    "### Convert String Objects to Categoricals\n",
    "For improved performance, memory use, and compression.  \n",
    "See https://anaconda.org/TomAugspurger/pandas-performance/notebook\n",
    "\n",
    "Doc: https://pandas.pydata.org/pandas-docs/stable/user_guide/categorical.html"
   ]
  },
  {
   "cell_type": "code",
   "execution_count": 69,
   "metadata": {},
   "outputs": [
    {
     "name": "stdout",
     "output_type": "stream",
     "text": [
      "CPU times: user 1.61 ms, sys: 98 µs, total: 1.71 ms\n",
      "Wall time: 1.72 ms\n"
     ]
    },
    {
     "data": {
      "text/plain": [
       "19496"
      ]
     },
     "execution_count": 69,
     "metadata": {},
     "output_type": "execute_result"
    }
   ],
   "source": [
    "%%time\n",
    "# Compare before and after\n",
    "base_df.huc12.count()"
   ]
  },
  {
   "cell_type": "code",
   "execution_count": 70,
   "metadata": {},
   "outputs": [],
   "source": [
    "base_df.cluster = base_df.cluster.astype('category')\n",
    "base_df.fa_name = base_df.fa_name.astype('category')\n",
    "base_df.huc12   = base_df.huc12.astype('category')\n",
    "\n",
    "rest_df.cluster = rest_df.cluster.astype('category')\n",
    "rest_df.fa_name = rest_df.fa_name.astype('category')\n",
    "rest_df.huc12   = rest_df.huc12.astype('category')"
   ]
  },
  {
   "cell_type": "code",
   "execution_count": 71,
   "metadata": {},
   "outputs": [
    {
     "name": "stdout",
     "output_type": "stream",
     "text": [
      "<class 'geopandas.geodataframe.GeoDataFrame'>\n",
      "Int64Index: 19496 entries, 1748535 to 932040370\n",
      "Data columns (total 20 columns):\n",
      " #   Column                Non-Null Count  Dtype   \n",
      "---  ------                --------------  -----   \n",
      " 0   tploadrate_total      19496 non-null  float64 \n",
      " 1   tploadate_conc        19496 non-null  float64 \n",
      " 2   tnloadrate_total      19496 non-null  float64 \n",
      " 3   tnloadate_conc        19496 non-null  float64 \n",
      " 4   tssloadrate_total     19496 non-null  float64 \n",
      " 5   tssloadate_conc       19496 non-null  float64 \n",
      " 6   catchment_hectares    19496 non-null  float64 \n",
      " 7   watershed_hectares    19496 non-null  float64 \n",
      " 8   tploadrate_total_ws   19496 non-null  float64 \n",
      " 9   tnloadrate_total_ws   19496 non-null  float64 \n",
      " 10  tssloadrate_total_ws  19496 non-null  float64 \n",
      " 11  maflowv               19496 non-null  float64 \n",
      " 12  geom                  19266 non-null  geometry\n",
      " 13  geom_catchment        19496 non-null  object  \n",
      " 14  cluster               17358 non-null  category\n",
      " 15  fa_name               186 non-null    category\n",
      " 16  sub_focusarea         186 non-null    Int64   \n",
      " 17  nord                  18870 non-null  Int64   \n",
      " 18  nordstop              18844 non-null  Int64   \n",
      " 19  huc12                 19496 non-null  category\n",
      "dtypes: Int64(3), category(3), float64(12), geometry(1), object(1)\n",
      "memory usage: 2.8+ MB\n"
     ]
    }
   ],
   "source": [
    "base_df.info()"
   ]
  },
  {
   "cell_type": "code",
   "execution_count": 72,
   "metadata": {},
   "outputs": [
    {
     "name": "stdout",
     "output_type": "stream",
     "text": [
      "CPU times: user 323 µs, sys: 142 µs, total: 465 µs\n",
      "Wall time: 343 µs\n"
     ]
    },
    {
     "data": {
      "text/plain": [
       "19496"
      ]
     },
     "execution_count": 72,
     "metadata": {},
     "output_type": "execute_result"
    }
   ],
   "source": [
    "%%time\n",
    "# This is now an order of magnitude faster\n",
    "base_df.huc12.count()"
   ]
  },
  {
   "cell_type": "code",
   "execution_count": 73,
   "metadata": {},
   "outputs": [
    {
     "name": "stdout",
     "output_type": "stream",
     "text": [
      "CPU times: user 355 µs, sys: 35 µs, total: 390 µs\n",
      "Wall time: 297 µs\n"
     ]
    },
    {
     "data": {
      "text/plain": [
       "['020401020302', '020401020305', '020401020402', '020401020303', '020401020306', ..., '020402060604', '020402060504', '020402060605', '020402060103', '020402050701']\n",
       "Length: 484\n",
       "Categories (484, object): ['020401010101', '020401010102', '020401010103', '020401010104', ..., '020403020406', '020403020407', '020403020408', '020403030101']"
      ]
     },
     "execution_count": 73,
     "metadata": {},
     "output_type": "execute_result"
    }
   ],
   "source": [
    "%%time\n",
    "base_df.huc12.unique()"
   ]
  },
  {
   "cell_type": "code",
   "execution_count": 74,
   "metadata": {},
   "outputs": [
    {
     "name": "stdout",
     "output_type": "stream",
     "text": [
      "CPU times: user 1.37 ms, sys: 616 µs, total: 1.98 ms\n",
      "Wall time: 1.44 ms\n"
     ]
    },
    {
     "data": {
      "text/plain": [
       "020403010704    310\n",
       "020403010610    256\n",
       "020403010406    253\n",
       "020402060605    239\n",
       "020402070203    231\n",
       "               ... \n",
       "020402070605      2\n",
       "020401060812      2\n",
       "020403030101      2\n",
       "020401020301      1\n",
       "020401020401      1\n",
       "Name: huc12, Length: 484, dtype: int64"
      ]
     },
     "execution_count": 74,
     "metadata": {},
     "output_type": "execute_result"
    }
   ],
   "source": [
    "%%time\n",
    "base_df.huc12.value_counts()"
   ]
  },
  {
   "cell_type": "markdown",
   "metadata": {
    "tags": []
   },
   "source": [
    "### Correct Names\n",
    "\n",
    "**Note on `ploadrate_total`, etc.**  \n",
    "The microservice output says \"tploadrate_total\", however Mike suspected this is a mistake, and it actually is the local NHDplus **catchment annual load (kg/ha)**. We confirmed this by comparing to Model My Watershed subbasin modeling output for specific COMDIDs.\n",
    "- The stream concentrations take into account the upstream watershed load, but this value is not returned. Mike calculated this when exporting the microservice results to PG for convenience, and saved as `tploadrate_total_ws` etc.\n",
    "\n",
    "This code block assigns more accurate, shorter names to selected columns. All fields represent totals for the reach or catcment, so we are removing that from the name to shorten it.\n",
    "\n",
    "Docs: https://pandas.pydata.org/docs/reference/api/pandas.DataFrame.rename.html"
   ]
  },
  {
   "cell_type": "code",
   "execution_count": 75,
   "metadata": {},
   "outputs": [
    {
     "data": {
      "text/html": [
       "<div>\n",
       "<style scoped>\n",
       "    .dataframe tbody tr th:only-of-type {\n",
       "        vertical-align: middle;\n",
       "    }\n",
       "\n",
       "    .dataframe tbody tr th {\n",
       "        vertical-align: top;\n",
       "    }\n",
       "\n",
       "    .dataframe thead th {\n",
       "        text-align: right;\n",
       "    }\n",
       "</style>\n",
       "<table border=\"1\" class=\"dataframe\">\n",
       "  <thead>\n",
       "    <tr style=\"text-align: right;\">\n",
       "      <th></th>\n",
       "      <th>tp_load</th>\n",
       "      <th>tp_conc</th>\n",
       "      <th>tn_load</th>\n",
       "      <th>tn_conc</th>\n",
       "      <th>tss_load</th>\n",
       "      <th>tss_conc</th>\n",
       "      <th>catchment_hectares</th>\n",
       "      <th>watershed_hectares</th>\n",
       "      <th>tp_loadrate_ws</th>\n",
       "      <th>tn_loadrate_ws</th>\n",
       "      <th>tss_loadrate_ws</th>\n",
       "      <th>maflowv</th>\n",
       "      <th>geom</th>\n",
       "      <th>geom_catchment</th>\n",
       "      <th>cluster</th>\n",
       "      <th>fa_name</th>\n",
       "      <th>sub_focusarea</th>\n",
       "      <th>nord</th>\n",
       "      <th>nordstop</th>\n",
       "      <th>huc12</th>\n",
       "    </tr>\n",
       "    <tr>\n",
       "      <th>comid</th>\n",
       "      <th></th>\n",
       "      <th></th>\n",
       "      <th></th>\n",
       "      <th></th>\n",
       "      <th></th>\n",
       "      <th></th>\n",
       "      <th></th>\n",
       "      <th></th>\n",
       "      <th></th>\n",
       "      <th></th>\n",
       "      <th></th>\n",
       "      <th></th>\n",
       "      <th></th>\n",
       "      <th></th>\n",
       "      <th></th>\n",
       "      <th></th>\n",
       "      <th></th>\n",
       "      <th></th>\n",
       "      <th></th>\n",
       "      <th></th>\n",
       "    </tr>\n",
       "  </thead>\n",
       "  <tbody>\n",
       "    <tr>\n",
       "      <th>1748535</th>\n",
       "      <td>881.4618</td>\n",
       "      <td>0.0226</td>\n",
       "      <td>10322.4299</td>\n",
       "      <td>0.2643</td>\n",
       "      <td>390433.1419</td>\n",
       "      <td>9.9983</td>\n",
       "      <td>6496.7052</td>\n",
       "      <td>6501.69</td>\n",
       "      <td>0.1357</td>\n",
       "      <td>1.5874</td>\n",
       "      <td>60.0509</td>\n",
       "      <td>43.699</td>\n",
       "      <td>MULTILINESTRING Z ((539681.467 4689416.166 0.0...</td>\n",
       "      <td>01060000206A7F00000100000001030000000100000021...</td>\n",
       "      <td>drb</td>\n",
       "      <td>NaN</td>\n",
       "      <td>&lt;NA&gt;</td>\n",
       "      <td>74914</td>\n",
       "      <td>74914</td>\n",
       "      <td>020401020302</td>\n",
       "    </tr>\n",
       "    <tr>\n",
       "      <th>1748537</th>\n",
       "      <td>296.6355</td>\n",
       "      <td>0.0297</td>\n",
       "      <td>3165.6081</td>\n",
       "      <td>0.3166</td>\n",
       "      <td>88090.7401</td>\n",
       "      <td>8.8103</td>\n",
       "      <td>1663.1712</td>\n",
       "      <td>1664.46</td>\n",
       "      <td>0.1784</td>\n",
       "      <td>1.9019</td>\n",
       "      <td>52.9245</td>\n",
       "      <td>11.189</td>\n",
       "      <td>MULTILINESTRING Z ((532825.185 4684387.302 0.0...</td>\n",
       "      <td>01060000206A7F000001000000010300000001000000FC...</td>\n",
       "      <td>drb</td>\n",
       "      <td>NaN</td>\n",
       "      <td>&lt;NA&gt;</td>\n",
       "      <td>74913</td>\n",
       "      <td>74913</td>\n",
       "      <td>020401020302</td>\n",
       "    </tr>\n",
       "    <tr>\n",
       "      <th>1748539</th>\n",
       "      <td>350.9217</td>\n",
       "      <td>0.0350</td>\n",
       "      <td>2816.4257</td>\n",
       "      <td>0.2808</td>\n",
       "      <td>117212.5160</td>\n",
       "      <td>11.6874</td>\n",
       "      <td>1639.4128</td>\n",
       "      <td>1640.70</td>\n",
       "      <td>0.2139</td>\n",
       "      <td>1.7164</td>\n",
       "      <td>71.4407</td>\n",
       "      <td>11.223</td>\n",
       "      <td>MULTILINESTRING Z ((524096.535 4677200.269 0.0...</td>\n",
       "      <td>01060000206A7F000001000000010300000001000000C2...</td>\n",
       "      <td>drb</td>\n",
       "      <td>NaN</td>\n",
       "      <td>&lt;NA&gt;</td>\n",
       "      <td>74921</td>\n",
       "      <td>74921</td>\n",
       "      <td>020401020305</td>\n",
       "    </tr>\n",
       "  </tbody>\n",
       "</table>\n",
       "</div>"
      ],
      "text/plain": [
       "          tp_load  tp_conc     tn_load  tn_conc     tss_load  tss_conc  \\\n",
       "comid                                                                    \n",
       "1748535  881.4618   0.0226  10322.4299   0.2643  390433.1419    9.9983   \n",
       "1748537  296.6355   0.0297   3165.6081   0.3166   88090.7401    8.8103   \n",
       "1748539  350.9217   0.0350   2816.4257   0.2808  117212.5160   11.6874   \n",
       "\n",
       "         catchment_hectares  watershed_hectares  tp_loadrate_ws  \\\n",
       "comid                                                             \n",
       "1748535           6496.7052             6501.69          0.1357   \n",
       "1748537           1663.1712             1664.46          0.1784   \n",
       "1748539           1639.4128             1640.70          0.2139   \n",
       "\n",
       "         tn_loadrate_ws  tss_loadrate_ws  maflowv  \\\n",
       "comid                                               \n",
       "1748535          1.5874          60.0509   43.699   \n",
       "1748537          1.9019          52.9245   11.189   \n",
       "1748539          1.7164          71.4407   11.223   \n",
       "\n",
       "                                                      geom  \\\n",
       "comid                                                        \n",
       "1748535  MULTILINESTRING Z ((539681.467 4689416.166 0.0...   \n",
       "1748537  MULTILINESTRING Z ((532825.185 4684387.302 0.0...   \n",
       "1748539  MULTILINESTRING Z ((524096.535 4677200.269 0.0...   \n",
       "\n",
       "                                            geom_catchment cluster fa_name  \\\n",
       "comid                                                                        \n",
       "1748535  01060000206A7F00000100000001030000000100000021...     drb     NaN   \n",
       "1748537  01060000206A7F000001000000010300000001000000FC...     drb     NaN   \n",
       "1748539  01060000206A7F000001000000010300000001000000C2...     drb     NaN   \n",
       "\n",
       "         sub_focusarea   nord  nordstop         huc12  \n",
       "comid                                                  \n",
       "1748535           <NA>  74914     74914  020401020302  \n",
       "1748537           <NA>  74913     74913  020401020302  \n",
       "1748539           <NA>  74921     74921  020401020305  "
      ]
     },
     "execution_count": 75,
     "metadata": {},
     "output_type": "execute_result"
    }
   ],
   "source": [
    "base_df.rename(columns={'tploadrate_total':'tp_load',\n",
    "                        'tploadate_conc':'tp_conc',\n",
    "                        'tnloadrate_total':'tn_load',\n",
    "                        'tnloadate_conc':'tn_conc',\n",
    "                        'tssloadrate_total':'tss_load',\n",
    "                        'tssloadate_conc':'tss_conc',\n",
    "                        'tploadrate_total_ws':'tp_loadrate_ws',\n",
    "                        'tnloadrate_total_ws':'tn_loadrate_ws',\n",
    "                        'tssloadrate_total_ws':'tss_loadrate_ws',\n",
    "                       },\n",
    "               inplace=True,\n",
    "              )\n",
    "base_df.head(3)"
   ]
  },
  {
   "cell_type": "code",
   "execution_count": 76,
   "metadata": {},
   "outputs": [
    {
     "data": {
      "text/html": [
       "<div>\n",
       "<style scoped>\n",
       "    .dataframe tbody tr th:only-of-type {\n",
       "        vertical-align: middle;\n",
       "    }\n",
       "\n",
       "    .dataframe tbody tr th {\n",
       "        vertical-align: top;\n",
       "    }\n",
       "\n",
       "    .dataframe thead th {\n",
       "        text-align: right;\n",
       "    }\n",
       "</style>\n",
       "<table border=\"1\" class=\"dataframe\">\n",
       "  <thead>\n",
       "    <tr style=\"text-align: right;\">\n",
       "      <th></th>\n",
       "      <th>tp_load</th>\n",
       "      <th>tp_conc</th>\n",
       "      <th>tn_load</th>\n",
       "      <th>tn_conc</th>\n",
       "      <th>tss_load</th>\n",
       "      <th>tss_conc</th>\n",
       "      <th>catchment_hectares</th>\n",
       "      <th>watershed_hectares</th>\n",
       "      <th>tp_loadrate_ws</th>\n",
       "      <th>tn_loadrate_ws</th>\n",
       "      <th>tss_loadrate_ws</th>\n",
       "      <th>maflowv</th>\n",
       "      <th>geom</th>\n",
       "      <th>geom_catchment</th>\n",
       "      <th>cluster</th>\n",
       "      <th>fa_name</th>\n",
       "      <th>sub_focusarea</th>\n",
       "      <th>nord</th>\n",
       "      <th>nordstop</th>\n",
       "      <th>huc12</th>\n",
       "    </tr>\n",
       "    <tr>\n",
       "      <th>comid</th>\n",
       "      <th></th>\n",
       "      <th></th>\n",
       "      <th></th>\n",
       "      <th></th>\n",
       "      <th></th>\n",
       "      <th></th>\n",
       "      <th></th>\n",
       "      <th></th>\n",
       "      <th></th>\n",
       "      <th></th>\n",
       "      <th></th>\n",
       "      <th></th>\n",
       "      <th></th>\n",
       "      <th></th>\n",
       "      <th></th>\n",
       "      <th></th>\n",
       "      <th></th>\n",
       "      <th></th>\n",
       "      <th></th>\n",
       "      <th></th>\n",
       "    </tr>\n",
       "  </thead>\n",
       "  <tbody>\n",
       "    <tr>\n",
       "      <th>1748535</th>\n",
       "      <td>881.4618</td>\n",
       "      <td>0.0226</td>\n",
       "      <td>10322.4299</td>\n",
       "      <td>0.2643</td>\n",
       "      <td>390433.1419</td>\n",
       "      <td>9.9983</td>\n",
       "      <td>6496.7052</td>\n",
       "      <td>6501.69</td>\n",
       "      <td>0.1357</td>\n",
       "      <td>1.5874</td>\n",
       "      <td>60.0509</td>\n",
       "      <td>43.699</td>\n",
       "      <td>MULTILINESTRING Z ((539681.467 4689416.166 0.0...</td>\n",
       "      <td>01060000206A7F00000100000001030000000100000021...</td>\n",
       "      <td>drb</td>\n",
       "      <td>NaN</td>\n",
       "      <td>&lt;NA&gt;</td>\n",
       "      <td>74914</td>\n",
       "      <td>74914</td>\n",
       "      <td>020401020302</td>\n",
       "    </tr>\n",
       "    <tr>\n",
       "      <th>1748537</th>\n",
       "      <td>296.6355</td>\n",
       "      <td>0.0297</td>\n",
       "      <td>3165.6081</td>\n",
       "      <td>0.3166</td>\n",
       "      <td>88090.7401</td>\n",
       "      <td>8.8103</td>\n",
       "      <td>1663.1712</td>\n",
       "      <td>1664.46</td>\n",
       "      <td>0.1784</td>\n",
       "      <td>1.9019</td>\n",
       "      <td>52.9245</td>\n",
       "      <td>11.189</td>\n",
       "      <td>MULTILINESTRING Z ((532825.185 4684387.302 0.0...</td>\n",
       "      <td>01060000206A7F000001000000010300000001000000FC...</td>\n",
       "      <td>drb</td>\n",
       "      <td>NaN</td>\n",
       "      <td>&lt;NA&gt;</td>\n",
       "      <td>74913</td>\n",
       "      <td>74913</td>\n",
       "      <td>020401020302</td>\n",
       "    </tr>\n",
       "    <tr>\n",
       "      <th>1748539</th>\n",
       "      <td>350.9217</td>\n",
       "      <td>0.0350</td>\n",
       "      <td>2816.4257</td>\n",
       "      <td>0.2808</td>\n",
       "      <td>117212.5160</td>\n",
       "      <td>11.6874</td>\n",
       "      <td>1639.4128</td>\n",
       "      <td>1640.70</td>\n",
       "      <td>0.2139</td>\n",
       "      <td>1.7164</td>\n",
       "      <td>71.4407</td>\n",
       "      <td>11.223</td>\n",
       "      <td>MULTILINESTRING Z ((524096.535 4677200.269 0.0...</td>\n",
       "      <td>01060000206A7F000001000000010300000001000000C2...</td>\n",
       "      <td>drb</td>\n",
       "      <td>NaN</td>\n",
       "      <td>&lt;NA&gt;</td>\n",
       "      <td>74921</td>\n",
       "      <td>74921</td>\n",
       "      <td>020401020305</td>\n",
       "    </tr>\n",
       "  </tbody>\n",
       "</table>\n",
       "</div>"
      ],
      "text/plain": [
       "          tp_load  tp_conc     tn_load  tn_conc     tss_load  tss_conc  \\\n",
       "comid                                                                    \n",
       "1748535  881.4618   0.0226  10322.4299   0.2643  390433.1419    9.9983   \n",
       "1748537  296.6355   0.0297   3165.6081   0.3166   88090.7401    8.8103   \n",
       "1748539  350.9217   0.0350   2816.4257   0.2808  117212.5160   11.6874   \n",
       "\n",
       "         catchment_hectares  watershed_hectares  tp_loadrate_ws  \\\n",
       "comid                                                             \n",
       "1748535           6496.7052             6501.69          0.1357   \n",
       "1748537           1663.1712             1664.46          0.1784   \n",
       "1748539           1639.4128             1640.70          0.2139   \n",
       "\n",
       "         tn_loadrate_ws  tss_loadrate_ws  maflowv  \\\n",
       "comid                                               \n",
       "1748535          1.5874          60.0509   43.699   \n",
       "1748537          1.9019          52.9245   11.189   \n",
       "1748539          1.7164          71.4407   11.223   \n",
       "\n",
       "                                                      geom  \\\n",
       "comid                                                        \n",
       "1748535  MULTILINESTRING Z ((539681.467 4689416.166 0.0...   \n",
       "1748537  MULTILINESTRING Z ((532825.185 4684387.302 0.0...   \n",
       "1748539  MULTILINESTRING Z ((524096.535 4677200.269 0.0...   \n",
       "\n",
       "                                            geom_catchment cluster fa_name  \\\n",
       "comid                                                                        \n",
       "1748535  01060000206A7F00000100000001030000000100000021...     drb     NaN   \n",
       "1748537  01060000206A7F000001000000010300000001000000FC...     drb     NaN   \n",
       "1748539  01060000206A7F000001000000010300000001000000C2...     drb     NaN   \n",
       "\n",
       "         sub_focusarea   nord  nordstop         huc12  \n",
       "comid                                                  \n",
       "1748535           <NA>  74914     74914  020401020302  \n",
       "1748537           <NA>  74913     74913  020401020302  \n",
       "1748539           <NA>  74921     74921  020401020305  "
      ]
     },
     "execution_count": 76,
     "metadata": {},
     "output_type": "execute_result"
    }
   ],
   "source": [
    "rest_df.rename(columns={'tploadrate_total':'tp_load',\n",
    "                        'tploadate_conc':'tp_conc',\n",
    "                        'tnloadrate_total':'tn_load',\n",
    "                        'tnloadate_conc':'tn_conc',\n",
    "                        'tssloadrate_total':'tss_load',\n",
    "                        'tssloadate_conc':'tss_conc',\n",
    "                        'tploadrate_total_ws':'tp_loadrate_ws',\n",
    "                        'tnloadrate_total_ws':'tn_loadrate_ws',\n",
    "                        'tssloadrate_total_ws':'tss_loadrate_ws',\n",
    "                       },\n",
    "               inplace=True,\n",
    "              )\n",
    "rest_df.head(3)"
   ]
  },
  {
   "cell_type": "markdown",
   "metadata": {
    "tags": []
   },
   "source": [
    "## Convert to Reach-Specific GeoDataFrame\n",
    "\n",
    "A GeoPandas DataFrame can only have one geometry column, and the auto-import defaulted to the reach polyline. So create a new DataFrame and drop catchment-specific columns."
   ]
  },
  {
   "cell_type": "code",
   "execution_count": 106,
   "metadata": {},
   "outputs": [],
   "source": [
    "base_df_reach = base_df.drop(['tp_load',\n",
    "                              'tn_load',\n",
    "                              'tss_load',\n",
    "                              'tp_loadrate_ws',\n",
    "                              'tn_loadrate_ws',\n",
    "                              'tss_loadrate_ws',\n",
    "                              'geom_catchment',\n",
    "                             ], axis=1)\n",
    "rest_df_reach = rest_df.drop(['tp_load',\n",
    "                              'tn_load',\n",
    "                              'tss_load',\n",
    "                              'tp_loadrate_ws',\n",
    "                              'tn_loadrate_ws',\n",
    "                              'tss_loadrate_ws',\n",
    "                              'geom_catchment',\n",
    "                             ], axis=1)"
   ]
  },
  {
   "cell_type": "code",
   "execution_count": 107,
   "metadata": {},
   "outputs": [
    {
     "name": "stdout",
     "output_type": "stream",
     "text": [
      "<class 'geopandas.geodataframe.GeoDataFrame'>\n",
      "Int64Index: 19496 entries, 1748535 to 932040370\n",
      "Data columns (total 13 columns):\n",
      " #   Column              Non-Null Count  Dtype   \n",
      "---  ------              --------------  -----   \n",
      " 0   tp_conc             19496 non-null  float64 \n",
      " 1   tn_conc             19496 non-null  float64 \n",
      " 2   tss_conc            19496 non-null  float64 \n",
      " 3   catchment_hectares  19496 non-null  float64 \n",
      " 4   watershed_hectares  19496 non-null  float64 \n",
      " 5   maflowv             19496 non-null  float64 \n",
      " 6   geom                19266 non-null  geometry\n",
      " 7   cluster             17358 non-null  category\n",
      " 8   fa_name             186 non-null    category\n",
      " 9   sub_focusarea       186 non-null    Int64   \n",
      " 10  nord                18870 non-null  Int64   \n",
      " 11  nordstop            18844 non-null  Int64   \n",
      " 12  huc12               19496 non-null  category\n",
      "dtypes: Int64(3), category(3), float64(6), geometry(1)\n",
      "memory usage: 1.8 MB\n"
     ]
    }
   ],
   "source": [
    "base_df_reach.info()"
   ]
  },
  {
   "cell_type": "code",
   "execution_count": 108,
   "metadata": {},
   "outputs": [
    {
     "name": "stdout",
     "output_type": "stream",
     "text": [
      "<class 'geopandas.geodataframe.GeoDataFrame'>\n",
      "Int64Index: 19496 entries, 1748535 to 932040370\n",
      "Data columns (total 13 columns):\n",
      " #   Column              Non-Null Count  Dtype   \n",
      "---  ------              --------------  -----   \n",
      " 0   tp_conc             19496 non-null  float64 \n",
      " 1   tn_conc             19496 non-null  float64 \n",
      " 2   tss_conc            19496 non-null  float64 \n",
      " 3   catchment_hectares  19496 non-null  float64 \n",
      " 4   watershed_hectares  19496 non-null  float64 \n",
      " 5   maflowv             19496 non-null  float64 \n",
      " 6   geom                19266 non-null  geometry\n",
      " 7   cluster             17358 non-null  category\n",
      " 8   fa_name             186 non-null    category\n",
      " 9   sub_focusarea       186 non-null    Int64   \n",
      " 10  nord                18870 non-null  Int64   \n",
      " 11  nordstop            18844 non-null  Int64   \n",
      " 12  huc12               19496 non-null  category\n",
      "dtypes: Int64(3), category(3), float64(6), geometry(1)\n",
      "memory usage: 1.8 MB\n"
     ]
    }
   ],
   "source": [
    "rest_df_reach.info()"
   ]
  },
  {
   "cell_type": "code",
   "execution_count": 109,
   "metadata": {},
   "outputs": [
    {
     "data": {
      "text/html": [
       "<div>\n",
       "<style scoped>\n",
       "    .dataframe tbody tr th:only-of-type {\n",
       "        vertical-align: middle;\n",
       "    }\n",
       "\n",
       "    .dataframe tbody tr th {\n",
       "        vertical-align: top;\n",
       "    }\n",
       "\n",
       "    .dataframe thead th {\n",
       "        text-align: right;\n",
       "    }\n",
       "</style>\n",
       "<table border=\"1\" class=\"dataframe\">\n",
       "  <thead>\n",
       "    <tr style=\"text-align: right;\">\n",
       "      <th></th>\n",
       "      <th>tp_conc</th>\n",
       "      <th>tn_conc</th>\n",
       "      <th>tss_conc</th>\n",
       "      <th>catchment_hectares</th>\n",
       "      <th>watershed_hectares</th>\n",
       "      <th>maflowv</th>\n",
       "      <th>geom</th>\n",
       "      <th>cluster</th>\n",
       "      <th>fa_name</th>\n",
       "      <th>sub_focusarea</th>\n",
       "      <th>nord</th>\n",
       "      <th>nordstop</th>\n",
       "      <th>huc12</th>\n",
       "    </tr>\n",
       "    <tr>\n",
       "      <th>comid</th>\n",
       "      <th></th>\n",
       "      <th></th>\n",
       "      <th></th>\n",
       "      <th></th>\n",
       "      <th></th>\n",
       "      <th></th>\n",
       "      <th></th>\n",
       "      <th></th>\n",
       "      <th></th>\n",
       "      <th></th>\n",
       "      <th></th>\n",
       "      <th></th>\n",
       "      <th></th>\n",
       "    </tr>\n",
       "  </thead>\n",
       "  <tbody>\n",
       "    <tr>\n",
       "      <th>1748535</th>\n",
       "      <td>0.0226</td>\n",
       "      <td>0.2643</td>\n",
       "      <td>9.9983</td>\n",
       "      <td>6496.7052</td>\n",
       "      <td>6501.69</td>\n",
       "      <td>43.699</td>\n",
       "      <td>MULTILINESTRING Z ((539681.467 4689416.166 0.0...</td>\n",
       "      <td>drb</td>\n",
       "      <td>NaN</td>\n",
       "      <td>&lt;NA&gt;</td>\n",
       "      <td>74914</td>\n",
       "      <td>74914</td>\n",
       "      <td>020401020302</td>\n",
       "    </tr>\n",
       "    <tr>\n",
       "      <th>1748537</th>\n",
       "      <td>0.0297</td>\n",
       "      <td>0.3166</td>\n",
       "      <td>8.8103</td>\n",
       "      <td>1663.1712</td>\n",
       "      <td>1664.46</td>\n",
       "      <td>11.189</td>\n",
       "      <td>MULTILINESTRING Z ((532825.185 4684387.302 0.0...</td>\n",
       "      <td>drb</td>\n",
       "      <td>NaN</td>\n",
       "      <td>&lt;NA&gt;</td>\n",
       "      <td>74913</td>\n",
       "      <td>74913</td>\n",
       "      <td>020401020302</td>\n",
       "    </tr>\n",
       "    <tr>\n",
       "      <th>1748539</th>\n",
       "      <td>0.0350</td>\n",
       "      <td>0.2808</td>\n",
       "      <td>11.6874</td>\n",
       "      <td>1639.4128</td>\n",
       "      <td>1640.70</td>\n",
       "      <td>11.223</td>\n",
       "      <td>MULTILINESTRING Z ((524096.535 4677200.269 0.0...</td>\n",
       "      <td>drb</td>\n",
       "      <td>NaN</td>\n",
       "      <td>&lt;NA&gt;</td>\n",
       "      <td>74921</td>\n",
       "      <td>74921</td>\n",
       "      <td>020401020305</td>\n",
       "    </tr>\n",
       "    <tr>\n",
       "      <th>1748541</th>\n",
       "      <td>0.0245</td>\n",
       "      <td>0.2703</td>\n",
       "      <td>10.2217</td>\n",
       "      <td>3013.8348</td>\n",
       "      <td>12912.30</td>\n",
       "      <td>86.528</td>\n",
       "      <td>MULTILINESTRING Z ((533110.692 4677277.923 0.0...</td>\n",
       "      <td>drb</td>\n",
       "      <td>NaN</td>\n",
       "      <td>&lt;NA&gt;</td>\n",
       "      <td>74911</td>\n",
       "      <td>74915</td>\n",
       "      <td>020401020302</td>\n",
       "    </tr>\n",
       "    <tr>\n",
       "      <th>1748543</th>\n",
       "      <td>0.0307</td>\n",
       "      <td>0.2661</td>\n",
       "      <td>10.8301</td>\n",
       "      <td>1151.0990</td>\n",
       "      <td>5232.87</td>\n",
       "      <td>35.389</td>\n",
       "      <td>MULTILINESTRING Z ((526672.244 4673109.451 0.0...</td>\n",
       "      <td>drb</td>\n",
       "      <td>NaN</td>\n",
       "      <td>&lt;NA&gt;</td>\n",
       "      <td>74920</td>\n",
       "      <td>74922</td>\n",
       "      <td>020401020305</td>\n",
       "    </tr>\n",
       "    <tr>\n",
       "      <th>...</th>\n",
       "      <td>...</td>\n",
       "      <td>...</td>\n",
       "      <td>...</td>\n",
       "      <td>...</td>\n",
       "      <td>...</td>\n",
       "      <td>...</td>\n",
       "      <td>...</td>\n",
       "      <td>...</td>\n",
       "      <td>...</td>\n",
       "      <td>...</td>\n",
       "      <td>...</td>\n",
       "      <td>...</td>\n",
       "      <td>...</td>\n",
       "    </tr>\n",
       "    <tr>\n",
       "      <th>932040366</th>\n",
       "      <td>-9999.0000</td>\n",
       "      <td>-9999.0000</td>\n",
       "      <td>-9999.0000</td>\n",
       "      <td>2124.7248</td>\n",
       "      <td>2720941.47</td>\n",
       "      <td>17802.923</td>\n",
       "      <td>None</td>\n",
       "      <td>drb</td>\n",
       "      <td>NaN</td>\n",
       "      <td>&lt;NA&gt;</td>\n",
       "      <td>65070</td>\n",
       "      <td>76964</td>\n",
       "      <td>020402060103</td>\n",
       "    </tr>\n",
       "    <tr>\n",
       "      <th>932040367</th>\n",
       "      <td>-9999.0000</td>\n",
       "      <td>-9999.0000</td>\n",
       "      <td>-9999.0000</td>\n",
       "      <td>788.7859</td>\n",
       "      <td>2717821.26</td>\n",
       "      <td>17788.281</td>\n",
       "      <td>None</td>\n",
       "      <td>drb</td>\n",
       "      <td>NaN</td>\n",
       "      <td>&lt;NA&gt;</td>\n",
       "      <td>65079</td>\n",
       "      <td>76964</td>\n",
       "      <td>020402060103</td>\n",
       "    </tr>\n",
       "    <tr>\n",
       "      <th>932040368</th>\n",
       "      <td>-9999.0000</td>\n",
       "      <td>-9999.0000</td>\n",
       "      <td>-9999.0000</td>\n",
       "      <td>265.0275</td>\n",
       "      <td>2716120.08</td>\n",
       "      <td>17780.448</td>\n",
       "      <td>None</td>\n",
       "      <td>drb</td>\n",
       "      <td>NaN</td>\n",
       "      <td>&lt;NA&gt;</td>\n",
       "      <td>65080</td>\n",
       "      <td>76960</td>\n",
       "      <td>020402060103</td>\n",
       "    </tr>\n",
       "    <tr>\n",
       "      <th>932040369</th>\n",
       "      <td>-9999.0000</td>\n",
       "      <td>-9999.0000</td>\n",
       "      <td>-9999.0000</td>\n",
       "      <td>1106.5294</td>\n",
       "      <td>2889095.67</td>\n",
       "      <td>18624.999</td>\n",
       "      <td>None</td>\n",
       "      <td>drb</td>\n",
       "      <td>NaN</td>\n",
       "      <td>&lt;NA&gt;</td>\n",
       "      <td>64232</td>\n",
       "      <td>76965</td>\n",
       "      <td>020402040000</td>\n",
       "    </tr>\n",
       "    <tr>\n",
       "      <th>932040370</th>\n",
       "      <td>-9999.0000</td>\n",
       "      <td>-9999.0000</td>\n",
       "      <td>-9999.0000</td>\n",
       "      <td>1531.4679</td>\n",
       "      <td>2891976.48</td>\n",
       "      <td>18637.381</td>\n",
       "      <td>None</td>\n",
       "      <td>drb</td>\n",
       "      <td>NaN</td>\n",
       "      <td>&lt;NA&gt;</td>\n",
       "      <td>64226</td>\n",
       "      <td>76965</td>\n",
       "      <td>020402060105</td>\n",
       "    </tr>\n",
       "  </tbody>\n",
       "</table>\n",
       "<p>19496 rows × 13 columns</p>\n",
       "</div>"
      ],
      "text/plain": [
       "             tp_conc    tn_conc   tss_conc  catchment_hectares  \\\n",
       "comid                                                            \n",
       "1748535       0.0226     0.2643     9.9983           6496.7052   \n",
       "1748537       0.0297     0.3166     8.8103           1663.1712   \n",
       "1748539       0.0350     0.2808    11.6874           1639.4128   \n",
       "1748541       0.0245     0.2703    10.2217           3013.8348   \n",
       "1748543       0.0307     0.2661    10.8301           1151.0990   \n",
       "...              ...        ...        ...                 ...   \n",
       "932040366 -9999.0000 -9999.0000 -9999.0000           2124.7248   \n",
       "932040367 -9999.0000 -9999.0000 -9999.0000            788.7859   \n",
       "932040368 -9999.0000 -9999.0000 -9999.0000            265.0275   \n",
       "932040369 -9999.0000 -9999.0000 -9999.0000           1106.5294   \n",
       "932040370 -9999.0000 -9999.0000 -9999.0000           1531.4679   \n",
       "\n",
       "           watershed_hectares    maflowv  \\\n",
       "comid                                      \n",
       "1748535               6501.69     43.699   \n",
       "1748537               1664.46     11.189   \n",
       "1748539               1640.70     11.223   \n",
       "1748541              12912.30     86.528   \n",
       "1748543               5232.87     35.389   \n",
       "...                       ...        ...   \n",
       "932040366          2720941.47  17802.923   \n",
       "932040367          2717821.26  17788.281   \n",
       "932040368          2716120.08  17780.448   \n",
       "932040369          2889095.67  18624.999   \n",
       "932040370          2891976.48  18637.381   \n",
       "\n",
       "                                                        geom cluster fa_name  \\\n",
       "comid                                                                          \n",
       "1748535    MULTILINESTRING Z ((539681.467 4689416.166 0.0...     drb     NaN   \n",
       "1748537    MULTILINESTRING Z ((532825.185 4684387.302 0.0...     drb     NaN   \n",
       "1748539    MULTILINESTRING Z ((524096.535 4677200.269 0.0...     drb     NaN   \n",
       "1748541    MULTILINESTRING Z ((533110.692 4677277.923 0.0...     drb     NaN   \n",
       "1748543    MULTILINESTRING Z ((526672.244 4673109.451 0.0...     drb     NaN   \n",
       "...                                                      ...     ...     ...   \n",
       "932040366                                               None     drb     NaN   \n",
       "932040367                                               None     drb     NaN   \n",
       "932040368                                               None     drb     NaN   \n",
       "932040369                                               None     drb     NaN   \n",
       "932040370                                               None     drb     NaN   \n",
       "\n",
       "           sub_focusarea   nord  nordstop         huc12  \n",
       "comid                                                    \n",
       "1748535             <NA>  74914     74914  020401020302  \n",
       "1748537             <NA>  74913     74913  020401020302  \n",
       "1748539             <NA>  74921     74921  020401020305  \n",
       "1748541             <NA>  74911     74915  020401020302  \n",
       "1748543             <NA>  74920     74922  020401020305  \n",
       "...                  ...    ...       ...           ...  \n",
       "932040366           <NA>  65070     76964  020402060103  \n",
       "932040367           <NA>  65079     76964  020402060103  \n",
       "932040368           <NA>  65080     76960  020402060103  \n",
       "932040369           <NA>  64232     76965  020402040000  \n",
       "932040370           <NA>  64226     76965  020402060105  \n",
       "\n",
       "[19496 rows x 13 columns]"
      ]
     },
     "execution_count": 109,
     "metadata": {},
     "output_type": "execute_result"
    }
   ],
   "source": [
    "base_df_reach"
   ]
  },
  {
   "cell_type": "markdown",
   "metadata": {
    "tags": []
   },
   "source": [
    "### Confirm Differences between Base & Restoration"
   ]
  },
  {
   "cell_type": "code",
   "execution_count": 110,
   "metadata": {},
   "outputs": [
    {
     "data": {
      "text/plain": [
       "True     18666\n",
       "False      830\n",
       "Name: tp_conc, dtype: int64"
      ]
     },
     "execution_count": 110,
     "metadata": {},
     "output_type": "execute_result"
    }
   ],
   "source": [
    "diff_df = base_df_reach.tp_conc == rest_df_reach.tp_conc\n",
    "diff_df.value_counts()"
   ]
  },
  {
   "cell_type": "markdown",
   "metadata": {
    "tags": []
   },
   "source": [
    "### Replace -9999.0 Concentrations with NaN\n",
    "\n",
    "**Question:** should we set these to zero rather than NaN?"
   ]
  },
  {
   "cell_type": "code",
   "execution_count": 111,
   "metadata": {},
   "outputs": [
    {
     "data": {
      "text/plain": [
       "2673"
      ]
     },
     "execution_count": 111,
     "metadata": {},
     "output_type": "execute_result"
    }
   ],
   "source": [
    "base_df_reach.tp_conc[base_df_reach.tp_conc==-9999.0].count()"
   ]
  },
  {
   "cell_type": "code",
   "execution_count": 112,
   "metadata": {},
   "outputs": [
    {
     "data": {
      "text/plain": [
       "2673"
      ]
     },
     "execution_count": 112,
     "metadata": {},
     "output_type": "execute_result"
    }
   ],
   "source": [
    "rest_df_reach.tp_conc[rest_df_reach.tp_conc==-9999.0].count()"
   ]
  },
  {
   "cell_type": "code",
   "execution_count": 113,
   "metadata": {},
   "outputs": [],
   "source": [
    "import numpy as np\n",
    "base_df_reach.replace(to_replace=-9999.0, value=np.NaN, inplace=True)\n",
    "rest_df_reach.replace(to_replace=-9999.0, value=np.NaN, inplace=True)"
   ]
  },
  {
   "cell_type": "code",
   "execution_count": 114,
   "metadata": {},
   "outputs": [
    {
     "data": {
      "text/plain": [
       "0"
      ]
     },
     "execution_count": 114,
     "metadata": {},
     "output_type": "execute_result"
    }
   ],
   "source": [
    "base_df_reach.tp_conc[base_df_reach.tp_conc==-9999.0].count()"
   ]
  },
  {
   "cell_type": "code",
   "execution_count": 115,
   "metadata": {},
   "outputs": [
    {
     "data": {
      "text/plain": [
       "0"
      ]
     },
     "execution_count": 115,
     "metadata": {},
     "output_type": "execute_result"
    }
   ],
   "source": [
    "rest_df_reach.tp_conc[rest_df_reach.tp_conc==-9999.0].count()"
   ]
  },
  {
   "cell_type": "code",
   "execution_count": 116,
   "metadata": {},
   "outputs": [
    {
     "data": {
      "text/html": [
       "<div>\n",
       "<style scoped>\n",
       "    .dataframe tbody tr th:only-of-type {\n",
       "        vertical-align: middle;\n",
       "    }\n",
       "\n",
       "    .dataframe tbody tr th {\n",
       "        vertical-align: top;\n",
       "    }\n",
       "\n",
       "    .dataframe thead th {\n",
       "        text-align: right;\n",
       "    }\n",
       "</style>\n",
       "<table border=\"1\" class=\"dataframe\">\n",
       "  <thead>\n",
       "    <tr style=\"text-align: right;\">\n",
       "      <th></th>\n",
       "      <th>tp_conc</th>\n",
       "      <th>tn_conc</th>\n",
       "      <th>tss_conc</th>\n",
       "      <th>catchment_hectares</th>\n",
       "      <th>watershed_hectares</th>\n",
       "      <th>maflowv</th>\n",
       "      <th>geom</th>\n",
       "      <th>cluster</th>\n",
       "      <th>fa_name</th>\n",
       "      <th>sub_focusarea</th>\n",
       "      <th>nord</th>\n",
       "      <th>nordstop</th>\n",
       "      <th>huc12</th>\n",
       "    </tr>\n",
       "    <tr>\n",
       "      <th>comid</th>\n",
       "      <th></th>\n",
       "      <th></th>\n",
       "      <th></th>\n",
       "      <th></th>\n",
       "      <th></th>\n",
       "      <th></th>\n",
       "      <th></th>\n",
       "      <th></th>\n",
       "      <th></th>\n",
       "      <th></th>\n",
       "      <th></th>\n",
       "      <th></th>\n",
       "      <th></th>\n",
       "    </tr>\n",
       "  </thead>\n",
       "  <tbody>\n",
       "    <tr>\n",
       "      <th>1748535</th>\n",
       "      <td>0.0226</td>\n",
       "      <td>0.2643</td>\n",
       "      <td>9.9983</td>\n",
       "      <td>6496.7052</td>\n",
       "      <td>6501.69</td>\n",
       "      <td>43.699</td>\n",
       "      <td>MULTILINESTRING Z ((539681.467 4689416.166 0.0...</td>\n",
       "      <td>drb</td>\n",
       "      <td>NaN</td>\n",
       "      <td>&lt;NA&gt;</td>\n",
       "      <td>74914</td>\n",
       "      <td>74914</td>\n",
       "      <td>020401020302</td>\n",
       "    </tr>\n",
       "    <tr>\n",
       "      <th>1748537</th>\n",
       "      <td>0.0297</td>\n",
       "      <td>0.3166</td>\n",
       "      <td>8.8103</td>\n",
       "      <td>1663.1712</td>\n",
       "      <td>1664.46</td>\n",
       "      <td>11.189</td>\n",
       "      <td>MULTILINESTRING Z ((532825.185 4684387.302 0.0...</td>\n",
       "      <td>drb</td>\n",
       "      <td>NaN</td>\n",
       "      <td>&lt;NA&gt;</td>\n",
       "      <td>74913</td>\n",
       "      <td>74913</td>\n",
       "      <td>020401020302</td>\n",
       "    </tr>\n",
       "    <tr>\n",
       "      <th>1748539</th>\n",
       "      <td>0.0350</td>\n",
       "      <td>0.2808</td>\n",
       "      <td>11.6874</td>\n",
       "      <td>1639.4128</td>\n",
       "      <td>1640.70</td>\n",
       "      <td>11.223</td>\n",
       "      <td>MULTILINESTRING Z ((524096.535 4677200.269 0.0...</td>\n",
       "      <td>drb</td>\n",
       "      <td>NaN</td>\n",
       "      <td>&lt;NA&gt;</td>\n",
       "      <td>74921</td>\n",
       "      <td>74921</td>\n",
       "      <td>020401020305</td>\n",
       "    </tr>\n",
       "    <tr>\n",
       "      <th>1748541</th>\n",
       "      <td>0.0245</td>\n",
       "      <td>0.2703</td>\n",
       "      <td>10.2217</td>\n",
       "      <td>3013.8348</td>\n",
       "      <td>12912.30</td>\n",
       "      <td>86.528</td>\n",
       "      <td>MULTILINESTRING Z ((533110.692 4677277.923 0.0...</td>\n",
       "      <td>drb</td>\n",
       "      <td>NaN</td>\n",
       "      <td>&lt;NA&gt;</td>\n",
       "      <td>74911</td>\n",
       "      <td>74915</td>\n",
       "      <td>020401020302</td>\n",
       "    </tr>\n",
       "    <tr>\n",
       "      <th>1748543</th>\n",
       "      <td>0.0307</td>\n",
       "      <td>0.2661</td>\n",
       "      <td>10.8301</td>\n",
       "      <td>1151.0990</td>\n",
       "      <td>5232.87</td>\n",
       "      <td>35.389</td>\n",
       "      <td>MULTILINESTRING Z ((526672.244 4673109.451 0.0...</td>\n",
       "      <td>drb</td>\n",
       "      <td>NaN</td>\n",
       "      <td>&lt;NA&gt;</td>\n",
       "      <td>74920</td>\n",
       "      <td>74922</td>\n",
       "      <td>020401020305</td>\n",
       "    </tr>\n",
       "    <tr>\n",
       "      <th>...</th>\n",
       "      <td>...</td>\n",
       "      <td>...</td>\n",
       "      <td>...</td>\n",
       "      <td>...</td>\n",
       "      <td>...</td>\n",
       "      <td>...</td>\n",
       "      <td>...</td>\n",
       "      <td>...</td>\n",
       "      <td>...</td>\n",
       "      <td>...</td>\n",
       "      <td>...</td>\n",
       "      <td>...</td>\n",
       "      <td>...</td>\n",
       "    </tr>\n",
       "    <tr>\n",
       "      <th>932040366</th>\n",
       "      <td>NaN</td>\n",
       "      <td>NaN</td>\n",
       "      <td>NaN</td>\n",
       "      <td>2124.7248</td>\n",
       "      <td>2720941.47</td>\n",
       "      <td>17802.923</td>\n",
       "      <td>None</td>\n",
       "      <td>drb</td>\n",
       "      <td>NaN</td>\n",
       "      <td>&lt;NA&gt;</td>\n",
       "      <td>65070</td>\n",
       "      <td>76964</td>\n",
       "      <td>020402060103</td>\n",
       "    </tr>\n",
       "    <tr>\n",
       "      <th>932040367</th>\n",
       "      <td>NaN</td>\n",
       "      <td>NaN</td>\n",
       "      <td>NaN</td>\n",
       "      <td>788.7859</td>\n",
       "      <td>2717821.26</td>\n",
       "      <td>17788.281</td>\n",
       "      <td>None</td>\n",
       "      <td>drb</td>\n",
       "      <td>NaN</td>\n",
       "      <td>&lt;NA&gt;</td>\n",
       "      <td>65079</td>\n",
       "      <td>76964</td>\n",
       "      <td>020402060103</td>\n",
       "    </tr>\n",
       "    <tr>\n",
       "      <th>932040368</th>\n",
       "      <td>NaN</td>\n",
       "      <td>NaN</td>\n",
       "      <td>NaN</td>\n",
       "      <td>265.0275</td>\n",
       "      <td>2716120.08</td>\n",
       "      <td>17780.448</td>\n",
       "      <td>None</td>\n",
       "      <td>drb</td>\n",
       "      <td>NaN</td>\n",
       "      <td>&lt;NA&gt;</td>\n",
       "      <td>65080</td>\n",
       "      <td>76960</td>\n",
       "      <td>020402060103</td>\n",
       "    </tr>\n",
       "    <tr>\n",
       "      <th>932040369</th>\n",
       "      <td>NaN</td>\n",
       "      <td>NaN</td>\n",
       "      <td>NaN</td>\n",
       "      <td>1106.5294</td>\n",
       "      <td>2889095.67</td>\n",
       "      <td>18624.999</td>\n",
       "      <td>None</td>\n",
       "      <td>drb</td>\n",
       "      <td>NaN</td>\n",
       "      <td>&lt;NA&gt;</td>\n",
       "      <td>64232</td>\n",
       "      <td>76965</td>\n",
       "      <td>020402040000</td>\n",
       "    </tr>\n",
       "    <tr>\n",
       "      <th>932040370</th>\n",
       "      <td>NaN</td>\n",
       "      <td>NaN</td>\n",
       "      <td>NaN</td>\n",
       "      <td>1531.4679</td>\n",
       "      <td>2891976.48</td>\n",
       "      <td>18637.381</td>\n",
       "      <td>None</td>\n",
       "      <td>drb</td>\n",
       "      <td>NaN</td>\n",
       "      <td>&lt;NA&gt;</td>\n",
       "      <td>64226</td>\n",
       "      <td>76965</td>\n",
       "      <td>020402060105</td>\n",
       "    </tr>\n",
       "  </tbody>\n",
       "</table>\n",
       "<p>19496 rows × 13 columns</p>\n",
       "</div>"
      ],
      "text/plain": [
       "           tp_conc  tn_conc  tss_conc  catchment_hectares  watershed_hectares  \\\n",
       "comid                                                                           \n",
       "1748535     0.0226   0.2643    9.9983           6496.7052             6501.69   \n",
       "1748537     0.0297   0.3166    8.8103           1663.1712             1664.46   \n",
       "1748539     0.0350   0.2808   11.6874           1639.4128             1640.70   \n",
       "1748541     0.0245   0.2703   10.2217           3013.8348            12912.30   \n",
       "1748543     0.0307   0.2661   10.8301           1151.0990             5232.87   \n",
       "...            ...      ...       ...                 ...                 ...   \n",
       "932040366      NaN      NaN       NaN           2124.7248          2720941.47   \n",
       "932040367      NaN      NaN       NaN            788.7859          2717821.26   \n",
       "932040368      NaN      NaN       NaN            265.0275          2716120.08   \n",
       "932040369      NaN      NaN       NaN           1106.5294          2889095.67   \n",
       "932040370      NaN      NaN       NaN           1531.4679          2891976.48   \n",
       "\n",
       "             maflowv                                               geom  \\\n",
       "comid                                                                     \n",
       "1748535       43.699  MULTILINESTRING Z ((539681.467 4689416.166 0.0...   \n",
       "1748537       11.189  MULTILINESTRING Z ((532825.185 4684387.302 0.0...   \n",
       "1748539       11.223  MULTILINESTRING Z ((524096.535 4677200.269 0.0...   \n",
       "1748541       86.528  MULTILINESTRING Z ((533110.692 4677277.923 0.0...   \n",
       "1748543       35.389  MULTILINESTRING Z ((526672.244 4673109.451 0.0...   \n",
       "...              ...                                                ...   \n",
       "932040366  17802.923                                               None   \n",
       "932040367  17788.281                                               None   \n",
       "932040368  17780.448                                               None   \n",
       "932040369  18624.999                                               None   \n",
       "932040370  18637.381                                               None   \n",
       "\n",
       "          cluster fa_name  sub_focusarea   nord  nordstop         huc12  \n",
       "comid                                                                    \n",
       "1748535       drb     NaN           <NA>  74914     74914  020401020302  \n",
       "1748537       drb     NaN           <NA>  74913     74913  020401020302  \n",
       "1748539       drb     NaN           <NA>  74921     74921  020401020305  \n",
       "1748541       drb     NaN           <NA>  74911     74915  020401020302  \n",
       "1748543       drb     NaN           <NA>  74920     74922  020401020305  \n",
       "...           ...     ...            ...    ...       ...           ...  \n",
       "932040366     drb     NaN           <NA>  65070     76964  020402060103  \n",
       "932040367     drb     NaN           <NA>  65079     76964  020402060103  \n",
       "932040368     drb     NaN           <NA>  65080     76960  020402060103  \n",
       "932040369     drb     NaN           <NA>  64232     76965  020402040000  \n",
       "932040370     drb     NaN           <NA>  64226     76965  020402060105  \n",
       "\n",
       "[19496 rows x 13 columns]"
      ]
     },
     "execution_count": 116,
     "metadata": {},
     "output_type": "execute_result"
    }
   ],
   "source": [
    "rest_df_reach"
   ]
  },
  {
   "cell_type": "code",
   "execution_count": 117,
   "metadata": {},
   "outputs": [
    {
     "data": {
      "text/plain": [
       "True     15993\n",
       "False     3503\n",
       "Name: tp_conc, dtype: int64"
      ]
     },
     "execution_count": 117,
     "metadata": {},
     "output_type": "execute_result"
    }
   ],
   "source": [
    "diff_df = base_df_reach.tp_conc == rest_df_reach.tp_conc\n",
    "diff_df.value_counts()"
   ]
  },
  {
   "cell_type": "markdown",
   "metadata": {},
   "source": [
    "**NOTE: NaN comparisons produce FALSE**"
   ]
  },
  {
   "cell_type": "markdown",
   "metadata": {},
   "source": [
    "## Convert to Catchment-Specific GeoDataFrame\n",
    "\n",
    "A GeoPandas DataFrame can only have one geometry column, and the auto-import defaulted to the reach polyline. So create a new DataFrame and drop catchment-specific columns."
   ]
  },
  {
   "cell_type": "code",
   "execution_count": 118,
   "metadata": {},
   "outputs": [],
   "source": [
    "base_df_catch = base_df.drop(['tp_conc',\n",
    "                              'tn_conc',\n",
    "                              'tss_conc',\n",
    "                              'geom',\n",
    "                             ], axis=1)\n",
    "rest_df_catch = rest_df.drop(['tp_conc',\n",
    "                              'tn_conc',\n",
    "                              'tss_conc',\n",
    "                              'geom',\n",
    "                             ], axis=1)"
   ]
  },
  {
   "cell_type": "code",
   "execution_count": 119,
   "metadata": {},
   "outputs": [
    {
     "data": {
      "text/html": [
       "<div>\n",
       "<style scoped>\n",
       "    .dataframe tbody tr th:only-of-type {\n",
       "        vertical-align: middle;\n",
       "    }\n",
       "\n",
       "    .dataframe tbody tr th {\n",
       "        vertical-align: top;\n",
       "    }\n",
       "\n",
       "    .dataframe thead th {\n",
       "        text-align: right;\n",
       "    }\n",
       "</style>\n",
       "<table border=\"1\" class=\"dataframe\">\n",
       "  <thead>\n",
       "    <tr style=\"text-align: right;\">\n",
       "      <th></th>\n",
       "      <th>tp_load</th>\n",
       "      <th>tn_load</th>\n",
       "      <th>tss_load</th>\n",
       "      <th>catchment_hectares</th>\n",
       "      <th>watershed_hectares</th>\n",
       "      <th>tp_loadrate_ws</th>\n",
       "      <th>tn_loadrate_ws</th>\n",
       "      <th>tss_loadrate_ws</th>\n",
       "      <th>maflowv</th>\n",
       "      <th>geom_catchment</th>\n",
       "      <th>cluster</th>\n",
       "      <th>fa_name</th>\n",
       "      <th>sub_focusarea</th>\n",
       "      <th>nord</th>\n",
       "      <th>nordstop</th>\n",
       "      <th>huc12</th>\n",
       "    </tr>\n",
       "    <tr>\n",
       "      <th>comid</th>\n",
       "      <th></th>\n",
       "      <th></th>\n",
       "      <th></th>\n",
       "      <th></th>\n",
       "      <th></th>\n",
       "      <th></th>\n",
       "      <th></th>\n",
       "      <th></th>\n",
       "      <th></th>\n",
       "      <th></th>\n",
       "      <th></th>\n",
       "      <th></th>\n",
       "      <th></th>\n",
       "      <th></th>\n",
       "      <th></th>\n",
       "      <th></th>\n",
       "    </tr>\n",
       "  </thead>\n",
       "  <tbody>\n",
       "    <tr>\n",
       "      <th>1748535</th>\n",
       "      <td>881.4618</td>\n",
       "      <td>10322.4299</td>\n",
       "      <td>390433.1419</td>\n",
       "      <td>6496.7052</td>\n",
       "      <td>6501.69</td>\n",
       "      <td>0.1357</td>\n",
       "      <td>1.5874</td>\n",
       "      <td>60.0509</td>\n",
       "      <td>43.699</td>\n",
       "      <td>01060000206A7F00000100000001030000000100000021...</td>\n",
       "      <td>drb</td>\n",
       "      <td>NaN</td>\n",
       "      <td>&lt;NA&gt;</td>\n",
       "      <td>74914</td>\n",
       "      <td>74914</td>\n",
       "      <td>020401020302</td>\n",
       "    </tr>\n",
       "    <tr>\n",
       "      <th>1748537</th>\n",
       "      <td>296.6355</td>\n",
       "      <td>3165.6081</td>\n",
       "      <td>88090.7401</td>\n",
       "      <td>1663.1712</td>\n",
       "      <td>1664.46</td>\n",
       "      <td>0.1784</td>\n",
       "      <td>1.9019</td>\n",
       "      <td>52.9245</td>\n",
       "      <td>11.189</td>\n",
       "      <td>01060000206A7F000001000000010300000001000000FC...</td>\n",
       "      <td>drb</td>\n",
       "      <td>NaN</td>\n",
       "      <td>&lt;NA&gt;</td>\n",
       "      <td>74913</td>\n",
       "      <td>74913</td>\n",
       "      <td>020401020302</td>\n",
       "    </tr>\n",
       "    <tr>\n",
       "      <th>1748539</th>\n",
       "      <td>350.9217</td>\n",
       "      <td>2816.4257</td>\n",
       "      <td>117212.5160</td>\n",
       "      <td>1639.4128</td>\n",
       "      <td>1640.70</td>\n",
       "      <td>0.2139</td>\n",
       "      <td>1.7164</td>\n",
       "      <td>71.4407</td>\n",
       "      <td>11.223</td>\n",
       "      <td>01060000206A7F000001000000010300000001000000C2...</td>\n",
       "      <td>drb</td>\n",
       "      <td>NaN</td>\n",
       "      <td>&lt;NA&gt;</td>\n",
       "      <td>74921</td>\n",
       "      <td>74921</td>\n",
       "      <td>020401020305</td>\n",
       "    </tr>\n",
       "    <tr>\n",
       "      <th>1748541</th>\n",
       "      <td>517.2223</td>\n",
       "      <td>5245.9416</td>\n",
       "      <td>201648.7618</td>\n",
       "      <td>3013.8348</td>\n",
       "      <td>12912.30</td>\n",
       "      <td>0.1467</td>\n",
       "      <td>1.6186</td>\n",
       "      <td>61.2103</td>\n",
       "      <td>86.528</td>\n",
       "      <td>01060000206A7F00000100000001030000000100000051...</td>\n",
       "      <td>drb</td>\n",
       "      <td>NaN</td>\n",
       "      <td>&lt;NA&gt;</td>\n",
       "      <td>74911</td>\n",
       "      <td>74915</td>\n",
       "      <td>020401020302</td>\n",
       "    </tr>\n",
       "    <tr>\n",
       "      <th>1748543</th>\n",
       "      <td>289.1315</td>\n",
       "      <td>2478.5764</td>\n",
       "      <td>108737.6061</td>\n",
       "      <td>1151.0990</td>\n",
       "      <td>5232.87</td>\n",
       "      <td>0.1855</td>\n",
       "      <td>1.6081</td>\n",
       "      <td>65.4499</td>\n",
       "      <td>35.389</td>\n",
       "      <td>01060000206A7F000001000000010300000001000000A1...</td>\n",
       "      <td>drb</td>\n",
       "      <td>NaN</td>\n",
       "      <td>&lt;NA&gt;</td>\n",
       "      <td>74920</td>\n",
       "      <td>74922</td>\n",
       "      <td>020401020305</td>\n",
       "    </tr>\n",
       "  </tbody>\n",
       "</table>\n",
       "</div>"
      ],
      "text/plain": [
       "          tp_load     tn_load     tss_load  catchment_hectares  \\\n",
       "comid                                                            \n",
       "1748535  881.4618  10322.4299  390433.1419           6496.7052   \n",
       "1748537  296.6355   3165.6081   88090.7401           1663.1712   \n",
       "1748539  350.9217   2816.4257  117212.5160           1639.4128   \n",
       "1748541  517.2223   5245.9416  201648.7618           3013.8348   \n",
       "1748543  289.1315   2478.5764  108737.6061           1151.0990   \n",
       "\n",
       "         watershed_hectares  tp_loadrate_ws  tn_loadrate_ws  tss_loadrate_ws  \\\n",
       "comid                                                                          \n",
       "1748535             6501.69          0.1357          1.5874          60.0509   \n",
       "1748537             1664.46          0.1784          1.9019          52.9245   \n",
       "1748539             1640.70          0.2139          1.7164          71.4407   \n",
       "1748541            12912.30          0.1467          1.6186          61.2103   \n",
       "1748543             5232.87          0.1855          1.6081          65.4499   \n",
       "\n",
       "         maflowv                                     geom_catchment cluster  \\\n",
       "comid                                                                         \n",
       "1748535   43.699  01060000206A7F00000100000001030000000100000021...     drb   \n",
       "1748537   11.189  01060000206A7F000001000000010300000001000000FC...     drb   \n",
       "1748539   11.223  01060000206A7F000001000000010300000001000000C2...     drb   \n",
       "1748541   86.528  01060000206A7F00000100000001030000000100000051...     drb   \n",
       "1748543   35.389  01060000206A7F000001000000010300000001000000A1...     drb   \n",
       "\n",
       "        fa_name  sub_focusarea   nord  nordstop         huc12  \n",
       "comid                                                          \n",
       "1748535     NaN           <NA>  74914     74914  020401020302  \n",
       "1748537     NaN           <NA>  74913     74913  020401020302  \n",
       "1748539     NaN           <NA>  74921     74921  020401020305  \n",
       "1748541     NaN           <NA>  74911     74915  020401020302  \n",
       "1748543     NaN           <NA>  74920     74922  020401020305  "
      ]
     },
     "execution_count": 119,
     "metadata": {},
     "output_type": "execute_result"
    }
   ],
   "source": [
    "base_df_catch.head()"
   ]
  },
  {
   "cell_type": "code",
   "execution_count": 120,
   "metadata": {},
   "outputs": [
    {
     "data": {
      "text/html": [
       "<div>\n",
       "<style scoped>\n",
       "    .dataframe tbody tr th:only-of-type {\n",
       "        vertical-align: middle;\n",
       "    }\n",
       "\n",
       "    .dataframe tbody tr th {\n",
       "        vertical-align: top;\n",
       "    }\n",
       "\n",
       "    .dataframe thead th {\n",
       "        text-align: right;\n",
       "    }\n",
       "</style>\n",
       "<table border=\"1\" class=\"dataframe\">\n",
       "  <thead>\n",
       "    <tr style=\"text-align: right;\">\n",
       "      <th></th>\n",
       "      <th>tp_load</th>\n",
       "      <th>tn_load</th>\n",
       "      <th>tss_load</th>\n",
       "      <th>catchment_hectares</th>\n",
       "      <th>watershed_hectares</th>\n",
       "      <th>tp_loadrate_ws</th>\n",
       "      <th>tn_loadrate_ws</th>\n",
       "      <th>tss_loadrate_ws</th>\n",
       "      <th>maflowv</th>\n",
       "      <th>geom_catchment</th>\n",
       "      <th>cluster</th>\n",
       "      <th>fa_name</th>\n",
       "      <th>sub_focusarea</th>\n",
       "      <th>nord</th>\n",
       "      <th>nordstop</th>\n",
       "      <th>huc12</th>\n",
       "    </tr>\n",
       "    <tr>\n",
       "      <th>comid</th>\n",
       "      <th></th>\n",
       "      <th></th>\n",
       "      <th></th>\n",
       "      <th></th>\n",
       "      <th></th>\n",
       "      <th></th>\n",
       "      <th></th>\n",
       "      <th></th>\n",
       "      <th></th>\n",
       "      <th></th>\n",
       "      <th></th>\n",
       "      <th></th>\n",
       "      <th></th>\n",
       "      <th></th>\n",
       "      <th></th>\n",
       "      <th></th>\n",
       "    </tr>\n",
       "  </thead>\n",
       "  <tbody>\n",
       "    <tr>\n",
       "      <th>1748535</th>\n",
       "      <td>881.4618</td>\n",
       "      <td>10322.4299</td>\n",
       "      <td>390433.1419</td>\n",
       "      <td>6496.7052</td>\n",
       "      <td>6501.69</td>\n",
       "      <td>0.1357</td>\n",
       "      <td>1.5874</td>\n",
       "      <td>60.0509</td>\n",
       "      <td>43.699</td>\n",
       "      <td>01060000206A7F00000100000001030000000100000021...</td>\n",
       "      <td>drb</td>\n",
       "      <td>NaN</td>\n",
       "      <td>&lt;NA&gt;</td>\n",
       "      <td>74914</td>\n",
       "      <td>74914</td>\n",
       "      <td>020401020302</td>\n",
       "    </tr>\n",
       "    <tr>\n",
       "      <th>1748537</th>\n",
       "      <td>296.6355</td>\n",
       "      <td>3165.6081</td>\n",
       "      <td>88090.7401</td>\n",
       "      <td>1663.1712</td>\n",
       "      <td>1664.46</td>\n",
       "      <td>0.1784</td>\n",
       "      <td>1.9019</td>\n",
       "      <td>52.9245</td>\n",
       "      <td>11.189</td>\n",
       "      <td>01060000206A7F000001000000010300000001000000FC...</td>\n",
       "      <td>drb</td>\n",
       "      <td>NaN</td>\n",
       "      <td>&lt;NA&gt;</td>\n",
       "      <td>74913</td>\n",
       "      <td>74913</td>\n",
       "      <td>020401020302</td>\n",
       "    </tr>\n",
       "    <tr>\n",
       "      <th>1748539</th>\n",
       "      <td>350.9217</td>\n",
       "      <td>2816.4257</td>\n",
       "      <td>117212.5160</td>\n",
       "      <td>1639.4128</td>\n",
       "      <td>1640.70</td>\n",
       "      <td>0.2139</td>\n",
       "      <td>1.7164</td>\n",
       "      <td>71.4407</td>\n",
       "      <td>11.223</td>\n",
       "      <td>01060000206A7F000001000000010300000001000000C2...</td>\n",
       "      <td>drb</td>\n",
       "      <td>NaN</td>\n",
       "      <td>&lt;NA&gt;</td>\n",
       "      <td>74921</td>\n",
       "      <td>74921</td>\n",
       "      <td>020401020305</td>\n",
       "    </tr>\n",
       "    <tr>\n",
       "      <th>1748541</th>\n",
       "      <td>517.2223</td>\n",
       "      <td>5245.9416</td>\n",
       "      <td>201648.7618</td>\n",
       "      <td>3013.8348</td>\n",
       "      <td>12912.30</td>\n",
       "      <td>0.1467</td>\n",
       "      <td>1.6186</td>\n",
       "      <td>61.2103</td>\n",
       "      <td>86.528</td>\n",
       "      <td>01060000206A7F00000100000001030000000100000051...</td>\n",
       "      <td>drb</td>\n",
       "      <td>NaN</td>\n",
       "      <td>&lt;NA&gt;</td>\n",
       "      <td>74911</td>\n",
       "      <td>74915</td>\n",
       "      <td>020401020302</td>\n",
       "    </tr>\n",
       "    <tr>\n",
       "      <th>1748543</th>\n",
       "      <td>289.1315</td>\n",
       "      <td>2478.5764</td>\n",
       "      <td>108737.6061</td>\n",
       "      <td>1151.0990</td>\n",
       "      <td>5232.87</td>\n",
       "      <td>0.1855</td>\n",
       "      <td>1.6081</td>\n",
       "      <td>65.4499</td>\n",
       "      <td>35.389</td>\n",
       "      <td>01060000206A7F000001000000010300000001000000A1...</td>\n",
       "      <td>drb</td>\n",
       "      <td>NaN</td>\n",
       "      <td>&lt;NA&gt;</td>\n",
       "      <td>74920</td>\n",
       "      <td>74922</td>\n",
       "      <td>020401020305</td>\n",
       "    </tr>\n",
       "  </tbody>\n",
       "</table>\n",
       "</div>"
      ],
      "text/plain": [
       "          tp_load     tn_load     tss_load  catchment_hectares  \\\n",
       "comid                                                            \n",
       "1748535  881.4618  10322.4299  390433.1419           6496.7052   \n",
       "1748537  296.6355   3165.6081   88090.7401           1663.1712   \n",
       "1748539  350.9217   2816.4257  117212.5160           1639.4128   \n",
       "1748541  517.2223   5245.9416  201648.7618           3013.8348   \n",
       "1748543  289.1315   2478.5764  108737.6061           1151.0990   \n",
       "\n",
       "         watershed_hectares  tp_loadrate_ws  tn_loadrate_ws  tss_loadrate_ws  \\\n",
       "comid                                                                          \n",
       "1748535             6501.69          0.1357          1.5874          60.0509   \n",
       "1748537             1664.46          0.1784          1.9019          52.9245   \n",
       "1748539             1640.70          0.2139          1.7164          71.4407   \n",
       "1748541            12912.30          0.1467          1.6186          61.2103   \n",
       "1748543             5232.87          0.1855          1.6081          65.4499   \n",
       "\n",
       "         maflowv                                     geom_catchment cluster  \\\n",
       "comid                                                                         \n",
       "1748535   43.699  01060000206A7F00000100000001030000000100000021...     drb   \n",
       "1748537   11.189  01060000206A7F000001000000010300000001000000FC...     drb   \n",
       "1748539   11.223  01060000206A7F000001000000010300000001000000C2...     drb   \n",
       "1748541   86.528  01060000206A7F00000100000001030000000100000051...     drb   \n",
       "1748543   35.389  01060000206A7F000001000000010300000001000000A1...     drb   \n",
       "\n",
       "        fa_name  sub_focusarea   nord  nordstop         huc12  \n",
       "comid                                                          \n",
       "1748535     NaN           <NA>  74914     74914  020401020302  \n",
       "1748537     NaN           <NA>  74913     74913  020401020302  \n",
       "1748539     NaN           <NA>  74921     74921  020401020305  \n",
       "1748541     NaN           <NA>  74911     74915  020401020302  \n",
       "1748543     NaN           <NA>  74920     74922  020401020305  "
      ]
     },
     "execution_count": 120,
     "metadata": {},
     "output_type": "execute_result"
    }
   ],
   "source": [
    "rest_df_catch.head()"
   ]
  },
  {
   "cell_type": "markdown",
   "metadata": {},
   "source": [
    "### Confirm Differences between Base & Restoration"
   ]
  },
  {
   "cell_type": "code",
   "execution_count": 123,
   "metadata": {},
   "outputs": [
    {
     "data": {
      "text/plain": [
       "True     19267\n",
       "False      229\n",
       "Name: tp_load, dtype: int64"
      ]
     },
     "execution_count": 123,
     "metadata": {},
     "output_type": "execute_result"
    }
   ],
   "source": [
    "diff_df = base_df_catch.tp_load == rest_df_catch.tp_load\n",
    "diff_df.value_counts()"
   ]
  },
  {
   "cell_type": "markdown",
   "metadata": {
    "tags": []
   },
   "source": [
    "### Read Database Again To Set Catchment Geometry\n",
    "This reruns the `gpd.read_postgis()` function with the optional argument `geom_col=\"geom_catchment\"`, as a workaround for converting the catchment boundaries to geometry datatypes.\n",
    "Also only selects the two required fields to speed up the response."
   ]
  },
  {
   "cell_type": "code",
   "execution_count": 124,
   "metadata": {},
   "outputs": [
    {
     "name": "stdout",
     "output_type": "stream",
     "text": [
      "CPU times: user 3.99 s, sys: 725 ms, total: 4.72 s\n",
      "Wall time: 30.8 s\n"
     ]
    }
   ],
   "source": [
    "%%time\n",
    "# get catchment geometry\n",
    "base_catch = 'SELECT comid, geom_catchment FROM wikiwtershedoutputs.{}'.format(tablename_base)\n",
    "rest_catch = 'SELECT comid, geom_catchment FROM wikiwtershedoutputs.{}'.format(tablename_rest)\n",
    "\n",
    "base_df_catch_geom = gpd.read_postgis(base_catch, con, geom_col=\"geom_catchment\")\n",
    "rest_df_catch_geom = gpd.read_postgis(rest_catch, con, geom_col=\"geom_catchment\")"
   ]
  },
  {
   "cell_type": "code",
   "execution_count": 125,
   "metadata": {},
   "outputs": [
    {
     "name": "stdout",
     "output_type": "stream",
     "text": [
      "<class 'geopandas.geodataframe.GeoDataFrame'>\n",
      "RangeIndex: 19496 entries, 0 to 19495\n",
      "Data columns (total 2 columns):\n",
      " #   Column          Non-Null Count  Dtype   \n",
      "---  ------          --------------  -----   \n",
      " 0   comid           19496 non-null  int64   \n",
      " 1   geom_catchment  19496 non-null  geometry\n",
      "dtypes: geometry(1), int64(1)\n",
      "memory usage: 304.8 KB\n"
     ]
    }
   ],
   "source": [
    "base_df_catch_geom.info()"
   ]
  },
  {
   "cell_type": "code",
   "execution_count": 126,
   "metadata": {},
   "outputs": [
    {
     "name": "stdout",
     "output_type": "stream",
     "text": [
      "<class 'geopandas.geodataframe.GeoDataFrame'>\n",
      "RangeIndex: 19496 entries, 0 to 19495\n",
      "Data columns (total 2 columns):\n",
      " #   Column          Non-Null Count  Dtype   \n",
      "---  ------          --------------  -----   \n",
      " 0   comid           19496 non-null  int64   \n",
      " 1   geom_catchment  19496 non-null  geometry\n",
      "dtypes: geometry(1), int64(1)\n",
      "memory usage: 304.8 KB\n"
     ]
    }
   ],
   "source": [
    "base_df_catch_geom.info()"
   ]
  },
  {
   "cell_type": "code",
   "execution_count": 127,
   "metadata": {},
   "outputs": [],
   "source": [
    "# Set index to comid\n",
    "# https://pandas.pydata.org/pandas-docs/stable/reference/api/pandas.DataFrame.set_index.html\n",
    "base_df_catch_geom.set_index('comid', inplace=True)\n",
    "rest_df_catch_geom.set_index('comid', inplace=True)"
   ]
  },
  {
   "cell_type": "code",
   "execution_count": 128,
   "metadata": {},
   "outputs": [
    {
     "name": "stdout",
     "output_type": "stream",
     "text": [
      "<class 'geopandas.geodataframe.GeoDataFrame'>\n",
      "Int64Index: 19496 entries, 2612952 to 8409235\n",
      "Data columns (total 1 columns):\n",
      " #   Column          Non-Null Count  Dtype   \n",
      "---  ------          --------------  -----   \n",
      " 0   geom_catchment  19496 non-null  geometry\n",
      "dtypes: geometry(1)\n",
      "memory usage: 304.6 KB\n"
     ]
    }
   ],
   "source": [
    "base_df_catch_geom.info()"
   ]
  },
  {
   "cell_type": "markdown",
   "metadata": {
    "tags": []
   },
   "source": [
    "### Replace `geom_catchment` Object with Geometry DType"
   ]
  },
  {
   "cell_type": "code",
   "execution_count": 129,
   "metadata": {},
   "outputs": [],
   "source": [
    "# merge\n",
    "base_df_catch['geom_catchment'] = base_df_catch_geom['geom_catchment']\n",
    "rest_df_catch['geom_catchment'] = rest_df_catch_geom['geom_catchment']"
   ]
  },
  {
   "cell_type": "code",
   "execution_count": 130,
   "metadata": {},
   "outputs": [
    {
     "name": "stdout",
     "output_type": "stream",
     "text": [
      "<class 'geopandas.geodataframe.GeoDataFrame'>\n",
      "Int64Index: 19496 entries, 1748535 to 932040370\n",
      "Data columns (total 16 columns):\n",
      " #   Column              Non-Null Count  Dtype   \n",
      "---  ------              --------------  -----   \n",
      " 0   tp_load             19496 non-null  float64 \n",
      " 1   tn_load             19496 non-null  float64 \n",
      " 2   tss_load            19496 non-null  float64 \n",
      " 3   catchment_hectares  19496 non-null  float64 \n",
      " 4   watershed_hectares  19496 non-null  float64 \n",
      " 5   tp_loadrate_ws      19496 non-null  float64 \n",
      " 6   tn_loadrate_ws      19496 non-null  float64 \n",
      " 7   tss_loadrate_ws     19496 non-null  float64 \n",
      " 8   maflowv             19496 non-null  float64 \n",
      " 9   geom_catchment      19496 non-null  geometry\n",
      " 10  cluster             17358 non-null  category\n",
      " 11  fa_name             186 non-null    category\n",
      " 12  sub_focusarea       186 non-null    Int64   \n",
      " 13  nord                18870 non-null  Int64   \n",
      " 14  nordstop            18844 non-null  Int64   \n",
      " 15  huc12               19496 non-null  category\n",
      "dtypes: Int64(3), category(3), float64(9), geometry(1)\n",
      "memory usage: 2.2 MB\n"
     ]
    }
   ],
   "source": [
    "base_df_catch.info()"
   ]
  },
  {
   "cell_type": "code",
   "execution_count": 131,
   "metadata": {},
   "outputs": [
    {
     "data": {
      "text/html": [
       "<div>\n",
       "<style scoped>\n",
       "    .dataframe tbody tr th:only-of-type {\n",
       "        vertical-align: middle;\n",
       "    }\n",
       "\n",
       "    .dataframe tbody tr th {\n",
       "        vertical-align: top;\n",
       "    }\n",
       "\n",
       "    .dataframe thead th {\n",
       "        text-align: right;\n",
       "    }\n",
       "</style>\n",
       "<table border=\"1\" class=\"dataframe\">\n",
       "  <thead>\n",
       "    <tr style=\"text-align: right;\">\n",
       "      <th></th>\n",
       "      <th>tp_load</th>\n",
       "      <th>tn_load</th>\n",
       "      <th>tss_load</th>\n",
       "      <th>catchment_hectares</th>\n",
       "      <th>watershed_hectares</th>\n",
       "      <th>tp_loadrate_ws</th>\n",
       "      <th>tn_loadrate_ws</th>\n",
       "      <th>tss_loadrate_ws</th>\n",
       "      <th>maflowv</th>\n",
       "      <th>geom_catchment</th>\n",
       "      <th>cluster</th>\n",
       "      <th>fa_name</th>\n",
       "      <th>sub_focusarea</th>\n",
       "      <th>nord</th>\n",
       "      <th>nordstop</th>\n",
       "      <th>huc12</th>\n",
       "    </tr>\n",
       "    <tr>\n",
       "      <th>comid</th>\n",
       "      <th></th>\n",
       "      <th></th>\n",
       "      <th></th>\n",
       "      <th></th>\n",
       "      <th></th>\n",
       "      <th></th>\n",
       "      <th></th>\n",
       "      <th></th>\n",
       "      <th></th>\n",
       "      <th></th>\n",
       "      <th></th>\n",
       "      <th></th>\n",
       "      <th></th>\n",
       "      <th></th>\n",
       "      <th></th>\n",
       "      <th></th>\n",
       "    </tr>\n",
       "  </thead>\n",
       "  <tbody>\n",
       "    <tr>\n",
       "      <th>1748535</th>\n",
       "      <td>881.4618</td>\n",
       "      <td>10322.4299</td>\n",
       "      <td>390433.1419</td>\n",
       "      <td>6496.7052</td>\n",
       "      <td>6501.69</td>\n",
       "      <td>0.1357</td>\n",
       "      <td>1.5874</td>\n",
       "      <td>60.0509</td>\n",
       "      <td>43.699</td>\n",
       "      <td>MULTIPOLYGON (((535287.346 4678015.900, 535140...</td>\n",
       "      <td>drb</td>\n",
       "      <td>NaN</td>\n",
       "      <td>&lt;NA&gt;</td>\n",
       "      <td>74914</td>\n",
       "      <td>74914</td>\n",
       "      <td>020401020302</td>\n",
       "    </tr>\n",
       "    <tr>\n",
       "      <th>1748537</th>\n",
       "      <td>296.6355</td>\n",
       "      <td>3165.6081</td>\n",
       "      <td>88090.7401</td>\n",
       "      <td>1663.1712</td>\n",
       "      <td>1664.46</td>\n",
       "      <td>0.1784</td>\n",
       "      <td>1.9019</td>\n",
       "      <td>52.9245</td>\n",
       "      <td>11.189</td>\n",
       "      <td>MULTIPOLYGON (((532639.560 4678753.867, 532610...</td>\n",
       "      <td>drb</td>\n",
       "      <td>NaN</td>\n",
       "      <td>&lt;NA&gt;</td>\n",
       "      <td>74913</td>\n",
       "      <td>74913</td>\n",
       "      <td>020401020302</td>\n",
       "    </tr>\n",
       "    <tr>\n",
       "      <th>1748539</th>\n",
       "      <td>350.9217</td>\n",
       "      <td>2816.4257</td>\n",
       "      <td>117212.5160</td>\n",
       "      <td>1639.4128</td>\n",
       "      <td>1640.70</td>\n",
       "      <td>0.2139</td>\n",
       "      <td>1.7164</td>\n",
       "      <td>71.4407</td>\n",
       "      <td>11.223</td>\n",
       "      <td>MULTIPOLYGON (((525043.074 4672557.985, 525013...</td>\n",
       "      <td>drb</td>\n",
       "      <td>NaN</td>\n",
       "      <td>&lt;NA&gt;</td>\n",
       "      <td>74921</td>\n",
       "      <td>74921</td>\n",
       "      <td>020401020305</td>\n",
       "    </tr>\n",
       "  </tbody>\n",
       "</table>\n",
       "</div>"
      ],
      "text/plain": [
       "          tp_load     tn_load     tss_load  catchment_hectares  \\\n",
       "comid                                                            \n",
       "1748535  881.4618  10322.4299  390433.1419           6496.7052   \n",
       "1748537  296.6355   3165.6081   88090.7401           1663.1712   \n",
       "1748539  350.9217   2816.4257  117212.5160           1639.4128   \n",
       "\n",
       "         watershed_hectares  tp_loadrate_ws  tn_loadrate_ws  tss_loadrate_ws  \\\n",
       "comid                                                                          \n",
       "1748535             6501.69          0.1357          1.5874          60.0509   \n",
       "1748537             1664.46          0.1784          1.9019          52.9245   \n",
       "1748539             1640.70          0.2139          1.7164          71.4407   \n",
       "\n",
       "         maflowv                                     geom_catchment cluster  \\\n",
       "comid                                                                         \n",
       "1748535   43.699  MULTIPOLYGON (((535287.346 4678015.900, 535140...     drb   \n",
       "1748537   11.189  MULTIPOLYGON (((532639.560 4678753.867, 532610...     drb   \n",
       "1748539   11.223  MULTIPOLYGON (((525043.074 4672557.985, 525013...     drb   \n",
       "\n",
       "        fa_name  sub_focusarea   nord  nordstop         huc12  \n",
       "comid                                                          \n",
       "1748535     NaN           <NA>  74914     74914  020401020302  \n",
       "1748537     NaN           <NA>  74913     74913  020401020302  \n",
       "1748539     NaN           <NA>  74921     74921  020401020305  "
      ]
     },
     "execution_count": 131,
     "metadata": {},
     "output_type": "execute_result"
    }
   ],
   "source": [
    "base_df_catch.head(3)"
   ]
  },
  {
   "cell_type": "code",
   "execution_count": 132,
   "metadata": {},
   "outputs": [
    {
     "data": {
      "text/html": [
       "<div>\n",
       "<style scoped>\n",
       "    .dataframe tbody tr th:only-of-type {\n",
       "        vertical-align: middle;\n",
       "    }\n",
       "\n",
       "    .dataframe tbody tr th {\n",
       "        vertical-align: top;\n",
       "    }\n",
       "\n",
       "    .dataframe thead th {\n",
       "        text-align: right;\n",
       "    }\n",
       "</style>\n",
       "<table border=\"1\" class=\"dataframe\">\n",
       "  <thead>\n",
       "    <tr style=\"text-align: right;\">\n",
       "      <th></th>\n",
       "      <th>tp_load</th>\n",
       "      <th>tn_load</th>\n",
       "      <th>tss_load</th>\n",
       "      <th>catchment_hectares</th>\n",
       "      <th>watershed_hectares</th>\n",
       "      <th>tp_loadrate_ws</th>\n",
       "      <th>tn_loadrate_ws</th>\n",
       "      <th>tss_loadrate_ws</th>\n",
       "      <th>maflowv</th>\n",
       "      <th>geom_catchment</th>\n",
       "      <th>cluster</th>\n",
       "      <th>fa_name</th>\n",
       "      <th>sub_focusarea</th>\n",
       "      <th>nord</th>\n",
       "      <th>nordstop</th>\n",
       "      <th>huc12</th>\n",
       "    </tr>\n",
       "    <tr>\n",
       "      <th>comid</th>\n",
       "      <th></th>\n",
       "      <th></th>\n",
       "      <th></th>\n",
       "      <th></th>\n",
       "      <th></th>\n",
       "      <th></th>\n",
       "      <th></th>\n",
       "      <th></th>\n",
       "      <th></th>\n",
       "      <th></th>\n",
       "      <th></th>\n",
       "      <th></th>\n",
       "      <th></th>\n",
       "      <th></th>\n",
       "      <th></th>\n",
       "      <th></th>\n",
       "    </tr>\n",
       "  </thead>\n",
       "  <tbody>\n",
       "    <tr>\n",
       "      <th>1748535</th>\n",
       "      <td>881.4618</td>\n",
       "      <td>10322.4299</td>\n",
       "      <td>390433.1419</td>\n",
       "      <td>6496.7052</td>\n",
       "      <td>6501.69</td>\n",
       "      <td>0.1357</td>\n",
       "      <td>1.5874</td>\n",
       "      <td>60.0509</td>\n",
       "      <td>43.699</td>\n",
       "      <td>MULTIPOLYGON (((535287.346 4678015.900, 535140...</td>\n",
       "      <td>drb</td>\n",
       "      <td>NaN</td>\n",
       "      <td>&lt;NA&gt;</td>\n",
       "      <td>74914</td>\n",
       "      <td>74914</td>\n",
       "      <td>020401020302</td>\n",
       "    </tr>\n",
       "    <tr>\n",
       "      <th>1748537</th>\n",
       "      <td>296.6355</td>\n",
       "      <td>3165.6081</td>\n",
       "      <td>88090.7401</td>\n",
       "      <td>1663.1712</td>\n",
       "      <td>1664.46</td>\n",
       "      <td>0.1784</td>\n",
       "      <td>1.9019</td>\n",
       "      <td>52.9245</td>\n",
       "      <td>11.189</td>\n",
       "      <td>MULTIPOLYGON (((532639.560 4678753.867, 532610...</td>\n",
       "      <td>drb</td>\n",
       "      <td>NaN</td>\n",
       "      <td>&lt;NA&gt;</td>\n",
       "      <td>74913</td>\n",
       "      <td>74913</td>\n",
       "      <td>020401020302</td>\n",
       "    </tr>\n",
       "    <tr>\n",
       "      <th>1748539</th>\n",
       "      <td>350.9217</td>\n",
       "      <td>2816.4257</td>\n",
       "      <td>117212.5160</td>\n",
       "      <td>1639.4128</td>\n",
       "      <td>1640.70</td>\n",
       "      <td>0.2139</td>\n",
       "      <td>1.7164</td>\n",
       "      <td>71.4407</td>\n",
       "      <td>11.223</td>\n",
       "      <td>MULTIPOLYGON (((525043.074 4672557.985, 525013...</td>\n",
       "      <td>drb</td>\n",
       "      <td>NaN</td>\n",
       "      <td>&lt;NA&gt;</td>\n",
       "      <td>74921</td>\n",
       "      <td>74921</td>\n",
       "      <td>020401020305</td>\n",
       "    </tr>\n",
       "  </tbody>\n",
       "</table>\n",
       "</div>"
      ],
      "text/plain": [
       "          tp_load     tn_load     tss_load  catchment_hectares  \\\n",
       "comid                                                            \n",
       "1748535  881.4618  10322.4299  390433.1419           6496.7052   \n",
       "1748537  296.6355   3165.6081   88090.7401           1663.1712   \n",
       "1748539  350.9217   2816.4257  117212.5160           1639.4128   \n",
       "\n",
       "         watershed_hectares  tp_loadrate_ws  tn_loadrate_ws  tss_loadrate_ws  \\\n",
       "comid                                                                          \n",
       "1748535             6501.69          0.1357          1.5874          60.0509   \n",
       "1748537             1664.46          0.1784          1.9019          52.9245   \n",
       "1748539             1640.70          0.2139          1.7164          71.4407   \n",
       "\n",
       "         maflowv                                     geom_catchment cluster  \\\n",
       "comid                                                                         \n",
       "1748535   43.699  MULTIPOLYGON (((535287.346 4678015.900, 535140...     drb   \n",
       "1748537   11.189  MULTIPOLYGON (((532639.560 4678753.867, 532610...     drb   \n",
       "1748539   11.223  MULTIPOLYGON (((525043.074 4672557.985, 525013...     drb   \n",
       "\n",
       "        fa_name  sub_focusarea   nord  nordstop         huc12  \n",
       "comid                                                          \n",
       "1748535     NaN           <NA>  74914     74914  020401020302  \n",
       "1748537     NaN           <NA>  74913     74913  020401020302  \n",
       "1748539     NaN           <NA>  74921     74921  020401020305  "
      ]
     },
     "execution_count": 132,
     "metadata": {},
     "output_type": "execute_result"
    }
   ],
   "source": [
    "rest_df_catch.head(3)"
   ]
  },
  {
   "cell_type": "markdown",
   "metadata": {},
   "source": [
    "## Add Units\n",
    "\n",
    "Loads are in kg/y.  \n",
    "Concentrations are in mg/L.\n",
    "\n",
    "**INCOMPLETE**\n",
    "\n",
    "Options for the future:\n",
    "- https://stackoverflow.com/questions/14688306/adding-meta-information-metadata-to-pandas-dataframe\n",
    "- https://pandas.pydata.org/docs/reference/api/pandas.Series.attrs.html\n",
    "- https://stackoverflow.com/questions/39419178/how-can-i-manage-units-in-pandas-data\n",
    "- https://github.com/hgrecco/pint\n",
    "- https://towardsdatascience.com/add-metadata-to-your-dataset-using-apache-parquet-75360d2073bd"
   ]
  },
  {
   "cell_type": "code",
   "execution_count": null,
   "metadata": {},
   "outputs": [],
   "source": [
    "#base_df.attrs"
   ]
  },
  {
   "cell_type": "code",
   "execution_count": null,
   "metadata": {},
   "outputs": [],
   "source": [
    "#base_df.tp_load.attrs"
   ]
  },
  {
   "cell_type": "markdown",
   "metadata": {
    "tags": []
   },
   "source": [
    "## Get the Protection Projects \"Avoided Loads\"\n",
    "\n",
    "Returns the results for the protection projects uploaded into FieldDoc. Protection projects were exploaded from multi-polygon to polygon then intersected with NHDplus COMID.\n",
    "\n",
    "The avoided load is taken as the Developed load - the Forested load. Assumes 100% developement to Medium Intensity (NLCD class 23). Only the average forested loading rate is provided in this table (averagess NLCD codes 41,42,43) in order to make the table simpler, however each land cover class' loading rate is explicitly used in the \"avoided\" load calculation.\n",
    "\n",
    "Primary Key\n",
    "- practice_i = FieldDoc (FD) primary key ID\n",
    "- rn = Row number for number of polygons in the multipolygon submitted to FD as a project\n",
    "- comid = NHDplus COMID intesecting with the protection polygon\n",
    "\n",
    "SQL:\n",
    "```sql\n",
    "CONSTRAINT pk_protection_lbsavoided_fd PRIMARY KEY (practice_i, rn, comid)\n",
    "```\n",
    "\n",
    "**TO DO** in the future:\n",
    "- Implement a Pandas/GeoPandas multi-index:  \n",
    "https://pandas.pydata.org/pandas-docs/stable/user_guide/advanced.html"
   ]
  },
  {
   "cell_type": "code",
   "execution_count": 133,
   "metadata": {},
   "outputs": [
    {
     "name": "stdout",
     "output_type": "stream",
     "text": [
      "CPU times: user 52.3 ms, sys: 14.8 ms, total: 67 ms\n",
      "Wall time: 1.69 s\n"
     ]
    }
   ],
   "source": [
    "%%time\n",
    "\n",
    "db_connection_url = \"postgresql://{}:{}@{}:{}/{}\".format(_user[0], _password[0], _host[0], _port, _database[0])\n",
    "con = create_engine(db_connection_url)  \n",
    "\n",
    "tablename_prot = 'protection_lbsavoided_fd'\n",
    "\n",
    "prot_select = 'SELECT * FROM datapolassess.{}'.format(tablename_prot)\n",
    "\n",
    "prot_proj_df = gpd.read_postgis(prot_select, con)"
   ]
  },
  {
   "cell_type": "code",
   "execution_count": 134,
   "metadata": {},
   "outputs": [
    {
     "data": {
      "text/html": [
       "<div>\n",
       "<style scoped>\n",
       "    .dataframe tbody tr th:only-of-type {\n",
       "        vertical-align: middle;\n",
       "    }\n",
       "\n",
       "    .dataframe tbody tr th {\n",
       "        vertical-align: top;\n",
       "    }\n",
       "\n",
       "    .dataframe thead th {\n",
       "        text-align: right;\n",
       "    }\n",
       "</style>\n",
       "<table border=\"1\" class=\"dataframe\">\n",
       "  <thead>\n",
       "    <tr style=\"text-align: right;\">\n",
       "      <th></th>\n",
       "      <th>practice_i</th>\n",
       "      <th>practice_n</th>\n",
       "      <th>rn</th>\n",
       "      <th>comid</th>\n",
       "      <th>practice_t</th>\n",
       "      <th>practice_d</th>\n",
       "      <th>project_na</th>\n",
       "      <th>project_st</th>\n",
       "      <th>creator_na</th>\n",
       "      <th>program_id</th>\n",
       "      <th>...</th>\n",
       "      <th>parcel_devtssload_lbyr</th>\n",
       "      <th>parcel_foretssload_lbyr</th>\n",
       "      <th>parcel_tssload_lbyr_avoided</th>\n",
       "      <th>parcel_devtnload_lbyr</th>\n",
       "      <th>parcel_foretnload_lbyr</th>\n",
       "      <th>parcel_tnload_lbyr_avoided</th>\n",
       "      <th>parcel_devtpload_lbyr</th>\n",
       "      <th>parcel_foretpload_lbyr</th>\n",
       "      <th>parcel_tpload_lbyr_avoided</th>\n",
       "      <th>geom</th>\n",
       "    </tr>\n",
       "  </thead>\n",
       "  <tbody>\n",
       "    <tr>\n",
       "      <th>0</th>\n",
       "      <td>5289.0</td>\n",
       "      <td>Bear Creek</td>\n",
       "      <td>1</td>\n",
       "      <td>4185445</td>\n",
       "      <td>Fee acquisition</td>\n",
       "      <td>Acquisition</td>\n",
       "      <td>Bear Creek - Crystal Lake</td>\n",
       "      <td>complete</td>\n",
       "      <td>Dawn Gorham</td>\n",
       "      <td>5.0</td>\n",
       "      <td>...</td>\n",
       "      <td>175779.645</td>\n",
       "      <td>9187.118</td>\n",
       "      <td>166592.527</td>\n",
       "      <td>205.600</td>\n",
       "      <td>17.768</td>\n",
       "      <td>187.832</td>\n",
       "      <td>76.994</td>\n",
       "      <td>4.230</td>\n",
       "      <td>72.764</td>\n",
       "      <td>MULTIPOLYGON (((-75.79484 41.17775, -75.79468 ...</td>\n",
       "    </tr>\n",
       "    <tr>\n",
       "      <th>1</th>\n",
       "      <td>5289.0</td>\n",
       "      <td>Bear Creek</td>\n",
       "      <td>1</td>\n",
       "      <td>4185461</td>\n",
       "      <td>Fee acquisition</td>\n",
       "      <td>Acquisition</td>\n",
       "      <td>Bear Creek - Crystal Lake</td>\n",
       "      <td>complete</td>\n",
       "      <td>Dawn Gorham</td>\n",
       "      <td>5.0</td>\n",
       "      <td>...</td>\n",
       "      <td>159240.637</td>\n",
       "      <td>8322.707</td>\n",
       "      <td>150917.930</td>\n",
       "      <td>186.255</td>\n",
       "      <td>16.096</td>\n",
       "      <td>170.159</td>\n",
       "      <td>69.750</td>\n",
       "      <td>3.832</td>\n",
       "      <td>65.918</td>\n",
       "      <td>MULTIPOLYGON (((-75.78786 41.18276, -75.78756 ...</td>\n",
       "    </tr>\n",
       "    <tr>\n",
       "      <th>2</th>\n",
       "      <td>5289.0</td>\n",
       "      <td>Bear Creek</td>\n",
       "      <td>1</td>\n",
       "      <td>4185483</td>\n",
       "      <td>Fee acquisition</td>\n",
       "      <td>Acquisition</td>\n",
       "      <td>Bear Creek - Crystal Lake</td>\n",
       "      <td>complete</td>\n",
       "      <td>Dawn Gorham</td>\n",
       "      <td>5.0</td>\n",
       "      <td>...</td>\n",
       "      <td>235688.406</td>\n",
       "      <td>12318.247</td>\n",
       "      <td>223370.159</td>\n",
       "      <td>275.672</td>\n",
       "      <td>23.823</td>\n",
       "      <td>251.849</td>\n",
       "      <td>103.235</td>\n",
       "      <td>5.672</td>\n",
       "      <td>97.563</td>\n",
       "      <td>MULTIPOLYGON (((-75.81161 41.17841, -75.81176 ...</td>\n",
       "    </tr>\n",
       "    <tr>\n",
       "      <th>3</th>\n",
       "      <td>5289.0</td>\n",
       "      <td>Bear Creek</td>\n",
       "      <td>1</td>\n",
       "      <td>4185485</td>\n",
       "      <td>Fee acquisition</td>\n",
       "      <td>Acquisition</td>\n",
       "      <td>Bear Creek - Crystal Lake</td>\n",
       "      <td>complete</td>\n",
       "      <td>Dawn Gorham</td>\n",
       "      <td>5.0</td>\n",
       "      <td>...</td>\n",
       "      <td>48109.916</td>\n",
       "      <td>2514.463</td>\n",
       "      <td>45595.453</td>\n",
       "      <td>56.272</td>\n",
       "      <td>4.863</td>\n",
       "      <td>51.409</td>\n",
       "      <td>21.073</td>\n",
       "      <td>1.158</td>\n",
       "      <td>19.915</td>\n",
       "      <td>MULTIPOLYGON (((-75.80381 41.17354, -75.80405 ...</td>\n",
       "    </tr>\n",
       "    <tr>\n",
       "      <th>4</th>\n",
       "      <td>5289.0</td>\n",
       "      <td>Bear Creek</td>\n",
       "      <td>1</td>\n",
       "      <td>4185505</td>\n",
       "      <td>Fee acquisition</td>\n",
       "      <td>Acquisition</td>\n",
       "      <td>Bear Creek - Crystal Lake</td>\n",
       "      <td>complete</td>\n",
       "      <td>Dawn Gorham</td>\n",
       "      <td>5.0</td>\n",
       "      <td>...</td>\n",
       "      <td>40026.507</td>\n",
       "      <td>2083.105</td>\n",
       "      <td>37943.402</td>\n",
       "      <td>34.930</td>\n",
       "      <td>3.776</td>\n",
       "      <td>31.154</td>\n",
       "      <td>16.804</td>\n",
       "      <td>0.944</td>\n",
       "      <td>15.860</td>\n",
       "      <td>MULTIPOLYGON (((-75.79805 41.17363, -75.80381 ...</td>\n",
       "    </tr>\n",
       "  </tbody>\n",
       "</table>\n",
       "<p>5 rows × 33 columns</p>\n",
       "</div>"
      ],
      "text/plain": [
       "   practice_i  practice_n  rn    comid       practice_t   practice_d  \\\n",
       "0      5289.0  Bear Creek   1  4185445  Fee acquisition  Acquisition   \n",
       "1      5289.0  Bear Creek   1  4185461  Fee acquisition  Acquisition   \n",
       "2      5289.0  Bear Creek   1  4185483  Fee acquisition  Acquisition   \n",
       "3      5289.0  Bear Creek   1  4185485  Fee acquisition  Acquisition   \n",
       "4      5289.0  Bear Creek   1  4185505  Fee acquisition  Acquisition   \n",
       "\n",
       "                  project_na project_st   creator_na  program_id  ...  \\\n",
       "0  Bear Creek - Crystal Lake   complete  Dawn Gorham         5.0  ...   \n",
       "1  Bear Creek - Crystal Lake   complete  Dawn Gorham         5.0  ...   \n",
       "2  Bear Creek - Crystal Lake   complete  Dawn Gorham         5.0  ...   \n",
       "3  Bear Creek - Crystal Lake   complete  Dawn Gorham         5.0  ...   \n",
       "4  Bear Creek - Crystal Lake   complete  Dawn Gorham         5.0  ...   \n",
       "\n",
       "  parcel_devtssload_lbyr parcel_foretssload_lbyr parcel_tssload_lbyr_avoided  \\\n",
       "0             175779.645                9187.118                  166592.527   \n",
       "1             159240.637                8322.707                  150917.930   \n",
       "2             235688.406               12318.247                  223370.159   \n",
       "3              48109.916                2514.463                   45595.453   \n",
       "4              40026.507                2083.105                   37943.402   \n",
       "\n",
       "  parcel_devtnload_lbyr parcel_foretnload_lbyr parcel_tnload_lbyr_avoided  \\\n",
       "0               205.600                 17.768                    187.832   \n",
       "1               186.255                 16.096                    170.159   \n",
       "2               275.672                 23.823                    251.849   \n",
       "3                56.272                  4.863                     51.409   \n",
       "4                34.930                  3.776                     31.154   \n",
       "\n",
       "   parcel_devtpload_lbyr  parcel_foretpload_lbyr  parcel_tpload_lbyr_avoided  \\\n",
       "0                 76.994                   4.230                      72.764   \n",
       "1                 69.750                   3.832                      65.918   \n",
       "2                103.235                   5.672                      97.563   \n",
       "3                 21.073                   1.158                      19.915   \n",
       "4                 16.804                   0.944                      15.860   \n",
       "\n",
       "                                                geom  \n",
       "0  MULTIPOLYGON (((-75.79484 41.17775, -75.79468 ...  \n",
       "1  MULTIPOLYGON (((-75.78786 41.18276, -75.78756 ...  \n",
       "2  MULTIPOLYGON (((-75.81161 41.17841, -75.81176 ...  \n",
       "3  MULTIPOLYGON (((-75.80381 41.17354, -75.80405 ...  \n",
       "4  MULTIPOLYGON (((-75.79805 41.17363, -75.80381 ...  \n",
       "\n",
       "[5 rows x 33 columns]"
      ]
     },
     "execution_count": 134,
     "metadata": {},
     "output_type": "execute_result"
    }
   ],
   "source": [
    "prot_proj_df.head()"
   ]
  },
  {
   "cell_type": "code",
   "execution_count": 135,
   "metadata": {},
   "outputs": [
    {
     "name": "stdout",
     "output_type": "stream",
     "text": [
      "<class 'geopandas.geodataframe.GeoDataFrame'>\n",
      "RangeIndex: 269 entries, 0 to 268\n",
      "Data columns (total 33 columns):\n",
      " #   Column                        Non-Null Count  Dtype   \n",
      "---  ------                        --------------  -----   \n",
      " 0   practice_i                    269 non-null    float64 \n",
      " 1   practice_n                    269 non-null    object  \n",
      " 2   rn                            269 non-null    int64   \n",
      " 3   comid                         269 non-null    int64   \n",
      " 4   practice_t                    269 non-null    object  \n",
      " 5   practice_d                    44 non-null     object  \n",
      " 6   project_na                    269 non-null    object  \n",
      " 7   project_st                    269 non-null    object  \n",
      " 8   creator_na                    269 non-null    object  \n",
      " 9   program_id                    269 non-null    float64 \n",
      " 10  program_na                    269 non-null    object  \n",
      " 11  created                       269 non-null    object  \n",
      " 12  modified                      269 non-null    object  \n",
      " 13  practice_url                  269 non-null    object  \n",
      " 14  project_url                   269 non-null    object  \n",
      " 15  huc12                         269 non-null    object  \n",
      " 16  area_acres                    269 non-null    float64 \n",
      " 17  huc12_tssdevloadrate_lbacre   264 non-null    float64 \n",
      " 18  huc12_tssforeloadrate_lbacre  264 non-null    float64 \n",
      " 19  huc12_tndevloadrate_lbacre    264 non-null    float64 \n",
      " 20  huc12_tnforeloadrate_lbacre   264 non-null    float64 \n",
      " 21  huc12_tpdevloadrate_lbacre    264 non-null    float64 \n",
      " 22  huc12_tpforeloadrate_lbacre   264 non-null    float64 \n",
      " 23  parcel_devtssload_lbyr        264 non-null    float64 \n",
      " 24  parcel_foretssload_lbyr       264 non-null    float64 \n",
      " 25  parcel_tssload_lbyr_avoided   264 non-null    float64 \n",
      " 26  parcel_devtnload_lbyr         264 non-null    float64 \n",
      " 27  parcel_foretnload_lbyr        264 non-null    float64 \n",
      " 28  parcel_tnload_lbyr_avoided    264 non-null    float64 \n",
      " 29  parcel_devtpload_lbyr         264 non-null    float64 \n",
      " 30  parcel_foretpload_lbyr        264 non-null    float64 \n",
      " 31  parcel_tpload_lbyr_avoided    264 non-null    float64 \n",
      " 32  geom                          269 non-null    geometry\n",
      "dtypes: float64(18), geometry(1), int64(2), object(12)\n",
      "memory usage: 69.5+ KB\n"
     ]
    }
   ],
   "source": [
    "prot_proj_df.info()"
   ]
  },
  {
   "cell_type": "markdown",
   "metadata": {},
   "source": [
    "### Convert DataTypes\n",
    "\n",
    "- Some `float64` columns should be converted to the nullable integers (`pd.Int64Dtype()`).\n",
    "- Many string `object` columns can be converted to categoricals.\n",
    "- Date and time string `object` columns should be parsed to DateTimes (`datetime64`).\n",
    "\n",
    "Both of these improve performance, memory use, and compression. Floats are generally problematic for any index or field used as an index.\n",
    "\n",
    "Docs:\n",
    "- https://anaconda.org/TomAugspurger/pandas-performance/notebook\n",
    "- https://pandas.pydata.org/pandas-docs/stable/user_guide/integer_na.html\n",
    "- https://pandas.pydata.org/pandas-docs/stable/user_guide/categorical.html\n",
    "- https://pandas.pydata.org/docs/reference/api/pandas.to_datetime.html"
   ]
  },
  {
   "cell_type": "code",
   "execution_count": 136,
   "metadata": {},
   "outputs": [],
   "source": [
    "# Convert IDs to nullable integers\n",
    "prot_proj_df.practice_i = prot_proj_df.practice_i.astype(pd.Int64Dtype())\n",
    "prot_proj_df.program_id = prot_proj_df.program_id.astype(pd.Int64Dtype())"
   ]
  },
  {
   "cell_type": "code",
   "execution_count": 137,
   "metadata": {},
   "outputs": [],
   "source": [
    "# Convert string Objects to Categoricals\n",
    "prot_proj_df.practice_n = prot_proj_df.practice_n.astype('category')\n",
    "prot_proj_df.practice_t = prot_proj_df.practice_t.astype('category')\n",
    "prot_proj_df.practice_d = prot_proj_df.practice_d.astype('category')\n",
    "prot_proj_df.project_na = prot_proj_df.project_na.astype('category')\n",
    "prot_proj_df.project_st = prot_proj_df.project_st.astype('category')\n",
    "prot_proj_df.creator_na = prot_proj_df.creator_na.astype('category')\n",
    "prot_proj_df.program_na = prot_proj_df.program_na.astype('category')\n",
    "prot_proj_df.huc12      = prot_proj_df.huc12.astype('category')"
   ]
  },
  {
   "cell_type": "code",
   "execution_count": 138,
   "metadata": {},
   "outputs": [],
   "source": [
    "# Convert date string Objects to DateTime\n",
    "prot_proj_df.created  = pd.to_datetime(prot_proj_df.created, infer_datetime_format=True)\n",
    "prot_proj_df.modified = pd.to_datetime(prot_proj_df.modified, infer_datetime_format=True)"
   ]
  },
  {
   "cell_type": "code",
   "execution_count": 139,
   "metadata": {},
   "outputs": [
    {
     "data": {
      "text/html": [
       "<div>\n",
       "<style scoped>\n",
       "    .dataframe tbody tr th:only-of-type {\n",
       "        vertical-align: middle;\n",
       "    }\n",
       "\n",
       "    .dataframe tbody tr th {\n",
       "        vertical-align: top;\n",
       "    }\n",
       "\n",
       "    .dataframe thead th {\n",
       "        text-align: right;\n",
       "    }\n",
       "</style>\n",
       "<table border=\"1\" class=\"dataframe\">\n",
       "  <thead>\n",
       "    <tr style=\"text-align: right;\">\n",
       "      <th></th>\n",
       "      <th>creator_na</th>\n",
       "      <th>program_id</th>\n",
       "      <th>program_na</th>\n",
       "      <th>created</th>\n",
       "      <th>modified</th>\n",
       "      <th>practice_url</th>\n",
       "      <th>project_url</th>\n",
       "      <th>huc12</th>\n",
       "      <th>area_acres</th>\n",
       "    </tr>\n",
       "  </thead>\n",
       "  <tbody>\n",
       "    <tr>\n",
       "      <th>0</th>\n",
       "      <td>Dawn Gorham</td>\n",
       "      <td>5</td>\n",
       "      <td>Delaware River Watershed Protection Fund - For...</td>\n",
       "      <td>2019-01-04 19:03:54.420311</td>\n",
       "      <td>2019-11-15 20:56:34.050925</td>\n",
       "      <td>https://www.fielddoc.org/practices/5289</td>\n",
       "      <td>https://www.fielddoc.org/projects/2665</td>\n",
       "      <td>020401060203</td>\n",
       "      <td>84.609</td>\n",
       "    </tr>\n",
       "    <tr>\n",
       "      <th>1</th>\n",
       "      <td>Dawn Gorham</td>\n",
       "      <td>5</td>\n",
       "      <td>Delaware River Watershed Protection Fund - For...</td>\n",
       "      <td>2019-01-04 19:03:54.420311</td>\n",
       "      <td>2019-11-15 20:56:34.050925</td>\n",
       "      <td>https://www.fielddoc.org/practices/5289</td>\n",
       "      <td>https://www.fielddoc.org/projects/2665</td>\n",
       "      <td>020401060203</td>\n",
       "      <td>76.648</td>\n",
       "    </tr>\n",
       "    <tr>\n",
       "      <th>2</th>\n",
       "      <td>Dawn Gorham</td>\n",
       "      <td>5</td>\n",
       "      <td>Delaware River Watershed Protection Fund - For...</td>\n",
       "      <td>2019-01-04 19:03:54.420311</td>\n",
       "      <td>2019-11-15 20:56:34.050925</td>\n",
       "      <td>https://www.fielddoc.org/practices/5289</td>\n",
       "      <td>https://www.fielddoc.org/projects/2665</td>\n",
       "      <td>020401060203</td>\n",
       "      <td>113.445</td>\n",
       "    </tr>\n",
       "    <tr>\n",
       "      <th>3</th>\n",
       "      <td>Dawn Gorham</td>\n",
       "      <td>5</td>\n",
       "      <td>Delaware River Watershed Protection Fund - For...</td>\n",
       "      <td>2019-01-04 19:03:54.420311</td>\n",
       "      <td>2019-11-15 20:56:34.050925</td>\n",
       "      <td>https://www.fielddoc.org/practices/5289</td>\n",
       "      <td>https://www.fielddoc.org/projects/2665</td>\n",
       "      <td>020401060203</td>\n",
       "      <td>23.157</td>\n",
       "    </tr>\n",
       "    <tr>\n",
       "      <th>4</th>\n",
       "      <td>Dawn Gorham</td>\n",
       "      <td>5</td>\n",
       "      <td>Delaware River Watershed Protection Fund - For...</td>\n",
       "      <td>2019-01-04 19:03:54.420311</td>\n",
       "      <td>2019-11-15 20:56:34.050925</td>\n",
       "      <td>https://www.fielddoc.org/practices/5289</td>\n",
       "      <td>https://www.fielddoc.org/projects/2665</td>\n",
       "      <td>020401060204</td>\n",
       "      <td>18.881</td>\n",
       "    </tr>\n",
       "  </tbody>\n",
       "</table>\n",
       "</div>"
      ],
      "text/plain": [
       "    creator_na  program_id                                         program_na  \\\n",
       "0  Dawn Gorham           5  Delaware River Watershed Protection Fund - For...   \n",
       "1  Dawn Gorham           5  Delaware River Watershed Protection Fund - For...   \n",
       "2  Dawn Gorham           5  Delaware River Watershed Protection Fund - For...   \n",
       "3  Dawn Gorham           5  Delaware River Watershed Protection Fund - For...   \n",
       "4  Dawn Gorham           5  Delaware River Watershed Protection Fund - For...   \n",
       "\n",
       "                     created                   modified  \\\n",
       "0 2019-01-04 19:03:54.420311 2019-11-15 20:56:34.050925   \n",
       "1 2019-01-04 19:03:54.420311 2019-11-15 20:56:34.050925   \n",
       "2 2019-01-04 19:03:54.420311 2019-11-15 20:56:34.050925   \n",
       "3 2019-01-04 19:03:54.420311 2019-11-15 20:56:34.050925   \n",
       "4 2019-01-04 19:03:54.420311 2019-11-15 20:56:34.050925   \n",
       "\n",
       "                              practice_url  \\\n",
       "0  https://www.fielddoc.org/practices/5289   \n",
       "1  https://www.fielddoc.org/practices/5289   \n",
       "2  https://www.fielddoc.org/practices/5289   \n",
       "3  https://www.fielddoc.org/practices/5289   \n",
       "4  https://www.fielddoc.org/practices/5289   \n",
       "\n",
       "                              project_url         huc12  area_acres  \n",
       "0  https://www.fielddoc.org/projects/2665  020401060203      84.609  \n",
       "1  https://www.fielddoc.org/projects/2665  020401060203      76.648  \n",
       "2  https://www.fielddoc.org/projects/2665  020401060203     113.445  \n",
       "3  https://www.fielddoc.org/projects/2665  020401060203      23.157  \n",
       "4  https://www.fielddoc.org/projects/2665  020401060204      18.881  "
      ]
     },
     "execution_count": 139,
     "metadata": {},
     "output_type": "execute_result"
    }
   ],
   "source": [
    "prot_proj_df.iloc[:, 8:17].head()"
   ]
  },
  {
   "cell_type": "code",
   "execution_count": 140,
   "metadata": {},
   "outputs": [
    {
     "name": "stdout",
     "output_type": "stream",
     "text": [
      "<class 'geopandas.geodataframe.GeoDataFrame'>\n",
      "RangeIndex: 269 entries, 0 to 268\n",
      "Data columns (total 33 columns):\n",
      " #   Column                        Non-Null Count  Dtype         \n",
      "---  ------                        --------------  -----         \n",
      " 0   practice_i                    269 non-null    Int64         \n",
      " 1   practice_n                    269 non-null    category      \n",
      " 2   rn                            269 non-null    int64         \n",
      " 3   comid                         269 non-null    int64         \n",
      " 4   practice_t                    269 non-null    category      \n",
      " 5   practice_d                    44 non-null     category      \n",
      " 6   project_na                    269 non-null    category      \n",
      " 7   project_st                    269 non-null    category      \n",
      " 8   creator_na                    269 non-null    category      \n",
      " 9   program_id                    269 non-null    Int64         \n",
      " 10  program_na                    269 non-null    category      \n",
      " 11  created                       269 non-null    datetime64[ns]\n",
      " 12  modified                      269 non-null    datetime64[ns]\n",
      " 13  practice_url                  269 non-null    object        \n",
      " 14  project_url                   269 non-null    object        \n",
      " 15  huc12                         269 non-null    category      \n",
      " 16  area_acres                    269 non-null    float64       \n",
      " 17  huc12_tssdevloadrate_lbacre   264 non-null    float64       \n",
      " 18  huc12_tssforeloadrate_lbacre  264 non-null    float64       \n",
      " 19  huc12_tndevloadrate_lbacre    264 non-null    float64       \n",
      " 20  huc12_tnforeloadrate_lbacre   264 non-null    float64       \n",
      " 21  huc12_tpdevloadrate_lbacre    264 non-null    float64       \n",
      " 22  huc12_tpforeloadrate_lbacre   264 non-null    float64       \n",
      " 23  parcel_devtssload_lbyr        264 non-null    float64       \n",
      " 24  parcel_foretssload_lbyr       264 non-null    float64       \n",
      " 25  parcel_tssload_lbyr_avoided   264 non-null    float64       \n",
      " 26  parcel_devtnload_lbyr         264 non-null    float64       \n",
      " 27  parcel_foretnload_lbyr        264 non-null    float64       \n",
      " 28  parcel_tnload_lbyr_avoided    264 non-null    float64       \n",
      " 29  parcel_devtpload_lbyr         264 non-null    float64       \n",
      " 30  parcel_foretpload_lbyr        264 non-null    float64       \n",
      " 31  parcel_tpload_lbyr_avoided    264 non-null    float64       \n",
      " 32  geom                          269 non-null    geometry      \n",
      "dtypes: Int64(2), category(8), datetime64[ns](2), float64(16), geometry(1), int64(2), object(2)\n",
      "memory usage: 61.6+ KB\n"
     ]
    }
   ],
   "source": [
    "prot_proj_df.info()"
   ]
  },
  {
   "cell_type": "markdown",
   "metadata": {
    "tags": []
   },
   "source": [
    "## Get the Restoration Projects intersected by COMID\n",
    "\n",
    "The FieldDoc primary key is `practice_i`, but we subdivide by `comid`, creating a multi-index.\n",
    "\n",
    "SQL for the Primary Key:\n",
    "```sql\n",
    "CONSTRAINT pk_cache_restoration_lbsreduced PRIMARY KEY (comid, practice_i)\n",
    "```\n",
    "\n",
    "**TO DO** in the future:\n",
    "- Implement a Pandas/GeoPandas multi-index:  \n",
    "https://pandas.pydata.org/pandas-docs/stable/user_guide/advanced.html"
   ]
  },
  {
   "cell_type": "code",
   "execution_count": 141,
   "metadata": {},
   "outputs": [
    {
     "ename": "ProgrammingError",
     "evalue": "(psycopg2.errors.UndefinedTable) relation \"datapolassess.restoration_lbsreduced\" does not exist\nLINE 1: SELECT * FROM datapolassess.restoration_lbsreduced\n                      ^\n\n[SQL: SELECT * FROM datapolassess.restoration_lbsreduced]\n(Background on this error at: https://sqlalche.me/e/14/f405)",
     "output_type": "error",
     "traceback": [
      "\u001b[0;31m---------------------------------------------------------------------------\u001b[0m",
      "\u001b[0;31mUndefinedTable\u001b[0m                            Traceback (most recent call last)",
      "\u001b[0;32m~/opt/anaconda3/envs/WikiSRAT/lib/python3.8/site-packages/sqlalchemy/engine/base.py\u001b[0m in \u001b[0;36m_execute_context\u001b[0;34m(self, dialect, constructor, statement, parameters, execution_options, *args, **kw)\u001b[0m\n\u001b[1;32m   1770\u001b[0m                 \u001b[0;32mif\u001b[0m \u001b[0;32mnot\u001b[0m \u001b[0mevt_handled\u001b[0m\u001b[0;34m:\u001b[0m\u001b[0;34m\u001b[0m\u001b[0;34m\u001b[0m\u001b[0m\n\u001b[0;32m-> 1771\u001b[0;31m                     self.dialect.do_execute(\n\u001b[0m\u001b[1;32m   1772\u001b[0m                         \u001b[0mcursor\u001b[0m\u001b[0;34m,\u001b[0m \u001b[0mstatement\u001b[0m\u001b[0;34m,\u001b[0m \u001b[0mparameters\u001b[0m\u001b[0;34m,\u001b[0m \u001b[0mcontext\u001b[0m\u001b[0;34m\u001b[0m\u001b[0;34m\u001b[0m\u001b[0m\n",
      "\u001b[0;32m~/opt/anaconda3/envs/WikiSRAT/lib/python3.8/site-packages/sqlalchemy/engine/default.py\u001b[0m in \u001b[0;36mdo_execute\u001b[0;34m(self, cursor, statement, parameters, context)\u001b[0m\n\u001b[1;32m    716\u001b[0m     \u001b[0;32mdef\u001b[0m \u001b[0mdo_execute\u001b[0m\u001b[0;34m(\u001b[0m\u001b[0mself\u001b[0m\u001b[0;34m,\u001b[0m \u001b[0mcursor\u001b[0m\u001b[0;34m,\u001b[0m \u001b[0mstatement\u001b[0m\u001b[0;34m,\u001b[0m \u001b[0mparameters\u001b[0m\u001b[0;34m,\u001b[0m \u001b[0mcontext\u001b[0m\u001b[0;34m=\u001b[0m\u001b[0;32mNone\u001b[0m\u001b[0;34m)\u001b[0m\u001b[0;34m:\u001b[0m\u001b[0;34m\u001b[0m\u001b[0;34m\u001b[0m\u001b[0m\n\u001b[0;32m--> 717\u001b[0;31m         \u001b[0mcursor\u001b[0m\u001b[0;34m.\u001b[0m\u001b[0mexecute\u001b[0m\u001b[0;34m(\u001b[0m\u001b[0mstatement\u001b[0m\u001b[0;34m,\u001b[0m \u001b[0mparameters\u001b[0m\u001b[0;34m)\u001b[0m\u001b[0;34m\u001b[0m\u001b[0;34m\u001b[0m\u001b[0m\n\u001b[0m\u001b[1;32m    718\u001b[0m \u001b[0;34m\u001b[0m\u001b[0m\n",
      "\u001b[0;31mUndefinedTable\u001b[0m: relation \"datapolassess.restoration_lbsreduced\" does not exist\nLINE 1: SELECT * FROM datapolassess.restoration_lbsreduced\n                      ^\n",
      "\nThe above exception was the direct cause of the following exception:\n",
      "\u001b[0;31mProgrammingError\u001b[0m                          Traceback (most recent call last)",
      "\u001b[0;32m<timed exec>\u001b[0m in \u001b[0;36m<module>\u001b[0;34m\u001b[0m\n",
      "\u001b[0;32m~/opt/anaconda3/envs/WikiSRAT/lib/python3.8/site-packages/geopandas/io/sql.py\u001b[0m in \u001b[0;36m_read_postgis\u001b[0;34m(sql, con, geom_col, crs, index_col, coerce_float, parse_dates, params, chunksize)\u001b[0m\n\u001b[1;32m    152\u001b[0m     \u001b[0;32mif\u001b[0m \u001b[0mchunksize\u001b[0m \u001b[0;32mis\u001b[0m \u001b[0;32mNone\u001b[0m\u001b[0;34m:\u001b[0m\u001b[0;34m\u001b[0m\u001b[0;34m\u001b[0m\u001b[0m\n\u001b[1;32m    153\u001b[0m         \u001b[0;31m# read all in one chunk and return a single GeoDataFrame\u001b[0m\u001b[0;34m\u001b[0m\u001b[0;34m\u001b[0m\u001b[0;34m\u001b[0m\u001b[0m\n\u001b[0;32m--> 154\u001b[0;31m         df = pd.read_sql(\n\u001b[0m\u001b[1;32m    155\u001b[0m             \u001b[0msql\u001b[0m\u001b[0;34m,\u001b[0m\u001b[0;34m\u001b[0m\u001b[0;34m\u001b[0m\u001b[0m\n\u001b[1;32m    156\u001b[0m             \u001b[0mcon\u001b[0m\u001b[0;34m,\u001b[0m\u001b[0;34m\u001b[0m\u001b[0;34m\u001b[0m\u001b[0m\n",
      "\u001b[0;32m~/opt/anaconda3/envs/WikiSRAT/lib/python3.8/site-packages/pandas/io/sql.py\u001b[0m in \u001b[0;36mread_sql\u001b[0;34m(sql, con, index_col, coerce_float, params, parse_dates, columns, chunksize)\u001b[0m\n\u001b[1;32m    626\u001b[0m         )\n\u001b[1;32m    627\u001b[0m     \u001b[0;32melse\u001b[0m\u001b[0;34m:\u001b[0m\u001b[0;34m\u001b[0m\u001b[0;34m\u001b[0m\u001b[0m\n\u001b[0;32m--> 628\u001b[0;31m         return pandas_sql.read_query(\n\u001b[0m\u001b[1;32m    629\u001b[0m             \u001b[0msql\u001b[0m\u001b[0;34m,\u001b[0m\u001b[0;34m\u001b[0m\u001b[0;34m\u001b[0m\u001b[0m\n\u001b[1;32m    630\u001b[0m             \u001b[0mindex_col\u001b[0m\u001b[0;34m=\u001b[0m\u001b[0mindex_col\u001b[0m\u001b[0;34m,\u001b[0m\u001b[0;34m\u001b[0m\u001b[0;34m\u001b[0m\u001b[0m\n",
      "\u001b[0;32m~/opt/anaconda3/envs/WikiSRAT/lib/python3.8/site-packages/pandas/io/sql.py\u001b[0m in \u001b[0;36mread_query\u001b[0;34m(self, sql, index_col, coerce_float, parse_dates, params, chunksize, dtype)\u001b[0m\n\u001b[1;32m   1577\u001b[0m         \u001b[0margs\u001b[0m \u001b[0;34m=\u001b[0m \u001b[0m_convert_params\u001b[0m\u001b[0;34m(\u001b[0m\u001b[0msql\u001b[0m\u001b[0;34m,\u001b[0m \u001b[0mparams\u001b[0m\u001b[0;34m)\u001b[0m\u001b[0;34m\u001b[0m\u001b[0;34m\u001b[0m\u001b[0m\n\u001b[1;32m   1578\u001b[0m \u001b[0;34m\u001b[0m\u001b[0m\n\u001b[0;32m-> 1579\u001b[0;31m         \u001b[0mresult\u001b[0m \u001b[0;34m=\u001b[0m \u001b[0mself\u001b[0m\u001b[0;34m.\u001b[0m\u001b[0mexecute\u001b[0m\u001b[0;34m(\u001b[0m\u001b[0;34m*\u001b[0m\u001b[0margs\u001b[0m\u001b[0;34m)\u001b[0m\u001b[0;34m\u001b[0m\u001b[0;34m\u001b[0m\u001b[0m\n\u001b[0m\u001b[1;32m   1580\u001b[0m         \u001b[0mcolumns\u001b[0m \u001b[0;34m=\u001b[0m \u001b[0mresult\u001b[0m\u001b[0;34m.\u001b[0m\u001b[0mkeys\u001b[0m\u001b[0;34m(\u001b[0m\u001b[0;34m)\u001b[0m\u001b[0;34m\u001b[0m\u001b[0;34m\u001b[0m\u001b[0m\n\u001b[1;32m   1581\u001b[0m \u001b[0;34m\u001b[0m\u001b[0m\n",
      "\u001b[0;32m~/opt/anaconda3/envs/WikiSRAT/lib/python3.8/site-packages/pandas/io/sql.py\u001b[0m in \u001b[0;36mexecute\u001b[0;34m(self, *args, **kwargs)\u001b[0m\n\u001b[1;32m   1422\u001b[0m     \u001b[0;32mdef\u001b[0m \u001b[0mexecute\u001b[0m\u001b[0;34m(\u001b[0m\u001b[0mself\u001b[0m\u001b[0;34m,\u001b[0m \u001b[0;34m*\u001b[0m\u001b[0margs\u001b[0m\u001b[0;34m,\u001b[0m \u001b[0;34m**\u001b[0m\u001b[0mkwargs\u001b[0m\u001b[0;34m)\u001b[0m\u001b[0;34m:\u001b[0m\u001b[0;34m\u001b[0m\u001b[0;34m\u001b[0m\u001b[0m\n\u001b[1;32m   1423\u001b[0m         \u001b[0;34m\"\"\"Simple passthrough to SQLAlchemy connectable\"\"\"\u001b[0m\u001b[0;34m\u001b[0m\u001b[0;34m\u001b[0m\u001b[0m\n\u001b[0;32m-> 1424\u001b[0;31m         \u001b[0;32mreturn\u001b[0m \u001b[0mself\u001b[0m\u001b[0;34m.\u001b[0m\u001b[0mconnectable\u001b[0m\u001b[0;34m.\u001b[0m\u001b[0mexecution_options\u001b[0m\u001b[0;34m(\u001b[0m\u001b[0;34m)\u001b[0m\u001b[0;34m.\u001b[0m\u001b[0mexecute\u001b[0m\u001b[0;34m(\u001b[0m\u001b[0;34m*\u001b[0m\u001b[0margs\u001b[0m\u001b[0;34m,\u001b[0m \u001b[0;34m**\u001b[0m\u001b[0mkwargs\u001b[0m\u001b[0;34m)\u001b[0m\u001b[0;34m\u001b[0m\u001b[0;34m\u001b[0m\u001b[0m\n\u001b[0m\u001b[1;32m   1425\u001b[0m \u001b[0;34m\u001b[0m\u001b[0m\n\u001b[1;32m   1426\u001b[0m     def read_table(\n",
      "\u001b[0;32m<string>\u001b[0m in \u001b[0;36mexecute\u001b[0;34m(self, statement, *multiparams, **params)\u001b[0m\n",
      "\u001b[0;32m~/opt/anaconda3/envs/WikiSRAT/lib/python3.8/site-packages/sqlalchemy/util/deprecations.py\u001b[0m in \u001b[0;36mwarned\u001b[0;34m(fn, *args, **kwargs)\u001b[0m\n\u001b[1;32m    388\u001b[0m         \u001b[0;32mif\u001b[0m \u001b[0;32mnot\u001b[0m \u001b[0mskip_warning\u001b[0m\u001b[0;34m:\u001b[0m\u001b[0;34m\u001b[0m\u001b[0;34m\u001b[0m\u001b[0m\n\u001b[1;32m    389\u001b[0m             \u001b[0m_warn_with_version\u001b[0m\u001b[0;34m(\u001b[0m\u001b[0mmessage\u001b[0m\u001b[0;34m,\u001b[0m \u001b[0mversion\u001b[0m\u001b[0;34m,\u001b[0m \u001b[0mwtype\u001b[0m\u001b[0;34m,\u001b[0m \u001b[0mstacklevel\u001b[0m\u001b[0;34m=\u001b[0m\u001b[0;36m3\u001b[0m\u001b[0;34m)\u001b[0m\u001b[0;34m\u001b[0m\u001b[0;34m\u001b[0m\u001b[0m\n\u001b[0;32m--> 390\u001b[0;31m         \u001b[0;32mreturn\u001b[0m \u001b[0mfn\u001b[0m\u001b[0;34m(\u001b[0m\u001b[0;34m*\u001b[0m\u001b[0margs\u001b[0m\u001b[0;34m,\u001b[0m \u001b[0;34m**\u001b[0m\u001b[0mkwargs\u001b[0m\u001b[0;34m)\u001b[0m\u001b[0;34m\u001b[0m\u001b[0;34m\u001b[0m\u001b[0m\n\u001b[0m\u001b[1;32m    391\u001b[0m \u001b[0;34m\u001b[0m\u001b[0m\n\u001b[1;32m    392\u001b[0m     \u001b[0mdoc\u001b[0m \u001b[0;34m=\u001b[0m \u001b[0mfunc\u001b[0m\u001b[0;34m.\u001b[0m\u001b[0m__doc__\u001b[0m \u001b[0;32mis\u001b[0m \u001b[0;32mnot\u001b[0m \u001b[0;32mNone\u001b[0m \u001b[0;32mand\u001b[0m \u001b[0mfunc\u001b[0m\u001b[0;34m.\u001b[0m\u001b[0m__doc__\u001b[0m \u001b[0;32mor\u001b[0m \u001b[0;34m\"\"\u001b[0m\u001b[0;34m\u001b[0m\u001b[0;34m\u001b[0m\u001b[0m\n",
      "\u001b[0;32m~/opt/anaconda3/envs/WikiSRAT/lib/python3.8/site-packages/sqlalchemy/engine/base.py\u001b[0m in \u001b[0;36mexecute\u001b[0;34m(self, statement, *multiparams, **params)\u001b[0m\n\u001b[1;32m   3106\u001b[0m         \"\"\"\n\u001b[1;32m   3107\u001b[0m         \u001b[0mconnection\u001b[0m \u001b[0;34m=\u001b[0m \u001b[0mself\u001b[0m\u001b[0;34m.\u001b[0m\u001b[0mconnect\u001b[0m\u001b[0;34m(\u001b[0m\u001b[0mclose_with_result\u001b[0m\u001b[0;34m=\u001b[0m\u001b[0;32mTrue\u001b[0m\u001b[0;34m)\u001b[0m\u001b[0;34m\u001b[0m\u001b[0;34m\u001b[0m\u001b[0m\n\u001b[0;32m-> 3108\u001b[0;31m         \u001b[0;32mreturn\u001b[0m \u001b[0mconnection\u001b[0m\u001b[0;34m.\u001b[0m\u001b[0mexecute\u001b[0m\u001b[0;34m(\u001b[0m\u001b[0mstatement\u001b[0m\u001b[0;34m,\u001b[0m \u001b[0;34m*\u001b[0m\u001b[0mmultiparams\u001b[0m\u001b[0;34m,\u001b[0m \u001b[0;34m**\u001b[0m\u001b[0mparams\u001b[0m\u001b[0;34m)\u001b[0m\u001b[0;34m\u001b[0m\u001b[0;34m\u001b[0m\u001b[0m\n\u001b[0m\u001b[1;32m   3109\u001b[0m \u001b[0;34m\u001b[0m\u001b[0m\n\u001b[1;32m   3110\u001b[0m     @util.deprecated_20(\n",
      "\u001b[0;32m~/opt/anaconda3/envs/WikiSRAT/lib/python3.8/site-packages/sqlalchemy/engine/base.py\u001b[0m in \u001b[0;36mexecute\u001b[0;34m(self, statement, *multiparams, **params)\u001b[0m\n\u001b[1;32m   1246\u001b[0m             )\n\u001b[1;32m   1247\u001b[0m \u001b[0;34m\u001b[0m\u001b[0m\n\u001b[0;32m-> 1248\u001b[0;31m             return self._exec_driver_sql(\n\u001b[0m\u001b[1;32m   1249\u001b[0m                 \u001b[0mstatement\u001b[0m\u001b[0;34m,\u001b[0m\u001b[0;34m\u001b[0m\u001b[0;34m\u001b[0m\u001b[0m\n\u001b[1;32m   1250\u001b[0m                 \u001b[0mmultiparams\u001b[0m\u001b[0;34m,\u001b[0m\u001b[0;34m\u001b[0m\u001b[0;34m\u001b[0m\u001b[0m\n",
      "\u001b[0;32m~/opt/anaconda3/envs/WikiSRAT/lib/python3.8/site-packages/sqlalchemy/engine/base.py\u001b[0m in \u001b[0;36m_exec_driver_sql\u001b[0;34m(self, statement, multiparams, params, execution_options, future)\u001b[0m\n\u001b[1;32m   1545\u001b[0m \u001b[0;34m\u001b[0m\u001b[0m\n\u001b[1;32m   1546\u001b[0m         \u001b[0mdialect\u001b[0m \u001b[0;34m=\u001b[0m \u001b[0mself\u001b[0m\u001b[0;34m.\u001b[0m\u001b[0mdialect\u001b[0m\u001b[0;34m\u001b[0m\u001b[0;34m\u001b[0m\u001b[0m\n\u001b[0;32m-> 1547\u001b[0;31m         ret = self._execute_context(\n\u001b[0m\u001b[1;32m   1548\u001b[0m             \u001b[0mdialect\u001b[0m\u001b[0;34m,\u001b[0m\u001b[0;34m\u001b[0m\u001b[0;34m\u001b[0m\u001b[0m\n\u001b[1;32m   1549\u001b[0m             \u001b[0mdialect\u001b[0m\u001b[0;34m.\u001b[0m\u001b[0mexecution_ctx_cls\u001b[0m\u001b[0;34m.\u001b[0m\u001b[0m_init_statement\u001b[0m\u001b[0;34m,\u001b[0m\u001b[0;34m\u001b[0m\u001b[0;34m\u001b[0m\u001b[0m\n",
      "\u001b[0;32m~/opt/anaconda3/envs/WikiSRAT/lib/python3.8/site-packages/sqlalchemy/engine/base.py\u001b[0m in \u001b[0;36m_execute_context\u001b[0;34m(self, dialect, constructor, statement, parameters, execution_options, *args, **kw)\u001b[0m\n\u001b[1;32m   1812\u001b[0m \u001b[0;34m\u001b[0m\u001b[0m\n\u001b[1;32m   1813\u001b[0m         \u001b[0;32mexcept\u001b[0m \u001b[0mBaseException\u001b[0m \u001b[0;32mas\u001b[0m \u001b[0me\u001b[0m\u001b[0;34m:\u001b[0m\u001b[0;34m\u001b[0m\u001b[0;34m\u001b[0m\u001b[0m\n\u001b[0;32m-> 1814\u001b[0;31m             self._handle_dbapi_exception(\n\u001b[0m\u001b[1;32m   1815\u001b[0m                 \u001b[0me\u001b[0m\u001b[0;34m,\u001b[0m \u001b[0mstatement\u001b[0m\u001b[0;34m,\u001b[0m \u001b[0mparameters\u001b[0m\u001b[0;34m,\u001b[0m \u001b[0mcursor\u001b[0m\u001b[0;34m,\u001b[0m \u001b[0mcontext\u001b[0m\u001b[0;34m\u001b[0m\u001b[0;34m\u001b[0m\u001b[0m\n\u001b[1;32m   1816\u001b[0m             )\n",
      "\u001b[0;32m~/opt/anaconda3/envs/WikiSRAT/lib/python3.8/site-packages/sqlalchemy/engine/base.py\u001b[0m in \u001b[0;36m_handle_dbapi_exception\u001b[0;34m(self, e, statement, parameters, cursor, context)\u001b[0m\n\u001b[1;32m   1993\u001b[0m                 \u001b[0mutil\u001b[0m\u001b[0;34m.\u001b[0m\u001b[0mraise_\u001b[0m\u001b[0;34m(\u001b[0m\u001b[0mnewraise\u001b[0m\u001b[0;34m,\u001b[0m \u001b[0mwith_traceback\u001b[0m\u001b[0;34m=\u001b[0m\u001b[0mexc_info\u001b[0m\u001b[0;34m[\u001b[0m\u001b[0;36m2\u001b[0m\u001b[0;34m]\u001b[0m\u001b[0;34m,\u001b[0m \u001b[0mfrom_\u001b[0m\u001b[0;34m=\u001b[0m\u001b[0me\u001b[0m\u001b[0;34m)\u001b[0m\u001b[0;34m\u001b[0m\u001b[0;34m\u001b[0m\u001b[0m\n\u001b[1;32m   1994\u001b[0m             \u001b[0;32melif\u001b[0m \u001b[0mshould_wrap\u001b[0m\u001b[0;34m:\u001b[0m\u001b[0;34m\u001b[0m\u001b[0;34m\u001b[0m\u001b[0m\n\u001b[0;32m-> 1995\u001b[0;31m                 util.raise_(\n\u001b[0m\u001b[1;32m   1996\u001b[0m                     \u001b[0msqlalchemy_exception\u001b[0m\u001b[0;34m,\u001b[0m \u001b[0mwith_traceback\u001b[0m\u001b[0;34m=\u001b[0m\u001b[0mexc_info\u001b[0m\u001b[0;34m[\u001b[0m\u001b[0;36m2\u001b[0m\u001b[0;34m]\u001b[0m\u001b[0;34m,\u001b[0m \u001b[0mfrom_\u001b[0m\u001b[0;34m=\u001b[0m\u001b[0me\u001b[0m\u001b[0;34m\u001b[0m\u001b[0;34m\u001b[0m\u001b[0m\n\u001b[1;32m   1997\u001b[0m                 )\n",
      "\u001b[0;32m~/opt/anaconda3/envs/WikiSRAT/lib/python3.8/site-packages/sqlalchemy/util/compat.py\u001b[0m in \u001b[0;36mraise_\u001b[0;34m(***failed resolving arguments***)\u001b[0m\n\u001b[1;32m    205\u001b[0m \u001b[0;34m\u001b[0m\u001b[0m\n\u001b[1;32m    206\u001b[0m         \u001b[0;32mtry\u001b[0m\u001b[0;34m:\u001b[0m\u001b[0;34m\u001b[0m\u001b[0;34m\u001b[0m\u001b[0m\n\u001b[0;32m--> 207\u001b[0;31m             \u001b[0;32mraise\u001b[0m \u001b[0mexception\u001b[0m\u001b[0;34m\u001b[0m\u001b[0;34m\u001b[0m\u001b[0m\n\u001b[0m\u001b[1;32m    208\u001b[0m         \u001b[0;32mfinally\u001b[0m\u001b[0;34m:\u001b[0m\u001b[0;34m\u001b[0m\u001b[0;34m\u001b[0m\u001b[0m\n\u001b[1;32m    209\u001b[0m             \u001b[0;31m# credit to\u001b[0m\u001b[0;34m\u001b[0m\u001b[0;34m\u001b[0m\u001b[0;34m\u001b[0m\u001b[0m\n",
      "\u001b[0;32m~/opt/anaconda3/envs/WikiSRAT/lib/python3.8/site-packages/sqlalchemy/engine/base.py\u001b[0m in \u001b[0;36m_execute_context\u001b[0;34m(self, dialect, constructor, statement, parameters, execution_options, *args, **kw)\u001b[0m\n\u001b[1;32m   1769\u001b[0m                             \u001b[0;32mbreak\u001b[0m\u001b[0;34m\u001b[0m\u001b[0;34m\u001b[0m\u001b[0m\n\u001b[1;32m   1770\u001b[0m                 \u001b[0;32mif\u001b[0m \u001b[0;32mnot\u001b[0m \u001b[0mevt_handled\u001b[0m\u001b[0;34m:\u001b[0m\u001b[0;34m\u001b[0m\u001b[0;34m\u001b[0m\u001b[0m\n\u001b[0;32m-> 1771\u001b[0;31m                     self.dialect.do_execute(\n\u001b[0m\u001b[1;32m   1772\u001b[0m                         \u001b[0mcursor\u001b[0m\u001b[0;34m,\u001b[0m \u001b[0mstatement\u001b[0m\u001b[0;34m,\u001b[0m \u001b[0mparameters\u001b[0m\u001b[0;34m,\u001b[0m \u001b[0mcontext\u001b[0m\u001b[0;34m\u001b[0m\u001b[0;34m\u001b[0m\u001b[0m\n\u001b[1;32m   1773\u001b[0m                     )\n",
      "\u001b[0;32m~/opt/anaconda3/envs/WikiSRAT/lib/python3.8/site-packages/sqlalchemy/engine/default.py\u001b[0m in \u001b[0;36mdo_execute\u001b[0;34m(self, cursor, statement, parameters, context)\u001b[0m\n\u001b[1;32m    715\u001b[0m \u001b[0;34m\u001b[0m\u001b[0m\n\u001b[1;32m    716\u001b[0m     \u001b[0;32mdef\u001b[0m \u001b[0mdo_execute\u001b[0m\u001b[0;34m(\u001b[0m\u001b[0mself\u001b[0m\u001b[0;34m,\u001b[0m \u001b[0mcursor\u001b[0m\u001b[0;34m,\u001b[0m \u001b[0mstatement\u001b[0m\u001b[0;34m,\u001b[0m \u001b[0mparameters\u001b[0m\u001b[0;34m,\u001b[0m \u001b[0mcontext\u001b[0m\u001b[0;34m=\u001b[0m\u001b[0;32mNone\u001b[0m\u001b[0;34m)\u001b[0m\u001b[0;34m:\u001b[0m\u001b[0;34m\u001b[0m\u001b[0;34m\u001b[0m\u001b[0m\n\u001b[0;32m--> 717\u001b[0;31m         \u001b[0mcursor\u001b[0m\u001b[0;34m.\u001b[0m\u001b[0mexecute\u001b[0m\u001b[0;34m(\u001b[0m\u001b[0mstatement\u001b[0m\u001b[0;34m,\u001b[0m \u001b[0mparameters\u001b[0m\u001b[0;34m)\u001b[0m\u001b[0;34m\u001b[0m\u001b[0;34m\u001b[0m\u001b[0m\n\u001b[0m\u001b[1;32m    718\u001b[0m \u001b[0;34m\u001b[0m\u001b[0m\n\u001b[1;32m    719\u001b[0m     \u001b[0;32mdef\u001b[0m \u001b[0mdo_execute_no_params\u001b[0m\u001b[0;34m(\u001b[0m\u001b[0mself\u001b[0m\u001b[0;34m,\u001b[0m \u001b[0mcursor\u001b[0m\u001b[0;34m,\u001b[0m \u001b[0mstatement\u001b[0m\u001b[0;34m,\u001b[0m \u001b[0mcontext\u001b[0m\u001b[0;34m=\u001b[0m\u001b[0;32mNone\u001b[0m\u001b[0;34m)\u001b[0m\u001b[0;34m:\u001b[0m\u001b[0;34m\u001b[0m\u001b[0;34m\u001b[0m\u001b[0m\n",
      "\u001b[0;31mProgrammingError\u001b[0m: (psycopg2.errors.UndefinedTable) relation \"datapolassess.restoration_lbsreduced\" does not exist\nLINE 1: SELECT * FROM datapolassess.restoration_lbsreduced\n                      ^\n\n[SQL: SELECT * FROM datapolassess.restoration_lbsreduced]\n(Background on this error at: https://sqlalche.me/e/14/f405)"
     ]
    }
   ],
   "source": [
    "%%time\n",
    "tablename_rest_projects = 'restoration_lbsreduced'\n",
    "rest_proj_select = 'SELECT * FROM datapolassess.{}'.format(tablename_rest_projects)\n",
    "rest_proj_df = gpd.read_postgis(rest_proj_select, con)"
   ]
  },
  {
   "cell_type": "code",
   "execution_count": 8,
   "metadata": {},
   "outputs": [
    {
     "data": {
      "text/html": [
       "<div>\n",
       "<style scoped>\n",
       "    .dataframe tbody tr th:only-of-type {\n",
       "        vertical-align: middle;\n",
       "    }\n",
       "\n",
       "    .dataframe tbody tr th {\n",
       "        vertical-align: top;\n",
       "    }\n",
       "\n",
       "    .dataframe thead th {\n",
       "        text-align: right;\n",
       "    }\n",
       "</style>\n",
       "<table border=\"1\" class=\"dataframe\">\n",
       "  <thead>\n",
       "    <tr style=\"text-align: right;\">\n",
       "      <th></th>\n",
       "      <th>comid</th>\n",
       "      <th>practice_id</th>\n",
       "      <th>site_id</th>\n",
       "      <th>practice_type</th>\n",
       "      <th>tn_reduced_lbs</th>\n",
       "      <th>tp_reduced_lbs</th>\n",
       "      <th>tss_reduced_lbs</th>\n",
       "      <th>practice_name</th>\n",
       "      <th>practice_description</th>\n",
       "      <th>project_name</th>\n",
       "      <th>project_status</th>\n",
       "      <th>creator_name</th>\n",
       "      <th>program_id</th>\n",
       "      <th>program_name</th>\n",
       "      <th>created_on</th>\n",
       "      <th>modified_on</th>\n",
       "      <th>practice_url</th>\n",
       "      <th>project_url</th>\n",
       "      <th>geom</th>\n",
       "    </tr>\n",
       "  </thead>\n",
       "  <tbody>\n",
       "    <tr>\n",
       "      <th>0</th>\n",
       "      <td>2583213</td>\n",
       "      <td>5396</td>\n",
       "      <td>2864</td>\n",
       "      <td>Forest Buffer</td>\n",
       "      <td>2.8553</td>\n",
       "      <td>0.6454</td>\n",
       "      <td>331.0068</td>\n",
       "      <td>Forest buffer</td>\n",
       "      <td>None</td>\n",
       "      <td>EZG #53363 Restoring Paulins Kill Floodplain F...</td>\n",
       "      <td>active</td>\n",
       "      <td>Kristine Rogers</td>\n",
       "      <td>1</td>\n",
       "      <td>Delaware River Restoration Fund</td>\n",
       "      <td>2019-01-24</td>\n",
       "      <td>2021-07-23</td>\n",
       "      <td>https://www.fielddoc.org/practices/5396</td>\n",
       "      <td>https://www.fielddoc.org/projects/2737</td>\n",
       "      <td>MULTIPOLYGON (((522215.487 4552852.203, 522202...</td>\n",
       "    </tr>\n",
       "    <tr>\n",
       "      <th>1</th>\n",
       "      <td>2583213</td>\n",
       "      <td>5399</td>\n",
       "      <td>2865</td>\n",
       "      <td>Forest Buffer</td>\n",
       "      <td>14.1300</td>\n",
       "      <td>3.4400</td>\n",
       "      <td>1438.7700</td>\n",
       "      <td>Forest buffer</td>\n",
       "      <td>None</td>\n",
       "      <td>EZG #53363 Restoring Paulins Kill Floodplain F...</td>\n",
       "      <td>active</td>\n",
       "      <td>Kristine Rogers</td>\n",
       "      <td>1</td>\n",
       "      <td>Delaware River Restoration Fund</td>\n",
       "      <td>2019-01-24</td>\n",
       "      <td>2021-08-10</td>\n",
       "      <td>https://www.fielddoc.org/practices/5399</td>\n",
       "      <td>https://www.fielddoc.org/projects/2737</td>\n",
       "      <td>MULTIPOLYGON (((522234.173 4553442.738, 522208...</td>\n",
       "    </tr>\n",
       "    <tr>\n",
       "      <th>2</th>\n",
       "      <td>2583231</td>\n",
       "      <td>5396</td>\n",
       "      <td>2864</td>\n",
       "      <td>Forest Buffer</td>\n",
       "      <td>33.6847</td>\n",
       "      <td>7.6146</td>\n",
       "      <td>3904.9832</td>\n",
       "      <td>Forest buffer</td>\n",
       "      <td>None</td>\n",
       "      <td>EZG #53363 Restoring Paulins Kill Floodplain F...</td>\n",
       "      <td>active</td>\n",
       "      <td>Kristine Rogers</td>\n",
       "      <td>1</td>\n",
       "      <td>Delaware River Restoration Fund</td>\n",
       "      <td>2019-01-24</td>\n",
       "      <td>2021-07-23</td>\n",
       "      <td>https://www.fielddoc.org/practices/5396</td>\n",
       "      <td>https://www.fielddoc.org/projects/2737</td>\n",
       "      <td>MULTIPOLYGON (((522215.487 4552852.203, 522202...</td>\n",
       "    </tr>\n",
       "  </tbody>\n",
       "</table>\n",
       "</div>"
      ],
      "text/plain": [
       "     comid  practice_id  site_id  practice_type  tn_reduced_lbs  \\\n",
       "0  2583213         5396     2864  Forest Buffer          2.8553   \n",
       "1  2583213         5399     2865  Forest Buffer         14.1300   \n",
       "2  2583231         5396     2864  Forest Buffer         33.6847   \n",
       "\n",
       "   tp_reduced_lbs  tss_reduced_lbs  practice_name practice_description  \\\n",
       "0          0.6454         331.0068  Forest buffer                 None   \n",
       "1          3.4400        1438.7700  Forest buffer                 None   \n",
       "2          7.6146        3904.9832  Forest buffer                 None   \n",
       "\n",
       "                                        project_name project_status  \\\n",
       "0  EZG #53363 Restoring Paulins Kill Floodplain F...         active   \n",
       "1  EZG #53363 Restoring Paulins Kill Floodplain F...         active   \n",
       "2  EZG #53363 Restoring Paulins Kill Floodplain F...         active   \n",
       "\n",
       "      creator_name  program_id                     program_name  created_on  \\\n",
       "0  Kristine Rogers           1  Delaware River Restoration Fund  2019-01-24   \n",
       "1  Kristine Rogers           1  Delaware River Restoration Fund  2019-01-24   \n",
       "2  Kristine Rogers           1  Delaware River Restoration Fund  2019-01-24   \n",
       "\n",
       "  modified_on                             practice_url  \\\n",
       "0  2021-07-23  https://www.fielddoc.org/practices/5396   \n",
       "1  2021-08-10  https://www.fielddoc.org/practices/5399   \n",
       "2  2021-07-23  https://www.fielddoc.org/practices/5396   \n",
       "\n",
       "                              project_url  \\\n",
       "0  https://www.fielddoc.org/projects/2737   \n",
       "1  https://www.fielddoc.org/projects/2737   \n",
       "2  https://www.fielddoc.org/projects/2737   \n",
       "\n",
       "                                                geom  \n",
       "0  MULTIPOLYGON (((522215.487 4552852.203, 522202...  \n",
       "1  MULTIPOLYGON (((522234.173 4553442.738, 522208...  \n",
       "2  MULTIPOLYGON (((522215.487 4552852.203, 522202...  "
      ]
     },
     "execution_count": 8,
     "metadata": {},
     "output_type": "execute_result"
    }
   ],
   "source": [
    "rest_proj_df.head(3)"
   ]
  },
  {
   "cell_type": "code",
   "execution_count": 9,
   "metadata": {},
   "outputs": [
    {
     "name": "stdout",
     "output_type": "stream",
     "text": [
      "<class 'geopandas.geodataframe.GeoDataFrame'>\n",
      "RangeIndex: 755 entries, 0 to 754\n",
      "Data columns (total 19 columns):\n",
      " #   Column                Non-Null Count  Dtype   \n",
      "---  ------                --------------  -----   \n",
      " 0   comid                 755 non-null    int64   \n",
      " 1   practice_id           755 non-null    int64   \n",
      " 2   site_id               755 non-null    int64   \n",
      " 3   practice_type         755 non-null    object  \n",
      " 4   tn_reduced_lbs        755 non-null    float64 \n",
      " 5   tp_reduced_lbs        755 non-null    float64 \n",
      " 6   tss_reduced_lbs       755 non-null    float64 \n",
      " 7   practice_name         755 non-null    object  \n",
      " 8   practice_description  485 non-null    object  \n",
      " 9   project_name          755 non-null    object  \n",
      " 10  project_status        755 non-null    object  \n",
      " 11  creator_name          755 non-null    object  \n",
      " 12  program_id            755 non-null    int64   \n",
      " 13  program_name          755 non-null    object  \n",
      " 14  created_on            755 non-null    object  \n",
      " 15  modified_on           755 non-null    object  \n",
      " 16  practice_url          755 non-null    object  \n",
      " 17  project_url           755 non-null    object  \n",
      " 18  geom                  755 non-null    geometry\n",
      "dtypes: float64(3), geometry(1), int64(4), object(11)\n",
      "memory usage: 112.2+ KB\n"
     ]
    }
   ],
   "source": [
    "rest_proj_df.info()"
   ]
  },
  {
   "cell_type": "markdown",
   "metadata": {},
   "source": [
    "### Convert DataTypes\n",
    "\n",
    "As for Project Projects, with rational and methods described above."
   ]
  },
  {
   "cell_type": "code",
   "execution_count": 225,
   "metadata": {},
   "outputs": [],
   "source": [
    "# Convert IDs to nullable integers\n",
    "rest_proj_df.practice_id = rest_proj_df.practice_id.astype(pd.Int64Dtype())\n",
    "rest_proj_df.program_id = rest_proj_df.program_id.astype(pd.Int64Dtype())\n",
    "rest_proj_df.site_id    = rest_proj_df.site_id.astype(pd.Int64Dtype())"
   ]
  },
  {
   "cell_type": "code",
   "execution_count": 226,
   "metadata": {},
   "outputs": [
    {
     "name": "stderr",
     "output_type": "stream",
     "text": [
      "C:\\Users\\mcamp\\Anaconda3\\envs\\WikiSRAT\\lib\\site-packages\\geopandas\\geodataframe.py:182: UserWarning: Pandas doesn't allow columns to be created via a new attribute name - see https://pandas.pydata.org/pandas-docs/stable/indexing.html#attribute-access\n",
      "  super(GeoDataFrame, self).__setattr__(attr, val)\n"
     ]
    }
   ],
   "source": [
    "# Convert string Objects to Categoricals\n",
    "rest_proj_df.practice_name = rest_proj_df.practice_name.astype('category')\n",
    "rest_proj_df.practice_type = rest_proj_df.practice_type.astype('category')\n",
    "rest_proj_df.practice_description = rest_proj_df.practice_description.astype('category')\n",
    "rest_proj_df.project_namae = rest_proj_df.project_name.astype('category')\n",
    "rest_proj_df.project_status = rest_proj_df.project_status.astype('category')\n",
    "rest_proj_df.creator_name = rest_proj_df.creator_name.astype('category')\n",
    "rest_proj_df.program_name = rest_proj_df.program_name.astype('category')\n",
    "# rest_proj_df.huc12      = rest_proj_df.huc12.astype('category')"
   ]
  },
  {
   "cell_type": "code",
   "execution_count": 227,
   "metadata": {},
   "outputs": [],
   "source": [
    "# Convert date string Objects to DateTime\n",
    "rest_proj_df.created_on  = pd.to_datetime(rest_proj_df.created_on, infer_datetime_format=True)\n",
    "rest_proj_df.modified_on = pd.to_datetime(rest_proj_df.modified_on, infer_datetime_format=True)"
   ]
  },
  {
   "cell_type": "code",
   "execution_count": 228,
   "metadata": {},
   "outputs": [
    {
     "data": {
      "text/html": [
       "<div>\n",
       "<style scoped>\n",
       "    .dataframe tbody tr th:only-of-type {\n",
       "        vertical-align: middle;\n",
       "    }\n",
       "\n",
       "    .dataframe tbody tr th {\n",
       "        vertical-align: top;\n",
       "    }\n",
       "\n",
       "    .dataframe thead th {\n",
       "        text-align: right;\n",
       "    }\n",
       "</style>\n",
       "<table border=\"1\" class=\"dataframe\">\n",
       "  <thead>\n",
       "    <tr style=\"text-align: right;\">\n",
       "      <th></th>\n",
       "      <th>comid</th>\n",
       "      <th>practice_id</th>\n",
       "      <th>site_id</th>\n",
       "      <th>practice_type</th>\n",
       "      <th>tn_reduced_lbs</th>\n",
       "      <th>tp_reduced_lbs</th>\n",
       "      <th>tss_reduced_lbs</th>\n",
       "      <th>practice_name</th>\n",
       "      <th>practice_description</th>\n",
       "      <th>project_name</th>\n",
       "      <th>project_status</th>\n",
       "      <th>creator_name</th>\n",
       "      <th>program_id</th>\n",
       "      <th>program_name</th>\n",
       "      <th>created_on</th>\n",
       "      <th>modified_on</th>\n",
       "      <th>practice_url</th>\n",
       "      <th>project_url</th>\n",
       "      <th>geom</th>\n",
       "    </tr>\n",
       "  </thead>\n",
       "  <tbody>\n",
       "    <tr>\n",
       "      <th>0</th>\n",
       "      <td>2583213</td>\n",
       "      <td>5396</td>\n",
       "      <td>2864</td>\n",
       "      <td>Forest Buffer</td>\n",
       "      <td>2.8553</td>\n",
       "      <td>0.6454</td>\n",
       "      <td>331.0068</td>\n",
       "      <td>Forest buffer</td>\n",
       "      <td>NaN</td>\n",
       "      <td>EZG #53363 Restoring Paulins Kill Floodplain F...</td>\n",
       "      <td>active</td>\n",
       "      <td>Kristine Rogers</td>\n",
       "      <td>1</td>\n",
       "      <td>Delaware River Restoration Fund</td>\n",
       "      <td>2019-01-24</td>\n",
       "      <td>2021-07-23</td>\n",
       "      <td>https://www.fielddoc.org/practices/5396</td>\n",
       "      <td>https://www.fielddoc.org/projects/2737</td>\n",
       "      <td>MULTIPOLYGON (((522215.487 4552852.203, 522202...</td>\n",
       "    </tr>\n",
       "    <tr>\n",
       "      <th>1</th>\n",
       "      <td>2583213</td>\n",
       "      <td>5399</td>\n",
       "      <td>2865</td>\n",
       "      <td>Forest Buffer</td>\n",
       "      <td>14.1300</td>\n",
       "      <td>3.4400</td>\n",
       "      <td>1438.7700</td>\n",
       "      <td>Forest buffer</td>\n",
       "      <td>NaN</td>\n",
       "      <td>EZG #53363 Restoring Paulins Kill Floodplain F...</td>\n",
       "      <td>active</td>\n",
       "      <td>Kristine Rogers</td>\n",
       "      <td>1</td>\n",
       "      <td>Delaware River Restoration Fund</td>\n",
       "      <td>2019-01-24</td>\n",
       "      <td>2021-08-10</td>\n",
       "      <td>https://www.fielddoc.org/practices/5399</td>\n",
       "      <td>https://www.fielddoc.org/projects/2737</td>\n",
       "      <td>MULTIPOLYGON (((522234.173 4553442.738, 522208...</td>\n",
       "    </tr>\n",
       "    <tr>\n",
       "      <th>2</th>\n",
       "      <td>2583231</td>\n",
       "      <td>5396</td>\n",
       "      <td>2864</td>\n",
       "      <td>Forest Buffer</td>\n",
       "      <td>33.6847</td>\n",
       "      <td>7.6146</td>\n",
       "      <td>3904.9832</td>\n",
       "      <td>Forest buffer</td>\n",
       "      <td>NaN</td>\n",
       "      <td>EZG #53363 Restoring Paulins Kill Floodplain F...</td>\n",
       "      <td>active</td>\n",
       "      <td>Kristine Rogers</td>\n",
       "      <td>1</td>\n",
       "      <td>Delaware River Restoration Fund</td>\n",
       "      <td>2019-01-24</td>\n",
       "      <td>2021-07-23</td>\n",
       "      <td>https://www.fielddoc.org/practices/5396</td>\n",
       "      <td>https://www.fielddoc.org/projects/2737</td>\n",
       "      <td>MULTIPOLYGON (((522215.487 4552852.203, 522202...</td>\n",
       "    </tr>\n",
       "  </tbody>\n",
       "</table>\n",
       "</div>"
      ],
      "text/plain": [
       "     comid  practice_id  site_id  practice_type  tn_reduced_lbs  \\\n",
       "0  2583213         5396     2864  Forest Buffer          2.8553   \n",
       "1  2583213         5399     2865  Forest Buffer         14.1300   \n",
       "2  2583231         5396     2864  Forest Buffer         33.6847   \n",
       "\n",
       "   tp_reduced_lbs  tss_reduced_lbs  practice_name practice_description  \\\n",
       "0          0.6454         331.0068  Forest buffer                  NaN   \n",
       "1          3.4400        1438.7700  Forest buffer                  NaN   \n",
       "2          7.6146        3904.9832  Forest buffer                  NaN   \n",
       "\n",
       "                                        project_name project_status  \\\n",
       "0  EZG #53363 Restoring Paulins Kill Floodplain F...         active   \n",
       "1  EZG #53363 Restoring Paulins Kill Floodplain F...         active   \n",
       "2  EZG #53363 Restoring Paulins Kill Floodplain F...         active   \n",
       "\n",
       "      creator_name  program_id                     program_name created_on  \\\n",
       "0  Kristine Rogers           1  Delaware River Restoration Fund 2019-01-24   \n",
       "1  Kristine Rogers           1  Delaware River Restoration Fund 2019-01-24   \n",
       "2  Kristine Rogers           1  Delaware River Restoration Fund 2019-01-24   \n",
       "\n",
       "  modified_on                             practice_url  \\\n",
       "0  2021-07-23  https://www.fielddoc.org/practices/5396   \n",
       "1  2021-08-10  https://www.fielddoc.org/practices/5399   \n",
       "2  2021-07-23  https://www.fielddoc.org/practices/5396   \n",
       "\n",
       "                              project_url  \\\n",
       "0  https://www.fielddoc.org/projects/2737   \n",
       "1  https://www.fielddoc.org/projects/2737   \n",
       "2  https://www.fielddoc.org/projects/2737   \n",
       "\n",
       "                                                geom  \n",
       "0  MULTIPOLYGON (((522215.487 4552852.203, 522202...  \n",
       "1  MULTIPOLYGON (((522234.173 4553442.738, 522208...  \n",
       "2  MULTIPOLYGON (((522215.487 4552852.203, 522202...  "
      ]
     },
     "execution_count": 228,
     "metadata": {},
     "output_type": "execute_result"
    }
   ],
   "source": [
    "rest_proj_df.head(3)"
   ]
  },
  {
   "cell_type": "code",
   "execution_count": 229,
   "metadata": {},
   "outputs": [
    {
     "name": "stdout",
     "output_type": "stream",
     "text": [
      "<class 'geopandas.geodataframe.GeoDataFrame'>\n",
      "RangeIndex: 755 entries, 0 to 754\n",
      "Data columns (total 19 columns):\n",
      "comid                   755 non-null int64\n",
      "practice_id             755 non-null Int64\n",
      "site_id                 755 non-null Int64\n",
      "practice_type           755 non-null category\n",
      "tn_reduced_lbs          755 non-null float64\n",
      "tp_reduced_lbs          755 non-null float64\n",
      "tss_reduced_lbs         755 non-null float64\n",
      "practice_name           755 non-null category\n",
      "practice_description    485 non-null category\n",
      "project_name            755 non-null object\n",
      "project_status          755 non-null category\n",
      "creator_name            755 non-null category\n",
      "program_id              755 non-null Int64\n",
      "program_name            755 non-null category\n",
      "created_on              755 non-null datetime64[ns]\n",
      "modified_on             755 non-null datetime64[ns]\n",
      "practice_url            755 non-null object\n",
      "project_url             755 non-null object\n",
      "geom                    755 non-null geometry\n",
      "dtypes: Int64(3), category(6), datetime64[ns](2), float64(3), geometry(1), int64(1), object(3)\n",
      "memory usage: 113.1+ KB\n"
     ]
    }
   ],
   "source": [
    "rest_proj_df.info()"
   ]
  },
  {
   "cell_type": "markdown",
   "metadata": {},
   "source": [
    "## Get the Point Sources by NPDES ID and COMID"
   ]
  },
  {
   "cell_type": "code",
   "execution_count": 142,
   "metadata": {},
   "outputs": [
    {
     "name": "stdout",
     "output_type": "stream",
     "text": [
      "CPU times: user 51.3 ms, sys: 4.79 ms, total: 56.1 ms\n",
      "Wall time: 790 ms\n"
     ]
    }
   ],
   "source": [
    "%%time\n",
    "tablename_pointsource = 'ms_pointsource_drb_12_13_18'\n",
    "pointsource_select = 'SELECT * FROM wikiwtershed.{}'.format(tablename_pointsource)\n",
    "point_source_df = gpd.read_postgis(pointsource_select, con)"
   ]
  },
  {
   "cell_type": "code",
   "execution_count": 143,
   "metadata": {},
   "outputs": [
    {
     "data": {
      "text/html": [
       "<div>\n",
       "<style scoped>\n",
       "    .dataframe tbody tr th:only-of-type {\n",
       "        vertical-align: middle;\n",
       "    }\n",
       "\n",
       "    .dataframe tbody tr th {\n",
       "        vertical-align: top;\n",
       "    }\n",
       "\n",
       "    .dataframe thead th {\n",
       "        text-align: right;\n",
       "    }\n",
       "</style>\n",
       "<table border=\"1\" class=\"dataframe\">\n",
       "  <thead>\n",
       "    <tr style=\"text-align: right;\">\n",
       "      <th></th>\n",
       "      <th>ogc_fid</th>\n",
       "      <th>geom</th>\n",
       "      <th>npdes_id</th>\n",
       "      <th>city</th>\n",
       "      <th>state</th>\n",
       "      <th>latitude</th>\n",
       "      <th>longitude</th>\n",
       "      <th>huc12</th>\n",
       "      <th>avg_n_conc</th>\n",
       "      <th>lbsn_yr</th>\n",
       "      <th>mgd</th>\n",
       "      <th>avgpconc</th>\n",
       "      <th>lbsp_yr</th>\n",
       "      <th>kgn_yr</th>\n",
       "      <th>kgp_yr</th>\n",
       "      <th>facilityname</th>\n",
       "      <th>comid</th>\n",
       "    </tr>\n",
       "  </thead>\n",
       "  <tbody>\n",
       "    <tr>\n",
       "      <th>0</th>\n",
       "      <td>1</td>\n",
       "      <td>POINT (414070.808 4469871.626)</td>\n",
       "      <td>PA0033995</td>\n",
       "      <td>BERN TWP</td>\n",
       "      <td>PA</td>\n",
       "      <td>40.375000</td>\n",
       "      <td>-76.012222</td>\n",
       "      <td>020402030409</td>\n",
       "      <td>0.191</td>\n",
       "      <td>84.591269</td>\n",
       "      <td>0.163050</td>\n",
       "      <td>0.191</td>\n",
       "      <td>1325.042759</td>\n",
       "      <td>38.369923</td>\n",
       "      <td>601.028795</td>\n",
       "      <td>COUNTY OF BERKS WWTP</td>\n",
       "      <td>4783187</td>\n",
       "    </tr>\n",
       "    <tr>\n",
       "      <th>1</th>\n",
       "      <td>1</td>\n",
       "      <td>POINT (450085.743 4495200.414)</td>\n",
       "      <td>PA0051811</td>\n",
       "      <td>SOUTH WHITEHALL1TWP</td>\n",
       "      <td>PA</td>\n",
       "      <td>40.606111</td>\n",
       "      <td>-75.590000</td>\n",
       "      <td>020401060703</td>\n",
       "      <td>35.000</td>\n",
       "      <td>32.011082</td>\n",
       "      <td>0.000300</td>\n",
       "      <td>35.000</td>\n",
       "      <td>2.733729</td>\n",
       "      <td>14.519971</td>\n",
       "      <td>1.239998</td>\n",
       "      <td>LEHIGH COUNTY AUTH</td>\n",
       "      <td>4187751</td>\n",
       "    </tr>\n",
       "    <tr>\n",
       "      <th>2</th>\n",
       "      <td>1</td>\n",
       "      <td>POINT (443086.168 4439655.703)</td>\n",
       "      <td>1594403</td>\n",
       "      <td>WEST VINCENT TWP</td>\n",
       "      <td>PA</td>\n",
       "      <td>40.105277</td>\n",
       "      <td>-75.667777</td>\n",
       "      <td>020402031003</td>\n",
       "      <td>NaN</td>\n",
       "      <td>NaN</td>\n",
       "      <td>0.000000</td>\n",
       "      <td>NaN</td>\n",
       "      <td>NaN</td>\n",
       "      <td>NaN</td>\n",
       "      <td>NaN</td>\n",
       "      <td>MATTHEWS MEADOWS STP</td>\n",
       "      <td>4781791</td>\n",
       "    </tr>\n",
       "    <tr>\n",
       "      <th>3</th>\n",
       "      <td>1</td>\n",
       "      <td>POINT (444600.842 4439582.877)</td>\n",
       "      <td>1592417</td>\n",
       "      <td>WEST VINCENT TWP</td>\n",
       "      <td>PA</td>\n",
       "      <td>40.104722</td>\n",
       "      <td>-75.650000</td>\n",
       "      <td>020402031003</td>\n",
       "      <td>0.000</td>\n",
       "      <td>0.000000</td>\n",
       "      <td>0.000000</td>\n",
       "      <td>0.000</td>\n",
       "      <td>NaN</td>\n",
       "      <td>0.000000</td>\n",
       "      <td>NaN</td>\n",
       "      <td>SAINT STEPHEN'S GREENE STP</td>\n",
       "      <td>4782621</td>\n",
       "    </tr>\n",
       "    <tr>\n",
       "      <th>4</th>\n",
       "      <td>1</td>\n",
       "      <td>POINT (499574.949 4511288.150)</td>\n",
       "      <td>NJ0065196</td>\n",
       "      <td>Township of Washington</td>\n",
       "      <td>NJ</td>\n",
       "      <td>40.752548</td>\n",
       "      <td>-75.005035</td>\n",
       "      <td>020401050401</td>\n",
       "      <td>7.175</td>\n",
       "      <td>155.557987</td>\n",
       "      <td>0.000677</td>\n",
       "      <td>7.175</td>\n",
       "      <td>5.599735</td>\n",
       "      <td>70.559859</td>\n",
       "      <td>2.539995</td>\n",
       "      <td>390 RT 57</td>\n",
       "      <td>2588253</td>\n",
       "    </tr>\n",
       "  </tbody>\n",
       "</table>\n",
       "</div>"
      ],
      "text/plain": [
       "   ogc_fid                            geom   npdes_id                    city  \\\n",
       "0        1  POINT (414070.808 4469871.626)  PA0033995                BERN TWP   \n",
       "1        1  POINT (450085.743 4495200.414)  PA0051811     SOUTH WHITEHALL1TWP   \n",
       "2        1  POINT (443086.168 4439655.703)    1594403        WEST VINCENT TWP   \n",
       "3        1  POINT (444600.842 4439582.877)    1592417        WEST VINCENT TWP   \n",
       "4        1  POINT (499574.949 4511288.150)  NJ0065196  Township of Washington   \n",
       "\n",
       "  state   latitude  longitude         huc12  avg_n_conc     lbsn_yr       mgd  \\\n",
       "0    PA  40.375000 -76.012222  020402030409       0.191   84.591269  0.163050   \n",
       "1    PA  40.606111 -75.590000  020401060703      35.000   32.011082  0.000300   \n",
       "2    PA  40.105277 -75.667777  020402031003         NaN         NaN  0.000000   \n",
       "3    PA  40.104722 -75.650000  020402031003       0.000    0.000000  0.000000   \n",
       "4    NJ  40.752548 -75.005035  020401050401       7.175  155.557987  0.000677   \n",
       "\n",
       "   avgpconc      lbsp_yr     kgn_yr      kgp_yr                facilityname  \\\n",
       "0     0.191  1325.042759  38.369923  601.028795        COUNTY OF BERKS WWTP   \n",
       "1    35.000     2.733729  14.519971    1.239998          LEHIGH COUNTY AUTH   \n",
       "2       NaN          NaN        NaN         NaN        MATTHEWS MEADOWS STP   \n",
       "3     0.000          NaN   0.000000         NaN  SAINT STEPHEN'S GREENE STP   \n",
       "4     7.175     5.599735  70.559859    2.539995                   390 RT 57   \n",
       "\n",
       "     comid  \n",
       "0  4783187  \n",
       "1  4187751  \n",
       "2  4781791  \n",
       "3  4782621  \n",
       "4  2588253  "
      ]
     },
     "execution_count": 143,
     "metadata": {},
     "output_type": "execute_result"
    }
   ],
   "source": [
    "point_source_df.head()"
   ]
  },
  {
   "cell_type": "code",
   "execution_count": 144,
   "metadata": {},
   "outputs": [
    {
     "name": "stdout",
     "output_type": "stream",
     "text": [
      "<class 'geopandas.geodataframe.GeoDataFrame'>\n",
      "RangeIndex: 812 entries, 0 to 811\n",
      "Data columns (total 17 columns):\n",
      " #   Column        Non-Null Count  Dtype   \n",
      "---  ------        --------------  -----   \n",
      " 0   ogc_fid       812 non-null    int64   \n",
      " 1   geom          812 non-null    geometry\n",
      " 2   npdes_id      812 non-null    object  \n",
      " 3   city          789 non-null    object  \n",
      " 4   state         812 non-null    object  \n",
      " 5   latitude      812 non-null    float64 \n",
      " 6   longitude     812 non-null    float64 \n",
      " 7   huc12         812 non-null    object  \n",
      " 8   avg_n_conc    811 non-null    float64 \n",
      " 9   lbsn_yr       811 non-null    float64 \n",
      " 10  mgd           812 non-null    float64 \n",
      " 11  avgpconc      811 non-null    float64 \n",
      " 12  lbsp_yr       809 non-null    float64 \n",
      " 13  kgn_yr        811 non-null    float64 \n",
      " 14  kgp_yr        809 non-null    float64 \n",
      " 15  facilityname  812 non-null    object  \n",
      " 16  comid         812 non-null    int64   \n",
      "dtypes: float64(9), geometry(1), int64(2), object(5)\n",
      "memory usage: 108.0+ KB\n"
     ]
    }
   ],
   "source": [
    "point_source_df.info()"
   ]
  },
  {
   "cell_type": "markdown",
   "metadata": {},
   "source": [
    "### Convert DataTypes\n",
    "\n",
    "As for Project Projects, with rational and methods described above."
   ]
  },
  {
   "cell_type": "code",
   "execution_count": 145,
   "metadata": {},
   "outputs": [],
   "source": [
    "# Convert string Objects to Categoricals\n",
    "point_source_df.npdes_id = point_source_df.npdes_id.astype('category')\n",
    "point_source_df.city     = point_source_df.city.astype('category')\n",
    "point_source_df.state    = point_source_df.state.astype('category')\n",
    "point_source_df.huc12 = point_source_df.huc12.astype('category')\n",
    "point_source_df.facilityname = point_source_df.facilityname.astype('category')"
   ]
  },
  {
   "cell_type": "code",
   "execution_count": 146,
   "metadata": {},
   "outputs": [
    {
     "name": "stdout",
     "output_type": "stream",
     "text": [
      "<class 'geopandas.geodataframe.GeoDataFrame'>\n",
      "RangeIndex: 812 entries, 0 to 811\n",
      "Data columns (total 17 columns):\n",
      " #   Column        Non-Null Count  Dtype   \n",
      "---  ------        --------------  -----   \n",
      " 0   ogc_fid       812 non-null    int64   \n",
      " 1   geom          812 non-null    geometry\n",
      " 2   npdes_id      812 non-null    category\n",
      " 3   city          789 non-null    category\n",
      " 4   state         812 non-null    category\n",
      " 5   latitude      812 non-null    float64 \n",
      " 6   longitude     812 non-null    float64 \n",
      " 7   huc12         812 non-null    category\n",
      " 8   avg_n_conc    811 non-null    float64 \n",
      " 9   lbsn_yr       811 non-null    float64 \n",
      " 10  mgd           812 non-null    float64 \n",
      " 11  avgpconc      811 non-null    float64 \n",
      " 12  lbsp_yr       809 non-null    float64 \n",
      " 13  kgn_yr        811 non-null    float64 \n",
      " 14  kgp_yr        809 non-null    float64 \n",
      " 15  facilityname  812 non-null    category\n",
      " 16  comid         812 non-null    int64   \n",
      "dtypes: category(5), float64(9), geometry(1), int64(2)\n",
      "memory usage: 165.6 KB\n"
     ]
    }
   ],
   "source": [
    "point_source_df.info()"
   ]
  },
  {
   "cell_type": "markdown",
   "metadata": {},
   "source": [
    "### Set Index to `npdes_id`\n",
    "\n",
    "`npdes_id` appears to be the Primary Key"
   ]
  },
  {
   "cell_type": "code",
   "execution_count": 147,
   "metadata": {},
   "outputs": [
    {
     "data": {
      "text/plain": [
       "['PA0033995', 'PA0051811', '1594403', '1592417', 'NJ0065196', ..., 'NJ0022985', 'PA0056081', 'PA0036081', 'PA0026638', 'NJ0104388']\n",
       "Length: 812\n",
       "Categories (812, object): ['1503410', '1505402', '1505412', '1508411', ..., 'PAG053550', 'PAG053603', 'PAG113500', 'WQG02231503']"
      ]
     },
     "execution_count": 147,
     "metadata": {},
     "output_type": "execute_result"
    }
   ],
   "source": [
    "# Confirm that the `npdes_id` hase one unique value per data row.\n",
    "point_source_df.npdes_id.unique()"
   ]
  },
  {
   "cell_type": "code",
   "execution_count": 148,
   "metadata": {},
   "outputs": [
    {
     "data": {
      "text/plain": [
       "1503410        1\n",
       "PA0050016      1\n",
       "PA0043982      1\n",
       "PA0044024      1\n",
       "PA0044423      1\n",
       "              ..\n",
       "NJ0169030      1\n",
       "NJ0170330      1\n",
       "NJ0171565      1\n",
       "NJ0171620      1\n",
       "WQG02231503    1\n",
       "Name: npdes_id, Length: 812, dtype: int64"
      ]
     },
     "execution_count": 148,
     "metadata": {},
     "output_type": "execute_result"
    }
   ],
   "source": [
    "# Confirm that the `npdes_id` hase one unique value per data row, alternate approach.\n",
    "# Outputs are generally sorted from highest to lowest counts\n",
    "point_source_df.npdes_id.value_counts()"
   ]
  },
  {
   "cell_type": "code",
   "execution_count": 149,
   "metadata": {},
   "outputs": [],
   "source": [
    "# Set index to 'npdes_id'\n",
    "point_source_df.set_index('npdes_id', inplace=True)"
   ]
  },
  {
   "cell_type": "code",
   "execution_count": 150,
   "metadata": {},
   "outputs": [
    {
     "data": {
      "text/plain": [
       "CategoricalIndex(['PA0033995', 'PA0051811', '1594403', '1592417', 'NJ0065196',\n",
       "                  'PA0012238', 'PA0026867', 'PA0030023', 'PA0011185',\n",
       "                  'NJ0004278',\n",
       "                  ...\n",
       "                  'PA0028975', 'NJG0175200', 'NJ0022250', 'NJ0024040',\n",
       "                  'PA0055671', 'NJ0022985', 'PA0056081', 'PA0036081',\n",
       "                  'PA0026638', 'NJ0104388'],\n",
       "                 categories=['1503410', '1505402', '1505412', '1508411', '1586408', '1586409', '1587447', '1590416', ...], ordered=False, dtype='category', name='npdes_id', length=812)"
      ]
     },
     "execution_count": 150,
     "metadata": {},
     "output_type": "execute_result"
    }
   ],
   "source": [
    "point_source_df.index"
   ]
  },
  {
   "cell_type": "code",
   "execution_count": 151,
   "metadata": {},
   "outputs": [
    {
     "name": "stdout",
     "output_type": "stream",
     "text": [
      "<class 'geopandas.geodataframe.GeoDataFrame'>\n",
      "CategoricalIndex: 812 entries, PA0033995 to NJ0104388\n",
      "Data columns (total 16 columns):\n",
      " #   Column        Non-Null Count  Dtype   \n",
      "---  ------        --------------  -----   \n",
      " 0   ogc_fid       812 non-null    int64   \n",
      " 1   geom          812 non-null    geometry\n",
      " 2   city          789 non-null    category\n",
      " 3   state         812 non-null    category\n",
      " 4   latitude      812 non-null    float64 \n",
      " 5   longitude     812 non-null    float64 \n",
      " 6   huc12         812 non-null    category\n",
      " 7   avg_n_conc    811 non-null    float64 \n",
      " 8   lbsn_yr       811 non-null    float64 \n",
      " 9   mgd           812 non-null    float64 \n",
      " 10  avgpconc      811 non-null    float64 \n",
      " 11  lbsp_yr       809 non-null    float64 \n",
      " 12  kgn_yr        811 non-null    float64 \n",
      " 13  kgp_yr        809 non-null    float64 \n",
      " 14  facilityname  812 non-null    category\n",
      " 15  comid         812 non-null    int64   \n",
      "dtypes: category(4), float64(9), geometry(1), int64(2)\n",
      "memory usage: 165.5 KB\n"
     ]
    }
   ],
   "source": [
    "point_source_df.info()"
   ]
  },
  {
   "cell_type": "markdown",
   "metadata": {
    "tags": []
   },
   "source": [
    "## Save to Parquet Files\n",
    "The code below converts the data into a locally saved parquet file to avoid having to access the database every time we run the visualization script.  \n",
    "\n",
    "Apache Parquet has become the high-performance binary cloud format of choice for storing dataframes.\n",
    "- https://pandas.pydata.org/docs/user_guide/io.html#io-parquet\n",
    "- https://anaconda.org/TomAugspurger/pandas-performance/notebook\n",
    "- https://geopandas.readthedocs.io/en/latest/docs/reference/api/geopandas.GeoDataFrame.to_parquet.html\n",
    "\n",
    "NOTE: The current version of GeoPandas only supports the `pyarrow` engine. In future implementations, look for integration with `fastparquet` engine/library, which is implemented in Pandas and more tightly integrated with numba and dask. See https://fastparquet.readthedocs.io"
   ]
  },
  {
   "cell_type": "code",
   "execution_count": 152,
   "metadata": {},
   "outputs": [],
   "source": [
    "# Parquet requires pyarrow\n",
    "import pyarrow"
   ]
  },
  {
   "cell_type": "markdown",
   "metadata": {},
   "source": [
    "Although Parquet has been tightly integrated with Pandas for a long time and is very stable, the GeoPandas Parquet implementation is relatively new and comes with this warning:\n",
    "\n",
    "```\n",
    "# UserWarning: this is an initial implementation of Parquet/Feather file support and associated metadata.  This is tracking version 0.1.0 of the metadata specification at https://github.com/geopandas/geo-arrow-spec\n",
    "\n",
    "This metadata specification does not yet make stability promises.  We do not yet recommend using this in a production setting unless you are able to rewrite your Parquet/Feather files.\n",
    "\n",
    "To further ignore this warning, you can do: \n",
    "import warnings; warnings.filterwarnings('ignore', message='.*initial implementation of Parquet.*')\n",
    "```"
   ]
  },
  {
   "cell_type": "code",
   "execution_count": 153,
   "metadata": {},
   "outputs": [],
   "source": [
    "import warnings\n",
    "warnings.filterwarnings('ignore', message='.*initial implementation of Parquet.*')"
   ]
  },
  {
   "cell_type": "code",
   "execution_count": 154,
   "metadata": {},
   "outputs": [
    {
     "data": {
      "text/plain": [
       "PosixPath('/Users/aaufdenkampe/Documents/Python/WikiSRATMicroService')"
      ]
     },
     "execution_count": 154,
     "metadata": {},
     "output_type": "execute_result"
    }
   ],
   "source": [
    "# Find current working directory\n",
    "from pathlib import Path\n",
    "Path.cwd()"
   ]
  },
  {
   "cell_type": "code",
   "execution_count": 155,
   "metadata": {},
   "outputs": [],
   "source": [
    "# Set relative path - will work for anybody in this directory / cloning the github\n",
    "data_folder    = Path('data/')"
   ]
  },
  {
   "cell_type": "code",
   "execution_count": 156,
   "metadata": {},
   "outputs": [
    {
     "name": "stdout",
     "output_type": "stream",
     "text": [
      "CPU times: user 7.47 s, sys: 136 ms, total: 7.6 s\n",
      "Wall time: 7.66 s\n"
     ]
    }
   ],
   "source": [
    "%%time\n",
    "\n",
    "# Save Model Output Data\n",
    "# Use the `gzip` compression engine, for bettter (~2/3) but slower (~5x write) compression\n",
    "# than the default `snappy` engine.\n",
    "\n",
    "base_df_reach.to_parquet(data_folder /'base_df_reach.parquet',compression='gzip')\n",
    "rest_df_reach.to_parquet(data_folder /'rest_df_reach.parquet',compression='gzip')\n",
    "\n",
    "base_df_catch.to_parquet(data_folder /'base_df_catch.parquet',compression='gzip')\n",
    "rest_df_catch.to_parquet(data_folder /'rest_df_catch.parquet',compression='gzip')"
   ]
  },
  {
   "cell_type": "code",
   "execution_count": 157,
   "metadata": {},
   "outputs": [
    {
     "name": "stdout",
     "output_type": "stream",
     "text": [
      "CPU times: user 45.2 ms, sys: 3.82 ms, total: 49 ms\n",
      "Wall time: 51 ms\n"
     ]
    }
   ],
   "source": [
    "%%time\n",
    "# Save Protection Project Data\n",
    "prot_proj_df.to_parquet(data_folder /'prot_proj_df.parquet',compression='gzip')"
   ]
  },
  {
   "cell_type": "code",
   "execution_count": null,
   "metadata": {},
   "outputs": [],
   "source": [
    "%%time\n",
    "# Save Restoration Project Data\n",
    "rest_proj_df.to_parquet(data_folder /'rest_proj_df.parquet',compression='gzip')"
   ]
  },
  {
   "cell_type": "code",
   "execution_count": 158,
   "metadata": {},
   "outputs": [
    {
     "name": "stdout",
     "output_type": "stream",
     "text": [
      "CPU times: user 39.3 ms, sys: 4.06 ms, total: 43.4 ms\n",
      "Wall time: 45.8 ms\n"
     ]
    }
   ],
   "source": [
    "%%time\n",
    "# Save Point Source Data\n",
    "point_source_df.to_parquet(data_folder /'point_source_df.parquet',compression='gzip')"
   ]
  },
  {
   "cell_type": "code",
   "execution_count": null,
   "metadata": {},
   "outputs": [],
   "source": []
  }
 ],
 "metadata": {
  "kernelspec": {
   "display_name": "Python [conda env:WikiSRAT] *",
   "language": "python",
   "name": "conda-env-WikiSRAT-py"
  },
  "language_info": {
   "codemirror_mode": {
    "name": "ipython",
    "version": 3
   },
   "file_extension": ".py",
   "mimetype": "text/x-python",
   "name": "python",
   "nbconvert_exporter": "python",
   "pygments_lexer": "ipython3",
   "version": "3.8.10"
  }
 },
 "nbformat": 4,
 "nbformat_minor": 4
}
