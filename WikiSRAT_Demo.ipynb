{
 "cells": [
  {
   "cell_type": "markdown",
   "metadata": {},
   "source": [
    "### API docs for the WikiSRATMicroService\n",
    "#### SRAT code is all in SQL, run from this notebook. This code is within the GitHub repository. The result of this will be a table of NHDplus catchments. \n"
   ]
  },
  {
   "cell_type": "code",
   "execution_count": 1,
   "metadata": {},
   "outputs": [],
   "source": [
    "import requests\n",
    "from requests.auth import HTTPBasicAuth\n",
    "import json\n",
    "import os\n",
    "import psycopg2\n",
    "from StringParser import StringParser\n",
    "from DatabaseAdapter import DatabaseAdapter\n",
    "from DatabaseFormatter import DatabaseFormatter"
   ]
  },
  {
   "cell_type": "code",
   "execution_count": 31,
   "metadata": {},
   "outputs": [],
   "source": [
    "# RAPLACE THIS WITH ACCESS INFORMATION\n",
    "_database = ''\n",
    "_host = ''\n",
    "_port = ''\n",
    "_user = ''\n",
    "_password = ''"
   ]
  },
  {
   "cell_type": "code",
   "execution_count": 32,
   "metadata": {},
   "outputs": [
    {
     "name": "stdout",
     "output_type": "stream",
     "text": [
      "484\n",
      "base\n",
      "done\n"
     ]
    }
   ],
   "source": [
    "# FOR HUC12s\n",
    "# The routine flag can either be 'base' or 'restoration'\n",
    "_flag = 'base'\n",
    "\n",
    "def respond(err, res=None):\n",
    "    return {\n",
    "        'statusCode': '400' if err else '200',\n",
    "        'body': err.args[0] if err else json.dumps(res),\n",
    "        'headers': {\n",
    "            'Content-Type': 'application/json',\n",
    "            'Access-Control-Allow-Origin': '*'\n",
    "        },\n",
    "    }\n",
    "\n",
    "def lambda_handler(event, context):\n",
    "    try:\n",
    "        data = StringParser.parse(event['body'])\n",
    "        db = DatabaseAdapter(_database, _user, _host, _port, _password, _flag)\n",
    "        input_array = DatabaseAdapter.python_to_array(data)\n",
    "        return respond(None, db.run_model(input_array))\n",
    "    except AttributeError as e:\n",
    "        return respond(e)\n",
    "\n",
    "_PG_Connection = psycopg2.connect(\n",
    "                host=_host,\n",
    "                database=_database,\n",
    "                user=_user,\n",
    "                password=_password,\n",
    "                port= _port)\n",
    "\n",
    "_PG_Connection.set_isolation_level(0)\n",
    "_cur = _PG_Connection.cursor()\n",
    "_cur.execute(\"select * from databmpapi.drb_loads_raw order by huc12;\")  \n",
    "# _cur.execute(\"select * from databmpapi.drb_loads_raw where huc12 in ('020402030902', '020402030901');\")  \n",
    "\n",
    "_dbdata = _cur.fetchall()\n",
    "print(len(_dbdata))\n",
    "\n",
    "_body = DatabaseFormatter.parse(_dbdata)\n",
    "# _body = '[{\"huc12\": \"020402010101\", \"tpload_hp\": 10, \"tpload_crop\": 10, \"tpload_wooded\": 10, \"tpload_open\": 10, \"tpload_barren\": 10, \"tpload_ldm\": 10, \"tpload_mdm\": 10, \"tpload_hdm\": 10, \"tpload_wetland\": 10, \"tpload_farman\": 10, \"tpload_tiledrain\": 10, \"tpload_streambank\": 10, \"tpload_subsurface\": 10, \"tpload_pointsource\": 10, \"tpload_septics\": 10, \"tnload_hp\": 10, \"tnload_crop\": 10, \"tnload_wooded\": 10, \"tnload_open\": 10, \"tnload_barren\": 10, \"tnload_ldm\": 10, \"tnload_mdm\": 10, \"tnload_hdm\": 10, \"tnload_wetland\": 10, \"tnload_farman\": 10, \"tnload_tiledrain\": 10, \"tnload_streambank\": 10, \"tnload_subsurface\": 10, \"tnload_pointsource\": 10, \"tnload_septics\": 10, \"tssload_hp\": 10, \"tssload_crop\": 10, \"tssload_wooded\": 10, \"tssload_open\": 10, \"tssload_barren\": 10, \"tssload_ldm\": 10, \"tssload_mdm\": 10, \"tssload_hdm\": 10, \"tssload_wetland\": 10, \"tssload_tiledrain\": 10, \"tssload_streambank\": 10}, {\"huc12\": \"020402010102\", \"tpload_hp\": 10, \"tpload_crop\": 10, \"tpload_wooded\": 10, \"tpload_open\": 10, \"tpload_barren\": 10, \"tpload_ldm\": 10, \"tpload_mdm\": 10, \"tpload_hdm\": 10, \"tpload_wetland\": 10, \"tpload_farman\": 10, \"tpload_tiledrain\": 10, \"tpload_streambank\": 10, \"tpload_subsurface\": 10, \"tpload_pointsource\": 10, \"tpload_septics\": 10, \"tnload_hp\": 10, \"tnload_crop\": 10, \"tnload_wooded\": 10, \"tnload_open\": 10, \"tnload_barren\": 10, \"tnload_ldm\": 10, \"tnload_mdm\": 10, \"tnload_hdm\": 10, \"tnload_wetland\": 10, \"tnload_farman\": 10, \"tnload_tiledrain\": 10, \"tnload_streambank\": 10, \"tnload_subsurface\": 10, \"tnload_pointsource\": 10, \"tnload_septics\": 10, \"tssload_hp\": 10, \"tssload_crop\": 10, \"tssload_wooded\": 10, \"tssload_open\": 10, \"tssload_barren\": 10, \"tssload_ldm\": 10, \"tssload_mdm\": 10, \"tssload_hdm\": 10, \"tssload_wetland\": 10, \"tssload_tiledrain\": 10, \"tssload_streambank\": 10}, {\"huc12\": \"020402010103\", \"tpload_hp\": 10, \"tpload_crop\": 10, \"tpload_wooded\": 10, \"tpload_open\": 10, \"tpload_barren\": 10, \"tpload_ldm\": 10, \"tpload_mdm\": 10, \"tpload_hdm\": 10, \"tpload_wetland\": 10, \"tpload_farman\": 10, \"tpload_tiledrain\": 10, \"tpload_streambank\": 10, \"tpload_subsurface\": 10, \"tpload_pointsource\": 10, \"tpload_septics\": 10, \"tnload_hp\": 10, \"tnload_crop\": 10, \"tnload_wooded\": 10, \"tnload_open\": 10, \"tnload_barren\": 10, \"tnload_ldm\": 10, \"tnload_mdm\": 10, \"tnload_hdm\": 10, \"tnload_wetland\": 10, \"tnload_farman\": 10, \"tnload_tiledrain\": 10, \"tnload_streambank\": 10, \"tnload_subsurface\": 10, \"tnload_pointsource\": 10, \"tnload_septics\": 10, \"tssload_hp\": 10, \"tssload_crop\": 10, \"tssload_wooded\": 10, \"tssload_open\": 10, \"tssload_barren\": 10, \"tssload_ldm\": 10, \"tssload_mdm\": 10, \"tssload_hdm\": 10, \"tssload_wetland\": 10, \"tssload_tiledrain\": 10, \"tssload_streambank\": 10}]'\n",
    "\n",
    "_r = dict(lambda_handler({\"body\": _body},None))\n",
    "print('done')\n"
   ]
  },
  {
   "cell_type": "code",
   "execution_count": 33,
   "metadata": {},
   "outputs": [
    {
     "name": "stdout",
     "output_type": "stream",
     "text": [
      "{'4481881': {'comid': 4481881, 'tploadrate_total': 8.67678906666698, 'tploadate_conc': 0.00480867068316327, 'tnloadrate_total': 205.478173246534, 'tnloadrate_conc': 0.188308808608071, 'tssloadrate_total': 12430.9823731758, 'tssloadrate_conc': 10.6329585165398}, '4481681': {'comid': 4481681, 'tploadrate_total': 45.9269178229512, 'tploadate_conc': 0.0139356826495012, 'tnloadrate_total': 1098.12798966065, 'tnloadrate_conc': 0.333206840298741, 'tssloadrate_total': 128512.512354698, 'tssloadrate_conc': 38.9947698116636}, '4481279': {'comid': 4481279, 'tploadrate_total': 9.3369485692889, 'tploadate_conc': 0.0870941956538323, 'tnloadrate_total': 260.499630512306, 'tnloadrate_conc': 2.34191601922763, 'tssloadrate_total': 4135.72100063273, 'tssloadrate_conc': 49.6417992751781}, '4481935': {'comid': 4481935, 'tploadrate_total': 47.8207522003034, 'tploadate_conc': 0.107891339771179, 'tnloadrate_total': 1122.82652578667, 'tnloadrate_conc': 2.53327797292518, 'tssloadrate_total': 29233.9090668937, 'tssloadrate_conc': 65.9564199819501}, '4481321': {'comid': 4481321, 'tploadrate_total': 0.011336886602553, 'tploadate_conc': 0.0184093039668924, 'tnloadrate_total': 0.152468739557826, 'tnloadrate_conc': 0.707277007867956, 'tssloadrate_total': 37.1485912807269, 'tssloadrate_conc': 23.9729380874983}, '4481367': {'comid': 4481367, 'tploadrate_total': 0.593822905650522, 'tploadate_conc': 0.0116428883128484, 'tnloadrate_total': 18.586080290285, 'tnloadrate_conc': 0.318167885539587, 'tssloadrate_total': 1134.55943197039, 'tssloadrate_conc': 30.8823844150337}, '4481891': {'comid': 4481891, 'tploadrate_total': 0.611791847530104, 'tploadate_conc': 0.00515610712952136, 'tnloadrate_total': 17.16277447263, 'tnloadrate_conc': 0.136182129003612, 'tssloadrate_total': 1256.70269656121, 'tssloadrate_conc': 12.6935073157295}, '4481301': {'comid': 4481301, 'tploadrate_total': 0.434647087648859, 'tploadate_conc': 0.0221088397917474, 'tnloadrate_total': 20.755472615839, 'tnloadrate_conc': 1.0557517395269, 'tssloadrate_total': 313.434672019155, 'tssloadrate_conc': 15.9432264606561}, '4481277': {'comid': 4481277, 'tploadrate_total': 85.5398017934121, 'tploadate_conc': 0.0847863924846948, 'tnloadrate_total': 2401.05028676223, 'tnloadrate_conc': 2.37990254502308, 'tssloadrate_total': 55536.4380314502, 'tssloadrate_conc': 55.0472894887993}, '4481661': {'comid': 4481661, 'tploadrate_total': 29.1392565673688, 'tploadate_conc': 0.00901035171426772, 'tnloadrate_total': 931.166620363255, 'tnloadrate_conc': 0.287932491848626, 'tssloadrate_total': 52137.025587741, 'tssloadrate_conc': 16.1216514496595}, '4481261': {'comid': 4481261, 'tploadrate_total': 64.824264048653, 'tploadate_conc': 0.07741941110648, 'tnloadrate_total': 1878.68486321812, 'tnloadrate_conc': 2.24370732008375, 'tssloadrate_total': 36639.8128134818, 'tssloadrate_conc': 43.7588111905509}, '4481313': {'comid': 4481313, 'tploadrate_total': 42.5287017334952, 'tploadate_conc': 0.0226233732269571, 'tnloadrate_total': 1414.81439374309, 'tnloadrate_conc': 0.727773571999592, 'tssloadrate_total': 45984.542359817, 'tssloadrate_conc': 28.0188974126055}, '4481353': {'comid': 4481353, 'tploadrate_total': 0.0223138370582509, 'tploadate_conc': 0.00690505050701603, 'tnloadrate_total': 0.720246167386954, 'tnloadrate_conc': 0.334112455555181, 'tssloadrate_total': 37.2014335457468, 'tssloadrate_conc': 14.4931508058661}, '4481879': {'comid': 4481879, 'tploadrate_total': 0.14590313258491, 'tploadate_conc': 0.00535704839185738, 'tnloadrate_total': 3.78784101209752, 'tnloadrate_conc': 0.181131340563286, 'tssloadrate_total': 338.761123207406, 'tssloadrate_conc': 12.0197135233118}, '4481657': {'comid': 4481657, 'tploadrate_total': 65.3791768781041, 'tploadate_conc': 0.0609108692608819, 'tnloadrate_total': 1781.36753753759, 'tnloadrate_conc': 1.70429439141572, 'tssloadrate_total': 54472.1050981478, 'tssloadrate_conc': 40.1936819943162}, '4481871': {'comid': 4481871, 'tploadrate_total': 6.78298850349021, 'tploadate_conc': 0.015110915047457, 'tnloadrate_total': 180.040145777454, 'tnloadrate_conc': 0.643982269703096, 'tssloadrate_total': 11271.5319929909, 'tssloadrate_conc': 20.7727340093377}, '4481861': {'comid': 4481861, 'tploadrate_total': 1.31647223803213, 'tploadate_conc': 0.0201482786606357, 'tnloadrate_total': 42.7609666487103, 'tnloadrate_conc': 0.707672550124254, 'tssloadrate_total': 2484.58340762918, 'tssloadrate_conc': 25.6752531085887}, '4481677': {'comid': 4481677, 'tploadrate_total': 16.3208016835208, 'tploadate_conc': 0.00767390449780736, 'tnloadrate_total': 340.46731017987, 'tnloadrate_conc': 0.160084882691992, 'tssloadrate_total': 38549.6529983224, 'tssloadrate_conc': 18.1257245366468}, '4481303': {'comid': 4481303, 'tploadrate_total': 84.2146236304177, 'tploadate_conc': 0.05746395634536, 'tnloadrate_total': 2334.71175853441, 'tnloadrate_conc': 1.59309356009473, 'tssloadrate_total': 56142.8684135186, 'tssloadrate_conc': 38.3091582024532}, '4481675': {'comid': 4481675, 'tploadrate_total': 8.82906877445052, 'tploadate_conc': 0.0102173973964045, 'tnloadrate_total': 261.659996437199, 'tnloadrate_conc': 0.302804773033048, 'tssloadrate_total': 13714.990205278, 'tssloadrate_conc': 15.8716064847781}, '4481361': {'comid': 4481361, 'tploadrate_total': 0.273943129334132, 'tploadate_conc': 0.0047454497147794, 'tnloadrate_total': 7.38895751439034, 'tnloadrate_conc': 0.181109656010562, 'tssloadrate_total': 582.699729346836, 'tssloadrate_conc': 10.9634764203602}, '4481667': {'comid': 4481667, 'tploadrate_total': 8.30195975287933, 'tploadate_conc': 0.00748618752263939, 'tnloadrate_total': 123.406267614567, 'tnloadrate_conc': 0.111280045715863, 'tssloadrate_total': 17762.7088798006, 'tssloadrate_conc': 16.0172987514327}, '4481679': {'comid': 4481679, 'tploadrate_total': 10.0102659064699, 'tploadate_conc': 0.00711693083859281, 'tnloadrate_total': 213.27924484706, 'tnloadrate_conc': 0.151633697752502, 'tssloadrate_total': 23598.4742341606, 'tssloadrate_conc': 16.7776471264651}, '4481893': {'comid': 4481893, 'tploadrate_total': 0.0056769433848737, 'tploadate_conc': 0.00636325840429569, 'tnloadrate_total': 0.132057322733239, 'tnloadrate_conc': 0.151631250676309, 'tssloadrate_total': 12.4004778485823, 'tssloadrate_conc': 15.4099712828271}, '4481387': {'comid': 4481387, 'tploadrate_total': 143.134349819315, 'tploadate_conc': 0.0395690137092041, 'tnloadrate_total': 2296.46783951933, 'tnloadrate_conc': 0.634850876392667, 'tssloadrate_total': 537810.911268446, 'tssloadrate_conc': 148.676033026343}, '4481889': {'comid': 4481889, 'tploadrate_total': 1.504374998789, 'tploadate_conc': 0.00476324796086039, 'tnloadrate_total': 36.6035135275524, 'tnloadrate_conc': 0.131751738030796, 'tssloadrate_total': 3042.75578700035, 'tssloadrate_conc': 11.7246206264351}, '4481347': {'comid': 4481347, 'tploadrate_total': 76.2371884604797, 'tploadate_conc': 0.0499494677432151, 'tnloadrate_total': 1715.75071807596, 'tnloadrate_conc': 1.12413425624109, 'tssloadrate_total': 92549.4501859762, 'tssloadrate_conc': 60.6370181019085}, '4481877': {'comid': 4481877, 'tploadrate_total': 1.05287610591915, 'tploadate_conc': 0.00823090516543137, 'tnloadrate_total': 14.6404776351001, 'tnloadrate_conc': 0.2749120009938, 'tssloadrate_total': 3976.60029170211, 'tssloadrate_conc': 15.5602982373957}, '4481357': {'comid': 4481357, 'tploadrate_total': 3.4918782368628, 'tploadate_conc': 0.00674196103331975, 'tnloadrate_total': 87.2993370680764, 'tnloadrate_conc': 0.337571332814941, 'tssloadrate_total': 5058.50635523002, 'tssloadrate_conc': 11.9108661367683}, '4481307': {'comid': 4481307, 'tploadrate_total': 12.9272265931191, 'tploadate_conc': 0.0208233564332117, 'tnloadrate_total': 243.23589322586, 'tnloadrate_conc': 0.669290021327478, 'tssloadrate_total': 8173.44263606409, 'tssloadrate_conc': 31.8999369206655}, '4481263': {'comid': 4481263, 'tploadrate_total': 10.6654481419257, 'tploadate_conc': 0.105675199997936, 'tnloadrate_total': 249.640518874381, 'tnloadrate_conc': 2.48925060030911, 'tssloadrate_total': 5346.64099129651, 'tssloadrate_conc': 62.530106648825}, '4481887': {'comid': 4481887, 'tploadrate_total': 0.418401490716595, 'tploadate_conc': 0.00664259242988218, 'tnloadrate_total': 10.138511518689, 'tnloadrate_conc': 0.113992448442541, 'tssloadrate_total': 929.692363921041, 'tssloadrate_conc': 14.6373008009968}, '4481291': {'comid': 4481291, 'tploadrate_total': 0.0129171513943967, 'tploadate_conc': 0.0334320513836035, 'tnloadrate_total': 0.576191630228285, 'tnloadrate_conc': 0.735127422031308, 'tssloadrate_total': 12.4004778485823, 'tssloadrate_conc': 55.5508937895266}, '4481663': {'comid': 4481663, 'tploadrate_total': 5.84206812491924, 'tploadate_conc': 0.0107019275128177, 'tnloadrate_total': 169.839888618372, 'tnloadrate_conc': 0.379719513248503, 'tssloadrate_total': 6665.41380035399, 'tssloadrate_conc': 31.7983464752084}, '4481325': {'comid': 4481325, 'tploadrate_total': 12.8757573614845, 'tploadate_conc': 0.0121360000678346, 'tnloadrate_total': 232.811341448404, 'tnloadrate_conc': 0.425426157486233, 'tssloadrate_total': 9987.09486514195, 'tssloadrate_conc': 31.0047591389088}, '4481895': {'comid': 4481895, 'tploadrate_total': 1.3035912547033, 'tploadate_conc': 0.00569636077976725, 'tnloadrate_total': 26.4068752169098, 'tnloadrate_conc': 0.134406940976817, 'tssloadrate_total': 3439.82969690764, 'tssloadrate_conc': 13.6826700272494}, '4481311': {'comid': 4481311, 'tploadrate_total': 54.4832032109357, 'tploadate_conc': 0.0552128646701617, 'tnloadrate_total': 1261.01607664267, 'tnloadrate_conc': 1.56865115949875, 'tssloadrate_total': 42072.3602550809, 'tssloadrate_conc': 37.7065750360896}, '4481389': {'comid': 4481389, 'tploadrate_total': 2.1783420633458, 'tploadate_conc': 0.00636546245705464, 'tnloadrate_total': 42.7644225129214, 'tnloadrate_conc': 0.136532583882549, 'tssloadrate_total': 3416.86476566838, 'tssloadrate_conc': 14.804330457482}, '4481671': {'comid': 4481671, 'tploadrate_total': 3.97963679256898, 'tploadate_conc': 0.00674763156719399, 'tnloadrate_total': 57.5792551753354, 'tnloadrate_conc': 0.0976279042756077, 'tssloadrate_total': 9326.1574999655, 'tssloadrate_conc': 15.8128688690626}, '4481659': {'comid': 4481659, 'tploadrate_total': 53.8570216832823, 'tploadate_conc': 0.0278765165224483, 'tnloadrate_total': 1641.2166902896, 'tnloadrate_conc': 0.849497479694044, 'tssloadrate_total': 73374.8311369254, 'tssloadrate_conc': 37.9789789444535}, '4481355': {'comid': 4481355, 'tploadrate_total': 0.0676559425777716, 'tploadate_conc': 0.00432375959331477, 'tnloadrate_total': 1.71438605122075, 'tnloadrate_conc': 0.188280557943026, 'tssloadrate_total': 148.726470785457, 'tssloadrate_conc': 9.8088397592029}, '4481349': {'comid': 4481349, 'tploadrate_total': 9.87963310370508, 'tploadate_conc': 0.0131878683094343, 'tnloadrate_total': 319.570453964755, 'tnloadrate_conc': 0.608139880005328, 'tssloadrate_total': 13683.8719557924, 'tssloadrate_conc': 18.6165417442023}}\n"
     ]
    }
   ],
   "source": [
    "print(dict(json.loads(_r['body']))['huc12s']['020402010101']['catchments'])\n",
    "_nhdloads = dict(json.loads(_r['body']))['huc12s']\n",
    "t = 0\n",
    "for huc12s, huc12 in _nhdloads.items():\n",
    "    for comid in _nhdloads[huc12s]['catchments']:\n",
    "        t += 1"
   ]
  },
  {
   "cell_type": "code",
   "execution_count": 34,
   "metadata": {},
   "outputs": [
    {
     "name": "stdout",
     "output_type": "stream",
     "text": [
      "0%--->10%--->20%--->30%--->40%--->50%--->60%--->70%--->80%--->89%--->99%--->done\n"
     ]
    }
   ],
   "source": [
    "# LOAD THE RESULTS INTO A DATABASE FOR REVIEW, CONSULT MSC94@DREXEL.EDU FOR MORE INFORMATION (REQUIRES HIGHER PERMISSION)\n",
    "# LOADING RESULTS INTO THE DB CAN TAKE ~10 MINUTES\n",
    "\n",
    "tablename = 'z_testoutput_base'\n",
    "\n",
    "c = 0\n",
    "prog_update = 0.1\n",
    "print('0%', end='--->')\n",
    "for huc12s, huc12 in _nhdloads.items():\n",
    "    for comid in _nhdloads[huc12s]['catchments']:\n",
    "        update_arr = [int(_nhdloads[huc12s]['catchments'][comid]['comid']),\n",
    "                      _nhdloads[huc12s]['catchments'][comid]['tploadrate_total'],\n",
    "                      _nhdloads[huc12s]['catchments'][comid]['tploadate_conc'],\n",
    "                      _nhdloads[huc12s]['catchments'][comid]['tnloadrate_total'],\n",
    "                      _nhdloads[huc12s]['catchments'][comid]['tnloadrate_conc'],\n",
    "                      _nhdloads[huc12s]['catchments'][comid]['tssloadrate_total'],\n",
    "                      _nhdloads[huc12s]['catchments'][comid]['tssloadrate_conc']]\n",
    "        update_arr = [x if x != None else -9999 for x in update_arr]\n",
    "        _PG_Connection.set_isolation_level(0)\n",
    "        _cur = _PG_Connection.cursor()\n",
    "        _cur.execute(\"insert into wikiwtershed.{} values ({},{},{},{},{},{},{})\"\n",
    "                     \";\".format(tablename, update_arr[0],update_arr[1],update_arr[2],update_arr[3],update_arr[4],update_arr[5],update_arr[6]))\n",
    "        c += 1\n",
    "        if c == int(t * prog_update - 1):\n",
    "            print('{}%'.format(int(prog_update*100)), end='--->')\n",
    "            prog_update += 0.1\n",
    "print('done')"
   ]
  },
  {
   "cell_type": "code",
   "execution_count": 35,
   "metadata": {},
   "outputs": [
    {
     "name": "stdout",
     "output_type": "stream",
     "text": [
      "restoration\n",
      "done\n"
     ]
    }
   ],
   "source": [
    "# NOW RUN THE ATTENUATION WITH THE BMPs ADDED IN\n",
    "_flag = 'restoration'\n",
    "\n",
    "_r = dict(lambda_handler({\"body\": _body},None))\n",
    "print('done')"
   ]
  },
  {
   "cell_type": "code",
   "execution_count": 36,
   "metadata": {},
   "outputs": [],
   "source": [
    "# print(dict(json.loads(_r['body']))['huc12s']['020402010101']['catchments'])\n",
    "_nhdloads = dict(json.loads(_r['body']))['huc12s']\n",
    "t = 0\n",
    "for huc12s, huc12 in _nhdloads.items():\n",
    "    for comid in _nhdloads[huc12s]['catchments']:\n",
    "        t += 1"
   ]
  },
  {
   "cell_type": "code",
   "execution_count": 37,
   "metadata": {},
   "outputs": [
    {
     "name": "stdout",
     "output_type": "stream",
     "text": [
      "0%--->10%--->20%--->30%--->40%--->50%--->60%--->70%--->80%--->89%--->99%--->done\n"
     ]
    }
   ],
   "source": [
    "# LOAD THE RESULTS INTO A DATABASE FOR REVIEW, CONSULT MSC94@DREXEL.EDU FOR MORE INFORMATION (REQUIRES HIGHER PERMISSION)\n",
    "# LOADING RESULTS INTO THE DB CAN TAKE ~10 MINUTES, there are almost 20,000 NHDplus catchments\n",
    "\n",
    "tablename = 'z_testoutput_restoration'\n",
    "\n",
    "c = 0\n",
    "prog_update = 0.1\n",
    "print('0%', end='--->')\n",
    "for huc12s, huc12 in _nhdloads.items():\n",
    "    for comid in _nhdloads[huc12s]['catchments']:\n",
    "        update_arr = [int(_nhdloads[huc12s]['catchments'][comid]['comid']),\n",
    "                      _nhdloads[huc12s]['catchments'][comid]['tploadrate_total'],\n",
    "                      _nhdloads[huc12s]['catchments'][comid]['tploadate_conc'],\n",
    "                      _nhdloads[huc12s]['catchments'][comid]['tnloadrate_total'],\n",
    "                      _nhdloads[huc12s]['catchments'][comid]['tnloadrate_conc'],\n",
    "                      _nhdloads[huc12s]['catchments'][comid]['tssloadrate_total'],\n",
    "                      _nhdloads[huc12s]['catchments'][comid]['tssloadrate_conc']]\n",
    "        update_arr = [x if x != None else -9999 for x in update_arr]\n",
    "        _PG_Connection.set_isolation_level(0)\n",
    "        _cur = _PG_Connection.cursor()\n",
    "        _cur.execute(\"insert into wikiwtershed.{} values ({},{},{},{},{},{},{})\"\n",
    "                     \";\".format(tablename, update_arr[0],update_arr[1],update_arr[2],update_arr[3],update_arr[4],update_arr[5],update_arr[6]))\n",
    "        c += 1\n",
    "        if c == int(t * prog_update - 1):\n",
    "            print('{}%'.format(int(prog_update*100)), end='--->')\n",
    "            prog_update += 0.1\n",
    "\n",
    "print('done')"
   ]
  },
  {
   "cell_type": "markdown",
   "metadata": {},
   "source": [
    "# END OF USEFUL CODE"
   ]
  }
 ],
 "metadata": {
  "kernelspec": {
   "display_name": "WikiSRAT",
   "language": "python",
   "name": "wikisrat"
  },
  "language_info": {
   "codemirror_mode": {
    "name": "ipython",
    "version": 3
   },
   "file_extension": ".py",
   "mimetype": "text/x-python",
   "name": "python",
   "nbconvert_exporter": "python",
   "pygments_lexer": "ipython3",
   "version": "3.6.13"
  }
 },
 "nbformat": 4,
 "nbformat_minor": 2
}
