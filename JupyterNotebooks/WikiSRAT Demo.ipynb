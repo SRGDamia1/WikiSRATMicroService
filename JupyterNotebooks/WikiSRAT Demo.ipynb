{
 "cells": [
  {
   "cell_type": "markdown",
   "metadata": {},
   "source": [
    "API docs for the WikiSRATMicroService - Not exactly the hotspot mapping tool\n",
    "\n",
    "Code is all in SQL, run from this notebook. \n",
    "\n",
    "2021/07/21 - Will take 1 - 2 months if lucky (end of August)\n",
    "\n",
    "1) Distribute the HUC12 loading table to the NHDplus catchments (re-allocation) based on the LULC proportion tables and point sources that we have.\n",
    "- Take last version of SRAT code and point to new loading table\n",
    "\n",
    "2) Use the new routing routing to route loads down using the finish time of the NHDplus catchments (guarenteed topologically correct). Continue to sum loads as we move downstream. Load given + Load then attentuate and pass on (run for each NHD catchment). Reduction factors are changed and based on shedareadrainlake.\n",
    "- change out attenuation\n",
    "\n",
    "3) Calculate the stream concentrations\n",
    "\n",
    "4) Have Barry review the results to make sure that we are using the correct values for shedarea coefficients\n"
   ]
  },
  {
   "cell_type": "code",
   "execution_count": 1,
   "metadata": {},
   "outputs": [],
   "source": [
    "import requests"
   ]
  },
  {
   "cell_type": "code",
   "execution_count": null,
   "metadata": {},
   "outputs": [],
   "source": [
    "_url = \"https://watersheds.cci.drexel.edu/api/fzs/\"\n",
    "_payload = geojson.loads(json.dumps(self.__GeomWatershed))\n",
    "_headers = {}\n",
    "_r = requests.post(_url, data=_payload, headers=_headers, allow_redirects=True, verify=False)\n",
    "_Lulcs = eval(_r.text)"
   ]
  }
 ],
 "metadata": {
  "kernelspec": {
   "display_name": "WikiSRAT",
   "language": "python",
   "name": "wikisrat"
  },
  "language_info": {
   "codemirror_mode": {
    "name": "ipython",
    "version": 3
   },
   "file_extension": ".py",
   "mimetype": "text/x-python",
   "name": "python",
   "nbconvert_exporter": "python",
   "pygments_lexer": "ipython3",
   "version": "3.6.13"
  }
 },
 "nbformat": 4,
 "nbformat_minor": 2
}
