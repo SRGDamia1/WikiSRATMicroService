# packages for data requests
import requests
import pandas as pd
from requests.auth import HTTPBasicAuth
import json
import os
import psycopg2


# packages for viz 
import matplotlib.pyplot as plt
from pynhd import NLDI, WaterData, NHDPlusHR
import pynhd as nhd
import geopandas as gpd

import geoviews as gv
import geoviews.feature as gf
from geoviews import opts
from cartopy import crs 
import geoviews.tile_sources as gts
gv.extension('bokeh', 'matplotlib')


import hvplot.pandas


# login information 
config_file = json.load(open('db_config.json'))
PG_CONFIG = config_file['PG_CONFIG']

_host = PG_CONFIG['host'],
_database = PG_CONFIG['database'],
_user = PG_CONFIG['user'],
_password = PG_CONFIG['password'],
_port = PG_CONFIG['port']


# connect to database 
_PG_Connection = psycopg2.connect(
        host=PG_CONFIG['host'],
        database=PG_CONFIG['database'],
        user=PG_CONFIG['user'],
        password=PG_CONFIG['password'],
        port=PG_CONFIG['port'])


def postgresql_to_dataframe(conn, select_query, column_names):
    """
    Tranform a SELECT query into a pandas dataframe
    """
    _cur = conn.cursor()
    try:
        _cur.execute(select_query)
    except (Exception, psycopg2.DatabaseError) as error:
        print("Error: %s" % error)
        _cur.close()
        return 1

    # We get a list of tupples
    tupples = _cur.fetchall()
    _cur.close()

    # Turn it into a pandas dataframe
    df = pd.DataFrame(tupples, columns=column_names)
    return df




# Define column names
colnames = ('comid','tploadrate_total','tploadate_conc','tnloadrate_total','tnloadate_conc','tssloadrate_total',
            'tssloadate_conc','catchment_hectares','watershed_hectares','tploadrate_total_ws','tnloadrate_total_ws',
            'tssloadrate_total_ws','maflowv','geom','catchment')

# Define table name for base and restoration runs
tablename_base = 'base_run'
tablename_rest = 'restoration_run'

# Define SQL query for base and restoration model runs 
base_model_select = 'SELECT * FROM wikiwtershedoutputs.{}'.format(tablename_base)
rest_model_select = 'SELECT * FROM wikiwtershedoutputs.{}'.format(tablename_rest)

# Call function
base_df = postgresql_to_dataframe(_PG_Connection, base_model_select, colnames)
rest_df = postgresql_to_dataframe(_PG_Connection, rest_model_select, colnames)


base_df.head()


from sqlalchemy import create_engine  
db_connection_url = "postgres://{}:{}@{}:{}/{}".format(_user[0], _password[0], _host[0], _port, _database[0])
con = create_engine(db_connection_url)
sql = 'SELECT * FROM wikiwtershedoutputs.{}'.format(tablename_base)
df = gpd.GeoDataFrame.from_postgis(sql, con)


df.head()


df.plot(lw=1, figsize=(8, 8))


# get catchment geometry
wd_cat = WaterData("catchmentsp")
comids = [int(c) for c in base_df.comid.to_list()]
catchments = wd_cat.byid("featureid", comids)


# merge with dataframes
catchments.columns = ["geometry", "gridcode", "comid", "sourcefc", "areqsqkm", "shape_length", "shape_area"]
base_df = base_df.merge(catchments, on='comid')


# convert to gpd and plot 
base_gpd = gpd.GeoDataFrame(base_df)
base_gpd.plot(lw=1, figsize=(8, 8))


# conver to numeric:
for col in  ['tploadrate_total','tploadate_conc','tnloadrate_total','tnloadate_conc','tssloadrate_total',
            'tssloadate_conc','catchment_hectares','watershed_hectares','tploadrate_total_ws','tnloadrate_total_ws',
            'tssloadrate_total_ws','maflowv']:
    base_gpd[col] = pd.to_numeric(base_gpd[col])


base_gpd.plot(column='maflowv',  lw=1, figsize=(8, 8))


base_gpd['tploadrate_total']


# polys = gv.Polygons(base_gpd, vdims=['comid', 'area_km2'])
# plot = gv.tile_sources.CartoLight()\
#         * polys.opts(alpha=0.05, fill_alpha=0, tools=['hover'],
#                      hover_fill_alpha=0.5, hover_fill_color='red')
# plot.opts(width=500, height=400)


base_gpd.hvplot(c="maflowv",cmap="Oranges")



