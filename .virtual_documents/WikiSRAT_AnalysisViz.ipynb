# packages for data requests
import requests
import pandas as pd
from requests.auth import HTTPBasicAuth
import json
import os
import psycopg2

from pathlib import Path

# packages for viz 
import matplotlib
import matplotlib.pyplot as plt
# from pynhd import NLDI, WaterData, NHDPlusHR
# import pynhd as nhd
import geopandas as gpd
import plotly.express as px

# import geoviews as gv
# import geoviews.feature as gf
# from geoviews import opts
# from cartopy import crs 
# import geoviews.tile_sources as gts
# gv.extension('bokeh', 'matplotlib')
# import hvplot.pandas



# Find current working directory
Path.cwd()


# username = "Sarah"
# username = "Anthony"


# Set alternate project & data folders
# if username == "Anthony":
    # project_folder = Path('/Users/aaufdenkampe/Documents/Python/WikiSRATMicroService')
# elif username == "Sarah":
    # project_folder = Path('C:/Users/sjordan/Documents/Python/WikiSRATMicroService')
    

# just use relative path - will work for anybody in this directory / cloning the github
data_folder    = Path('data/')


get_ipython().run_cell_magic("time", "", """# read data from parquet files
base_gdf = gpd.read_parquet(data_folder /'base_df.parquet')
rest_gdf = gpd.read_parquet(data_folder /'rest_df.parquet')""")


base_gdf.head()


# define catchments as the geometry used by GeoPandas
base_gdf_catch = gpd.GeoDataFrame(base_gdf, geometry="geom_catchment")
rest_gdf_catch = gpd.GeoDataFrame(rest_gdf, geometry="geom_catchment")


rest_gdf_catch.info()


rest_gdf_catch.index


# Example selecting by comid, which is the row index
base_gdf.loc[4648450]


base_gdf.loc[4648450].tploadrate_total / base_gdf.loc[4648450].catchment_hectares 


rest_gdf.loc[4648450]


base_gdf.tploadrate_total.min()


base_gdf.tploadrate_total.max()


get_ipython().run_cell_magic("time", "", """fig, (ax1, ax2) = plt.subplots(1,2)
base_gdf.plot(lw=1, ax=ax1)
base_gdf_catch.plot(lw=0.1, ax=ax2)
fig.set_size_inches(8,8)
ax1.set_title("Reaches")
ax2.set_title("Catchments")
plt.show()""")


get_ipython().run_cell_magic("time", "", """# Plot colors by values of Mean Annual Flow Volumentric (`maflowv`)
fig, (ax1, ax2) = plt.subplots(1,2)
# ax3 = fig.add_axes([0.85, 0.1, 0.1, 0.8])


r = base_gdf.plot(column = 'maflowv',lw=1, ax=ax1, norm=matplotlib.colors.LogNorm()) 
c = base_gdf_catch.plot(column = 'maflowv', lw=0.1, ax=ax2, norm=matplotlib.colors.LogNorm())
fig.set_size_inches(8,8)
ax1.set_title("Reaches")
ax2.set_title("Catchments")

# add colorbar 
cax = fig.add_axes([0.95, 0.12, 0.04, 0.75])
sm = plt.cm.ScalarMappable(cmap='viridis', norm=matplotlib.colors.LogNorm(vmin=base_gdf_catch.maflowv.min() + 0.01, vmax=base_gdf_catch.maflowv.max()))
cbr = fig.colorbar(sm, cax=cax,)

# plt.colorbar(c, ax = ax3)
plt.show()""")


base_gdf_catch.tploadate_conc.min()


get_ipython().run_cell_magic("time", "", """# Plot colors by values of Total Phosphorus concentrations & Load Rates
fig, (ax1, ax2) = plt.subplots(1,2)
base_gdf.plot(column = 'tploadate_conc', lw=1, ax=ax1, norm=matplotlib.colors.LogNorm())
base_gdf_catch.plot(column = 'tploadate_conc', lw=0.1, ax=ax2, norm=matplotlib.colors.LogNorm())
fig.set_size_inches(8,8)
ax1.set_title("Reaches")
ax2.set_title("Catchments")

# add colorbar 
cax = fig.add_axes([0.95, 0.12, 0.04, 0.75])
sm = plt.cm.ScalarMappable(cmap='viridis', norm=matplotlib.colors.LogNorm(vmin=base_gdf_catch[base_gdf_catch.tploadate_conc > 0].tploadate_conc.min(), vmax=base_gdf_catch.tploadate_conc.max()))
cbr = fig.colorbar(sm, cax=cax,)

plt.show()""")


base_gdf_catch.cluster.unique()


# color by cluster 
fig, (ax1, ax2) = plt.subplots(1,2)
base_gdf_catch[base_gdf_catch.cluster != 'None'].plot(column = 'cluster', lw=0.1, ax=ax1)
base_gdf_catch[base_gdf_catch.cluster != 'None'].plot(column = 'fa_name', lw=0.1, ax=ax2)

fig.set_size_inches(8,8)
ax1.set_title("Cluster")
ax2.set_title("Focus Area")
for ax in [ax1, ax2]:
    ax.set_ylim(4.25 * 10**6, 4.75 * 10**6)
plt.show()


# project for plotly
base_gdf_proj = base_gdf.to_crs(epsg=4326)
base_gdf_catch_proj = base_gdf_catch.to_crs(epsg=4326)


base_gdf_proj


base_gdf_proj.index


# %%time
fig = px.choropleth_mapbox(base_gdf_catch_proj,
                           geojson=base_gdf_catch_proj.geom_catchment,
                           locations=base_gdf_catch_proj.index,
                           color='maflowv',
                           color_continuous_scale="Viridis",
                           # range_color=(0, 12),
                           # width=200,
                           mapbox_style="carto-positron",
                           zoom=6,
                           center = {"lat": 40.4604, "lon": -74.8334},
                           opacity=0.5,
                           height = 500,
                           # width = 100
                           labels={'Comid':'comid'}
                          )
fig.update_traces(marker_line_color='rgba(255,255,255,0)', selector=dict(type='choroplethmapbox')) #make the border transparent
fig.update_layout(margin={"r":300,"t":0,"l":300,"b":0})
# fig['layout']['geo']['subunitcolor']='rgba(0,0,0,0)'

fig.show()


get_ipython().run_cell_magic("time", "", """
# plot lines https://plotly.com/python/lines-on-mapbox/
import numpy as np

lats = []
lons = []
names = []
colors = []

i = 0 
tot = len(base_gdf.geom)

for feature, name, mfv in zip(base_gdf_proj.geom, base_gdf_proj.index, base_gdf_proj.maflowv):

    if feature == None:
        pass
    else:
        linestrings = feature


        for linestring in linestrings:
            x, y = linestring.xy
            lats.extend(y)
            lons.extend(x)
            names.extend([name]*len(y))
            colors.extend([mfv]*len(y))
            lats.extend([None])
            lons.extend([None])
            names.extend([None])
            colors.extend([None])
    pct = round(i / tot * 100, 2)
    if pct % 10 == 0:
        print(str(pct) + "% done") 
    i += 1""")


# %%time
fig = px.line_mapbox(lat=lats, lon=lons, hover_name=names,
                     mapbox_style="carto-positron",
                     # color=colors,
                     zoom=6,
                     center = {"lat": 40.4604, "lon": -74.8334},
                     height=500
                    )
fig.update_layout(margin={"r":300,"t":0,"l":300,"b":0})
fig.show()


len(colors) == len(lats)


# set up for chloropleth map 
geo_df_g2_json = json.loads(base_gdf_.to_json())


# %%time
# import plotly.graph_objects as go

# token = "pk.eyJ1Ijoic2pvcmRhbjI5IiwiYSI6ImNrc3Jzb2Y4ODBwbTYybnA3MjloZ2RjMHcifQ.6IVtsCFcLvhLFNl_IF9OqA"
# fig = go.Figure(go.Choroplethmapbox(geojson=geo_df_g2_json,
#                                     locations=base_gpd.index,
#                                     z = base_gpd['maflowv'],
#                                     colorscale="Viridis",
#                                     marker_line_width=0,
# #                                   #  height
#                                    ))
# fig.update_layout(mapbox_style="light", mapbox_accesstoken=token,
#                   mapbox_zoom=6, mapbox_center = {"lat": 40.4604, "lon": -74.8334})
# fig.update_layout(margin={"r":0,"t":0,"l":0,"b":0})
# fig.show()


import pandas as pd
import numpy as np
from bokeh.io import output_notebook
output_notebook()
pd.set_option('display.max_columns', 100)

from holoviews.operation.datashader import datashade
import geoviews as gv
import cartopy.crs as ccrs
from colorcet import fire

gv.extension('bokeh')


base_gdf_catch_proj.geom_catchment


base_gdf_catch_proj = base_gdf_catch_proj.rename(columns={"geom":"geometry"})


base_gdf_catch_proj


# base_gdf_catch_proj = base_gdf_catch_proj.set_geometry("geom")


# Load districts as Polygons and Locations as Points and Overlay them on map
polys = gv.Polygons(base_gdf_catch_proj, vdims=['maflowv'], crs=ccrs.PlateCarree())

plot = gv.tile_sources.CartoDark()\
    * polys.opts(color_index='maflowv', colorbar=True, tools=['hover'])
plot.opts(width=700, height=600, bgcolor='black')
#gv.save(plot, "./img/datashader/map_cologne1.html")



