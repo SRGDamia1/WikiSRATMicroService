# packages for data requests
import requests
import pandas as pd
from requests.auth import HTTPBasicAuth
import json
import os
import psycopg2

from pathlib import Path

# packages for viz 
import matplotlib
import matplotlib.pyplot as plt
# from pynhd import NLDI, WaterData, NHDPlusHR
# import pynhd as nhd
# import spatialpandas as spd
# import spatialpandas.io
# import pygeos
import geopandas as gpd
import plotly.express as px

import contextily as ctx
import numpy as np

# import holoviews as hv
# import datashader as ds
# import geoviews as gv
# import geoviews.feature as gf
# from geoviews import opts
# from cartopy import crs 
# import geoviews.tile_sources as gts
# gv.extension('bokeh', 'matplotlib')
# import hvplot.pandas



# print("Geopandas: ", gpd.__version__)
# print("spatialpandas: ", spd.__version__)
# print("datashader: ", ds.__version__)
# print("pygeos: ", pygeos.__version__)


# Find current working directory
Path.cwd()


# Use relative path - will work for anybody in this directory / cloning the github
data_folder    = Path('data/')


get_ipython().run_cell_magic("time", "", """# read data from parquet files
base_gdf = gpd.read_parquet(data_folder /'base_df.parquet')
rest_gdf = gpd.read_parquet(data_folder /'rest_df.parquet')
prot_gdf = gpd.read_parquet(data_folder /'prot_df.parquet')""")


# Define catchments as the geometry used by GeoPandas
base_gdf_catch = gpd.GeoDataFrame(base_gdf, geometry="geom_catchment")
rest_gdf_catch = gpd.GeoDataFrame(rest_gdf, geometry="geom_catchment")


get_ipython().run_cell_magic("time", "", """# Re-Project to WGS84, which is useful for visualization
base_gdf_proj = base_gdf.to_crs(epsg=4326)
base_gdf_catch_proj = base_gdf_catch.to_crs(epsg=4326)

rest_gdf_proj = rest_gdf.to_crs(epsg=4326)
rest_gdf_catch_proj = rest_gdf_catch.to_crs(epsg=4326)

prot_gdf_proj = prot_gdf.to_crs(epsg=4326)""")


base_gdf.info()


base_gdf[base_gdf.cluster=='drb'].tp_conc.mean()





# Example selecting by comid, which is the row index
base_gdf.loc[4648450]


base_gdf.loc[4648450].tp_load / base_gdf.loc[4648450].catchment_hectares 


rest_gdf.loc[4648450]


# Basic selection by column name
var = 'tp_load'
rest_gdf[var]


# Select Series by attribute
base_gdf.tp_load


base_gdf.tp_load.min()


base_gdf.tp_load.max()

















get_ipython().run_cell_magic("time", "", """fig, (ax1, ax2) = plt.subplots(1,2)
base_gdf_proj.plot(lw=1, ax=ax1)
base_gdf_catch_proj.plot(lw=0.1, ax=ax2)
fig.set_size_inches(8,8)
ax1.set_title("Reaches")
ax2.set_title("Catchments")
for ax in [ax1, ax2]:
    ctx.add_basemap(ax, source=ctx.providers.CartoDB.Positron, crs=base_gdf_proj.crs.to_string(), zoom=7)
plt.show()""")





get_ipython().run_cell_magic("time", "", """# Plot colors by values of selected variable (`var`)

var = 'maflowv'  # Mean Annual Flow Volumentric ('maflowv')

fig, (ax1, ax2) = plt.subplots(1,2)
# ax3 = fig.add_axes([0.85, 0.1, 0.1, 0.8])

r = base_gdf_proj.plot(column=var,lw=1, ax=ax1, norm=matplotlib.colors.LogNorm(), cmap='RdYlGn_r') 
c = base_gdf_catch_proj.plot(column=var, lw=0.1, ax=ax2, norm=matplotlib.colors.LogNorm(), cmap='RdYlGn_r')
fig.set_size_inches(8,8)
ax1.set_title("Reaches")
ax2.set_title("Catchments")

# add colorbar 
cax = fig.add_axes([0.95, 0.22, 0.04, 0.57]) # adjusts the position of the color bar: right position, bottom, width, top 
sm = plt.cm.ScalarMappable(cmap='RdYlGn_r',
                           norm=matplotlib.colors.LogNorm(vmin=base_gdf_catch[base_gdf_catch[var] > 0][var].min(), 
                                                          vmax=base_gdf_catch[var].max()
                                                         )
                          )
cbr = fig.colorbar(sm, cax=cax,)



for ax in [ax1, ax2]:
    ctx.add_basemap(ax, source=ctx.providers.CartoDB.Positron, crs=base_gdf_proj.crs.to_string(), zoom=7)

# plt.colorbar(c, ax = ax3)
plt.show()""")


base_gdf_catch.tp_conc.min()


get_ipython().run_cell_magic("time", "", """# Plot colors by values of selected variable (`var`)

var_reach = 'tp_conc'
var_catch = 'tp_load'

fig, (ax1, ax2) = plt.subplots(1,2)
# ax3 = fig.add_axes([0.85, 0.1, 0.1, 0.8])

r = base_gdf_proj.plot(column=var_reach,lw=1, ax=ax1, norm=matplotlib.colors.LogNorm(), cmap='RdYlGn_r') 
c = base_gdf_catch_proj.plot(column=var_catch, lw=0.1, ax=ax2, norm=matplotlib.colors.LogNorm(), cmap='RdYlGn_r')
fig.set_size_inches(8,8)
ax1.set_title("Reaches")
ax2.set_title("Catchments")

# add colorbar - catchment 
cax = fig.add_axes([0.91, 0.26, 0.03, 0.48]) # adjusts the position of the color bar: right position, bottom, width, top 

sm = plt.cm.ScalarMappable(cmap='RdYlGn_r', 
                           norm=matplotlib.colors.LogNorm(vmin=base_gdf_catch[base_gdf_catch[var_catch] > 0][var_catch].min(), 
                                                          vmax=base_gdf_catch[var_catch].max()
                                                         )
                          )

cbr = fig.colorbar(sm, cax=cax,)


# add colorbar - reach
cax2 = fig.add_axes([0.45, 0.26, 0.03, 0.48]) # adjusts the position of the color bar: right position, bottom, width, top 
sm2 = plt.cm.ScalarMappable(cmap='RdYlGn_r',
                           norm=matplotlib.colors.LogNorm(vmin=base_gdf[base_gdf[var_reach] > 0][var_reach].min(), 
                                                          vmax=base_gdf[var_reach].max()
                                                         )
                          )
cbr2 = fig.colorbar(sm2, cax=cax2,)
cbr.ax.tick_params(labelsize=8)
cbr2.ax.minorticks_off()
cbr2.ax.tick_params(labelsize=8) 

for ax in [ax1, ax2]:
    ctx.add_basemap(ax, source=ctx.providers.CartoDB.Positron, crs=base_gdf_proj.crs.to_string(), zoom=7)

# plt.colorbar(c, ax = ax3)
fig.tight_layout(pad=5)
plt.show()""")


get_ipython().run_cell_magic("time", "", """clusters = base_gdf_catch_proj.dissolve(by='cluster')
focus_areas = base_gdf_catch_proj.dissolve(by='fa_name')
""")


get_ipython().run_cell_magic("time", "", """# label focus area 
# Plot colors by values of selected variable (`var`)

var_reach = 'tp_conc'
var_catch = 'tp_load'

fig, (ax1, ax2) = plt.subplots(1,2)
# ax3 = fig.add_axes([0.85, 0.1, 0.1, 0.8])

r = base_gdf_proj.plot(column=var_reach,lw=1, ax=ax1, norm=matplotlib.colors.LogNorm(), cmap='RdYlGn_r') 
c = base_gdf_catch_proj.plot(column=var_catch, lw=0.1, ax=ax2, norm=matplotlib.colors.LogNorm(), cmap='RdYlGn_r')

# plot focus area 
# fa = base_gdf_catch_proj[base_gdf_catch_proj.fa_name == 'Lower/Middle Musconetcong River'].plot(lw=0.1, ax=ax2, color="black")
# cl = base_gdf_catch_proj[base_gdf_catch_proj.cluster == 'New Jersey Highlands'].plot(lw=0.1, ax=ax2)
# cl = clusters[clusters.index == 'New Jersey Highlands'].plot(lw=0.1, ax=ax2, facecolor="none", edgecolor="black")
fa = focus_areas[focus_areas.index == 'Lower/Middle Musconetcong River'].plot(lw=1, ax=ax2, facecolor="none", edgecolor="black")


fig.set_size_inches(8,8)
ax1.set_title("Reaches")
ax2.set_title("Catchments")

# add colorbar - catchment 
cax = fig.add_axes([0.91, 0.26, 0.03, 0.48]) # adjusts the position of the color bar: right position, bottom, width, top 

sm = plt.cm.ScalarMappable(cmap='RdYlGn_r', 
                           norm=matplotlib.colors.LogNorm(vmin=base_gdf_catch[base_gdf_catch[var_catch] > 0][var_catch].min(), 
                                                          vmax=base_gdf_catch[var_catch].max()
                                                         )
                          )

cbr = fig.colorbar(sm, cax=cax,)


# add colorbar - reach
cax2 = fig.add_axes([0.45, 0.26, 0.03, 0.48]) # adjusts the position of the color bar: right position, bottom, width, top 
sm2 = plt.cm.ScalarMappable(cmap='RdYlGn_r',
                           norm=matplotlib.colors.LogNorm(vmin=base_gdf[base_gdf[var_reach] > 0][var_reach].min(), 
                                                          vmax=base_gdf[var_reach].max()
                                                         )
                          )
cbr2 = fig.colorbar(sm2, cax=cax2,)
cbr.ax.tick_params(labelsize=8)
cbr2.ax.minorticks_off()
cbr2.ax.tick_params(labelsize=8) 

for ax in [ax1, ax2]:
    ctx.add_basemap(ax, source=ctx.providers.CartoDB.Positron, crs=base_gdf_proj.crs.to_string(), zoom=7)


# plt.colorbar(c, ax = ax3)
fig.tight_layout(pad=5)
plt.show()""")


get_ipython().run_cell_magic("time", "", """# label focus area 
# Plot colors by values of selected variable (`var`)

var_reach = 'tp_conc'
var_catch = 'tp_load'

fig, (ax1, ax2) = plt.subplots(1,2)
# ax3 = fig.add_axes([0.85, 0.1, 0.1, 0.8])

r = base_gdf_proj.plot(column=var_reach,lw=1, ax=ax1, norm=matplotlib.colors.LogNorm(), cmap='RdYlGn_r') 
c = base_gdf_catch_proj.plot(column=var_catch, lw=0.1, ax=ax2, norm=matplotlib.colors.LogNorm(), cmap='RdYlGn_r')

# plot focus area 
# fa = base_gdf_catch_proj[base_gdf_catch_proj.fa_name == 'Lower/Middle Musconetcong River'].plot(lw=0.1, ax=ax2, color="black")
# cl = base_gdf_catch_proj[base_gdf_catch_proj.cluster == 'New Jersey Highlands'].plot(lw=0.1, ax=ax2)
# cl = clusters[clusters.index == 'New Jersey Highlands'].plot(lw=0.1, ax=ax2, facecolor="none", edgecolor="black")
fa = focus_areas[focus_areas.index == 'Lower/Middle Musconetcong River'].plot(lw=1, ax=ax2, facecolor="none", edgecolor="black")
fa = focus_areas[focus_areas.index == 'Lower/Middle Musconetcong River'].plot(lw=1, ax=ax1, facecolor="none", edgecolor="black")


fig.set_size_inches(10,10)
ax1.set_title("Reaches")
ax2.set_title("Catchments")

# add colorbar - catchment 
cax = fig.add_axes([0.935, 0.38, 0.03, 0.24]) # adjusts the position of the color bar: right position, bottom, width, top 

sm = plt.cm.ScalarMappable(cmap='RdYlGn_r', 
                           norm=matplotlib.colors.LogNorm(vmin=base_gdf_catch[base_gdf_catch[var_catch] > 0][var_catch].min(), 
                                                          vmax=base_gdf_catch[var_catch].max()
                                                         )
                          )

cbr = fig.colorbar(sm, cax=cax,)


# add colorbar - reach
cax2 = fig.add_axes([0.47, 0.38, 0.03, 0.24]) # adjusts the position of the color bar: right position, bottom, width, top 
sm2 = plt.cm.ScalarMappable(cmap='RdYlGn_r',
                           norm=matplotlib.colors.LogNorm(vmin=base_gdf[base_gdf[var_reach] > 0][var_reach].min(), 
                                                          vmax=base_gdf[var_reach].max()
                                                         )
                          )
cbr2 = fig.colorbar(sm2, cax=cax2,)
cbr.ax.tick_params(labelsize=8)
cbr2.ax.minorticks_off()
cbr2.ax.tick_params(labelsize=8) 


### setting the size 
for ax in [ax1, ax2]:
    ax.set_ylim(40.5,40.75) # lat
    ax.set_xlim(-75.3, -74.95) #lon
    ctx.add_basemap(ax, source=ctx.providers.CartoDB.Positron, crs=base_gdf_proj.crs.to_string(), zoom=10) # Note: you can increase resolution of basemap with this feature
    ax.set_xticks(np.arange(-75.3, -74.9, 0.1)) # define tick frequency
    ax.set_yticks(np.arange(40.5, 40.7, 0.1))

# plt.colorbar(c, ax = ax3)
fig.tight_layout(pad=6)
plt.show()""")


import numpy as np
np.arange(40.5, 40.7, 0.1)


base_gdf_catch.cluster.unique()


get_ipython().run_cell_magic("time", "", """# color by cluster 
fig, (ax1, ax2) = plt.subplots(1,2)
base_gdf_catch[base_gdf_catch.cluster != 'None'].plot(column = 'cluster', lw=0.1, ax=ax1)
base_gdf_catch[base_gdf_catch.cluster != 'None'].plot(column = 'fa_name', lw=0.1, ax=ax2)

fig.set_size_inches(8,8)
ax1.set_title("Cluster")
ax2.set_title("Focus Area")
for ax in [ax1, ax2]:
    ax.set_ylim(4.25 * 10**6, 4.75 * 10**6)
plt.show()""")


# Use WGS84 projections
base_gdf_proj.head()


# %%time
fig = px.choropleth_mapbox(base_gdf_catch_proj,
                           geojson=base_gdf_catch_proj.geom_catchment,
                           locations=base_gdf_catch_proj.index,
                           color='maflowv',
                           color_continuous_scale="Viridis",
                           # range_color=(0, 12),
                           mapbox_style="carto-positron",
                           zoom=6,
                           center = {"lat": 40.4604, "lon": -74.8334},
                           opacity=0.5,
                           height = 500,
                           # width = 500,
                           labels={'Comid':'comid'},
                          )
fig.update_traces(marker_line_color='rgba(255,255,255,0)', selector=dict(type='choroplethmapbox')) #make the border transparent
fig.update_layout(margin={"r":300,"t":0,"l":300,"b":0})
# fig['layout']['geo']['subunitcolor']='rgba(0,0,0,0)'

fig.show()


get_ipython().run_cell_magic("time", "", """
# plot lines https://plotly.com/python/lines-on-mapbox/
# Modified to replace np.append inside the loop with list append, which is much faster. 

import numpy as np

lats = []
lons = []
names = []
colors = []

i = 0 
tot = len(base_gdf.geom)

for feature, name, mfv in zip(base_gdf_proj.geom, base_gdf_proj.index, base_gdf_proj.maflowv):

    if feature == None:
        pass
    else:
        linestrings = feature


        for linestring in linestrings:
            x, y = linestring.xy
            lats.extend(y)
            lons.extend(x)
            names.extend([name]*len(y))
            colors.extend([mfv]*len(y))
            lats.extend([None])
            lons.extend([None])
            names.extend([None])
            colors.extend([None])
    pct = round(i / tot * 100, 2)
    if pct % 10 == 0:
        print(str(pct) + "% done") 
    i += 1""")


# %%time
fig = px.line_mapbox(lat=lats, lon=lons, hover_name=names,
                     mapbox_style="carto-positron",
                     # color=colors,
                     zoom=6,
                     center = {"lat": 40.4604, "lon": -74.8334},
                     height=500
                    )
fig.update_layout(margin={"r":300,"t":0,"l":300,"b":0})
fig.show()


len(colors) == len(lats)


# set up for chloropleth map 
geo_df_g2_json = json.loads(base_gdf_.to_json())


# %%time
# import plotly.graph_objects as go

# token = "pk.eyJ1Ijoic2pvcmRhbjI5IiwiYSI6ImNrc3Jzb2Y4ODBwbTYybnA3MjloZ2RjMHcifQ.6IVtsCFcLvhLFNl_IF9OqA"
# fig = go.Figure(go.Choroplethmapbox(geojson=geo_df_g2_json,
#                                     locations=base_gpd.index,
#                                     z = base_gpd['maflowv'],
#                                     colorscale="Viridis",
#                                     marker_line_width=0,
# #                                   #  height
#                                    ))
# fig.update_layout(mapbox_style="light", mapbox_accesstoken=token,
#                   mapbox_zoom=6, mapbox_center = {"lat": 40.4604, "lon": -74.8334})
# fig.update_layout(margin={"r":0,"t":0,"l":0,"b":0})
# fig.show()


import pandas as pd
import numpy as np
from bokeh.io import output_notebook
output_notebook()
pd.set_option('display.max_columns', 100)

from holoviews.operation.datashader import datashade
import geoviews as gv
import cartopy.crs as ccrs
from colorcet import fire

gv.extension('bokeh')


# geometry needs to be labeled as geometry with geoviews
base_gdf_catch_proj = base_gdf_catch_proj.rename(columns={"geom_catchment":"geometry"})


base_gdf_catch_proj.columns


# base_gdf_catch_proj = base_gdf_catch_proj.set_geometry("geom")


polys = gv.Polygons(base_gdf_catch_proj, vdims=['maflowv'], crs=ccrs.PlateCarree())

plot = gv.tile_sources.CartoDark()\
    * polys.opts(color_index='maflowv', colorbar=True, tools=['hover'])
plot.opts(width=700, height=600, bgcolor='black')
#gv.save(plot, "./img/datashader/map_cologne1.html")


# conda install -c pyviz spatialpandas
# conda install -c conda-forge pygeos
# conda install -c conda-forge geopandas=0.8.0 : https://githubmemory.com/repo/holoviz/spatialpandas/issues/58
import spatialpandas as spd
import spatialpandas.io
import pygeos
# ddf = spd.io.read_parquet_dask('./data/base_df.parquet')


arr_sp = spatialpandas.geometry.MultiPolygonArray.from_geopandas(base_gdf_catch_proj.geometry, orient=False)
arr_sp[0]


df_spd = spatialpandas.GeoDataFrame(base_gdf_catch.drop(['geom'], axis=1))


df_spd = df_spd.rename(columns={'geom_catchment': 'geometry'})


df_spd = df_spd.set_geometry("geometry")


# df_spd['geometry'] = df_spd['geometry'].astype(np.float32)


df_spd.head()



# try datashader on polygons:

cvs = ds.Canvas(plot_width=650, plot_height=400)
agg = cvs.polygons(df_spd, geometry='geometry', agg=ds.mean("maflowv"))
# ds.transfer_functions.shade(agg)


def get_flat_coords_offset_arrays(arr):
    """
    Version for MultiPolygon data
    """
    # explode/flatten the MultiPolygons
    arr_flat, part_indices = pygeos.get_parts(arr, return_index=True)
    # the offsets into the multipolygon parts
    offsets1 = np.insert(np.bincount(part_indices).cumsum(), 0, 0)

    # explode/flatten the Polygons into Rings
    arr_flat2, ring_indices = pygeos.geometry.get_rings(arr_flat, return_index=True)
    # the offsets into the exterior/interior rings of the multipolygon parts 
    offsets2 = np.insert(np.bincount(ring_indices).cumsum(), 0, 0)

    # the coords and offsets into the coordinates of the rings
    coords, indices = pygeos.get_coordinates(arr_flat2, return_index=True)
    offsets3 = np.insert(np.bincount(indices).cumsum(), 0, 0)
    
    return coords, offsets1, offsets2, offsets3

def spatialpandas_from_pygeos(arr):
    coords, offsets1, offsets2, offsets3 = get_flat_coords_offset_arrays(arr)
    coords_flat = coords.ravel()
    offsets3 *= 2
    
    # create a pyarrow array from this
    _parr3 = pa.ListArray.from_arrays(pa.array(offsets3), pa.array(coords_flat))
    _parr2 = pa.ListArray.from_arrays(pa.array(offsets2), _parr3)
    parr = pa.ListArray.from_arrays(pa.array(offsets1), _parr2)
    
    return spatialpandas.geometry.MultiPolygonArray(parr)


base_gdf_catch.info()


base_gdf_catch.geom_catchment.array.data


arr_sp2 = spatialpandas_from_pygeos(base_gdf_catch.geom_catchment.array.data)



