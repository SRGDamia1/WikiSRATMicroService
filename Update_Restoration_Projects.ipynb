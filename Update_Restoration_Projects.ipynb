{
 "cells": [
  {
   "cell_type": "markdown",
   "id": "619a001c",
   "metadata": {},
   "source": [
    "## Update the restoration BMPs table\n",
    "\n",
    "1) Go to https://www.fielddoc.org/ and download the DRRF program practices as a geopackage (.gpkg). Place the geopackage in the data folder and update the file path in the 3rd code block. \n",
    "\n",
    "2) Run all cells, wait for it to be done.\n",
    "\n",
    "3) Go back to the WikiSRAT_Demo notebook and run the \"Repeat for Restoration Results\" code to load cache the microservice outputs for the restoration run. In that Jupyter notebook, do the following:\n",
    "      * Import packages\n",
    "      * Run all cells in Section 2.1 \n",
    "      * Run all cells in Section 5.7\n"
   ]
  },
  {
   "cell_type": "code",
   "execution_count": 19,
   "id": "637053e7",
   "metadata": {},
   "outputs": [],
   "source": [
    "import fiona\n",
    "import requests\n",
    "import json\n",
    "import collections\n",
    "import matplotlib as plt\n",
    "import geopandas as gpd\n",
    "import pandas as pd\n",
    "import shapely\n",
    "import geojson\n",
    "from shapely.ops import unary_union\n",
    "from shapely.geometry import polygon\n",
    "import psycopg2\n",
    "#from shapely.geometry import shape, mapping\n",
    "#from geojson import MultiPolygon\n",
    "\n",
    "requests.adapters.DEFAULT_RETRIES = 1"
   ]
  },
  {
   "cell_type": "code",
   "execution_count": 20,
   "id": "c48eff80",
   "metadata": {},
   "outputs": [],
   "source": [
    "# GET THE DATABASE CONFIG INFORMATION USING A CONFIG FILE. THE FILE IS IN THE GITIGNORE SO WILL REQUIRE BEING SENT\n",
    "\n",
    "config_file = json.load(open('db_config.json'))\n",
    "PG_CONFIG = config_file['PG_CONFIG']\n",
    "\n",
    "_host = PG_CONFIG['host'],\n",
    "_database = PG_CONFIG['database'],\n",
    "_user = PG_CONFIG['user'],\n",
    "_password = PG_CONFIG['password'],\n",
    "_port = PG_CONFIG['port']"
   ]
  },
  {
   "cell_type": "code",
   "execution_count": 21,
   "id": "c24afecc",
   "metadata": {},
   "outputs": [],
   "source": [
    "'''\n",
    "Load the BMP data from FD Geopackage\n",
    "Download the gpkg and place into the data folder in the repo\n",
    "'''\n",
    "bmps = []\n",
    "\n",
    "with fiona.open('data/04b6e3a1690f4ef08b17e5fa21d0a886.drrf_all.gpkg') as layer:\n",
    "    for feature in layer:\n",
    "        feature['bmp_geometry'] = feature.pop('geometry')\n",
    "        bmps.append(feature)\n"
   ]
  },
  {
   "cell_type": "code",
   "execution_count": 34,
   "id": "812cf43e",
   "metadata": {},
   "outputs": [
    {
     "name": "stdout",
     "output_type": "stream",
     "text": [
      "done\n"
     ]
    }
   ],
   "source": [
    "# Create connection to database\n",
    "\n",
    "_PG_Connection = psycopg2.connect(\n",
    "        host=PG_CONFIG['host'],\n",
    "        database=PG_CONFIG['database'],\n",
    "        user=PG_CONFIG['user'],\n",
    "        password=PG_CONFIG['password'],\n",
    "        port=PG_CONFIG['port'])\n",
    "\n",
    "# Create the table to import the fielddoc data into\n",
    "cur = _PG_Connection.cursor()\n",
    "rest_table_name = 'fd_drrf_20210913'\n",
    "\n",
    "drop_table = 'drop table if exists datapolassess.{} CASCADE;'.format(rest_table_name)\n",
    "create_table = 'create table datapolassess.{}' \\\n",
    "                       '(practice_id int,practice_name varchar(1024),practice_type varchar(1024),practice_description varchar(1024),practice_url varchar(1024),' \\\n",
    "                       'created_on date,modified_on date,creator_name varchar(1024),creator_id int,site_id int,site_name varchar(1024),site_url varchar(1024),' \\\n",
    "                       'project_id int,project_name varchar(1024),project_status varchar(1024),project_url varchar(1024),program_id int,program_name varchar(1024),' \\\n",
    "                       'program_url varchar(1024),tn_reduced_lbs numeric(24,4),tp_reduced_lbs numeric(24,4),tss_reduced_lbs numeric(24,4), ' \\\n",
    "                       'geom_poly geometry(multipolygon,32618), geom_line geometry(multilinestring,32618), geom_pt geometry(multipoint,32618));'.format(rest_table_name)\n",
    "\n",
    "grant_select = 'grant select on datapolassess.{} to srat_select;'.format(rest_table_name)\n",
    "add_pkey = 'alter table datapolassess.{} add constraint pk_{} primary key (practice_id);'.format(rest_table_name, rest_table_name)\n",
    "cur.execute(drop_table)\n",
    "cur.execute(create_table)\n",
    "cur.execute(add_pkey)\n",
    "cur.execute(grant_select)\n",
    "_PG_Connection.commit()\n",
    "cur.close()\n",
    "print('done')"
   ]
  },
  {
   "cell_type": "code",
   "execution_count": 35,
   "id": "2c10eba6",
   "metadata": {},
   "outputs": [
    {
     "name": "stdout",
     "output_type": "stream",
     "text": [
      "done\n"
     ]
    }
   ],
   "source": [
    "cur = _PG_Connection.cursor()\n",
    "\n",
    "# Insert FD data into the created table\n",
    "t = 0 # INDEX TO BREAK LOOP IF THERE IS A DB ERROR\n",
    "a = 0 # COUNTER FOR BMP of BMPS in list\n",
    "for i in range(0,len(bmps)):\n",
    "    c = 0 # COUNTER IN CASE WE WANT TO USE \n",
    "    values = []\n",
    "    for k1, v1 in bmps[i].items():\n",
    "        for k2, v2 in bmps[i]['properties'].items():\n",
    "            # If you want to add by FD column index number\n",
    "#             if c in keep_idx:\n",
    "#                 values.append(str(v2).replace(\"'\", \"\"))\n",
    "#             c +=1\n",
    "            # If you want to add by FD column name\n",
    "            if k2 in keep_keys:\n",
    "                values.append(str(v2).replace(\"'\", \"\"))\n",
    "    values = [w.replace('None', str(-9999.0)) for w in values]\n",
    "    bmp_geom = geojson.loads(json.dumps(bmps[i]['bmp_geometry']))\n",
    "    if bmps[i]['bmp_geometry']['type'] == 'Polygon' or bmps[i]['bmp_geometry']['type'] == 'MultiPolygon':\n",
    "        try:\n",
    "            insert_into = 'insert into  datapolassess.{} (practice_id,practice_name,practice_type,practice_description,practice_url,' \\\n",
    "                              'created_on,modified_on,creator_name,creator_id,site_id,site_name,site_url,project_id,project_name,project_status,' \\\n",
    "                              'project_url,program_id,program_name,program_url,tn_reduced_lbs,tp_reduced_lbs,tss_reduced_lbs,geom_poly) ' \\\n",
    "                              'values ({},\\'{}\\',\\'{}\\',\\'{}\\',\\'{}\\',\\'{}\\',\\'{}\\',\\'{}\\',{},{},\\'{}\\',\\'{}\\',{},\\'{}\\',\\'{}\\',' \\\n",
    "                              '\\'{}\\',{},\\'{}\\',\\'{}\\',{},{},{},ST_MULTI(ST_TRANSFORM(ST_SetSRID(ST_GeomFromGeoJSON(\\'{}\\'),4326),32618))::geometry(Multipolygon, 32618));'.format(\n",
    "                rest_table_name,\n",
    "                values[0], values[1], values[2], values[3], values[4], values[5][:10], values[6][:10], values[7], values[8],\n",
    "                values[9],values[10], values[11], values[12], values[13], values[14], values[15], values[16], values[17], values[18],\n",
    "                values[19], values[20], values[21],bmp_geom)\n",
    "            \n",
    "            cur.execute(insert_into)\n",
    "                \n",
    "        except Exception as e:\n",
    "            print(e)\n",
    "            print(insert_into)\n",
    "            t += 1\n",
    "    elif bmps[i]['bmp_geometry']['type'] == 'LineString' or bmps[i]['bmp_geometry']['type'] == 'MultiLineString':\n",
    "        try:\n",
    "            insert_into = 'insert into  datapolassess.{} (practice_id,practice_name,practice_type,practice_description,practice_url,' \\\n",
    "                              'created_on,modified_on,creator_name,creator_id,site_id,site_name,site_url,project_id,project_name,project_status,' \\\n",
    "                              'project_url,program_id,program_name,program_url,tn_reduced_lbs,tp_reduced_lbs,tss_reduced_lbs,geom_line) ' \\\n",
    "                              'values ({},\\'{}\\',\\'{}\\',\\'{}\\',\\'{}\\',\\'{}\\',\\'{}\\',\\'{}\\',{},{},\\'{}\\',\\'{}\\',{},\\'{}\\',\\'{}\\',' \\\n",
    "                              '\\'{}\\',{},\\'{}\\',\\'{}\\',{},{},{},ST_MULTI(ST_TRANSFORM(ST_SetSRID(ST_GeomFromGeoJSON(\\'{}\\'),4326),32618))::geometry(MultiLineString, 32618));'.format(\n",
    "                rest_table_name,\n",
    "                values[0], values[1], values[2], values[3], values[4], values[5][:10], values[6][:10], values[7], values[8],\n",
    "                values[9],values[10], values[11], values[12], values[13], values[14], values[15], values[16], values[17], values[18],\n",
    "                values[19], values[20], values[21],bmp_geom)\n",
    "            \n",
    "            cur.execute(insert_into)\n",
    "                \n",
    "        except Exception as e:\n",
    "            print(e)\n",
    "            print(insert_into)\n",
    "            t += 1\n",
    "    elif bmps[i]['bmp_geometry']['type'] == 'Point' or bmps[i]['bmp_geometry']['type'] == 'MultiPoint':\n",
    "        try:\n",
    "            insert_into = 'insert into  datapolassess.{} (practice_id,practice_name,practice_type,practice_description,practice_url,' \\\n",
    "                              'created_on,modified_on,creator_name,creator_id,site_id,site_name,site_url,project_id,project_name,project_status,' \\\n",
    "                              'project_url,program_id,program_name,program_url,tn_reduced_lbs,tp_reduced_lbs,tss_reduced_lbs,geom_pt) ' \\\n",
    "                              'values ({},\\'{}\\',\\'{}\\',\\'{}\\',\\'{}\\',\\'{}\\',\\'{}\\',\\'{}\\',{},{},\\'{}\\',\\'{}\\',{},\\'{}\\',\\'{}\\',' \\\n",
    "                              '\\'{}\\',{},\\'{}\\',\\'{}\\',{},{},{},ST_MULTI(ST_TRANSFORM(ST_SetSRID(ST_GeomFromGeoJSON(\\'{}\\'),4326),32618))::geometry(MultiPoint, 32618));'.format(\n",
    "                rest_table_name,\n",
    "                values[0], values[1], values[2], values[3], values[4], values[5][:10], values[6][:10], values[7], values[8],\n",
    "                values[9],values[10], values[11], values[12], values[13], values[14], values[15], values[16], values[17], values[18],\n",
    "                values[19], values[20], values[21],bmp_geom)\n",
    "            \n",
    "            cur.execute(insert_into)\n",
    "                \n",
    "        except Exception as e:\n",
    "            print(e)\n",
    "            print(insert_into)\n",
    "            t += 1\n",
    "    a += 1\n",
    "    if t == 1:\n",
    "        break\n",
    "            \n",
    "\n",
    "_PG_Connection.commit()\n",
    "cur.close()\n",
    "print('done')"
   ]
  },
  {
   "cell_type": "code",
   "execution_count": 36,
   "id": "7b1f9e4f",
   "metadata": {},
   "outputs": [
    {
     "name": "stdout",
     "output_type": "stream",
     "text": [
      "done\n"
     ]
    }
   ],
   "source": [
    "cur = _PG_Connection.cursor()\n",
    "create_fin_geom = 'alter table datapolassess.fd_drrf_20210913 add column geom_fin geometry(multipolygon,32618);' \\\n",
    "                    'update datapolassess.fd_drrf_20210913 set geom_fin = geom_poly::geometry(multipolygon,32618) where geom_poly is not null and geom_fin is null;' \\\n",
    "                    'update datapolassess.fd_drrf_20210913 set geom_fin = st_multi(ST_buffer(geom_line,1))::geometry(multipolygon,32618) where geom_line is not null and geom_fin is null;' \\\n",
    "                    'update datapolassess.fd_drrf_20210913 set geom_fin = st_multi(ST_buffer(geom_pt,1))::geometry(multipolygon,32618) where geom_pt is not null and geom_fin is null;'\n",
    "cur.execute(create_fin_geom)\n",
    "_PG_Connection.commit()\n",
    "cur.close()\n",
    "print('done')"
   ]
  },
  {
   "cell_type": "code",
   "execution_count": 37,
   "id": "f24ca287",
   "metadata": {},
   "outputs": [
    {
     "name": "stdout",
     "output_type": "stream",
     "text": [
      "done\n"
     ]
    }
   ],
   "source": [
    "cur = _PG_Connection.cursor()\n",
    "create_comid_table1 = 'update datapolassess.{} a set geom_fin = ST_CollectionExtract(st_makevalid(geom_fin),3);'.format(rest_table_name)\n",
    "create_comid_table2 = 'create index restoration_lbsreduced_comid_geom_idx on datapolassess.{} using gist(geom_fin);'.format(rest_table_name)\n",
    "create_comid_table3 = 'create or replace view datapolassess.restoration_lbsreduced_comid ' \\\n",
    "                        'as ' \\\n",
    "                        'select distinct comid as comid_rest ' \\\n",
    "                        ',sum(tn_reduced_lbs_int/2.20462) over (partition by comid) as tn_reduced_kg ' \\\n",
    "                        ',sum(tp_reduced_lbs_int/2.20462) over (partition by comid) as tp_reduced_kg ' \\\n",
    "                        ',sum(tss_reduced_lbs_int/2.20462) over (partition by comid) as tss_reduced_kg ' \\\n",
    "                        'from ( ' \\\n",
    "                            'select distinct * ' \\\n",
    "                            ',(case when tn_reduced_lbs >= 0 then (tn_reduced_lbs * (st_area(geom_int)/st_area(geom_fin))) else 0.0 end)::numeric(20,4) as tn_reduced_lbs_int ' \\\n",
    "                            ',(case when tp_reduced_lbs >= 0 then (tp_reduced_lbs * (st_area(geom_int)/st_area(geom_fin))) else 0.0 end)::numeric(20,4)  as tp_reduced_lbs_int ' \\\n",
    "                            ',(case when tss_reduced_lbs >= 0 then (tss_reduced_lbs * (st_area(geom_int)/st_area(geom_fin))) else 0.0 end)::numeric(20,4)  as tss_reduced_lbs_int ' \\\n",
    "                            'from ( ' \\\n",
    "                                'select distinct t2.comid, t1.* ' \\\n",
    "                                ',st_multi(st_intersection(t1.geom_fin, t2.catchment))::geometry(multipolygon,32618) as geom_int ' \\\n",
    "                                'from ( ' \\\n",
    "                                    'select distinct * ' \\\n",
    "                                    'from datapolassess.{} ' \\\n",
    "                                    'where project_status in (\\'active\\', \\'complete\\') and practice_name not like \\'%copy%\\' ' \\\n",
    "                                ') as t1 ' \\\n",
    "                                'left join spatial.nhdplus_maregion as t2 ' \\\n",
    "                                'on st_intersects(t1.geom_fin, t2.catchment) ' \\\n",
    "                            ') as t3 ' \\\n",
    "                            'order by comid, practice_id ' \\\n",
    "                        ') as t4 ' \\\n",
    "                        'order by comid;'.format(rest_table_name)\n",
    "create_comid_table4 = 'drop table if exists datapolassess.cache_restoration_lbsreduced_comid; ' \\\n",
    "                        'create table datapolassess.cache_restoration_lbsreduced_comid ' \\\n",
    "                        'as ' \\\n",
    "                        'select distinct * from datapolassess.restoration_lbsreduced_comid where comid_rest is not null and (tn_reduced_kg + tp_reduced_kg + tss_reduced_kg) > 0.0; ' \\\n",
    "                        'alter table datapolassess.cache_restoration_lbsreduced_comid add constraint pk_cache_restoration_lbsreduced_comid primary key (comid_rest); '\n",
    "\n",
    "cur.execute(create_comid_table1)\n",
    "cur.execute(create_comid_table2)\n",
    "cur.execute(create_comid_table3)\n",
    "cur.execute(create_comid_table4)\n",
    "_PG_Connection.commit()\n",
    "cur.close()\n",
    "print('done')\n"
   ]
  },
  {
   "cell_type": "code",
   "execution_count": 38,
   "id": "4a3fca27",
   "metadata": {},
   "outputs": [
    {
     "ename": "NotNullViolation",
     "evalue": "column \"comid\" contains null values\n",
     "output_type": "error",
     "traceback": [
      "\u001b[1;31m---------------------------------------------------------------------------\u001b[0m",
      "\u001b[1;31mNotNullViolation\u001b[0m                          Traceback (most recent call last)",
      "\u001b[1;32m~\\AppData\\Local\\Temp/ipykernel_15368/1410339208.py\u001b[0m in \u001b[0;36m<module>\u001b[1;34m\u001b[0m\n\u001b[0;32m     18\u001b[0m                                \u001b[1;34m'alter table datapolassess.cache_restoration_lbsreduced add constraint pk_cache_restoration_lbsreduced primary key (comid, practice_id);'\u001b[0m\u001b[1;33m\u001b[0m\u001b[1;33m\u001b[0m\u001b[0m\n\u001b[0;32m     19\u001b[0m \u001b[0mcur\u001b[0m\u001b[1;33m.\u001b[0m\u001b[0mexecute\u001b[0m\u001b[1;33m(\u001b[0m\u001b[0mget_by_project_view\u001b[0m\u001b[1;33m)\u001b[0m\u001b[1;33m\u001b[0m\u001b[1;33m\u001b[0m\u001b[0m\n\u001b[1;32m---> 20\u001b[1;33m \u001b[0mcur\u001b[0m\u001b[1;33m.\u001b[0m\u001b[0mexecute\u001b[0m\u001b[1;33m(\u001b[0m\u001b[0mget_by_project_table\u001b[0m\u001b[1;33m)\u001b[0m\u001b[1;33m\u001b[0m\u001b[1;33m\u001b[0m\u001b[0m\n\u001b[0m\u001b[0;32m     21\u001b[0m \u001b[0m_PG_Connection\u001b[0m\u001b[1;33m.\u001b[0m\u001b[0mcommit\u001b[0m\u001b[1;33m(\u001b[0m\u001b[1;33m)\u001b[0m\u001b[1;33m\u001b[0m\u001b[1;33m\u001b[0m\u001b[0m\n\u001b[0;32m     22\u001b[0m \u001b[0mcur\u001b[0m\u001b[1;33m.\u001b[0m\u001b[0mclose\u001b[0m\u001b[1;33m(\u001b[0m\u001b[1;33m)\u001b[0m\u001b[1;33m\u001b[0m\u001b[1;33m\u001b[0m\u001b[0m\n",
      "\u001b[1;31mNotNullViolation\u001b[0m: column \"comid\" contains null values\n"
     ]
    }
   ],
   "source": [
    "cur = _PG_Connection.cursor()\n",
    "get_by_project_view = 'create or replace view datapolassess.restoration_lbsreduced AS ' \\\n",
    "                         ' select distinct comid, practice_id, site_id,practice_type, ' \\\n",
    "                         '(case when tn_reduced_lbs >= 0 then (tn_reduced_lbs * (st_area(geom_int)/st_area(geom_fin))) else 0.0 end)::numeric(20,4) as tn_reduced_lbs, ' \\\n",
    "                         '(case when tp_reduced_lbs >= 0 then (tp_reduced_lbs * (st_area(geom_int)/st_area(geom_fin))) else 0.0 end)::numeric(20,4)  as tp_reduced_lbs, ' \\\n",
    "                         '(case when tss_reduced_lbs >= 0 then (tss_reduced_lbs * (st_area(geom_int)/st_area(geom_fin))) else 0.0 end)::numeric(20,4)  as tss_reduced_lbs, ' \\\n",
    "                         'practice_name,case when practice_description like \\'-9999.0\\' then null else practice_description end as practice_description, ' \\\n",
    "                         'project_name,project_status,creator_name,program_id,program_name,created_on,modified_on,practice_url, project_url,geom_fin as geom ' \\\n",
    "                         'from ( select distinct t2.comid, t1.* ,st_multi(st_intersection(t1.geom_fin, t2.catchment))::geometry(multipolygon,32618) as geom_int ' \\\n",
    "                         'from (select distinct *from datapolassess.fd_drrf_20210913 where project_status in (\\'active\\', \\'complete\\') and practice_name not like \\'%copy%\\') as t1 ' \\\n",
    "                         'left join spatial.nhdplus_maregion as t2 ' \\\n",
    "                         'on st_intersects(t1.geom_fin, t2.catchment)) as t3 ' \\\n",
    "                         'where (tn_reduced_lbs + tn_reduced_lbs + tn_reduced_lbs) > 0.0 ' \\\n",
    "                         'order by comid, practice_id;'\n",
    "get_by_project_table = 'drop table if exists datapolassess.cache_restoration_lbsreduced;' \\\n",
    "                               'create table datapolassess.cache_restoration_lbsreduced ' \\\n",
    "                               'as select distinct * from datapolassess.restoration_lbsreduced; ' \\\n",
    "                               'alter table datapolassess.cache_restoration_lbsreduced add constraint pk_cache_restoration_lbsreduced primary key (comid, practice_id);'\n",
    "cur.execute(get_by_project_view)\n",
    "cur.execute(get_by_project_table)\n",
    "_PG_Connection.commit()\n",
    "cur.close()\n",
    "print('done')"
   ]
  },
  {
   "cell_type": "code",
   "execution_count": 33,
   "id": "afa1e21f-bb67-4979-809d-462afadca58a",
   "metadata": {},
   "outputs": [
    {
     "name": "stdout",
     "output_type": "stream",
     "text": [
      "dict_keys(['type', 'id', 'properties', 'bmp_geometry'])\n",
      "Feature\n",
      "Polygon\n",
      "<class 'dict'>\n"
     ]
    },
    {
     "data": {
      "text/plain": [
       "{'practice_id': 52489,\n",
       " 'practice_name': '2020 - rotational grazing',\n",
       " 'practice_type': 'Prescribed Grazing',\n",
       " 'practice_description': 'cattle grazed field in the fall after corn harvest',\n",
       " 'practice_url': 'https://www.fielddoc.org/practices/52489',\n",
       " 'created_on': '2021-08-10T14:44:02.845462',\n",
       " 'modified_on': '2021-08-10T14:45:51.103742',\n",
       " 'creator_name': 'Calen Wylie',\n",
       " 'creator_id': 760,\n",
       " 'site_id': 12657.0,\n",
       " 'site_name': 'J Hick Soil Health Practices - Field 2',\n",
       " 'site_url': 'https://www.fielddoc.org/sites/12657',\n",
       " 'project_id': 5289,\n",
       " 'project_name': 'EZG #65111 Implementing Agricultural Best Management Practices in the Brandywine-Christina Focus Areas (PA)',\n",
       " 'project_status': 'active',\n",
       " 'project_url': 'https://www.fielddoc.org/projects/5289',\n",
       " 'program_id': 1,\n",
       " 'program_name': 'Delaware River Restoration Fund',\n",
       " 'program_url': 'https://www.fielddoc.org/programs/1',\n",
       " 'acres_of_active_river_area_protected_modeled_false_b00197114e': None,\n",
       " 'acres_of_agricultural_land_with_bmps_within_focus_areas_modeled_false_3f755a761e': None,\n",
       " 'acres_of_wetlands_enhanced_or_restored_within_focus_areas_modeled_false_24a125cdc2': None,\n",
       " 'cumulative_number_of_green_stormwater_infrastructure_projects_modeled_false_a5c724101f': None,\n",
       " 'cumulative_number_of_stream_buffer_projects_modeled_false_67fb15f74e': None,\n",
       " 'cumulative_number_of_stream_restoration_projects_modeled_false_31dfec7cde': None,\n",
       " 'dollars_of_federal_farm_bill_and_state_funding_leveraged_by_drwi_within_focus_areas_modeled_false_1a814a81bf': None,\n",
       " 'miles_of_forested_buffer_restored_within_focus_areas_modeled_false_2be98ed270': None,\n",
       " 'number_of_acres_of_urban_and_suburban_lands_within_focus_areas_treated_by_green_stormwater_infrastructure_out_of_total_acres_targeted_modeled_false_249df6c82c': None,\n",
       " 'number_of_acres_of_urban_and_suburban_lands_within_focus_areas_treated_by_green_stormwater_infrastructure_out_of_total_acres_targeted_modeled_false_b382047e2d': None,\n",
       " 'number_of_acres_treated_within_focus_areas_by_pollution_prevention_practices_modeled_false_5d563580dc': None,\n",
       " 'number_of_landowners_and_land_managers_throughout_clusters_with_newly_adopted_gsi_and_pollution_prevention_practices_to_reduce_polluted_runoff_modeled_false_fc6e196fa9': None,\n",
       " 'number_of_landowners_implementing_ag_bmps_within_focus_areas_modeled_false_9d391a0452': None,\n",
       " 'number_of_landowners_implementing_stormwater_bmps_within_focus_areas_modeled_false_b6d83babc2': None,\n",
       " 'number_of_landowners_implementing_stormwater_bmps_within_focus_areas_modeled_false_bc9f2b51aa': None,\n",
       " 'number_of_landowners_reached_within_focus_areas_ag_and_floodplain_restoration_modeled_false_bb0f7fa41c': None,\n",
       " 'number_of_landowners_reached_within_focus_areas_sw_restoration_modeled_false_4904853fd5': None,\n",
       " 'number_of_landowners_with_changed_behavior_modeled_false_0b4a46949d': None,\n",
       " 'number_of_landowners_with_newly_adopted_ag_restoration_practices_ag_conservation_bmps_within_focus_areas_modeled_false_d89dd12792': None,\n",
       " 'number_of_landowners_with_newly_adopted_stormwater_restoration_and_prevention_strategies_gsi_in_focus_areas_modeled_false_56447f07a0': None,\n",
       " 'number_of_miles_of_forested_buffer_protected_through_blocking_orv_access_modeled_false_977a946b5c': None,\n",
       " 'number_of_miles_of_stream_within_focus_area_with_restored_hydrology_modeled_false_2dd0307008': None,\n",
       " 'number_of_municipalities_participating_modeled_false_06a7966478': None,\n",
       " 'number_of_municipalities_within_focus_areas_that_improve_codes_ordinances_and_programs_to_promote_gsi_and_pollution_prevention_practices_or_request_impervious_cover_assessments_reduction_plans_or_gsi_feasibility_studies_modeled_false_5fcb3a748e]': None,\n",
       " 'number_of_people_reached_modeled_false_5cd33a51a9': None,\n",
       " 'number_of_people_with_changed_behavior_modeled_false_569b13aad5': None,\n",
       " 'number_of_volunteers_modeled_false_15901aa38c': None,\n",
       " 'placeholder_determine_which_metrics_were_intended_to_be_used_modeled_false_1e62d2b68a': None,\n",
       " 'pounds_of_total_nitrogen_reduced_modeled_true_6a2cc9cd7d': 7.31,\n",
       " 'pounds_of_total_nitrogen_reduced_modeled_true_86d57c645e': None,\n",
       " 'pounds_of_total_phosphorus_reduced_modeled_true_036a21c5a8': None,\n",
       " 'pounds_of_total_phosphorus_reduced_modeled_true_ef360259c9': 2.83,\n",
       " 'pounds_of_total_suspended_solids_reduced_modeled_true_ae55682491': 1527.63,\n",
       " 'pounds_of_total_suspended_solids_reduced_modeled_true_c4e03ddb74': None,\n",
       " 'public_and_private_funds_leveraged_by_drwi_within_focus_areas_modeled_false_6e2f2d6f3d': None,\n",
       " 'total_length_of_stream_restoration_feet_modeled_false_f6a8e6bf9c': None,\n",
       " 'total_number_percent_and_value_of_acres_of_forested_vegetated_buffer_modeled_false_c194fce49a': None,\n",
       " 'total_number_percent_and_value_of_acres_treated_by_green_stormwater_infrastructure_modeled_false_1b3f4d7ab1': None,\n",
       " 'total_stream_buffer_area_square_feet_modeled_false_87aa5718ef': None,\n",
       " 'volume_of_stormwater_prevented_modeled_false_4311a6c725': None}"
      ]
     },
     "execution_count": 33,
     "metadata": {},
     "output_type": "execute_result"
    }
   ],
   "source": [
    "print(bmps[0].keys())\n",
    "print(bmps[0]['type'])\n",
    "# print(bmps[0]['properties'].keys())\n",
    "keep_keys = ['practice_id','practice_name','practice_type','practice_description','practice_url','created_on','modified_on'\n",
    ",'creator_name','creator_id','site_id','site_name','site_url','project_id','project_name','project_status','project_url'\n",
    ",'program_id','program_name','program_url','pounds_of_total_nitrogen_reduced_modeled_true_6a2cc9cd7d'\n",
    ",'pounds_of_total_phosphorus_reduced_modeled_true_ef360259c9','pounds_of_total_suspended_solids_reduced_modeled_true_ae55682491']\n",
    "\n",
    "keep_idx = [0,1,2,3,4,5,6,7,8,9,10,11,12,13,14,15,16,17,18,48,51,52]\n",
    "print(bmps[0]['bmp_geometry']['type'])\n",
    "print(type(bmps[0]['bmp_geometry']))\n",
    "dict(bmps[i]['properties'])\n",
    "\n",
    "# ST_MULTI(ST_TRANSFORM(ST_SetSRID(ST_GeomFromGeoJSON(),4326),32618))\n",
    "# geojson.loads(json.dumps(bmps[0]['bmp_geometry']))"
   ]
  },
  {
   "cell_type": "markdown",
   "id": "ee2771dd",
   "metadata": {},
   "source": [
    "## END OF CODE"
   ]
  },
  {
   "cell_type": "code",
   "execution_count": null,
   "id": "0c023885",
   "metadata": {},
   "outputs": [],
   "source": []
  }
 ],
 "metadata": {
  "kernelspec": {
   "display_name": "WikiSRAT",
   "language": "python",
   "name": "wikisrat"
  },
  "language_info": {
   "codemirror_mode": {
    "name": "ipython",
    "version": 3
   },
   "file_extension": ".py",
   "mimetype": "text/x-python",
   "name": "python",
   "nbconvert_exporter": "python",
   "pygments_lexer": "ipython3",
   "version": "3.8.10"
  }
 },
 "nbformat": 4,
 "nbformat_minor": 5
}
